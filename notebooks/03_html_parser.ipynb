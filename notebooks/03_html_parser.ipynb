{
 "cells": [
  {
   "cell_type": "markdown",
   "metadata": {},
   "source": [
    "#### Imports"
   ]
  },
  {
   "cell_type": "code",
   "execution_count": 1,
   "metadata": {},
   "outputs": [],
   "source": [
    "import os\n",
    "from bs4 import BeautifulSoup\n",
    "import pandas as pd\n",
    "import numpy as np"
   ]
  },
  {
   "cell_type": "markdown",
   "metadata": {},
   "source": [
    "#### Get data from .txt files"
   ]
  },
  {
   "cell_type": "code",
   "execution_count": 10,
   "metadata": {},
   "outputs": [
    {
     "data": {
      "text/plain": [
       "1343"
      ]
     },
     "execution_count": 10,
     "metadata": {},
     "output_type": "execute_result"
    }
   ],
   "source": [
    "directory_path = '../data/new_jobs/'\n",
    "files = os.listdir(directory_path)\n",
    "count = 0\n",
    "for i in files:\n",
    "    count += 1\n",
    "count"
   ]
  },
  {
   "cell_type": "code",
   "execution_count": 20,
   "metadata": {},
   "outputs": [
    {
     "name": "stdout",
     "output_type": "stream",
     "text": [
      "next\n",
      "next\n",
      "next\n",
      "next\n",
      "next\n",
      "next\n"
     ]
    },
    {
     "data": {
      "text/html": [
       "<div>\n",
       "<style scoped>\n",
       "    .dataframe tbody tr th:only-of-type {\n",
       "        vertical-align: middle;\n",
       "    }\n",
       "\n",
       "    .dataframe tbody tr th {\n",
       "        vertical-align: top;\n",
       "    }\n",
       "\n",
       "    .dataframe thead th {\n",
       "        text-align: right;\n",
       "    }\n",
       "</style>\n",
       "<table border=\"1\" class=\"dataframe\">\n",
       "  <thead>\n",
       "    <tr style=\"text-align: right;\">\n",
       "      <th></th>\n",
       "      <th>job_id</th>\n",
       "      <th>job_title</th>\n",
       "      <th>company_name</th>\n",
       "      <th>company_state</th>\n",
       "      <th>salary_range</th>\n",
       "      <th>remote_ratio</th>\n",
       "      <th>employment_type</th>\n",
       "      <th>experience_level</th>\n",
       "      <th>company_size</th>\n",
       "      <th>image_link</th>\n",
       "    </tr>\n",
       "  </thead>\n",
       "  <tbody>\n",
       "    <tr>\n",
       "      <th>145</th>\n",
       "      <td>3767242610</td>\n",
       "      <td>Senior Data Scientist</td>\n",
       "      <td>Warner Music Group</td>\n",
       "      <td>· Los Angeles, CA ·</td>\n",
       "      <td>$140,000/yr - $200,000/yr</td>\n",
       "      <td>Remote</td>\n",
       "      <td>Full-time</td>\n",
       "      <td>NaN</td>\n",
       "      <td>1,001-5,000 employees · Musicians</td>\n",
       "      <td>https://media.licdn.com/dms/image/C4E0BAQFEEde...</td>\n",
       "    </tr>\n",
       "  </tbody>\n",
       "</table>\n",
       "</div>"
      ],
      "text/plain": [
       "         job_id              job_title        company_name  \\\n",
       "145  3767242610  Senior Data Scientist  Warner Music Group   \n",
       "\n",
       "           company_state               salary_range remote_ratio  \\\n",
       "145  · Los Angeles, CA ·  $140,000/yr - $200,000/yr       Remote   \n",
       "\n",
       "    employment_type experience_level                       company_size  \\\n",
       "145       Full-time              NaN  1,001-5,000 employees · Musicians   \n",
       "\n",
       "                                            image_link  \n",
       "145  https://media.licdn.com/dms/image/C4E0BAQFEEde...  "
      ]
     },
     "execution_count": 20,
     "metadata": {},
     "output_type": "execute_result"
    }
   ],
   "source": [
    "items = []\n",
    "\n",
    "remote_ratio = ['On-site', 'Remote', 'Hybrid']\n",
    "employment_type = ['Full-time', 'Part-time', 'Contract', 'Temporary', 'Volunteer', 'Internship', 'Other']\n",
    "experience_level = ['Internship', 'Entry level', 'Associate', 'Mid-Senior level', 'Director', 'Executive']\n",
    "\n",
    "for file_name in files:\n",
    "    row = []\n",
    "    job_id = file_name.replace('.txt', '')\n",
    "    row.append(job_id)\n",
    "    file_path = os.path.join(directory_path, file_name)\n",
    "        \n",
    "    if os.path.isfile(file_path):\n",
    "        with open(file_path, 'r') as file:\n",
    "            soup = BeautifulSoup(file.read(), 'html.parser')\n",
    "            try: \n",
    "                container = soup.find_all('div', {'class': 'jobs-unified-top-card'})[0]\n",
    "                image = container.find_all('img')[0].get('src')\n",
    "                title = container.find_all('h1', {'class': 'job-details-jobs-unified-top-card__job-title'})[0].getText().strip()\n",
    "                row.append(title)\n",
    "                company_name = container.find_all('a', {'class': 'app-aware-link'})[1].getText().strip()\n",
    "                row.append(company_name)\n",
    "                state = container.find(string = lambda text: text and '· ' in text)\n",
    "                row.append(state)\n",
    "                line = container.find_all('li', {'class': 'job-details-jobs-unified-top-card__job-insight'})[0].getText().strip()\n",
    "                line = line.split('\\n')\n",
    "                line = [i for i in line if i != '']\n",
    "                line = [i for i in line if i != ' ']\n",
    "                if len(line) == 4:\n",
    "                    salary_range = line[0]\n",
    "                    remote = line[1]\n",
    "                    employment = line[2]\n",
    "                    experience = line[3]\n",
    "                    company_size = container.find_all('li', {'class': 'job-details-jobs-unified-top-card__job-insight'})[1].find('span').getText().strip()\n",
    "                elif len(line) == 3:\n",
    "                    if line[0] in remote_ratio and line[1] in employment_type and line[2] in experience_level:\n",
    "                        salary_range = np.nan\n",
    "                        remote = line[0]\n",
    "                        employment = line[1]\n",
    "                        experience = line[2]\n",
    "                    if '$' in line[0] and line[1] in employment_type and line[2] in experience_level:\n",
    "                        salary_range = line[0]\n",
    "                        remote = np.nan\n",
    "                        employment = line[1]\n",
    "                        experience = line[2]\n",
    "                    if '$' in line[0] and line[1] in remote_ratio and line[2] in employment_type:\n",
    "                        salary_range = line[0]\n",
    "                        remote = line[1]\n",
    "                        employment = line[2]\n",
    "                        experience = np.nan\n",
    "                    company_size = container.find_all('li', {'class': 'job-details-jobs-unified-top-card__job-insight'})[1].find('span').getText().strip()\n",
    "                elif len(line) == 2:\n",
    "                    if '$' in line[0] and line[1] in employment_type:\n",
    "                        salary_range = line[0]\n",
    "                        remote = np.nan\n",
    "                        employment = line[1]\n",
    "                        experience = np.nan\n",
    "                    if line[0] in remote_ratio and line[1] in employment_type:\n",
    "                        salary_range = np.nan\n",
    "                        remote = line[0]\n",
    "                        employment = line[1]\n",
    "                        experience = np.nan\n",
    "                    if line[0] in employment_type and line[1] in experience_level:\n",
    "                        salary_range = np.nan\n",
    "                        remote = np.nan\n",
    "                        employment = line[0]\n",
    "                        experience = line[1]\n",
    "                    company_size = container.find_all('li', {'class': 'job-details-jobs-unified-top-card__job-insight'})[1].find('span').getText().strip()\n",
    "                row.append(salary_range)\n",
    "                row.append(remote)\n",
    "                row.append(employment)\n",
    "                row.append(experience)\n",
    "                row.append(company_size)\n",
    "                row.append(image)\n",
    "                items.append(row)\n",
    "            except:\n",
    "                print(\"next\")\n",
    "\n",
    "columns = ['job_id', 'job_title', 'company_name', 'company_state', 'salary_range', 'remote_ratio', 'employment_type', 'experience_level', 'company_size', 'image_link']\n",
    "\n",
    "linkedin = pd.DataFrame(items, columns=columns)\n",
    "linkedin.sample()"
   ]
  },
  {
   "cell_type": "code",
   "execution_count": 21,
   "metadata": {},
   "outputs": [
    {
     "data": {
      "text/html": [
       "<div>\n",
       "<style scoped>\n",
       "    .dataframe tbody tr th:only-of-type {\n",
       "        vertical-align: middle;\n",
       "    }\n",
       "\n",
       "    .dataframe tbody tr th {\n",
       "        vertical-align: top;\n",
       "    }\n",
       "\n",
       "    .dataframe thead th {\n",
       "        text-align: right;\n",
       "    }\n",
       "</style>\n",
       "<table border=\"1\" class=\"dataframe\">\n",
       "  <thead>\n",
       "    <tr style=\"text-align: right;\">\n",
       "      <th></th>\n",
       "      <th>job_id</th>\n",
       "      <th>job_title</th>\n",
       "      <th>company_name</th>\n",
       "      <th>company_state</th>\n",
       "      <th>salary_range</th>\n",
       "      <th>remote_ratio</th>\n",
       "      <th>employment_type</th>\n",
       "      <th>experience_level</th>\n",
       "      <th>company_size</th>\n",
       "      <th>image_link</th>\n",
       "    </tr>\n",
       "  </thead>\n",
       "  <tbody>\n",
       "  </tbody>\n",
       "</table>\n",
       "</div>"
      ],
      "text/plain": [
       "Empty DataFrame\n",
       "Columns: [job_id, job_title, company_name, company_state, salary_range, remote_ratio, employment_type, experience_level, company_size, image_link]\n",
       "Index: []"
      ]
     },
     "execution_count": 21,
     "metadata": {},
     "output_type": "execute_result"
    }
   ],
   "source": [
    "linkedin[linkedin['experience_level'] == 'Jornada completa']"
   ]
  },
  {
   "cell_type": "code",
   "execution_count": 22,
   "metadata": {},
   "outputs": [
    {
     "data": {
      "text/plain": [
       "(293, 10)"
      ]
     },
     "execution_count": 22,
     "metadata": {},
     "output_type": "execute_result"
    }
   ],
   "source": [
    "linkedin.shape"
   ]
  },
  {
   "cell_type": "code",
   "execution_count": 24,
   "metadata": {},
   "outputs": [],
   "source": [
    "# linkedin.to_csv('../data/linkedin.csv', index=False)\n",
    "linkedin.to_csv('../data/linkedin_boolean.csv', index=False)"
   ]
  }
 ],
 "metadata": {
  "kernelspec": {
   "display_name": "project",
   "language": "python",
   "name": "python3"
  },
  "language_info": {
   "codemirror_mode": {
    "name": "ipython",
    "version": 3
   },
   "file_extension": ".py",
   "mimetype": "text/x-python",
   "name": "python",
   "nbconvert_exporter": "python",
   "pygments_lexer": "ipython3",
   "version": "3.11.5"
  }
 },
 "nbformat": 4,
 "nbformat_minor": 2
}
