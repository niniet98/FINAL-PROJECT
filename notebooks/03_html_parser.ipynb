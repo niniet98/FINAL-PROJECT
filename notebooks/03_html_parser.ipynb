{
 "cells": [
  {
   "cell_type": "markdown",
   "metadata": {},
   "source": [
    "#### Imports"
   ]
  },
  {
   "cell_type": "code",
   "execution_count": 161,
   "metadata": {},
   "outputs": [],
   "source": [
    "import os\n",
    "from bs4 import BeautifulSoup\n",
    "import pandas as pd\n",
    "import numpy as np"
   ]
  },
  {
   "cell_type": "markdown",
   "metadata": {},
   "source": [
    "#### Get data from .txt files"
   ]
  },
  {
   "cell_type": "code",
   "execution_count": 162,
   "metadata": {},
   "outputs": [
    {
     "data": {
      "text/plain": [
       "507"
      ]
     },
     "execution_count": 162,
     "metadata": {},
     "output_type": "execute_result"
    }
   ],
   "source": [
    "directory_path = '../data/jobs_html/'\n",
    "files = os.listdir(directory_path)\n",
    "count = 0\n",
    "for i in files:\n",
    "    count += 1\n",
    "count"
   ]
  },
  {
   "cell_type": "code",
   "execution_count": 163,
   "metadata": {},
   "outputs": [
    {
     "data": {
      "text/html": [
       "<div>\n",
       "<style scoped>\n",
       "    .dataframe tbody tr th:only-of-type {\n",
       "        vertical-align: middle;\n",
       "    }\n",
       "\n",
       "    .dataframe tbody tr th {\n",
       "        vertical-align: top;\n",
       "    }\n",
       "\n",
       "    .dataframe thead th {\n",
       "        text-align: right;\n",
       "    }\n",
       "</style>\n",
       "<table border=\"1\" class=\"dataframe\">\n",
       "  <thead>\n",
       "    <tr style=\"text-align: right;\">\n",
       "      <th></th>\n",
       "      <th>job_id</th>\n",
       "      <th>job_title</th>\n",
       "      <th>company_name</th>\n",
       "      <th>company_state</th>\n",
       "      <th>salary_range</th>\n",
       "      <th>remote_ratio</th>\n",
       "      <th>employment_type</th>\n",
       "      <th>experience_level</th>\n",
       "      <th>company_size</th>\n",
       "    </tr>\n",
       "  </thead>\n",
       "  <tbody>\n",
       "    <tr>\n",
       "      <th>479</th>\n",
       "      <td>3776532288</td>\n",
       "      <td>Data Analyst</td>\n",
       "      <td>Stirista</td>\n",
       "      <td>· San Antonio, TX</td>\n",
       "      <td>144.000 $/año - 270.250 $/año</td>\n",
       "      <td>En remoto</td>\n",
       "      <td>Jornada completa</td>\n",
       "      <td>Intermedio</td>\n",
       "      <td>De 51 a 200 empleados · Servicios de publicidad</td>\n",
       "    </tr>\n",
       "  </tbody>\n",
       "</table>\n",
       "</div>"
      ],
      "text/plain": [
       "         job_id     job_title company_name      company_state  \\\n",
       "479  3776532288  Data Analyst     Stirista  · San Antonio, TX   \n",
       "\n",
       "                      salary_range remote_ratio   employment_type  \\\n",
       "479  144.000 $/año - 270.250 $/año    En remoto  Jornada completa   \n",
       "\n",
       "    experience_level                                     company_size  \n",
       "479       Intermedio  De 51 a 200 empleados · Servicios de publicidad  "
      ]
     },
     "execution_count": 163,
     "metadata": {},
     "output_type": "execute_result"
    }
   ],
   "source": [
    "items = []\n",
    "\n",
    "remote_ratio = ['Presencial', 'Híbrido', 'En remoto']\n",
    "employment_type = ['Jornada Completa', 'Media jornada', 'Prácticas']\n",
    "experience_level = ['Sin experiencia', 'Intermedio', 'Algo de responsabilidad', 'Prácticas', 'Director', 'Ejecutivo']\n",
    "\n",
    "for file_name in files:\n",
    "    file_path = os.path.join(directory_path, file_name)\n",
    "    row = []\n",
    "    job_id = file_name.replace('.txt', '')\n",
    "    row.append(job_id)\n",
    "        \n",
    "    if os.path.isfile(file_path):\n",
    "        with open(file_path, 'r') as file:\n",
    "            soup = BeautifulSoup(file.read(), 'html.parser')\n",
    "            container = soup.find_all('div', {'class': 'jobs-unified-top-card'})[0]\n",
    "            title = container.find_all('h1', {'class': 'job-details-jobs-unified-top-card__job-title'})[0].getText().strip()\n",
    "            row.append(title)\n",
    "            company_name = container.find_all('a', {'class': 'app-aware-link'})[1].getText().strip()\n",
    "            row.append(company_name)\n",
    "            state = container.find(string = lambda text: text and '· ' in text)\n",
    "            row.append(state)\n",
    "            line = container.find_all('li', {'class': 'job-details-jobs-unified-top-card__job-insight'})[0].getText().strip()\n",
    "            line = line.split('\\n')\n",
    "            line = [i for i in line if i != '']\n",
    "            line = [i for i in line if i != ' ']\n",
    "            # print(line)\n",
    "            if len(line) == 4:\n",
    "                salary_range = line[0]\n",
    "                remote = line[1]\n",
    "                employment = line[2]\n",
    "                experience = line[3]\n",
    "                company_size = container.find_all('li', {'class': 'job-details-jobs-unified-top-card__job-insight'})[1].find('span').getText().strip()\n",
    "            elif len(line) == 3:\n",
    "                # print(line)\n",
    "                if line[0] in remote_ratio and line[1] in employment_type and line[2] in experience_level:\n",
    "                    salary_range = np.nan\n",
    "                    remote = line[0]\n",
    "                    employment = line[1]\n",
    "                    experience = line[2]\n",
    "                if '$' in line[0] and line[1] in employment_type and line[2] in experience_level:\n",
    "                    salary_range = line[0]\n",
    "                    remote = np.nan\n",
    "                    employment = line[1]\n",
    "                    experience = line[2]\n",
    "                if '$' in line[0] and line[1] in remote_ratio and line[2] in employment_type:\n",
    "                    salary_range = line[0]\n",
    "                    remote = line[1]\n",
    "                    employment = line[2]\n",
    "                    experience = np.nan\n",
    "                company_size = container.find_all('li', {'class': 'job-details-jobs-unified-top-card__job-insight'})[1].find('span').getText().strip()\n",
    "            elif len(line) == 2:\n",
    "                # print(line)\n",
    "                if '$' in line[0] and line[1] in employment_type:\n",
    "                    salary_range = line[0]\n",
    "                    remote = np.nan\n",
    "                    employment = line[1]\n",
    "                    experience = np.nan\n",
    "                if line[0] in remote_ratio and line[1] in employment_type:\n",
    "                    salary_range = np.nan\n",
    "                    remote = line[0]\n",
    "                    employment = line[1]\n",
    "                    experience = np.nan\n",
    "                if line[0] in employment_type and line[1] in experience_level:\n",
    "                    salary_range = np.nan\n",
    "                    remote = np.nan\n",
    "                    employment = line[0]\n",
    "                    experience = line[1]\n",
    "\n",
    "                company_size = container.find_all('li', {'class': 'job-details-jobs-unified-top-card__job-insight'})[1].find('span').getText().strip()\n",
    "            row.append(salary_range)\n",
    "            row.append(remote)\n",
    "            row.append(employment)\n",
    "            row.append(experience)\n",
    "            row.append(company_size)\n",
    "            items.append(row)\n",
    "\n",
    "columns = ['job_id', 'job_title', 'company_name', 'company_state', 'salary_range', 'remote_ratio', 'employment_type', 'experience_level', 'company_size']\n",
    "\n",
    "linkedin = pd.DataFrame(items, columns=columns)\n",
    "linkedin.sample()"
   ]
  },
  {
   "cell_type": "code",
   "execution_count": 164,
   "metadata": {},
   "outputs": [
    {
     "data": {
      "text/html": [
       "<div>\n",
       "<style scoped>\n",
       "    .dataframe tbody tr th:only-of-type {\n",
       "        vertical-align: middle;\n",
       "    }\n",
       "\n",
       "    .dataframe tbody tr th {\n",
       "        vertical-align: top;\n",
       "    }\n",
       "\n",
       "    .dataframe thead th {\n",
       "        text-align: right;\n",
       "    }\n",
       "</style>\n",
       "<table border=\"1\" class=\"dataframe\">\n",
       "  <thead>\n",
       "    <tr style=\"text-align: right;\">\n",
       "      <th></th>\n",
       "      <th>job_id</th>\n",
       "      <th>job_title</th>\n",
       "      <th>company_name</th>\n",
       "      <th>company_state</th>\n",
       "      <th>salary_range</th>\n",
       "      <th>remote_ratio</th>\n",
       "      <th>employment_type</th>\n",
       "      <th>experience_level</th>\n",
       "      <th>company_size</th>\n",
       "    </tr>\n",
       "  </thead>\n",
       "  <tbody>\n",
       "  </tbody>\n",
       "</table>\n",
       "</div>"
      ],
      "text/plain": [
       "Empty DataFrame\n",
       "Columns: [job_id, job_title, company_name, company_state, salary_range, remote_ratio, employment_type, experience_level, company_size]\n",
       "Index: []"
      ]
     },
     "execution_count": 164,
     "metadata": {},
     "output_type": "execute_result"
    }
   ],
   "source": [
    "linkedin[linkedin['experience_level'] == 'Jornada completa']"
   ]
  },
  {
   "cell_type": "code",
   "execution_count": 165,
   "metadata": {},
   "outputs": [],
   "source": [
    "linkedin.to_csv('../data/linkedin.csv', index=False)"
   ]
  }
 ],
 "metadata": {
  "kernelspec": {
   "display_name": "project",
   "language": "python",
   "name": "python3"
  },
  "language_info": {
   "codemirror_mode": {
    "name": "ipython",
    "version": 3
   },
   "file_extension": ".py",
   "mimetype": "text/x-python",
   "name": "python",
   "nbconvert_exporter": "python",
   "pygments_lexer": "ipython3",
   "version": "3.11.5"
  }
 },
 "nbformat": 4,
 "nbformat_minor": 2
}
