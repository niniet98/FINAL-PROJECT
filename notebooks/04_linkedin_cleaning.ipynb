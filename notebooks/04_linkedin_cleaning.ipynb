{
 "cells": [
  {
   "cell_type": "markdown",
   "metadata": {},
   "source": [
    "#### Imports"
   ]
  },
  {
   "cell_type": "code",
   "execution_count": 1038,
   "metadata": {},
   "outputs": [],
   "source": [
    "import pandas as pd\n",
    "import numpy as np\n",
    "import re"
   ]
  },
  {
   "cell_type": "markdown",
   "metadata": {},
   "source": [
    "#### Read linkedin csv"
   ]
  },
  {
   "cell_type": "code",
   "execution_count": 1039,
   "metadata": {},
   "outputs": [
    {
     "data": {
      "text/html": [
       "<div>\n",
       "<style scoped>\n",
       "    .dataframe tbody tr th:only-of-type {\n",
       "        vertical-align: middle;\n",
       "    }\n",
       "\n",
       "    .dataframe tbody tr th {\n",
       "        vertical-align: top;\n",
       "    }\n",
       "\n",
       "    .dataframe thead th {\n",
       "        text-align: right;\n",
       "    }\n",
       "</style>\n",
       "<table border=\"1\" class=\"dataframe\">\n",
       "  <thead>\n",
       "    <tr style=\"text-align: right;\">\n",
       "      <th></th>\n",
       "      <th>job_id</th>\n",
       "      <th>job_title</th>\n",
       "      <th>company_name</th>\n",
       "      <th>company_state</th>\n",
       "      <th>salary_range</th>\n",
       "      <th>remote_ratio</th>\n",
       "      <th>employment_type</th>\n",
       "      <th>experience_level</th>\n",
       "      <th>company_size</th>\n",
       "    </tr>\n",
       "  </thead>\n",
       "  <tbody>\n",
       "    <tr>\n",
       "      <th>353</th>\n",
       "      <td>3772901664</td>\n",
       "      <td>Data Research Analyst, gt.school (Remote) - $6...</td>\n",
       "      <td>Crossover</td>\n",
       "      <td>· Austin, TX</td>\n",
       "      <td>30 $/hr</td>\n",
       "      <td>En remoto</td>\n",
       "      <td>Jornada completa</td>\n",
       "      <td>Algo de responsabilidad</td>\n",
       "      <td>De 5.001 a 10.000 empleados · Servicios y cons...</td>\n",
       "    </tr>\n",
       "    <tr>\n",
       "      <th>425</th>\n",
       "      <td>3775180566</td>\n",
       "      <td>DATA AND PROCESS ANALYST</td>\n",
       "      <td>University of Washington</td>\n",
       "      <td>· Seattle, WA</td>\n",
       "      <td>6.482 $/mes - 8.102 $/mes</td>\n",
       "      <td>Presencial</td>\n",
       "      <td>Jornada completa</td>\n",
       "      <td>Intermedio</td>\n",
       "      <td>Más de 10.001 empleados · Enseñanza superior</td>\n",
       "    </tr>\n",
       "    <tr>\n",
       "      <th>64</th>\n",
       "      <td>3744009051</td>\n",
       "      <td>RF Computational Engineer 3</td>\n",
       "      <td>Lam Research</td>\n",
       "      <td>· Fremont, CA</td>\n",
       "      <td>67.733 $/año - 91.440 $/año</td>\n",
       "      <td>En remoto</td>\n",
       "      <td>Jornada completa</td>\n",
       "      <td>Intermedio</td>\n",
       "      <td>Más de 10.001 empleados · Fabricación de semic...</td>\n",
       "    </tr>\n",
       "  </tbody>\n",
       "</table>\n",
       "</div>"
      ],
      "text/plain": [
       "         job_id                                          job_title  \\\n",
       "353  3772901664  Data Research Analyst, gt.school (Remote) - $6...   \n",
       "425  3775180566                           DATA AND PROCESS ANALYST   \n",
       "64   3744009051                        RF Computational Engineer 3   \n",
       "\n",
       "                 company_name  company_state                 salary_range  \\\n",
       "353                 Crossover   · Austin, TX                      30 $/hr   \n",
       "425  University of Washington  · Seattle, WA    6.482 $/mes - 8.102 $/mes   \n",
       "64               Lam Research  · Fremont, CA  67.733 $/año - 91.440 $/año   \n",
       "\n",
       "    remote_ratio   employment_type         experience_level  \\\n",
       "353    En remoto  Jornada completa  Algo de responsabilidad   \n",
       "425   Presencial  Jornada completa               Intermedio   \n",
       "64     En remoto  Jornada completa               Intermedio   \n",
       "\n",
       "                                          company_size  \n",
       "353  De 5.001 a 10.000 empleados · Servicios y cons...  \n",
       "425       Más de 10.001 empleados · Enseñanza superior  \n",
       "64   Más de 10.001 empleados · Fabricación de semic...  "
      ]
     },
     "execution_count": 1039,
     "metadata": {},
     "output_type": "execute_result"
    }
   ],
   "source": [
    "linkedin = pd.read_csv('../data/linkedin.csv')\n",
    "linkedin.sample(3)"
   ]
  },
  {
   "cell_type": "markdown",
   "metadata": {},
   "source": [
    "#### Cleaning 'company_state' column"
   ]
  },
  {
   "cell_type": "code",
   "execution_count": 1040,
   "metadata": {},
   "outputs": [
    {
     "data": {
      "text/plain": [
       "company_state\n",
       "Estados Unidos         58\n",
       "· Nueva York, NY       22\n",
       "· Seattle, WA          16\n",
       "· San Francisco, CA    16\n",
       "· Washington, DC       10\n",
       "                       ..\n",
       "· Plano, TX             1\n",
       "· Lexington, KY         1\n",
       "· Montpelier, VT        1\n",
       "· Bolingbrook, IL       1\n",
       "· Scott AFB, IL         1\n",
       "Name: count, Length: 216, dtype: int64"
      ]
     },
     "execution_count": 1040,
     "metadata": {},
     "output_type": "execute_result"
    }
   ],
   "source": [
    "states = ['AL', 'AK', 'AZ', 'AR', 'CA', 'NC', 'SC', 'CO', 'CT', 'ND', 'SD', 'DE', 'FL', 'GA', 'HI', 'ID', 'IL', 'IN', 'IA', 'KS', 'KY', 'LA',\n",
    "          'ME', 'MD', 'MA', 'MI', 'MN', 'MS', 'MO', 'MT', 'NE', 'NV', 'NJ', 'NY', 'NH', 'NM', 'OH', 'OK', 'OR', 'PA', 'RI', 'TN', 'TX', 'UT',\n",
    "          'UT', 'VT', 'VA', 'WV', 'WA', 'WI', 'WY']\n",
    "linkedin['company_state'] = linkedin['company_state'].apply(lambda row: 'Estados Unidos' if row == '· Estados Unidos' else row)\n",
    "linkedin['company_state'].value_counts()"
   ]
  },
  {
   "cell_type": "code",
   "execution_count": 1041,
   "metadata": {},
   "outputs": [],
   "source": [
    "def fclean_company_state(df, states):\n",
    "    for i in states:\n",
    "        linkedin['company_state'] = linkedin['company_state'].apply(lambda row: i if i in str(row) else row)\n",
    "    return df\n",
    "\n",
    "linkedin = fclean_company_state(linkedin, states)"
   ]
  },
  {
   "cell_type": "code",
   "execution_count": 1042,
   "metadata": {},
   "outputs": [],
   "source": [
    "def sclean_company_state(df, states):\n",
    "    for key, value in states.items():\n",
    "        linkedin['company_state'] = linkedin['company_state'].apply(lambda row: value if key in str(row) else row)\n",
    "    return df\n",
    "\n",
    "left_states = {\n",
    "    'Virginia': 'VA',\n",
    "    'Minnesota': 'MN',\n",
    "    'Washington': 'WA',\n",
    "    'San Francisco': 'CA',\n",
    "    'Nebraska': 'NE',\n",
    "    'California': 'CA',\n",
    "    'Texas': 'TX',\n",
    "    'Nueva York': 'NY',\n",
    "    'Michigan': 'MI',\n",
    "    'Luisiana': 'LA',\n",
    "    'Florida': 'FL',\n",
    "    'Maryland': 'MD',\n",
    "    'Nevada': 'NV',\n",
    "    'Oregón': 'OR',\n",
    "    'Oklahoma': 'OK',\n",
    "    'Georgia': 'GA',\n",
    "    'Carolina del Sur': 'SC',\n",
    "    'Delaware': 'DE',\n",
    "    'Ohio': 'OH',\n",
    "    'Arkansas': 'AR',\n",
    "    'Iowa': 'IA',\n",
    "    'Carolina del Norte': 'NC',\n",
    "    'Indiana': 'IN',\n",
    "    'Nashville': 'TN',\n",
    "    'Massachusetts': 'MA',\n",
    "    'Tennessee': 'TN',\n",
    "    'Enid': 'OK'\n",
    "}\n",
    "linkedin = sclean_company_state(linkedin, left_states)"
   ]
  },
  {
   "cell_type": "markdown",
   "metadata": {},
   "source": [
    "#### Cleaning 'company_state' column"
   ]
  },
  {
   "cell_type": "code",
   "execution_count": 1043,
   "metadata": {},
   "outputs": [
    {
     "data": {
      "text/plain": [
       "remote_ratio\n",
       "En remoto     232\n",
       "Híbrido       135\n",
       "Presencial    129\n",
       "nan            11\n",
       "Name: count, dtype: int64"
      ]
     },
     "execution_count": 1043,
     "metadata": {},
     "output_type": "execute_result"
    }
   ],
   "source": [
    "def clean_remote_ratio(df, dict_):\n",
    "    for key, val in dict_.items():\n",
    "        df['remote_ratio'] = df['remote_ratio'].apply(lambda row: key if key in str(row) else str(row))\n",
    "    return df\n",
    "\n",
    "remote_dict = {\n",
    "    'Presencial': 0,\n",
    "    'Híbrido': 50,\n",
    "    'En remoto': 100\n",
    "}\n",
    "linkedin = clean_remote_ratio(linkedin, remote_dict)\n",
    "linkedin['remote_ratio'].value_counts()"
   ]
  },
  {
   "cell_type": "code",
   "execution_count": 1044,
   "metadata": {},
   "outputs": [
    {
     "data": {
      "text/plain": [
       "remote_ratio\n",
       "En remoto     232\n",
       "Híbrido       135\n",
       "Presencial    129\n",
       "Name: count, dtype: int64"
      ]
     },
     "execution_count": 1044,
     "metadata": {},
     "output_type": "execute_result"
    }
   ],
   "source": [
    "linkedin.loc[linkedin['remote_ratio'] == 'nan', 'remote_ratio'] = np.nan\n",
    "linkedin['remote_ratio'].value_counts()"
   ]
  },
  {
   "cell_type": "markdown",
   "metadata": {},
   "source": [
    "#### Cleaning 'experience_level' column"
   ]
  },
  {
   "cell_type": "code",
   "execution_count": 1045,
   "metadata": {},
   "outputs": [
    {
     "data": {
      "text/plain": [
       "experience_level\n",
       "Intermedio                 238\n",
       "Sin experiencia            130\n",
       "Prácticas                   65\n",
       "Algo de responsabilidad     59\n",
       "Director                     7\n",
       "Ejecutivo                    2\n",
       "Name: count, dtype: int64"
      ]
     },
     "execution_count": 1045,
     "metadata": {},
     "output_type": "execute_result"
    }
   ],
   "source": [
    "linkedin.sample(5)\n",
    "linkedin['experience_level'].value_counts()"
   ]
  },
  {
   "cell_type": "markdown",
   "metadata": {},
   "source": [
    "#### Cleaning 'employment_type' column"
   ]
  },
  {
   "cell_type": "code",
   "execution_count": 1046,
   "metadata": {},
   "outputs": [
    {
     "data": {
      "text/plain": [
       "employment_type\n",
       "Jornada completa     327\n",
       "Contrato por obra     84\n",
       "Prácticas             55\n",
       "Media jornada         41\n",
       "Name: count, dtype: int64"
      ]
     },
     "execution_count": 1046,
     "metadata": {},
     "output_type": "execute_result"
    }
   ],
   "source": [
    "def clean_employment_type(df, list_):\n",
    "    for i in list_:\n",
    "        df['employment_type'] = df['employment_type'].apply(lambda row: i if i in str(row) else str(row))\n",
    "    return df\n",
    "\n",
    "remote_dict = [\n",
    "    'Jornada completa',\n",
    "    'Contrato por obra',\n",
    "    'Media jornada',\n",
    "    'Prácticas'\n",
    "]\n",
    "linkedin = clean_employment_type(linkedin, remote_dict)\n",
    "linkedin['employment_type'].value_counts()"
   ]
  },
  {
   "cell_type": "markdown",
   "metadata": {},
   "source": [
    "#### Cleaning 'company_size' column"
   ]
  },
  {
   "cell_type": "code",
   "execution_count": 1047,
   "metadata": {},
   "outputs": [
    {
     "data": {
      "text/plain": [
       "company_size\n",
       "De 51 a 200 empleados · Servicios y consultoría de TI                    34\n",
       "Más de 10.001 empleados · Hospitales y atención sanitaria                24\n",
       "De 51 a 200 empleados · Dotación y selección de personal                 21\n",
       "De 1.001 a 5.000 empleados · Servicios y consultoría de TI               21\n",
       "De 1.001 a 5.000 empleados · Tecnología, información e internet          19\n",
       "                                                                         ..\n",
       "De 51 a 200 empleados · Servicios de bienestar y mantenimiento físico     1\n",
       "De 51 a 200 empleados · Hospitales y atención sanitaria                   1\n",
       "De 201 a 500 empleados · Relaciones gubernamentales                       1\n",
       "De 1.001 a 5.000 empleados · Servicios públicos                           1\n",
       "De 51 a 200 empleados · Servicios de publicidad                           1\n",
       "Name: count, Length: 138, dtype: int64"
      ]
     },
     "execution_count": 1047,
     "metadata": {},
     "output_type": "execute_result"
    }
   ],
   "source": [
    "linkedin['company_size'].value_counts()"
   ]
  },
  {
   "cell_type": "code",
   "execution_count": 1048,
   "metadata": {},
   "outputs": [
    {
     "data": {
      "text/plain": [
       "employees\n",
       "Más de 10.001 empleados                                                     111\n",
       "De 51 a 200 empleados                                                        99\n",
       "De 1.001 a 5.000 empleados                                                   91\n",
       "De 11 a 50 empleados                                                         48\n",
       "De 201 a 500 empleados                                                       43\n",
       "De 501 a 1.000 empleados                                                     43\n",
       "De 5.001 a 10.000 empleados                                                  40\n",
       "Entre 1 y 10 empleados                                                       28\n",
       "Ve una comparación con los otros 300 solicitantes. Probar Premium gratis      1\n",
       "Fabricación de productos de plástico                                          1\n",
       "Ve una comparación con los otros 444 solicitantes. Probar Premium gratis      1\n",
       "Servicios para el individuo y la familia                                      1\n",
       "Name: count, dtype: int64"
      ]
     },
     "execution_count": 1048,
     "metadata": {},
     "output_type": "execute_result"
    }
   ],
   "source": [
    "linkedin['employees'] = linkedin['company_size'].apply(lambda row: row.split('·')[0].strip())\n",
    "linkedin['employees'].value_counts()"
   ]
  },
  {
   "cell_type": "code",
   "execution_count": 1049,
   "metadata": {},
   "outputs": [
    {
     "data": {
      "text/html": [
       "<div>\n",
       "<style scoped>\n",
       "    .dataframe tbody tr th:only-of-type {\n",
       "        vertical-align: middle;\n",
       "    }\n",
       "\n",
       "    .dataframe tbody tr th {\n",
       "        vertical-align: top;\n",
       "    }\n",
       "\n",
       "    .dataframe thead th {\n",
       "        text-align: right;\n",
       "    }\n",
       "</style>\n",
       "<table border=\"1\" class=\"dataframe\">\n",
       "  <thead>\n",
       "    <tr style=\"text-align: right;\">\n",
       "      <th></th>\n",
       "      <th>job_id</th>\n",
       "      <th>job_title</th>\n",
       "      <th>company_name</th>\n",
       "      <th>company_state</th>\n",
       "      <th>salary_range</th>\n",
       "      <th>remote_ratio</th>\n",
       "      <th>employment_type</th>\n",
       "      <th>experience_level</th>\n",
       "      <th>company_size</th>\n",
       "      <th>employees</th>\n",
       "    </tr>\n",
       "  </thead>\n",
       "  <tbody>\n",
       "    <tr>\n",
       "      <th>155</th>\n",
       "      <td>3762242381</td>\n",
       "      <td>Data Scientist</td>\n",
       "      <td>Probar Premium gratis</td>\n",
       "      <td>IL</td>\n",
       "      <td>140.000 $/año - 170.000 $/año</td>\n",
       "      <td>Híbrido</td>\n",
       "      <td>Jornada completa</td>\n",
       "      <td>Intermedio</td>\n",
       "      <td>Ve una comparación con los otros 300 solicitan...</td>\n",
       "      <td>Ve una comparación con los otros 300 solicitan...</td>\n",
       "    </tr>\n",
       "    <tr>\n",
       "      <th>335</th>\n",
       "      <td>3771514066</td>\n",
       "      <td>Quality Control Analyst</td>\n",
       "      <td>Carolina Poly, Inc.</td>\n",
       "      <td>SC</td>\n",
       "      <td>65.000 $/año - 72.000 $/año</td>\n",
       "      <td>Presencial</td>\n",
       "      <td>Jornada completa</td>\n",
       "      <td>Sin experiencia</td>\n",
       "      <td>Fabricación de productos de plástico</td>\n",
       "      <td>Fabricación de productos de plástico</td>\n",
       "    </tr>\n",
       "    <tr>\n",
       "      <th>427</th>\n",
       "      <td>3775200323</td>\n",
       "      <td>Data Analyst</td>\n",
       "      <td>Probar Premium gratis</td>\n",
       "      <td>MA</td>\n",
       "      <td>35 $/h - 40 $/h</td>\n",
       "      <td>En remoto</td>\n",
       "      <td>Media jornada</td>\n",
       "      <td>NaN</td>\n",
       "      <td>Ve una comparación con los otros 444 solicitan...</td>\n",
       "      <td>Ve una comparación con los otros 444 solicitan...</td>\n",
       "    </tr>\n",
       "    <tr>\n",
       "      <th>450</th>\n",
       "      <td>3775649749</td>\n",
       "      <td>Data Consultant ( Remote)</td>\n",
       "      <td>Fresca Fresh Blanket Service</td>\n",
       "      <td>Estados Unidos</td>\n",
       "      <td>NaN</td>\n",
       "      <td>En remoto</td>\n",
       "      <td>Media jornada</td>\n",
       "      <td>Algo de responsabilidad</td>\n",
       "      <td>Servicios para el individuo y la familia</td>\n",
       "      <td>Servicios para el individuo y la familia</td>\n",
       "    </tr>\n",
       "  </tbody>\n",
       "</table>\n",
       "</div>"
      ],
      "text/plain": [
       "         job_id                  job_title                  company_name  \\\n",
       "155  3762242381             Data Scientist         Probar Premium gratis   \n",
       "335  3771514066    Quality Control Analyst           Carolina Poly, Inc.   \n",
       "427  3775200323               Data Analyst         Probar Premium gratis   \n",
       "450  3775649749  Data Consultant ( Remote)  Fresca Fresh Blanket Service   \n",
       "\n",
       "      company_state                   salary_range remote_ratio  \\\n",
       "155              IL  140.000 $/año - 170.000 $/año      Híbrido   \n",
       "335              SC    65.000 $/año - 72.000 $/año   Presencial   \n",
       "427              MA                35 $/h - 40 $/h    En remoto   \n",
       "450  Estados Unidos                            NaN    En remoto   \n",
       "\n",
       "      employment_type         experience_level  \\\n",
       "155  Jornada completa               Intermedio   \n",
       "335  Jornada completa          Sin experiencia   \n",
       "427     Media jornada                      NaN   \n",
       "450     Media jornada  Algo de responsabilidad   \n",
       "\n",
       "                                          company_size  \\\n",
       "155  Ve una comparación con los otros 300 solicitan...   \n",
       "335               Fabricación de productos de plástico   \n",
       "427  Ve una comparación con los otros 444 solicitan...   \n",
       "450           Servicios para el individuo y la familia   \n",
       "\n",
       "                                             employees  \n",
       "155  Ve una comparación con los otros 300 solicitan...  \n",
       "335               Fabricación de productos de plástico  \n",
       "427  Ve una comparación con los otros 444 solicitan...  \n",
       "450           Servicios para el individuo y la familia  "
      ]
     },
     "execution_count": 1049,
     "metadata": {},
     "output_type": "execute_result"
    }
   ],
   "source": [
    "# Patrones que deseas buscar en la columna específica\n",
    "patrones = [\n",
    "    r\"Ve una comparación con los otros \\d+ solicitantes\\. Probar Premium gratis\",\n",
    "    r\"Fabricación de productos de plástico\",\n",
    "    r\"Servicios para el individuo y la familia\"\n",
    "]\n",
    "\n",
    "# Crear una expresión regular combinando los patrones con el operador OR (|)\n",
    "regex_pattern = '|'.join(patrones)\n",
    "\n",
    "# Filtrar el DataFrame por la columna específica\n",
    "linkedin[linkedin['employees'].str.contains(regex_pattern)]"
   ]
  },
  {
   "cell_type": "code",
   "execution_count": 1050,
   "metadata": {},
   "outputs": [
    {
     "data": {
      "text/plain": [
       "employees\n",
       "Más de 10.001 empleados        111\n",
       "De 51 a 200 empleados           99\n",
       "De 1.001 a 5.000 empleados      91\n",
       "De 11 a 50 empleados            48\n",
       "De 201 a 500 empleados          43\n",
       "De 501 a 1.000 empleados        43\n",
       "De 5.001 a 10.000 empleados     40\n",
       "Entre 1 y 10 empleados          28\n",
       "Name: count, dtype: int64"
      ]
     },
     "execution_count": 1050,
     "metadata": {},
     "output_type": "execute_result"
    }
   ],
   "source": [
    "linkedin.loc[linkedin['employees'].str.contains(regex_pattern), 'employees'] = np.nan\n",
    "linkedin['employees'].value_counts()"
   ]
  },
  {
   "cell_type": "code",
   "execution_count": 1051,
   "metadata": {},
   "outputs": [
    {
     "data": {
      "text/plain": [
       "employees\n",
       "10.001    111\n",
       "200        99\n",
       "5.000      91\n",
       "50         48\n",
       "500        43\n",
       "1.000      43\n",
       "10.000     40\n",
       "10         28\n",
       "Name: count, dtype: int64"
      ]
     },
     "execution_count": 1051,
     "metadata": {},
     "output_type": "execute_result"
    }
   ],
   "source": [
    "pattern1 = r\"Más de (\\d+\\.?\\d*) empleados\"\n",
    "pattern2 = r\"De (\\d+\\.?\\d*) a (\\d+\\.?\\d*) empleados\"\n",
    "pattern3 = r\"Entre (\\d+\\.?\\d*) y (\\d+\\.?\\d*) empleados\"\n",
    "def clean_employee(row):\n",
    "    match1 = re.match(pattern1, str(row))\n",
    "    match2 = re.match(pattern2, str(row))\n",
    "    match3 = re.match(pattern3, str(row))\n",
    "    if match1:\n",
    "        return match1.group(1)\n",
    "    elif match2:\n",
    "        return match2.group(2)\n",
    "    elif match3:\n",
    "        return match3.group(2)\n",
    "\n",
    "linkedin['employees'] = linkedin['employees'].apply(clean_employee)\n",
    "linkedin['employees'].value_counts()"
   ]
  },
  {
   "cell_type": "code",
   "execution_count": 1052,
   "metadata": {},
   "outputs": [
    {
     "data": {
      "text/plain": [
       "company_size\n",
       "L    328\n",
       "M    147\n",
       "S     28\n",
       "Name: count, dtype: int64"
      ]
     },
     "execution_count": 1052,
     "metadata": {},
     "output_type": "execute_result"
    }
   ],
   "source": [
    "def standarize_company_size(row):\n",
    "    if pd.notnull(row):\n",
    "        if int(row.replace('.', '')) < 50:\n",
    "            return 'S'\n",
    "        elif int(row.replace('.', '')) <= 250:\n",
    "            return 'M'\n",
    "        elif int(row.replace('.', '')) > 250:\n",
    "            return 'L'\n",
    "        else:\n",
    "            return np.nan\n",
    "\n",
    "linkedin['company_size'] = linkedin['employees'].apply(standarize_company_size)\n",
    "linkedin['company_size'].value_counts()"
   ]
  },
  {
   "cell_type": "markdown",
   "metadata": {},
   "source": [
    "#### Cleaning 'salary_range' column"
   ]
  },
  {
   "cell_type": "code",
   "execution_count": 1053,
   "metadata": {},
   "outputs": [
    {
     "data": {
      "text/plain": [
       "array(['100.000 $/año - 150.000 $/año', '283.780 $/año - 331.640 $/año',\n",
       "       '145.000 $/año - 180.000 $/año', '95.000 $/año - 130.000 $/año',\n",
       "       '167.200 $/año - 250.800 $/año', '200.000 $/año - 240.000 $/año',\n",
       "       '70.000 $/yr', nan, '120.000 $/año - 220.000 $/año',\n",
       "       '144.000 $/año - 270.250 $/año', '170.112 $/año - 237.000 $/año',\n",
       "       '170.000 $/año - 190.000 $/año', '20 $/hr',\n",
       "       '67.733 $/año - 91.440 $/año', '95.000 $/año - 120.000 $/año',\n",
       "       '78 $/h - 104 $/h', '122.000 $/año - 190.000 $/año',\n",
       "       '48 $/h - 65 $/h', '45 $/h - 55 $/h', '40 $/h - 43 $/h',\n",
       "       '90.000 $/año - 130.000 $/año', '70.000 $/año - 85.000 $/año',\n",
       "       '150.000 $/año - 200.000 $/año', '26 $/h - 31 $/h',\n",
       "       '139.100 $/año - 235.400 $/año', '60.000 $/año - 100.000 $/año',\n",
       "       '140.000 $/año - 170.000 $/año', '90.000 $/año - 110.000 $/año',\n",
       "       '400.000 $/año - 700.000 $/año', '140.000 $/año - 165.000 $/año',\n",
       "       '73.500 $/año - 170.000 $/año', '87.600 $/año - 118.400 $/año',\n",
       "       '50 $/h - 57 $/h', '60 $/h - 70 $/h',\n",
       "       '60.000 $/año - 65.000 $/año', '85.000 $/año - 125.000 $/año',\n",
       "       '32 $/h - 37 $/h', '26 $/h - 29 $/h',\n",
       "       '75.000 $/año - 120.000 $/año', '75 $/h - 80 $/h',\n",
       "       '70 $/año - 75 $/año', '55 $/h - 60 $/h', '40 $/h - 50 $/h',\n",
       "       '26 $/hr', '90.000 $/año - 120.000 $/año', '60 $/h - 63 $/h',\n",
       "       '78.000 $/año - 120.000 $/año', '100.000 $/año - 115.000 $/año',\n",
       "       '50 $/h - 55 $/h', '65.000 $/año - 85.000 $/año',\n",
       "       '15 $/h - 20 $/h', '70.000 $/año - 80.000 $/año',\n",
       "       '10.120 $/año - 12.170 $/año', '40 $/h - 51 $/h',\n",
       "       '80.000 $/año - 140.000 $/año', '145.000 $/año - 154.000 $/año',\n",
       "       '120.000 $/año - 150.000 $/año', '65 $/h - 70 $/h',\n",
       "       '28,26 $/h - 49,52 $/h', '110.000 $/año - 125.000 $/año',\n",
       "       '70.000 $/año - 130.000 $/año', '120.000 $/año - 165.000 $/año',\n",
       "       '65.000 $/año - 72.000 $/año', '90.000 $/yr',\n",
       "       '130.000 $/año - 180.000 $/año', '275.000 $/año - 425.000 $/año',\n",
       "       '170.000 $/año - 200.000 $/año', '50.000 $/año - 85.000 $/año',\n",
       "       '30 $/hr', '80.000 $/año - 95.000 $/año', '500.000 $/yr',\n",
       "       '140.000 $/año - 180.000 $/año', '135.200 $/año - 145.600 $/año',\n",
       "       '80 $/h - 85 $/h', '70 $/h - 80 $/h',\n",
       "       '84.546 $/año - 109.908 $/año', '131.900 $/año - 151.700 $/año',\n",
       "       '17 $/hr', '50 $/h - 54 $/h', '95.000 $/año - 115.000 $/año',\n",
       "       '141.570 $/año - 173.030 $/año', '36 $/h - 39,58 $/h',\n",
       "       '4.649 $/mes - 9.465 $/mes', '6.482 $/mes - 8.102 $/mes',\n",
       "       '3.240 $/mes - 3.907 $/mes', '35 $/h - 40 $/h',\n",
       "       '125.000 $/año - 175.000 $/año', '150.000 $/año - 180.000 $/año',\n",
       "       '70 $/hr', '20 $/h - 24 $/h', '70 $/h - 100 $/h',\n",
       "       '15 $/h - 35 $/h', '198.200 $/año - 297.300 $/año', '45.000 $/yr',\n",
       "       '85.000 $/año - 90.000 $/año', '64.000 $/año - 76.000 $/año',\n",
       "       '80 $/hr'], dtype=object)"
      ]
     },
     "execution_count": 1053,
     "metadata": {},
     "output_type": "execute_result"
    }
   ],
   "source": [
    "linkedin['salary_range'].unique()"
   ]
  },
  {
   "cell_type": "code",
   "execution_count": 1054,
   "metadata": {},
   "outputs": [
    {
     "data": {
      "text/plain": [
       "salary_range\n",
       "230000.0    22\n",
       "225000.0    21\n",
       "207750.0    21\n",
       "279125.0    18\n",
       "57600.0     18\n",
       "            ..\n",
       "208000.0     1\n",
       "107500.0     1\n",
       "16205.0      1\n",
       "265000.0     1\n",
       "154560.0     1\n",
       "Name: count, Length: 90, dtype: int64"
      ]
     },
     "execution_count": 1054,
     "metadata": {},
     "output_type": "execute_result"
    }
   ],
   "source": [
    "hour_pattern = r\"(\\d+) \\$\\/hr\"\n",
    "year_pattern = r\"(\\d+\\.?\\d*) \\$\\/yr\"\n",
    "hour_range_pattern = r\"(\\d+\\,?\\d*) \\$\\/h - (\\d+\\,?\\d*) \\$\\/h\"\n",
    "year_range_pattern = r\"(\\d+\\.?\\d*) \\$\\/año - (\\d+\\.?\\d*) \\$\\/año\"\n",
    "month_range_pattern = r\"(\\d+\\.?\\d*) \\$\\/mes - (\\d+\\.?\\d*) \\$\\/mes\"\n",
    "\n",
    "\n",
    "def clean_salary(row):\n",
    "    match_h = re.match(hour_pattern, str(row))\n",
    "    match_y = re.match(year_pattern, str(row))\n",
    "    match_rh = re.match(hour_range_pattern, str(row))\n",
    "    match_ry = re.match(year_range_pattern, str(row))\n",
    "    match_rm = re.match(month_range_pattern, str(row))\n",
    "    if match_h:\n",
    "        num_h = match_h.group(1)\n",
    "        num_w = int(num_h) * 40\n",
    "        return int(num_w * 48)\n",
    "    elif match_y:\n",
    "        return int(match_y.group(1).replace('.', ''))\n",
    "    elif match_rh:\n",
    "        min_ = match_rh.group(1)\n",
    "        max_ = match_rh.group(2)\n",
    "        num_h = float(min_.replace(',', '.')) + float(max_.replace(',', '.')) / 2\n",
    "        num_w = num_h * 40\n",
    "        return int(num_w * 48)\n",
    "    elif match_ry:\n",
    "        min_ = match_ry.group(1)\n",
    "        max_ = match_ry.group(2)\n",
    "        num_y = float(min_.replace('.', '')) + float(max_.replace('.', '')) / 2\n",
    "        return int(num_y)\n",
    "    elif match_rm:\n",
    "        min_ = match_rm.group(1)\n",
    "        max_ = match_rm.group(2)\n",
    "        num_m = float(min_.replace('.', '')) + float(max_.replace('.', '')) / 2\n",
    "        return int(num_m * 12)\n",
    "    else:\n",
    "        return np.nan\n",
    "\n",
    "linkedin['salary_range'] = linkedin['salary_range'].apply(clean_salary)\n",
    "linkedin['salary_range'].value_counts()"
   ]
  },
  {
   "cell_type": "code",
   "execution_count": 1055,
   "metadata": {},
   "outputs": [
    {
     "data": {
      "text/html": [
       "<div>\n",
       "<style scoped>\n",
       "    .dataframe tbody tr th:only-of-type {\n",
       "        vertical-align: middle;\n",
       "    }\n",
       "\n",
       "    .dataframe tbody tr th {\n",
       "        vertical-align: top;\n",
       "    }\n",
       "\n",
       "    .dataframe thead th {\n",
       "        text-align: right;\n",
       "    }\n",
       "</style>\n",
       "<table border=\"1\" class=\"dataframe\">\n",
       "  <thead>\n",
       "    <tr style=\"text-align: right;\">\n",
       "      <th></th>\n",
       "      <th>job_id</th>\n",
       "      <th>job_title</th>\n",
       "      <th>company_name</th>\n",
       "      <th>company_state</th>\n",
       "      <th>salary_range</th>\n",
       "      <th>remote_ratio</th>\n",
       "      <th>employment_type</th>\n",
       "      <th>experience_level</th>\n",
       "      <th>company_size</th>\n",
       "      <th>employees</th>\n",
       "    </tr>\n",
       "  </thead>\n",
       "  <tbody>\n",
       "    <tr>\n",
       "      <th>476</th>\n",
       "      <td>3776486316</td>\n",
       "      <td>Data Engineer</td>\n",
       "      <td>Dice</td>\n",
       "      <td>Estados Unidos</td>\n",
       "      <td>139200.0</td>\n",
       "      <td>En remoto</td>\n",
       "      <td>Jornada completa</td>\n",
       "      <td>Sin experiencia</td>\n",
       "      <td>L</td>\n",
       "      <td>5.000</td>\n",
       "    </tr>\n",
       "    <tr>\n",
       "      <th>475</th>\n",
       "      <td>3776484734</td>\n",
       "      <td>AI Engineer</td>\n",
       "      <td>Motion Recruitment</td>\n",
       "      <td>WA</td>\n",
       "      <td>130000.0</td>\n",
       "      <td>En remoto</td>\n",
       "      <td>Jornada completa</td>\n",
       "      <td>Sin experiencia</td>\n",
       "      <td>L</td>\n",
       "      <td>1.000</td>\n",
       "    </tr>\n",
       "    <tr>\n",
       "      <th>213</th>\n",
       "      <td>3766632486</td>\n",
       "      <td>Project Data Analyst (F&amp;B)</td>\n",
       "      <td>The Walt Disney Company</td>\n",
       "      <td>FL</td>\n",
       "      <td>49920.0</td>\n",
       "      <td>Híbrido</td>\n",
       "      <td>Prácticas</td>\n",
       "      <td>Prácticas</td>\n",
       "      <td>L</td>\n",
       "      <td>10.001</td>\n",
       "    </tr>\n",
       "    <tr>\n",
       "      <th>95</th>\n",
       "      <td>3755065806</td>\n",
       "      <td>Data Engineer Intern</td>\n",
       "      <td>Hewlett Packard Enterprise</td>\n",
       "      <td>CA</td>\n",
       "      <td>NaN</td>\n",
       "      <td>Híbrido</td>\n",
       "      <td>Prácticas</td>\n",
       "      <td>Prácticas</td>\n",
       "      <td>L</td>\n",
       "      <td>10.001</td>\n",
       "    </tr>\n",
       "    <tr>\n",
       "      <th>94</th>\n",
       "      <td>3755047295</td>\n",
       "      <td>Data Analyst</td>\n",
       "      <td>Ledgent Technology</td>\n",
       "      <td>FL</td>\n",
       "      <td>NaN</td>\n",
       "      <td>Híbrido</td>\n",
       "      <td>Prácticas</td>\n",
       "      <td>Prácticas</td>\n",
       "      <td>L</td>\n",
       "      <td>1.000</td>\n",
       "    </tr>\n",
       "  </tbody>\n",
       "</table>\n",
       "</div>"
      ],
      "text/plain": [
       "         job_id                   job_title                company_name  \\\n",
       "476  3776486316               Data Engineer                        Dice   \n",
       "475  3776484734                 AI Engineer          Motion Recruitment   \n",
       "213  3766632486  Project Data Analyst (F&B)     The Walt Disney Company   \n",
       "95   3755065806        Data Engineer Intern  Hewlett Packard Enterprise   \n",
       "94   3755047295                Data Analyst          Ledgent Technology   \n",
       "\n",
       "      company_state  salary_range remote_ratio   employment_type  \\\n",
       "476  Estados Unidos      139200.0    En remoto  Jornada completa   \n",
       "475              WA      130000.0    En remoto  Jornada completa   \n",
       "213              FL       49920.0      Híbrido         Prácticas   \n",
       "95               CA           NaN      Híbrido         Prácticas   \n",
       "94               FL           NaN      Híbrido         Prácticas   \n",
       "\n",
       "    experience_level company_size employees  \n",
       "476  Sin experiencia            L     5.000  \n",
       "475  Sin experiencia            L     1.000  \n",
       "213        Prácticas            L    10.001  \n",
       "95         Prácticas            L    10.001  \n",
       "94         Prácticas            L     1.000  "
      ]
     },
     "execution_count": 1055,
     "metadata": {},
     "output_type": "execute_result"
    }
   ],
   "source": [
    "linkedin.sample(5)"
   ]
  },
  {
   "cell_type": "markdown",
   "metadata": {},
   "source": [
    "#### Cleaning 'job_title' column"
   ]
  },
  {
   "cell_type": "code",
   "execution_count": 1056,
   "metadata": {},
   "outputs": [
    {
     "data": {
      "text/plain": [
       "job_title\n",
       "Data Engineer                                                                                            42\n",
       "Data Analyst                                                                                             42\n",
       "Data Scientist                                                                                           33\n",
       "Machine Learning Engineer                                                                                25\n",
       "Data Analyst  I                                                                                          19\n",
       "                                                                                                         ..\n",
       "Azure Cloud Data Engineer                                                                                 1\n",
       "Data Engineer/Lead - Dallas, NY/NJ, Chicago, IL, Atlanta, GA (Onsite for now but could be hybrid too)     1\n",
       "Junior Data Analyst - 22325                                                                               1\n",
       "Discovery Data Scientist, Summer Intern                                                                   1\n",
       "Senior Analytics Consultant / Data Scientist - ElasticSearch                                              1\n",
       "Name: count, Length: 284, dtype: int64"
      ]
     },
     "execution_count": 1056,
     "metadata": {},
     "output_type": "execute_result"
    }
   ],
   "source": [
    "linkedin['job_title'].value_counts()"
   ]
  },
  {
   "cell_type": "code",
   "execution_count": 1062,
   "metadata": {},
   "outputs": [
    {
     "name": "stdout",
     "output_type": "stream",
     "text": [
      "ai engineer\n",
      "ai engineer\n",
      "summer intern - r&d/artificial intelligence\n",
      "ai engineer\n",
      "senior paid social analyst (growth marketing team)\n",
      "responsible ai testing science consultant\n",
      "ai engineer\n",
      "artificial intelligence architecture(fully remote)\n",
      "ai engineer\n",
      "solutions architect, generative ai\n",
      "ai engineer\n"
     ]
    },
    {
     "data": {
      "text/plain": [
       "job_title\n",
       "Data Analyst                                  127\n",
       "Data Engineer                                 116\n",
       "Data Scientist                                113\n",
       "Machine Learning Engineer                      50\n",
       "None                                           20\n",
       "                                             ... \n",
       "Remote Resort Reservationist - Entry Level      1\n",
       "Remote Marketing Travel Specialist              1\n",
       "CYBER INTEL ANALYST - PEN TESTER                1\n",
       "Remote Coordinator - Entry Level                1\n",
       "solutions architect, generative ai              1\n",
       "Name: count, Length: 71, dtype: int64"
      ]
     },
     "execution_count": 1062,
     "metadata": {},
     "output_type": "execute_result"
    }
   ],
   "source": [
    "def standarize_job(row):\n",
    "    title = str(row).lower()\n",
    "    if 'data engineer' in title:\n",
    "        return 'Data Engineer'\n",
    "    elif 'data analyst' in title:\n",
    "        return 'Data Analyst'\n",
    "    elif 'data scientist' in title:\n",
    "        return 'Data Scientist'\n",
    "    elif 'data' in title and 'junior' not in title:\n",
    "        if 'engineer' in title:\n",
    "            return 'Data Engineer'\n",
    "        elif 'analyst' in title:\n",
    "            return 'Data Analyst'\n",
    "    elif 'machine' in title and 'learning' in title:\n",
    "        return 'Machine Learning Engineer'\n",
    "    elif 'junior' in title:\n",
    "        if 'data' in title and 'engineer' in title:\n",
    "            return 'Data Engineer'\n",
    "        elif 'data' in title and 'analyst' in title:\n",
    "            return 'Data Analyst'\n",
    "    elif 'business' in title:\n",
    "        if 'intelligence' in title and 'analyst' in title:\n",
    "            return 'BI Analyst'\n",
    "        elif 'analyst' in title:\n",
    "            return 'Business Analyst'\n",
    "        else:\n",
    "            return 'BI Engineer'\n",
    "    elif 'artificial intelligence' in title or 'ai' in title:\n",
    "        print(title)\n",
    "        if 'research engineer' in title:\n",
    "            return 'Research Engineer'\n",
    "        elif 'ml' in title:\n",
    "            return 'Machine Learning Engineer'\n",
    "        elif 'engineer' in title:\n",
    "            return 'AI Engineer'\n",
    "        else:\n",
    "            return title\n",
    "    else:\n",
    "        return str(row)\n",
    "\n",
    "linkedin['job_title'] = linkedin['job_title'].apply(standarize_job)\n",
    "linkedin['job_title'].value_counts()"
   ]
  },
  {
   "cell_type": "code",
   "execution_count": 1058,
   "metadata": {},
   "outputs": [],
   "source": [
    "linkedin.to_csv('../data/linkedin_standarized.csv', index=False)"
   ]
  }
 ],
 "metadata": {
  "kernelspec": {
   "display_name": "project",
   "language": "python",
   "name": "python3"
  },
  "language_info": {
   "codemirror_mode": {
    "name": "ipython",
    "version": 3
   },
   "file_extension": ".py",
   "mimetype": "text/x-python",
   "name": "python",
   "nbconvert_exporter": "python",
   "pygments_lexer": "ipython3",
   "version": "3.11.5"
  }
 },
 "nbformat": 4,
 "nbformat_minor": 2
}
