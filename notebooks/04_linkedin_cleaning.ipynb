{
 "cells": [
  {
   "cell_type": "markdown",
   "metadata": {},
   "source": [
    "#### Imports"
   ]
  },
  {
   "cell_type": "code",
   "execution_count": 106,
   "metadata": {},
   "outputs": [],
   "source": [
    "import pandas as pd\n",
    "import numpy as np"
   ]
  },
  {
   "cell_type": "markdown",
   "metadata": {},
   "source": [
    "#### Read linkedin csv"
   ]
  },
  {
   "cell_type": "code",
   "execution_count": 107,
   "metadata": {},
   "outputs": [
    {
     "data": {
      "text/html": [
       "<div>\n",
       "<style scoped>\n",
       "    .dataframe tbody tr th:only-of-type {\n",
       "        vertical-align: middle;\n",
       "    }\n",
       "\n",
       "    .dataframe tbody tr th {\n",
       "        vertical-align: top;\n",
       "    }\n",
       "\n",
       "    .dataframe thead th {\n",
       "        text-align: right;\n",
       "    }\n",
       "</style>\n",
       "<table border=\"1\" class=\"dataframe\">\n",
       "  <thead>\n",
       "    <tr style=\"text-align: right;\">\n",
       "      <th></th>\n",
       "      <th>job_id</th>\n",
       "      <th>job_title</th>\n",
       "      <th>company_name</th>\n",
       "      <th>company_state</th>\n",
       "      <th>salary_range</th>\n",
       "      <th>remote_ratio</th>\n",
       "      <th>employment_type</th>\n",
       "      <th>experience_level</th>\n",
       "      <th>company_size</th>\n",
       "    </tr>\n",
       "  </thead>\n",
       "  <tbody>\n",
       "    <tr>\n",
       "      <th>85</th>\n",
       "      <td>3761816473</td>\n",
       "      <td>Data Analyst</td>\n",
       "      <td>Sedgwick</td>\n",
       "      <td>· Nevada, Estados Unidos</td>\n",
       "      <td>NaN</td>\n",
       "      <td>En remoto</td>\n",
       "      <td>Jornada completa</td>\n",
       "      <td>Sin experiencia</td>\n",
       "      <td>Más de 10.001 empleados · Seguros</td>\n",
       "    </tr>\n",
       "    <tr>\n",
       "      <th>138</th>\n",
       "      <td>3766802812</td>\n",
       "      <td>Data Analyst III</td>\n",
       "      <td>WinMax</td>\n",
       "      <td>· Cupertino, CA</td>\n",
       "      <td>60 $/h - 63 $/h</td>\n",
       "      <td>Presencial</td>\n",
       "      <td>Contrato por obra</td>\n",
       "      <td>Algo de responsabilidad</td>\n",
       "      <td>De 51 a 200 empleados · Dotación y selección d...</td>\n",
       "    </tr>\n",
       "    <tr>\n",
       "      <th>3</th>\n",
       "      <td>3577492525</td>\n",
       "      <td>Principal Deep Learning Engineer - Computer Vi...</td>\n",
       "      <td>Roblox</td>\n",
       "      <td>· San Mateo, CA</td>\n",
       "      <td>283.780 $/año - 331.640 $/año</td>\n",
       "      <td>Híbrido</td>\n",
       "      <td>Jornada completa</td>\n",
       "      <td>Sin experiencia</td>\n",
       "      <td>De 1.001 a 5.000 empleados · Desarrollo de sof...</td>\n",
       "    </tr>\n",
       "  </tbody>\n",
       "</table>\n",
       "</div>"
      ],
      "text/plain": [
       "         job_id                                          job_title  \\\n",
       "85   3761816473                                       Data Analyst   \n",
       "138  3766802812                                   Data Analyst III   \n",
       "3    3577492525  Principal Deep Learning Engineer - Computer Vi...   \n",
       "\n",
       "    company_name             company_state                   salary_range  \\\n",
       "85      Sedgwick  · Nevada, Estados Unidos                            NaN   \n",
       "138       WinMax           · Cupertino, CA                60 $/h - 63 $/h   \n",
       "3         Roblox           · San Mateo, CA  283.780 $/año - 331.640 $/año   \n",
       "\n",
       "    remote_ratio    employment_type         experience_level  \\\n",
       "85     En remoto   Jornada completa          Sin experiencia   \n",
       "138   Presencial  Contrato por obra  Algo de responsabilidad   \n",
       "3        Híbrido   Jornada completa          Sin experiencia   \n",
       "\n",
       "                                          company_size  \n",
       "85                   Más de 10.001 empleados · Seguros  \n",
       "138  De 51 a 200 empleados · Dotación y selección d...  \n",
       "3    De 1.001 a 5.000 empleados · Desarrollo de sof...  "
      ]
     },
     "execution_count": 107,
     "metadata": {},
     "output_type": "execute_result"
    }
   ],
   "source": [
    "linkedin = pd.read_csv('../data/linkedin.csv')\n",
    "linkedin.sample(3)"
   ]
  },
  {
   "cell_type": "markdown",
   "metadata": {},
   "source": [
    "#### Cleaning 'company_state' column"
   ]
  },
  {
   "cell_type": "code",
   "execution_count": 108,
   "metadata": {},
   "outputs": [
    {
     "data": {
      "text/plain": [
       "company_state\n",
       "Estados Unidos                             33\n",
       "· Nueva York, NY                           11\n",
       "· Seattle, WA                               8\n",
       "· Washington, DC                            7\n",
       "· Cincinnati, OH                            6\n",
       "                                           ..\n",
       "· Newport News, VA                          1\n",
       "· Morris Plains, NJ                         1\n",
       "· Washington DC-Baltimore y alrededores     1\n",
       "· Chesterfield, VA                          1\n",
       "· Santa Ana, CA                             1\n",
       "Name: count, Length: 151, dtype: int64"
      ]
     },
     "execution_count": 108,
     "metadata": {},
     "output_type": "execute_result"
    }
   ],
   "source": [
    "states = ['AL', 'AK', 'AZ', 'AR', 'CA', 'NC', 'SC', 'CO', 'CT', 'ND', 'SD', 'DE', 'FL', 'GA', 'HI', 'ID', 'IL', 'IN', 'IA', 'KS', 'KY', 'LA',\n",
    "          'ME', 'MD', 'MA', 'MI', 'MN', 'MS', 'MO', 'MT', 'NE', 'NV', 'NJ', 'NY', 'NH', 'NM', 'OH', 'OK', 'OR', 'PA', 'RI', 'TN', 'TX', 'UT',\n",
    "          'UT', 'VT', 'VA', 'WV', 'WA', 'WI', 'WY']\n",
    "linkedin['company_state'] = linkedin['company_state'].apply(lambda row: 'Estados Unidos' if row == '· Estados Unidos' else row)\n",
    "linkedin['company_state'].value_counts()"
   ]
  },
  {
   "cell_type": "code",
   "execution_count": 109,
   "metadata": {},
   "outputs": [],
   "source": [
    "def fclean_company_state(df, states):\n",
    "    for i in states:\n",
    "        linkedin['company_state'] = linkedin['company_state'].apply(lambda row: i if i in str(row) else row)\n",
    "    return df\n",
    "\n",
    "linkedin = fclean_company_state(linkedin, states)"
   ]
  },
  {
   "cell_type": "code",
   "execution_count": 110,
   "metadata": {},
   "outputs": [],
   "source": [
    "def sclean_company_state(df, states):\n",
    "    for key, value in states.items():\n",
    "        linkedin['company_state'] = linkedin['company_state'].apply(lambda row: value if key in str(row) else row)\n",
    "    return df\n",
    "\n",
    "left_states = {\n",
    "    'Virginia': 'VA',\n",
    "    'Minnesota': 'MN',\n",
    "    'Washington': 'WA',\n",
    "    'San Francisco': 'CA',\n",
    "    'Nebraska': 'NE',\n",
    "    'California': 'CA',\n",
    "    'Texas': 'TX',\n",
    "    'Nueva York': 'NY',\n",
    "    'Michigan': 'MI',\n",
    "    'Luisiana': 'LA',\n",
    "    'Florida': 'FL',\n",
    "    'Maryland': 'MD',\n",
    "    'Nevada': 'NV',\n",
    "    'Oregón': 'OR',\n",
    "    'Oklahoma': 'OK',\n",
    "    'Georgia': 'GA',\n",
    "    'Carolina del Sur': 'SC',\n",
    "    'Delaware': 'DE',\n",
    "    'Ohio': 'OH',\n",
    "    'Arkansas': 'AR',\n",
    "    'Iowa': 'IA',\n",
    "    'Carolina del Norte': 'NC',\n",
    "    'Indiana': 'IN',\n",
    "    'Nashville': 'TN',\n",
    "    'Massachusetts': 'MA',\n",
    "    'Tennessee': 'TN',\n",
    "    'Enid': 'OK'\n",
    "}\n",
    "linkedin = sclean_company_state(linkedin, left_states)"
   ]
  },
  {
   "cell_type": "markdown",
   "metadata": {},
   "source": [
    "#### Cleaning 'company_state' column"
   ]
  },
  {
   "cell_type": "code",
   "execution_count": 111,
   "metadata": {},
   "outputs": [
    {
     "data": {
      "text/html": [
       "<div>\n",
       "<style scoped>\n",
       "    .dataframe tbody tr th:only-of-type {\n",
       "        vertical-align: middle;\n",
       "    }\n",
       "\n",
       "    .dataframe tbody tr th {\n",
       "        vertical-align: top;\n",
       "    }\n",
       "\n",
       "    .dataframe thead th {\n",
       "        text-align: right;\n",
       "    }\n",
       "</style>\n",
       "<table border=\"1\" class=\"dataframe\">\n",
       "  <thead>\n",
       "    <tr style=\"text-align: right;\">\n",
       "      <th></th>\n",
       "      <th>job_id</th>\n",
       "      <th>job_title</th>\n",
       "      <th>company_name</th>\n",
       "      <th>company_state</th>\n",
       "      <th>salary_range</th>\n",
       "      <th>remote_ratio</th>\n",
       "      <th>employment_type</th>\n",
       "      <th>experience_level</th>\n",
       "      <th>company_size</th>\n",
       "    </tr>\n",
       "  </thead>\n",
       "  <tbody>\n",
       "    <tr>\n",
       "      <th>210</th>\n",
       "      <td>3772904446</td>\n",
       "      <td>Data Research Analyst, gt.school (Remote) - $6...</td>\n",
       "      <td>Crossover</td>\n",
       "      <td>NC</td>\n",
       "      <td>30 $/hr</td>\n",
       "      <td>En remoto</td>\n",
       "      <td>Jornada completa</td>\n",
       "      <td>Algo de responsabilidad</td>\n",
       "      <td>De 5.001 a 10.000 empleados · Servicios y cons...</td>\n",
       "    </tr>\n",
       "    <tr>\n",
       "      <th>252</th>\n",
       "      <td>3773899227</td>\n",
       "      <td>Data Analyst  I</td>\n",
       "      <td>Centene Corporation</td>\n",
       "      <td>Estados Unidos</td>\n",
       "      <td>NaN</td>\n",
       "      <td>En remoto</td>\n",
       "      <td>Jornada completa</td>\n",
       "      <td>NaN</td>\n",
       "      <td>Más de 10.001 empleados · Hospitales y atenció...</td>\n",
       "    </tr>\n",
       "    <tr>\n",
       "      <th>194</th>\n",
       "      <td>3771908283</td>\n",
       "      <td>Head of Data (remote)</td>\n",
       "      <td>Verve Group</td>\n",
       "      <td>NY</td>\n",
       "      <td>275.000 $/año - 425.000 $/año</td>\n",
       "      <td>En remoto</td>\n",
       "      <td>Jornada completa</td>\n",
       "      <td>Director</td>\n",
       "      <td>De 201 a 500 empleados · Servicios de publicidad</td>\n",
       "    </tr>\n",
       "    <tr>\n",
       "      <th>9</th>\n",
       "      <td>3656659700</td>\n",
       "      <td>Deep Learning Research Engineer</td>\n",
       "      <td>Netradyne</td>\n",
       "      <td>CA</td>\n",
       "      <td>145.000 $/año - 180.000 $/año</td>\n",
       "      <td>Híbrido</td>\n",
       "      <td>Jornada completa</td>\n",
       "      <td>Sin experiencia</td>\n",
       "      <td>De 501 a 1.000 empleados · Servicios y consult...</td>\n",
       "    </tr>\n",
       "    <tr>\n",
       "      <th>267</th>\n",
       "      <td>3775178848</td>\n",
       "      <td>RESEARCH SCIENTIST 2</td>\n",
       "      <td>University of Washington</td>\n",
       "      <td>WA</td>\n",
       "      <td>4.649 $/mes - 9.465 $/mes</td>\n",
       "      <td>Presencial</td>\n",
       "      <td>Jornada completa</td>\n",
       "      <td>Intermedio</td>\n",
       "      <td>Más de 10.001 empleados · Enseñanza superior</td>\n",
       "    </tr>\n",
       "  </tbody>\n",
       "</table>\n",
       "</div>"
      ],
      "text/plain": [
       "         job_id                                          job_title  \\\n",
       "210  3772904446  Data Research Analyst, gt.school (Remote) - $6...   \n",
       "252  3773899227                                    Data Analyst  I   \n",
       "194  3771908283                              Head of Data (remote)   \n",
       "9    3656659700                    Deep Learning Research Engineer   \n",
       "267  3775178848                               RESEARCH SCIENTIST 2   \n",
       "\n",
       "                 company_name   company_state                   salary_range  \\\n",
       "210                 Crossover              NC                        30 $/hr   \n",
       "252       Centene Corporation  Estados Unidos                            NaN   \n",
       "194               Verve Group              NY  275.000 $/año - 425.000 $/año   \n",
       "9                   Netradyne              CA  145.000 $/año - 180.000 $/año   \n",
       "267  University of Washington              WA      4.649 $/mes - 9.465 $/mes   \n",
       "\n",
       "    remote_ratio   employment_type         experience_level  \\\n",
       "210    En remoto  Jornada completa  Algo de responsabilidad   \n",
       "252    En remoto  Jornada completa                      NaN   \n",
       "194    En remoto  Jornada completa                 Director   \n",
       "9        Híbrido  Jornada completa          Sin experiencia   \n",
       "267   Presencial  Jornada completa               Intermedio   \n",
       "\n",
       "                                          company_size  \n",
       "210  De 5.001 a 10.000 empleados · Servicios y cons...  \n",
       "252  Más de 10.001 empleados · Hospitales y atenció...  \n",
       "194   De 201 a 500 empleados · Servicios de publicidad  \n",
       "9    De 501 a 1.000 empleados · Servicios y consult...  \n",
       "267       Más de 10.001 empleados · Enseñanza superior  "
      ]
     },
     "execution_count": 111,
     "metadata": {},
     "output_type": "execute_result"
    }
   ],
   "source": [
    "linkedin.sample(5)"
   ]
  },
  {
   "cell_type": "code",
   "execution_count": 112,
   "metadata": {},
   "outputs": [
    {
     "data": {
      "text/plain": [
       "remote_ratio\n",
       "Presencial                                                                              107\n",
       "En remoto                                                                               106\n",
       "Híbrido                                                                                  38\n",
       "Jornada completa                                                                          6\n",
       "162.000 $/año - 247.500 $/año                                                             4\n",
       "116.002 $/año - 168.000 $/año                                                             3\n",
       "65.800 $/año - 165.600 $/año                                                              2\n",
       "145.000 $/año - 355.000 $/año                                                             1\n",
       "180.000 $/año - 275.000 $/año                                                             1\n",
       "Contrato por obra                                                                         1\n",
       "En remotoCoincide con tus preferencias de empleo. La modalidad laboral es En remoto.      1\n",
       "Name: count, dtype: int64"
      ]
     },
     "execution_count": 112,
     "metadata": {},
     "output_type": "execute_result"
    }
   ],
   "source": [
    "linkedin['remote_ratio'].value_counts()"
   ]
  },
  {
   "cell_type": "markdown",
   "metadata": {},
   "source": [
    "Aquí podemos ver que hay valores en la columna que pertenecen a la columna salary_range, por lo tanto tienen que moverse a la columna correspondiente."
   ]
  },
  {
   "cell_type": "code",
   "execution_count": 113,
   "metadata": {},
   "outputs": [
    {
     "data": {
      "text/plain": [
       "remote_ratio\n",
       "Presencial                                                                              107\n",
       "En remoto                                                                               106\n",
       "Híbrido                                                                                  38\n",
       "nan                                                                                      25\n",
       "Jornada completa                                                                          6\n",
       "Contrato por obra                                                                         1\n",
       "En remotoCoincide con tus preferencias de empleo. La modalidad laboral es En remoto.      1\n",
       "Name: count, dtype: int64"
      ]
     },
     "execution_count": 113,
     "metadata": {},
     "output_type": "execute_result"
    }
   ],
   "source": [
    "linkedin['salary_range'] = linkedin['remote_ratio'].apply(lambda row: str(row) if '$' in str(row) else np.nan)\n",
    "linkedin['remote_ratio'] = linkedin['remote_ratio'].apply(lambda row: np.nan if '$' in str(row) else str(row))\n",
    "linkedin['remote_ratio'].value_counts()"
   ]
  },
  {
   "cell_type": "markdown",
   "metadata": {},
   "source": [
    "También tenemos valores que pertencen a la columna employment_type, tienen que moverse a la columna correspondiente, pero primero comprobaremos que no sean nulos los valores que hay en la columna employment_type."
   ]
  },
  {
   "cell_type": "code",
   "execution_count": 114,
   "metadata": {},
   "outputs": [
    {
     "data": {
      "text/html": [
       "<div>\n",
       "<style scoped>\n",
       "    .dataframe tbody tr th:only-of-type {\n",
       "        vertical-align: middle;\n",
       "    }\n",
       "\n",
       "    .dataframe tbody tr th {\n",
       "        vertical-align: top;\n",
       "    }\n",
       "\n",
       "    .dataframe thead th {\n",
       "        text-align: right;\n",
       "    }\n",
       "</style>\n",
       "<table border=\"1\" class=\"dataframe\">\n",
       "  <thead>\n",
       "    <tr style=\"text-align: right;\">\n",
       "      <th></th>\n",
       "      <th>job_id</th>\n",
       "      <th>job_title</th>\n",
       "      <th>company_name</th>\n",
       "      <th>company_state</th>\n",
       "      <th>salary_range</th>\n",
       "      <th>remote_ratio</th>\n",
       "      <th>employment_type</th>\n",
       "      <th>experience_level</th>\n",
       "      <th>company_size</th>\n",
       "    </tr>\n",
       "  </thead>\n",
       "  <tbody>\n",
       "    <tr>\n",
       "      <th>25</th>\n",
       "      <td>3731939310</td>\n",
       "      <td>Data Scientist</td>\n",
       "      <td>Yext</td>\n",
       "      <td>NY</td>\n",
       "      <td>NaN</td>\n",
       "      <td>Jornada completa</td>\n",
       "      <td>Sin experiencia</td>\n",
       "      <td>NaN</td>\n",
       "      <td>De 1.001 a 5.000 empleados · Tecnología, infor...</td>\n",
       "    </tr>\n",
       "    <tr>\n",
       "      <th>39</th>\n",
       "      <td>3747569772</td>\n",
       "      <td>Data Engineer</td>\n",
       "      <td>Massachusetts Institute of Technology</td>\n",
       "      <td>MA</td>\n",
       "      <td>NaN</td>\n",
       "      <td>Jornada completa</td>\n",
       "      <td>Sin experiencia</td>\n",
       "      <td>NaN</td>\n",
       "      <td>De 5.001 a 10.000 empleados · Enseñanza superior</td>\n",
       "    </tr>\n",
       "    <tr>\n",
       "      <th>50</th>\n",
       "      <td>3752319824</td>\n",
       "      <td>Data Engineer</td>\n",
       "      <td>Metric5</td>\n",
       "      <td>MO</td>\n",
       "      <td>NaN</td>\n",
       "      <td>Jornada completa</td>\n",
       "      <td>Sin experiencia</td>\n",
       "      <td>NaN</td>\n",
       "      <td>De 51 a 200 empleados · Servicios y consultorí...</td>\n",
       "    </tr>\n",
       "    <tr>\n",
       "      <th>100</th>\n",
       "      <td>3762746288</td>\n",
       "      <td>Senior Data Engineer</td>\n",
       "      <td>Agile Global Solutions LLC</td>\n",
       "      <td>VA</td>\n",
       "      <td>NaN</td>\n",
       "      <td>Contrato por obra</td>\n",
       "      <td>Intermedio</td>\n",
       "      <td>NaN</td>\n",
       "      <td>Entre 1 y 10 empleados · Servicios y consultor...</td>\n",
       "    </tr>\n",
       "    <tr>\n",
       "      <th>142</th>\n",
       "      <td>3767189280</td>\n",
       "      <td>Data Engineer</td>\n",
       "      <td>GEI Consultants, Inc.</td>\n",
       "      <td>NY</td>\n",
       "      <td>NaN</td>\n",
       "      <td>Jornada completa</td>\n",
       "      <td>Sin experiencia</td>\n",
       "      <td>NaN</td>\n",
       "      <td>De 1.001 a 5.000 empleados · Ingeniería civil</td>\n",
       "    </tr>\n",
       "    <tr>\n",
       "      <th>164</th>\n",
       "      <td>3768901276</td>\n",
       "      <td>Data Engineer</td>\n",
       "      <td>Deseret First Credit Union</td>\n",
       "      <td>UT</td>\n",
       "      <td>NaN</td>\n",
       "      <td>Jornada completa</td>\n",
       "      <td>Sin experiencia</td>\n",
       "      <td>NaN</td>\n",
       "      <td>De 51 a 200 empleados · Banca</td>\n",
       "    </tr>\n",
       "    <tr>\n",
       "      <th>278</th>\n",
       "      <td>3775610628</td>\n",
       "      <td>Data Engineer</td>\n",
       "      <td>Accenture</td>\n",
       "      <td>FL</td>\n",
       "      <td>NaN</td>\n",
       "      <td>Jornada completa</td>\n",
       "      <td>Intermedio</td>\n",
       "      <td>NaN</td>\n",
       "      <td>Más de 10.001 empleados · Consultoría y servic...</td>\n",
       "    </tr>\n",
       "  </tbody>\n",
       "</table>\n",
       "</div>"
      ],
      "text/plain": [
       "         job_id             job_title                           company_name  \\\n",
       "25   3731939310        Data Scientist                                   Yext   \n",
       "39   3747569772         Data Engineer  Massachusetts Institute of Technology   \n",
       "50   3752319824         Data Engineer                                Metric5   \n",
       "100  3762746288  Senior Data Engineer             Agile Global Solutions LLC   \n",
       "142  3767189280         Data Engineer                  GEI Consultants, Inc.   \n",
       "164  3768901276         Data Engineer             Deseret First Credit Union   \n",
       "278  3775610628         Data Engineer                              Accenture   \n",
       "\n",
       "    company_state salary_range       remote_ratio  employment_type  \\\n",
       "25             NY          NaN   Jornada completa  Sin experiencia   \n",
       "39             MA          NaN   Jornada completa  Sin experiencia   \n",
       "50             MO          NaN   Jornada completa  Sin experiencia   \n",
       "100            VA          NaN  Contrato por obra       Intermedio   \n",
       "142            NY          NaN   Jornada completa  Sin experiencia   \n",
       "164            UT          NaN   Jornada completa  Sin experiencia   \n",
       "278            FL          NaN   Jornada completa       Intermedio   \n",
       "\n",
       "    experience_level                                       company_size  \n",
       "25               NaN  De 1.001 a 5.000 empleados · Tecnología, infor...  \n",
       "39               NaN   De 5.001 a 10.000 empleados · Enseñanza superior  \n",
       "50               NaN  De 51 a 200 empleados · Servicios y consultorí...  \n",
       "100              NaN  Entre 1 y 10 empleados · Servicios y consultor...  \n",
       "142              NaN      De 1.001 a 5.000 empleados · Ingeniería civil  \n",
       "164              NaN                      De 51 a 200 empleados · Banca  \n",
       "278              NaN  Más de 10.001 empleados · Consultoría y servic...  "
      ]
     },
     "execution_count": 114,
     "metadata": {},
     "output_type": "execute_result"
    }
   ],
   "source": [
    "linkedin[(linkedin['remote_ratio'] == 'Jornada completa') | (linkedin['remote_ratio'] == 'Contrato por obra')]"
   ]
  },
  {
   "cell_type": "markdown",
   "metadata": {},
   "source": [
    "Como hay valores que parece que corresponden a la experiencia vamos a mover estos valores a su columna correspondiente pero estandarizando primero los valores válidos de la columna remote_ratio."
   ]
  },
  {
   "cell_type": "code",
   "execution_count": 115,
   "metadata": {},
   "outputs": [
    {
     "data": {
      "text/plain": [
       "remote_ratio\n",
       "0                    107\n",
       "100                  107\n",
       "50                    38\n",
       "nan                   36\n",
       "Jornada completa       6\n",
       "Contrato por obra      1\n",
       "Name: count, dtype: int64"
      ]
     },
     "execution_count": 115,
     "metadata": {},
     "output_type": "execute_result"
    }
   ],
   "source": [
    "def clean_remote_ratio(df, dict_):\n",
    "    for key, val in dict_.items():\n",
    "        df['remote_ratio'] = df['remote_ratio'].apply(lambda row: val if key in str(row) else str(row))\n",
    "    return df\n",
    "\n",
    "remote_dict = {\n",
    "    'Presencial': 0,\n",
    "    'Híbrido': 50,\n",
    "    'En remoto': 100\n",
    "}\n",
    "linkedin = clean_remote_ratio(linkedin, remote_dict)\n",
    "linkedin['remote_ratio'].value_counts()"
   ]
  },
  {
   "cell_type": "code",
   "execution_count": 116,
   "metadata": {},
   "outputs": [],
   "source": [
    "def get_experience_level(row):\n",
    "    if row == 'Sin experiencia' or row == 'Intermedio':\n",
    "        return row\n",
    "    else:\n",
    "        return linkedin.loc[linkedin['employment_type'] == row, 'experience_level'].values[0]\n",
    "    \n",
    "def update_employment_type(row):\n",
    "    if row != 0 and row != 50 and row != 100:\n",
    "        return row\n",
    "    else:\n",
    "        return linkedin.loc[linkedin['remote_ratio'] == row, 'employment_type'].values[0]\n",
    "\n",
    "linkedin['experience_level'] = linkedin['employment_type'].apply(get_experience_level)\n",
    "linkedin['employment_type'] = linkedin['remote_ratio'].apply(update_employment_type)\n",
    "linkedin['remote_ratio'] = linkedin['remote_ratio'].apply(lambda row: np.nan if row == 'Jornada completa' or row == 'Contrato por obra' else row)"
   ]
  },
  {
   "cell_type": "markdown",
   "metadata": {},
   "source": [
    "The next line should not return any row, that is because the cleaning is working fine."
   ]
  },
  {
   "cell_type": "code",
   "execution_count": 117,
   "metadata": {},
   "outputs": [
    {
     "data": {
      "text/html": [
       "<div>\n",
       "<style scoped>\n",
       "    .dataframe tbody tr th:only-of-type {\n",
       "        vertical-align: middle;\n",
       "    }\n",
       "\n",
       "    .dataframe tbody tr th {\n",
       "        vertical-align: top;\n",
       "    }\n",
       "\n",
       "    .dataframe thead th {\n",
       "        text-align: right;\n",
       "    }\n",
       "</style>\n",
       "<table border=\"1\" class=\"dataframe\">\n",
       "  <thead>\n",
       "    <tr style=\"text-align: right;\">\n",
       "      <th></th>\n",
       "      <th>job_id</th>\n",
       "      <th>job_title</th>\n",
       "      <th>company_name</th>\n",
       "      <th>company_state</th>\n",
       "      <th>salary_range</th>\n",
       "      <th>remote_ratio</th>\n",
       "      <th>employment_type</th>\n",
       "      <th>experience_level</th>\n",
       "      <th>company_size</th>\n",
       "    </tr>\n",
       "  </thead>\n",
       "  <tbody>\n",
       "  </tbody>\n",
       "</table>\n",
       "</div>"
      ],
      "text/plain": [
       "Empty DataFrame\n",
       "Columns: [job_id, job_title, company_name, company_state, salary_range, remote_ratio, employment_type, experience_level, company_size]\n",
       "Index: []"
      ]
     },
     "execution_count": 117,
     "metadata": {},
     "output_type": "execute_result"
    }
   ],
   "source": [
    "linkedin[(linkedin['remote_ratio'] == 'Jornada completa') | (linkedin['remote_ratio'] == 'Contrato por obra')]"
   ]
  },
  {
   "cell_type": "code",
   "execution_count": 118,
   "metadata": {},
   "outputs": [
    {
     "data": {
      "text/plain": [
       "remote_ratio\n",
       "0      107\n",
       "100    107\n",
       "50      38\n",
       "nan     36\n",
       "Name: count, dtype: int64"
      ]
     },
     "execution_count": 118,
     "metadata": {},
     "output_type": "execute_result"
    }
   ],
   "source": [
    "linkedin['remote_ratio'].value_counts()"
   ]
  },
  {
   "cell_type": "markdown",
   "metadata": {},
   "source": [
    "#### Cleaning 'company_state' column"
   ]
  },
  {
   "cell_type": "code",
   "execution_count": 119,
   "metadata": {},
   "outputs": [
    {
     "data": {
      "text/plain": [
       "array(['Intermedio', 'Jornada completa', 'Sin experiencia', 'Prácticas',\n",
       "       'Algo de responsabilidad'], dtype=object)"
      ]
     },
     "execution_count": 119,
     "metadata": {},
     "output_type": "execute_result"
    }
   ],
   "source": [
    "linkedin.sample(5)\n",
    "linkedin['experience_level'].unique()"
   ]
  }
 ],
 "metadata": {
  "kernelspec": {
   "display_name": "project",
   "language": "python",
   "name": "python3"
  },
  "language_info": {
   "codemirror_mode": {
    "name": "ipython",
    "version": 3
   },
   "file_extension": ".py",
   "mimetype": "text/x-python",
   "name": "python",
   "nbconvert_exporter": "python",
   "pygments_lexer": "ipython3",
   "version": "3.11.5"
  }
 },
 "nbformat": 4,
 "nbformat_minor": 2
}
