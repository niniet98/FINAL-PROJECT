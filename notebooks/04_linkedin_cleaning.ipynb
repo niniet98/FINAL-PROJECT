{
 "cells": [
  {
   "cell_type": "markdown",
   "metadata": {},
   "source": [
    "#### Imports"
   ]
  },
  {
   "cell_type": "code",
   "execution_count": 1,
   "metadata": {},
   "outputs": [],
   "source": [
    "import pandas as pd\n",
    "import numpy as np\n",
    "import re"
   ]
  },
  {
   "cell_type": "markdown",
   "metadata": {},
   "source": [
    "#### Read linkedin csv"
   ]
  },
  {
   "cell_type": "code",
   "execution_count": 6,
   "metadata": {},
   "outputs": [
    {
     "data": {
      "text/plain": [
       "(293, 10)"
      ]
     },
     "execution_count": 6,
     "metadata": {},
     "output_type": "execute_result"
    }
   ],
   "source": [
    "linkedin = pd.read_csv('../data/linkedin_boolean.csv')\n",
    "linkedin.sample(3)\n",
    "linkedin.shape"
   ]
  },
  {
   "cell_type": "markdown",
   "metadata": {},
   "source": [
    "#### Cleaning 'company_state' column"
   ]
  },
  {
   "cell_type": "code",
   "execution_count": 5,
   "metadata": {},
   "outputs": [
    {
     "data": {
      "text/plain": [
       "company_state\n",
       "· United States ·        28\n",
       "· New York, NY ·         17\n",
       "· Santa Clara, CA ·      11\n",
       "· San Francisco, CA ·    11\n",
       "· Boston, MA ·           11\n",
       "                         ..\n",
       "· Monroe, WI ·            1\n",
       "· Marysville, OH ·        1\n",
       "· Orlando, FL ·           1\n",
       "· Newport Beach, CA ·     1\n",
       "· Louisville, KY ·        1\n",
       "Name: count, Length: 143, dtype: int64"
      ]
     },
     "execution_count": 5,
     "metadata": {},
     "output_type": "execute_result"
    }
   ],
   "source": [
    "states = ['AL', 'AK', 'AZ', 'AR', 'CA', 'NC', 'SC', 'CO', 'CT', 'ND', 'SD', 'DE', 'FL', 'GA', 'HI', 'ID', 'IL', 'IN', 'IA', 'KS', 'KY', 'LA',\n",
    "          'ME', 'MD', 'MA', 'MI', 'MN', 'MS', 'MO', 'MT', 'NE', 'NV', 'NJ', 'NY', 'NH', 'NM', 'OH', 'OK', 'OR', 'PA', 'RI', 'TN', 'TX', 'UT',\n",
    "          'UT', 'VT', 'VA', 'WV', 'WA', 'WI', 'WY']\n",
    "linkedin['company_state'].value_counts()"
   ]
  },
  {
   "cell_type": "code",
   "execution_count": 82,
   "metadata": {},
   "outputs": [],
   "source": [
    "def fclean_company_state(df, states):\n",
    "    for i in states:\n",
    "        linkedin['company_state'] = linkedin['company_state'].apply(lambda row: i if i in str(row) else row)\n",
    "    return df\n",
    "\n",
    "linkedin = fclean_company_state(linkedin, states)"
   ]
  },
  {
   "cell_type": "code",
   "execution_count": 83,
   "metadata": {},
   "outputs": [
    {
     "data": {
      "text/plain": [
       "array(['CA', 'NC', 'VA', 'NY', 'USA', 'WA', 'MI', 'NE', 'TX', 'IN', 'GA',\n",
       "       'AZ', 'UT', 'OR', 'IL', 'MN', 'MA', 'PA', 'MD', 'NJ', 'CT', 'OH',\n",
       "       'WI', 'FL', 'KS', 'SC', 'AR', 'TN', 'MO', 'CO', 'KY', 'LA', 'NV',\n",
       "       'OK', 'IA', 'SD', 'VT', 'ID', 'AL', 'HI', 'DE', 'RI', 'NM', 'NH'],\n",
       "      dtype=object)"
      ]
     },
     "execution_count": 83,
     "metadata": {},
     "output_type": "execute_result"
    }
   ],
   "source": [
    "def sclean_company_state(df, states):\n",
    "    for key, value in states.items():\n",
    "        linkedin['company_state'] = linkedin['company_state'].apply(lambda row: value if key in str(row) else row)\n",
    "    return df\n",
    "\n",
    "left_states = {\n",
    "    'Virginia': 'VA',\n",
    "    'Minnesota': 'MN',\n",
    "    'Washington': 'WA',\n",
    "    'San Francisco': 'CA',\n",
    "    'Nebraska': 'NE',\n",
    "    'California': 'CA',\n",
    "    'Texas': 'TX',\n",
    "    'Nueva York': 'NY',\n",
    "    'Michigan': 'MI',\n",
    "    'Luisiana': 'LA',\n",
    "    'Florida': 'FL',\n",
    "    'Maryland': 'MD',\n",
    "    'Nevada': 'NV',\n",
    "    'Oregón': 'OR',\n",
    "    'Oklahoma': 'OK',\n",
    "    'Georgia': 'GA',\n",
    "    'Carolina del Sur': 'SC',\n",
    "    'Delaware': 'DE',\n",
    "    'Ohio': 'OH',\n",
    "    'Arkansas': 'AR',\n",
    "    'Iowa': 'IA',\n",
    "    'Carolina del Norte': 'NC',\n",
    "    'Indiana': 'IN',\n",
    "    'Nashville': 'TN',\n",
    "    'Massachusetts': 'MA',\n",
    "    'Tennessee': 'TN',\n",
    "    'Enid': 'OK',\n",
    "    'Chicago': 'IL',\n",
    "    'América del Norte': 'USA',\n",
    "    'Estados Unidos': 'USA',\n",
    "    'Des Moines': 'IA',\n",
    "    'Pittsburgh': 'PA',\n",
    "    'Cincinnati': 'OH',\n",
    "    'St. Louis': 'MO',\n",
    "    'Illinois': 'IL',\n",
    "    'Jacksonville': 'FL',\n",
    "    'Cleveland': 'OH',\n",
    "    'Los Ángeles': 'CA',\n",
    "    'Urbana-Champaign': 'IL',\n",
    "    'Houston': 'TX',\n",
    "    'Richmond': 'VA'\n",
    "}\n",
    "linkedin = sclean_company_state(linkedin, left_states)\n",
    "linkedin = linkedin[~linkedin['company_state'].str.contains('Unión Europea', na=False)]\n",
    "linkedin['company_state'].unique()"
   ]
  },
  {
   "cell_type": "markdown",
   "metadata": {},
   "source": [
    "#### Cleaning 'remote_ratio' column"
   ]
  },
  {
   "cell_type": "code",
   "execution_count": 84,
   "metadata": {},
   "outputs": [
    {
     "data": {
      "text/plain": [
       "remote_ratio\n",
       "En remoto     352\n",
       "Híbrido       324\n",
       "Presencial    299\n",
       "Name: count, dtype: int64"
      ]
     },
     "execution_count": 84,
     "metadata": {},
     "output_type": "execute_result"
    }
   ],
   "source": [
    "def clean_remote_ratio(df, list_):\n",
    "    for i in list_:\n",
    "        df['remote_ratio'] = df['remote_ratio'].apply(lambda row: i if i in str(row) else str(row))\n",
    "    df['remote_ratio'] = df['remote_ratio'].apply(lambda row: np.nan if str(row) == 'nan' else str(row))\n",
    "    return df\n",
    "\n",
    "remote_dict = [\n",
    "    'Presencial',\n",
    "    'Híbrido',\n",
    "    'En remoto'\n",
    "]\n",
    "linkedin = clean_remote_ratio(linkedin, remote_dict)\n",
    "linkedin['remote_ratio'].value_counts()"
   ]
  },
  {
   "cell_type": "markdown",
   "metadata": {},
   "source": [
    "#### Cleaning 'experience_level' column"
   ]
  },
  {
   "cell_type": "code",
   "execution_count": 86,
   "metadata": {},
   "outputs": [
    {
     "data": {
      "text/plain": [
       "experience_level\n",
       "Intermedio                 461\n",
       "Sin experiencia            302\n",
       "Prácticas                  126\n",
       "Algo de responsabilidad     88\n",
       "Director                    17\n",
       "Ejecutivo                    2\n",
       "Name: count, dtype: int64"
      ]
     },
     "execution_count": 86,
     "metadata": {},
     "output_type": "execute_result"
    }
   ],
   "source": [
    "linkedin.sample(5)\n",
    "linkedin['experience_level'].value_counts()"
   ]
  },
  {
   "cell_type": "markdown",
   "metadata": {},
   "source": [
    "#### Cleaning 'employment_type' column"
   ]
  },
  {
   "cell_type": "code",
   "execution_count": 87,
   "metadata": {},
   "outputs": [
    {
     "data": {
      "text/plain": [
       "employment_type\n",
       "Jornada completa     715\n",
       "Contrato por obra    133\n",
       "Prácticas            100\n",
       "Media jornada         52\n",
       "Name: count, dtype: int64"
      ]
     },
     "execution_count": 87,
     "metadata": {},
     "output_type": "execute_result"
    }
   ],
   "source": [
    "def clean_employment_type(df, list_):\n",
    "    for i in list_:\n",
    "        df['employment_type'] = df['employment_type'].apply(lambda row: i if i in str(row) else str(row))\n",
    "    return df\n",
    "\n",
    "remote_dict = [\n",
    "    'Jornada completa',\n",
    "    'Contrato por obra',\n",
    "    'Media jornada',\n",
    "    'Prácticas',\n",
    "    'Temporal'\n",
    "]\n",
    "linkedin = clean_employment_type(linkedin, remote_dict)\n",
    "linkedin['employment_type'].value_counts()"
   ]
  },
  {
   "cell_type": "markdown",
   "metadata": {},
   "source": [
    "#### Cleaning 'company_size' column"
   ]
  },
  {
   "cell_type": "code",
   "execution_count": 88,
   "metadata": {},
   "outputs": [
    {
     "data": {
      "text/plain": [
       "company_size\n",
       "De 51 a 200 empleados · Servicios y consultoría de TI            43\n",
       "De 51 a 200 empleados · Dotación y selección de personal         41\n",
       "Más de 10.001 empleados · Proveedores de entretenimiento         38\n",
       "Más de 10.001 empleados · Hospitales y atención sanitaria        37\n",
       "De 11 a 50 empleados · Dotación y selección de personal          33\n",
       "                                                                 ..\n",
       "De 1.001 a 5.000 empleados · Servicios públicos                   1\n",
       "Más de 10.001 empleados · Aeronáutica y aviación                  1\n",
       "De 1.001 a 5.000 empleados · Servicios profesionales              1\n",
       "De 1.001 a 5.000 empleados · Servicios de diseño                  1\n",
       "Más de 10.001 empleados · Transporte de mercancías y paquetes     1\n",
       "Name: count, Length: 234, dtype: int64"
      ]
     },
     "execution_count": 88,
     "metadata": {},
     "output_type": "execute_result"
    }
   ],
   "source": [
    "linkedin['company_size'].value_counts()"
   ]
  },
  {
   "cell_type": "code",
   "execution_count": 89,
   "metadata": {},
   "outputs": [
    {
     "data": {
      "text/plain": [
       "company_size\n",
       "Más de 10.001 empleados                                307\n",
       "De 1.001 a 5.000 empleados                             168\n",
       "De 51 a 200 empleados                                  164\n",
       "De 11 a 50 empleados                                    96\n",
       "De 201 a 500 empleados                                  80\n",
       "De 501 a 1.000 empleados                                79\n",
       "De 5.001 a 10.000 empleados                             60\n",
       "Entre 1 y 10 empleados                                  44\n",
       "Nagesh Kumar Gona ✈ busca personal para este empleo      1\n",
       "Fabricación de productos de plástico                     1\n",
       "Name: count, dtype: int64"
      ]
     },
     "execution_count": 89,
     "metadata": {},
     "output_type": "execute_result"
    }
   ],
   "source": [
    "linkedin['company_size'] = linkedin['company_size'].apply(lambda row: row.split('·')[0].strip())\n",
    "linkedin['company_size'].value_counts()"
   ]
  },
  {
   "cell_type": "code",
   "execution_count": 90,
   "metadata": {},
   "outputs": [
    {
     "data": {
      "text/plain": [
       "employees\n",
       "10.001    307\n",
       "5.000     168\n",
       "200       164\n",
       "50         96\n",
       "500        80\n",
       "1.000      79\n",
       "10.000     60\n",
       "10         44\n",
       "Name: count, dtype: int64"
      ]
     },
     "execution_count": 90,
     "metadata": {},
     "output_type": "execute_result"
    }
   ],
   "source": [
    "def filter_employee(row):\n",
    "    pattern1 = r\"(Más de \\d+\\.?\\d* empleados)\"\n",
    "    pattern2 = r\"(De \\d+\\.?\\d* a \\d+\\.?\\d* empleados)\"\n",
    "    pattern3 = r\"(Entre \\d+\\.?\\d* y \\d+\\.?\\d* empleados)\"\n",
    "\n",
    "    match1 = re.search(pattern1, str(row))\n",
    "    match2 = re.search(pattern2, str(row))\n",
    "    match3 = re.search(pattern3, str(row))\n",
    "\n",
    "    if match1:\n",
    "        return match1.group(1)\n",
    "    elif match2:\n",
    "        return match2.group(1)\n",
    "    elif match3:\n",
    "        return match3.group(1)\n",
    "    else:\n",
    "        return np.nan\n",
    "\n",
    "def clean_employee(row):\n",
    "    pattern1 = r\"Más de (\\d+\\.?\\d*) empleados\"\n",
    "    pattern2 = r\"De (\\d+\\.?\\d*) a (\\d+\\.?\\d*) empleados\"\n",
    "    pattern3 = r\"Entre (\\d+\\.?\\d*) y (\\d+\\.?\\d*) empleados\"\n",
    "\n",
    "    match1 = re.match(pattern1, str(row))\n",
    "    match2 = re.match(pattern2, str(row))\n",
    "    match3 = re.match(pattern3, str(row))\n",
    "\n",
    "    if match1:\n",
    "        return match1.group(1)\n",
    "    elif match2:\n",
    "        return match2.group(2)\n",
    "    elif match3:\n",
    "        return match3.group(2)\n",
    "    else:\n",
    "        return np.nan\n",
    "\n",
    "linkedin['company_size'] = linkedin['company_size'].apply(filter_employee)\n",
    "linkedin['employees'] = linkedin['company_size'].apply(clean_employee)\n",
    "linkedin['employees'].value_counts()"
   ]
  },
  {
   "cell_type": "code",
   "execution_count": 91,
   "metadata": {},
   "outputs": [
    {
     "data": {
      "text/plain": [
       "company_size\n",
       "L    694\n",
       "M    260\n",
       "S     44\n",
       "Name: count, dtype: int64"
      ]
     },
     "execution_count": 91,
     "metadata": {},
     "output_type": "execute_result"
    }
   ],
   "source": [
    "def standarize_company_size(row):\n",
    "    if pd.notnull(row):\n",
    "        if int(row.replace('.', '')) < 50:\n",
    "            return 'S'\n",
    "        elif int(row.replace('.', '')) <= 250:\n",
    "            return 'M'\n",
    "        elif int(row.replace('.', '')) > 250:\n",
    "            return 'L'\n",
    "        else:\n",
    "            return np.nan\n",
    "\n",
    "linkedin ['comp_size'] = linkedin['employees']\n",
    "linkedin['employees'] = linkedin['company_size']\n",
    "linkedin['company_size'] = linkedin['comp_size']\n",
    "linkedin['company_size'] = linkedin['company_size'].apply(standarize_company_size)\n",
    "linkedin = linkedin.drop(columns=['comp_size'])\n",
    "linkedin['company_size'].value_counts()"
   ]
  },
  {
   "cell_type": "markdown",
   "metadata": {},
   "source": [
    "#### Cleaning 'salary_range' column"
   ]
  },
  {
   "cell_type": "code",
   "execution_count": 92,
   "metadata": {},
   "outputs": [
    {
     "data": {
      "text/plain": [
       "array(['204.000 $/año - 294.000 $/año', '100.000 $/año - 150.000 $/año',\n",
       "       '283.780 $/año - 331.640 $/año', '160.000 $/año - 200.000 $/año',\n",
       "       nan, '65.000 $/año - 185.000 $/año',\n",
       "       '100.000 $/año - 500.000 $/año', '145.000 $/año - 180.000 $/año',\n",
       "       '95.000 $/año - 130.000 $/año', '86.815 $/año - 138.904 $/año',\n",
       "       '57.000 $/año - 85.000 $/año', '84.899 $/año - 172.663 $/año',\n",
       "       '167.200 $/año - 250.800 $/año', '17,87 $/h - 23,96 $/h',\n",
       "       '200.000 $/año - 240.000 $/año', '136.038 $/año - 182.490 $/año',\n",
       "       '70.000 $/yr', '200.000 $/año - 300.000 $/año',\n",
       "       '120.000 $/año - 220.000 $/año', '60.000 $/año - 90.000 $/año',\n",
       "       '95.301 $/año - 138.186 $/año', '125.000 $/año - 185.000 $/año',\n",
       "       '144.000 $/año - 270.250 $/año', '150.000 $/año - 200.000 $/año',\n",
       "       '5.250 $/month', '83.890 $/año - 142.610 $/año',\n",
       "       '120.000 $/año - 180.000 $/año', '170.112 $/año - 237.000 $/año',\n",
       "       '170.000 $/año - 190.000 $/año', '20 $/hr',\n",
       "       '145.000 $/año - 195.000 $/año', '25 $/h - 30 $/h',\n",
       "       '67.733 $/año - 91.440 $/año', '125.000 $/año - 195.000 $/año',\n",
       "       '125.000 $/año - 157.000 $/año', '167.000 $/año - 186.000 $/año',\n",
       "       '95.000 $/año - 120.000 $/año', '78 $/h - 104 $/h',\n",
       "       '122.000 $/año - 190.000 $/año', '101.000 $/año - 179.000 $/año',\n",
       "       '92.500 $/año - 119.500 $/año', '48 $/h - 65 $/h',\n",
       "       '125.000 $/año - 135.000 $/año', '125.000 $/año - 160.000 $/año',\n",
       "       '35 $/h - 55 $/h', '80.500 $/año - 137.000 $/año',\n",
       "       '92.500 $/año - 158.000 $/año', '71.500 $/año - 115.000 $/año',\n",
       "       '75 $/h - 85 $/h', '45 $/h - 55 $/h',\n",
       "       '150.000 $/año - 250.000 $/año', '40 $/h - 43 $/h',\n",
       "       '115.000 $/año - 130.000 $/año', '150.000 $/año - 300.000 $/año',\n",
       "       '90 $/hr', '260.000 $/año - 300.000 $/año',\n",
       "       '90.000 $/año - 130.000 $/año', '60 $/h - 68 $/h',\n",
       "       '70.000 $/año - 85.000 $/año', '140.000 $/año - 160.000 $/año',\n",
       "       '150.000 $/año - 190.000 $/año', '26 $/h - 31 $/h',\n",
       "       '139.100 $/año - 235.400 $/año', '60.000 $/año - 100.000 $/año',\n",
       "       '140.000 $/año - 170.000 $/año', '90 $/h - 100 $/h',\n",
       "       '90.000 $/año - 110.000 $/año', '106.953,60 $/año - 130.000 $/año',\n",
       "       '140.000 $/año - 180.000 $/año', '400.000 $/año - 700.000 $/año',\n",
       "       '140.000 $/año - 165.000 $/año', '73.500 $/año - 170.000 $/año',\n",
       "       '103.500 $/año - 200.000 $/año', '87.600 $/año - 118.400 $/año',\n",
       "       '50 $/h - 57 $/h', '69.516 $/año - 87.072 $/año',\n",
       "       '60 $/h - 70 $/h', '60.000 $/año - 65.000 $/año',\n",
       "       '85.000 $/año - 125.000 $/año', '32 $/h - 37 $/h',\n",
       "       '26 $/h - 29 $/h', '75.000 $/año - 120.000 $/año',\n",
       "       '46 $/h - 52 $/h', '100.000 $/año - 174.000 $/año',\n",
       "       '150 $/año - 400 $/año', '75 $/h - 80 $/h', '70 $/año - 75 $/año',\n",
       "       '60.000 $/año - 95.000 $/año', '55 $/h - 60 $/h',\n",
       "       '130.000 $/año - 190.000 $/año', '40 $/h - 50 $/h', '140.000 $/yr',\n",
       "       '200.000 $/año - 600.000 $/año', '190.000 $/año - 210.000 $/año',\n",
       "       '78.500 $/año - 112.100 $/año', '26 $/hr',\n",
       "       '111.100 $/año - 166.700 $/año', '171.000 $/año - 258.000 $/año',\n",
       "       '90.000 $/año - 120.000 $/año', '20,75 $/h - 37 $/h',\n",
       "       '60 $/h - 63 $/h', '78.000 $/año - 120.000 $/año',\n",
       "       '250.000 $/año - 350.000 $/año', '100.000 $/año - 115.000 $/año',\n",
       "       '140.000 $/año - 150.000 $/año', '50 $/h - 60 $/h',\n",
       "       '130.000 $/año - 220.000 $/año', '168.000 $/año - 225.000 $/año',\n",
       "       '92 $/h - 97 $/h', '50 $/h - 55 $/h',\n",
       "       '65.000 $/año - 85.000 $/año', '15 $/h - 20 $/h',\n",
       "       '70.000 $/año - 80.000 $/año', '10.120 $/año - 12.170 $/año',\n",
       "       '40 $/h - 51 $/h', '80.000 $/año - 140.000 $/año',\n",
       "       '102.690 $/año - 142.500 $/año', '145.000 $/año - 154.000 $/año',\n",
       "       '140.250 $/año - 165.000 $/año', '120.000 $/año - 150.000 $/año',\n",
       "       '60 $/h - 75 $/h', '65 $/h - 70 $/h', '28,26 $/h - 49,52 $/h',\n",
       "       '20 $/h - 35 $/h', '81.000 $/año - 196.000 $/año',\n",
       "       '94.000 $/año - 196.000 $/año', '150.000 $/yr', '20 $/h - 23 $/h',\n",
       "       '53 $/h - 58 $/h', '5 $/h - 58 $/h', '60 $/h - 65 $/h',\n",
       "       '20 $/h - 28 $/h', '18 $/hr', '70 $/h - 80 $/h', '29 $/h - 34 $/h',\n",
       "       '70 $/h - 75 $/h', '100.000 $/año - 170.000 $/año',\n",
       "       '110.000 $/año - 125.000 $/año', '200.000 $/año - 250.000 $/año',\n",
       "       '180.000 $/año - 195.000 $/año', '33.200 $/año - 53.000 $/año',\n",
       "       '70.000 $/año - 130.000 $/año', '120.000 $/año - 165.000 $/año',\n",
       "       '65.000 $/año - 72.000 $/año',\n",
       "       '113.006,40 $/año - 141.793,59 $/año', '90.000 $/yr',\n",
       "       '130.000 $/año - 180.000 $/año', '275.000 $/año - 425.000 $/año',\n",
       "       '76 $/h - 82 $/h', '55 $/h - 58 $/h',\n",
       "       '170.000 $/año - 199.000 $/año', '170.000 $/año - 200.000 $/año',\n",
       "       '50.000 $/año - 85.000 $/año', '30 $/hr', '28 $/h - 30 $/h',\n",
       "       '80.000 $/año - 95.000 $/año', '500.000 $/yr',\n",
       "       '135.200 $/año - 145.600 $/año', '80 $/h - 85 $/h',\n",
       "       '84.546 $/año - 109.908 $/año', '131.900 $/año - 151.700 $/año',\n",
       "       '17 $/hr', '50 $/h - 54 $/h', '55 $/h - 70 $/h',\n",
       "       '95.000 $/año - 115.000 $/año', '141.570 $/año - 173.030 $/año',\n",
       "       '100.000 $/año - 125.000 $/año', '94.199 $/año - 122.459 $/año',\n",
       "       '36 $/h - 39,58 $/h', '75.000 $/año - 90.000 $/año',\n",
       "       '50.000 $/año - 60.000 $/año', '4.649 $/mes - 9.465 $/mes',\n",
       "       '6.482 $/mes - 8.102 $/mes', '3.240 $/mes - 3.907 $/mes',\n",
       "       '125.000 $/año - 175.000 $/año', '150.000 $/año - 180.000 $/año',\n",
       "       '70 $/hr', '20 $/h - 24 $/h', '70 $/h - 100 $/h',\n",
       "       '130.000 $/año - 205.000 $/año', '15 $/h - 35 $/h',\n",
       "       '198.200 $/año - 297.300 $/año', '244.000 $/yr',\n",
       "       '181.000 $/año - 262.000 $/año', '45.000 $/yr',\n",
       "       '124.800 $/año - 220.800 $/año', '85.000 $/año - 90.000 $/año',\n",
       "       '64.000 $/año - 76.000 $/año', '80 $/hr',\n",
       "       '105.930 $/año - 158.890 $/año', '135.000 $/año - 150.000 $/año',\n",
       "       '100.000 $/año - 140.000 $/año', '71.428 $/año - 102.981 $/año',\n",
       "       '139.700 $/año - 247.300 $/año', '128.800 $/año - 193.200 $/año',\n",
       "       '60.000 $/año - 70.000 $/año', '205.700 $/año - 278.300 $/año',\n",
       "       '120.000 $/año - 160.000 $/año', '120.000 $/año - 162.000 $/año',\n",
       "       '72.050 $/año - 144.410 $/año', '67.000 $/año - 78.000 $/año',\n",
       "       '67.000 $/año - 79.000 $/año', '125.000 $/año - 200.000 $/año',\n",
       "       '112.000 $/año - 122.000 $/año', '64.000 $/año - 78.000 $/año',\n",
       "       '94.500 $/año - 166.000 $/año'], dtype=object)"
      ]
     },
     "execution_count": 92,
     "metadata": {},
     "output_type": "execute_result"
    }
   ],
   "source": [
    "linkedin['salary_range'].unique()"
   ]
  },
  {
   "cell_type": "code",
   "execution_count": 93,
   "metadata": {},
   "outputs": [],
   "source": [
    "hour_pattern = r\"(\\d+) \\$\\/hr\"\n",
    "year_pattern = r\"(\\d+\\.?\\d*) \\$\\/yr\"\n",
    "hour_range_pattern = r\"(\\d+\\,?\\d*) \\$\\/h - (\\d+\\,?\\d*) \\$\\/h\"\n",
    "year_range_pattern = r\"(\\d+\\.?\\d*) \\$\\/año - (\\d+\\.?\\d*) \\$\\/año\"\n",
    "month_range_pattern = r\"(\\d+\\.?\\d*) \\$\\/mes - (\\d+\\.?\\d*) \\$\\/mes\""
   ]
  },
  {
   "cell_type": "code",
   "execution_count": 94,
   "metadata": {},
   "outputs": [],
   "source": [
    "def clean_salary(row, type=None):\n",
    "    match_h = re.match(hour_pattern, str(row))\n",
    "    match_y = re.match(year_pattern, str(row))\n",
    "    match_rh = re.match(hour_range_pattern, str(row))\n",
    "    match_ry = re.match(year_range_pattern, str(row))\n",
    "    match_rm = re.match(month_range_pattern, str(row))\n",
    "    if match_h:\n",
    "        num_h = match_h.group(1)\n",
    "        num_w = int(num_h) * 40\n",
    "        return int(num_w * 48)\n",
    "    elif match_y:\n",
    "        sal = int(match_y.group(1).replace('.', ''))\n",
    "        return sal\n",
    "    elif match_rh:\n",
    "        min_ = match_rh.group(1)\n",
    "        max_ = match_rh.group(2)\n",
    "        num_h = (float(min_.replace(',', '.')) + float(max_.replace(',', '.'))) / 2\n",
    "        num_w = num_h * 40\n",
    "        return int(num_w * 48)\n",
    "    elif match_ry:\n",
    "        min_ = match_ry.group(1)\n",
    "        max_ = match_ry.group(2)\n",
    "        if '.' not in max_:\n",
    "            max_ += '000'\n",
    "        if '.' not in min_:\n",
    "            min_ += '000'\n",
    "        num_y = (float(min_.replace('.', '')) + float(max_.replace('.', ''))) / 2\n",
    "        return int(num_y)\n",
    "    elif match_rm:\n",
    "        min_ = match_rm.group(1)\n",
    "        max_ = match_rm.group(2)\n",
    "        num_m = (float(min_.replace('.', '')) + float(max_.replace('.', ''))) / 2\n",
    "        return int(num_m * 12)\n",
    "    else:\n",
    "        return np.nan\n",
    "\n",
    "linkedin['salary'] = linkedin['salary_range'].apply(clean_salary)"
   ]
  },
  {
   "cell_type": "code",
   "execution_count": 95,
   "metadata": {},
   "outputs": [
    {
     "data": {
      "text/plain": [
       "array([249000., 125000., 307710., 180000.,     nan, 300000., 162500.,\n",
       "       112500., 112859.,  71000., 128781., 209000.,  40156., 220000.,\n",
       "       159264.,  70000., 250000., 170000.,  75000., 116743., 155000.,\n",
       "       207125., 175000., 113250., 150000., 203556.,  38400.,  52800.,\n",
       "        79586., 160000., 141000., 176500., 107500., 174720., 156000.,\n",
       "       140000., 106000., 108480., 130000., 142500.,  86400., 108750.,\n",
       "       125250.,  93250., 153600.,  96000., 200000.,  79680., 122500.,\n",
       "       225000., 172800., 280000., 110000., 122880.,  77500.,  54720.,\n",
       "       187250.,  80000., 182400., 100000., 550000., 152500., 121750.,\n",
       "       151750., 103000., 102720.,  78294., 124800.,  62500., 105000.,\n",
       "        66240.,  97500.,  94080., 137000., 275000., 148800.,  72500.,\n",
       "       110400., 400000.,  95300.,  49920., 138900., 214500.,  55440.,\n",
       "       118080.,  99000., 145000., 105600., 196500., 181440., 100800.,\n",
       "        33600.,  11145.,  87360., 122595., 149500., 152625., 135000.,\n",
       "       129600.,  74668., 138500.,  41280., 106560.,  60480., 120000.,\n",
       "        46080.,  34560., 144000., 139200., 117500., 187500.,  43100.,\n",
       "        68500.,  90000., 350000., 151680., 184500., 185000.,  67500.,\n",
       "        57600.,  55680.,  87500., 500000., 140400., 158400.,  97227.,\n",
       "       141800.,  32640.,  99840., 157300., 108329.,  72556.,  82500.,\n",
       "        55000.,  84684.,  87504.,  42882., 165000., 134400.,  42240.,\n",
       "       163200., 167500.,  48000., 247750., 244000., 221500.,  45000.,\n",
       "       132410.,  87204., 193500., 161000.,  65000., 242000., 108230.,\n",
       "        73000., 117000., 130250.])"
      ]
     },
     "execution_count": 95,
     "metadata": {},
     "output_type": "execute_result"
    }
   ],
   "source": [
    "linkedin['salary'].unique()"
   ]
  },
  {
   "cell_type": "code",
   "execution_count": 96,
   "metadata": {},
   "outputs": [
    {
     "data": {
      "text/html": [
       "<div>\n",
       "<style scoped>\n",
       "    .dataframe tbody tr th:only-of-type {\n",
       "        vertical-align: middle;\n",
       "    }\n",
       "\n",
       "    .dataframe tbody tr th {\n",
       "        vertical-align: top;\n",
       "    }\n",
       "\n",
       "    .dataframe thead th {\n",
       "        text-align: right;\n",
       "    }\n",
       "</style>\n",
       "<table border=\"1\" class=\"dataframe\">\n",
       "  <thead>\n",
       "    <tr style=\"text-align: right;\">\n",
       "      <th></th>\n",
       "      <th>job_id</th>\n",
       "      <th>job_title</th>\n",
       "      <th>company_name</th>\n",
       "      <th>company_state</th>\n",
       "      <th>salary_range</th>\n",
       "      <th>remote_ratio</th>\n",
       "      <th>employment_type</th>\n",
       "      <th>experience_level</th>\n",
       "      <th>company_size</th>\n",
       "      <th>image_link</th>\n",
       "      <th>employees</th>\n",
       "      <th>salary</th>\n",
       "    </tr>\n",
       "  </thead>\n",
       "  <tbody>\n",
       "    <tr>\n",
       "      <th>764</th>\n",
       "      <td>3774071889</td>\n",
       "      <td>Senior Data Engineer</td>\n",
       "      <td>Material Bank®</td>\n",
       "      <td>USA</td>\n",
       "      <td>50 $/h - 54 $/h</td>\n",
       "      <td>Híbrido</td>\n",
       "      <td>Contrato por obra</td>\n",
       "      <td>Algo de responsabilidad</td>\n",
       "      <td>L</td>\n",
       "      <td>https://media.licdn.com/dms/image/D4E0BAQF_HBC...</td>\n",
       "      <td>De 201 a 500 empleados</td>\n",
       "      <td>99840.0</td>\n",
       "    </tr>\n",
       "    <tr>\n",
       "      <th>710</th>\n",
       "      <td>3772905311</td>\n",
       "      <td>Data Research Analyst, gt.school (Remote) - $6...</td>\n",
       "      <td>Crossover</td>\n",
       "      <td>TX</td>\n",
       "      <td>30 $/hr</td>\n",
       "      <td>En remoto</td>\n",
       "      <td>Jornada completa</td>\n",
       "      <td>Algo de responsabilidad</td>\n",
       "      <td>L</td>\n",
       "      <td>https://media.licdn.com/dms/image/C4E0BAQG8bdX...</td>\n",
       "      <td>De 5.001 a 10.000 empleados</td>\n",
       "      <td>57600.0</td>\n",
       "    </tr>\n",
       "    <tr>\n",
       "      <th>925</th>\n",
       "      <td>3776822881</td>\n",
       "      <td>Audit Data Architecture Engineer | Multiple Lo...</td>\n",
       "      <td>KPMG US</td>\n",
       "      <td>TX</td>\n",
       "      <td>140.000 $/año - 180.000 $/año</td>\n",
       "      <td>En remoto</td>\n",
       "      <td>Jornada completa</td>\n",
       "      <td>Intermedio</td>\n",
       "      <td>L</td>\n",
       "      <td>https://media.licdn.com/dms/image/D4E0BAQHbnWd...</td>\n",
       "      <td>Más de 10.001 empleados</td>\n",
       "      <td>160000.0</td>\n",
       "    </tr>\n",
       "    <tr>\n",
       "      <th>944</th>\n",
       "      <td>3776998906</td>\n",
       "      <td>Artificial Intelligence Engineer</td>\n",
       "      <td>Cygnus Professionals Inc.</td>\n",
       "      <td>USA</td>\n",
       "      <td>NaN</td>\n",
       "      <td>En remoto</td>\n",
       "      <td>Prácticas</td>\n",
       "      <td>Prácticas</td>\n",
       "      <td>L</td>\n",
       "      <td>https://media.licdn.com/dms/image/C4E0BAQHa-ZT...</td>\n",
       "      <td>De 501 a 1.000 empleados</td>\n",
       "      <td>NaN</td>\n",
       "    </tr>\n",
       "    <tr>\n",
       "      <th>90</th>\n",
       "      <td>3724403797</td>\n",
       "      <td>Data Analyst</td>\n",
       "      <td>American Honda Motor Company, Inc.</td>\n",
       "      <td>OH</td>\n",
       "      <td>60.000 $/año - 90.000 $/año</td>\n",
       "      <td>En remoto</td>\n",
       "      <td>Contrato por obra</td>\n",
       "      <td>Sin experiencia</td>\n",
       "      <td>L</td>\n",
       "      <td>https://media.licdn.com/dms/image/C4E0BAQHNId7...</td>\n",
       "      <td>Más de 10.001 empleados</td>\n",
       "      <td>75000.0</td>\n",
       "    </tr>\n",
       "  </tbody>\n",
       "</table>\n",
       "</div>"
      ],
      "text/plain": [
       "         job_id                                          job_title  \\\n",
       "764  3774071889                               Senior Data Engineer   \n",
       "710  3772905311  Data Research Analyst, gt.school (Remote) - $6...   \n",
       "925  3776822881  Audit Data Architecture Engineer | Multiple Lo...   \n",
       "944  3776998906                   Artificial Intelligence Engineer   \n",
       "90   3724403797                                       Data Analyst   \n",
       "\n",
       "                           company_name company_state  \\\n",
       "764                      Material Bank®           USA   \n",
       "710                           Crossover            TX   \n",
       "925                             KPMG US            TX   \n",
       "944           Cygnus Professionals Inc.           USA   \n",
       "90   American Honda Motor Company, Inc.            OH   \n",
       "\n",
       "                      salary_range remote_ratio    employment_type  \\\n",
       "764                50 $/h - 54 $/h      Híbrido  Contrato por obra   \n",
       "710                        30 $/hr    En remoto   Jornada completa   \n",
       "925  140.000 $/año - 180.000 $/año    En remoto   Jornada completa   \n",
       "944                            NaN    En remoto          Prácticas   \n",
       "90     60.000 $/año - 90.000 $/año    En remoto  Contrato por obra   \n",
       "\n",
       "            experience_level company_size  \\\n",
       "764  Algo de responsabilidad            L   \n",
       "710  Algo de responsabilidad            L   \n",
       "925               Intermedio            L   \n",
       "944                Prácticas            L   \n",
       "90           Sin experiencia            L   \n",
       "\n",
       "                                            image_link  \\\n",
       "764  https://media.licdn.com/dms/image/D4E0BAQF_HBC...   \n",
       "710  https://media.licdn.com/dms/image/C4E0BAQG8bdX...   \n",
       "925  https://media.licdn.com/dms/image/D4E0BAQHbnWd...   \n",
       "944  https://media.licdn.com/dms/image/C4E0BAQHa-ZT...   \n",
       "90   https://media.licdn.com/dms/image/C4E0BAQHNId7...   \n",
       "\n",
       "                       employees    salary  \n",
       "764       De 201 a 500 empleados   99840.0  \n",
       "710  De 5.001 a 10.000 empleados   57600.0  \n",
       "925      Más de 10.001 empleados  160000.0  \n",
       "944     De 501 a 1.000 empleados       NaN  \n",
       "90       Más de 10.001 empleados   75000.0  "
      ]
     },
     "execution_count": 96,
     "metadata": {},
     "output_type": "execute_result"
    }
   ],
   "source": [
    "linkedin.sample(5)"
   ]
  },
  {
   "cell_type": "markdown",
   "metadata": {},
   "source": [
    "#### Cleaning 'job_title' column"
   ]
  },
  {
   "cell_type": "code",
   "execution_count": 97,
   "metadata": {},
   "outputs": [
    {
     "data": {
      "text/plain": [
       "job_title\n",
       "Machine Learning Engineer                                              90\n",
       "Data Analyst                                                           65\n",
       "Data Engineer                                                          65\n",
       "Senior Data Scientist                                                  52\n",
       "Data Scientist                                                         46\n",
       "                                                                       ..\n",
       "Data Scientist - LLM                                                    1\n",
       "Actuarial Data Scientist                                                1\n",
       "AI/ML Data Scientist                                                    1\n",
       "Associate Data Scientist - Cybersecurity, Intern                        1\n",
       "Senior Data Scientist, Clinical Analytics (On-Site, Illinois Based)     1\n",
       "Name: count, Length: 525, dtype: int64"
      ]
     },
     "execution_count": 97,
     "metadata": {},
     "output_type": "execute_result"
    }
   ],
   "source": [
    "linkedin['job_title'].value_counts()"
   ]
  },
  {
   "cell_type": "code",
   "execution_count": 98,
   "metadata": {},
   "outputs": [
    {
     "data": {
      "text/plain": [
       "array(['Data Scientist', 'Machine Learning Engineer',\n",
       "       'CYBER INTEL ANALYST - PEN TESTER', 'Deep Learning Engineer',\n",
       "       'Senior Algorithms Engineer (Image Processing)', 'Data Engineer',\n",
       "       'Data Analyst', 'Deep Learning Researcher',\n",
       "       'Computer Vision Engineer (Multimodal with Large Language Models)',\n",
       "       None, 'BI Analyst', 'Artificial Learning Engineer',\n",
       "       'Research Engineer', 'Computer Vision Engineer',\n",
       "       'RF Computational Engineer 3', 'Project Scheduler',\n",
       "       'Adaptive Optics Senior Software Engineer',\n",
       "       'Finance Analyst (Benelux)', 'Deep Learning Research Intern',\n",
       "       'Analytics Engineer', 'Applied Scientist',\n",
       "       'Quantitative Researcher', 'Analyst, Analytics',\n",
       "       'Computer Vision and Optimization Engineer', 'AI Engineer',\n",
       "       'Software Company DevOps Engineer', 'BI Engineer',\n",
       "       'summer intern - r&d/artificial intelligence',\n",
       "       'Remote Cruise Planner - Entry Level',\n",
       "       'Remote Travel Consultant - Entry Level',\n",
       "       'Remote Customer Service Sales Rep - Entry Level',\n",
       "       'Remote Corporate & Event Planning - Entry Level',\n",
       "       'Remote Resort Reservationist - Entry Level',\n",
       "       'Remote Marketing Travel Specialist',\n",
       "       'Remote Tourism Advisor - Entry Level',\n",
       "       'Remote Coordinator - Entry Level', 'Business Analyst',\n",
       "       'Human Resources Analyst',\n",
       "       'Summer Intern - Publishing Ethics and IPR', 'Content Analyst',\n",
       "       'GIS Analyst II', 'Content Insights & Optimization Manager',\n",
       "       'Biopharmaceutical   SENIOR COMMISSIONING & QUALIFICATION ENGINEER',\n",
       "       'Pharmaceutical Process Engineer',\n",
       "       'NBC Sports Finance, Technology & Engineering Internships',\n",
       "       'Sr. Applied Scientist, WSAT', 'supply chain analyst',\n",
       "       'Senior P&C Analytics Actuary - PR12617', 'Product Analyst',\n",
       "       'Quality Control Analyst', 'Senior Growth Product Manager',\n",
       "       'RESEARCH ANALYST', 'product manager – fairness benchmarking',\n",
       "       'Research Scientist - Voice',\n",
       "       'Growth Hacking Consultant - Instagram/Tiktok', 'Moderator',\n",
       "       'Statistical Programmer',\n",
       "       'Consultancy – PSEA Risk Analysis & Mapping Consultant Req.#567862',\n",
       "       'Volunteer: CrowdDoing Service Learning Marketing Director Volunteer',\n",
       "       'Instructor', 'Propulsion Engineer (Merlin Flight Operations)',\n",
       "       'Prophet Model Developer',\n",
       "       'senior paid social analyst (growth marketing team)',\n",
       "       'RESEARCH SCIENTIST 2', 'RESEARCH STUDY ASSISTANT',\n",
       "       'responsible ai testing science consultant',\n",
       "       'Digital Marketing Strategist',\n",
       "       'Insights Analyst – LinkedIn Talent Solutions',\n",
       "       'Pharmaceutical Engineer', 'Applied Researcher II',\n",
       "       'Applied Researcher I', 'Staff Research Scientist/Physicist',\n",
       "       'artificial intelligence architecture(fully remote)',\n",
       "       'PhD Research Intern, Robotic Perception - Summer 2024',\n",
       "       'solutions architect, generative ai', 'ai consultant',\n",
       "       'CPU Circuit Design Engineer',\n",
       "       'Senior Algorithms & Signal Processing Engineer',\n",
       "       'post doc research associate – edge artificial intelligence in soil science',\n",
       "       'computational scientist - artificial intelligence (hybrid eligible)',\n",
       "       'Analyst, Insights & Research',\n",
       "       'senior drug discovery ai applied scientist',\n",
       "       'Product Management Intern, AV - Summer 2024'], dtype=object)"
      ]
     },
     "execution_count": 98,
     "metadata": {},
     "output_type": "execute_result"
    }
   ],
   "source": [
    "def standarize_job(row):\n",
    "    title = str(row).lower()\n",
    "    if 'data engineer' in title:\n",
    "        return 'Data Engineer'\n",
    "    elif 'data analyst' in title:\n",
    "        return 'Data Analyst'\n",
    "    elif 'data scientist' in title:\n",
    "        return 'Data Scientist'\n",
    "    elif 'data' in title and 'junior' not in title:\n",
    "        if 'engineer' in title:\n",
    "            return 'Data Engineer'\n",
    "        elif 'analyst' in title:\n",
    "            return 'Data Analyst'\n",
    "    elif ('machine' in title and 'learning' in title) or ('ml' in title and 'engineer' in title):\n",
    "        return 'Machine Learning Engineer'\n",
    "    elif 'deep' in title and 'learning' in title and 'engineer' in title:\n",
    "        return 'Deep Learning Engineer'\n",
    "    elif 'junior' in title:\n",
    "        if 'data' in title and 'engineer' in title:\n",
    "            return 'Data Engineer'\n",
    "        elif 'data' in title and 'analyst' in title:\n",
    "            return 'Data Analyst'\n",
    "    elif 'business' in title:\n",
    "        if 'intelligence' in title and 'analyst' in title:\n",
    "            return 'BI Analyst'\n",
    "        elif 'analyst' in title:\n",
    "            return 'Business Analyst'\n",
    "        else:\n",
    "            return 'BI Engineer'\n",
    "    elif 'artificial intelligence' in title or 'ai' in title:\n",
    "        if 'research engineer' in title:\n",
    "            return 'Research Engineer'\n",
    "        elif 'ml' in title:\n",
    "            return 'Machine Learning Engineer'\n",
    "        elif 'engineer' in title:\n",
    "            return 'AI Engineer'\n",
    "        else:\n",
    "            return title\n",
    "    else:\n",
    "        return str(row)\n",
    "\n",
    "\n",
    "linkedin['original_title'] = linkedin['job_title']\n",
    "linkedin['job_title'] = linkedin['job_title'].apply(standarize_job)\n",
    "linkedin['job_title'].unique()"
   ]
  },
  {
   "cell_type": "markdown",
   "metadata": {},
   "source": [
    "    Categories for 'job_title' column"
   ]
  },
  {
   "cell_type": "code",
   "execution_count": 99,
   "metadata": {},
   "outputs": [],
   "source": [
    "categories = [\n",
    "    'Data Engineer',\n",
    "    'Data Analyst',\n",
    "    'Data Scientist',\n",
    "    'Machine Learning Engineer',\n",
    "    'Deep Learning Engineer',\n",
    "    'BI Analyst',\n",
    "    'Business Analyst',\n",
    "    'BI Engineer',\n",
    "    'Research Engineer',\n",
    "    'AI Engineer'\n",
    "]"
   ]
  },
  {
   "cell_type": "code",
   "execution_count": 100,
   "metadata": {},
   "outputs": [
    {
     "data": {
      "text/plain": [
       "(1000, 13)"
      ]
     },
     "execution_count": 100,
     "metadata": {},
     "output_type": "execute_result"
    }
   ],
   "source": [
    "linkedin.shape"
   ]
  },
  {
   "cell_type": "code",
   "execution_count": 101,
   "metadata": {},
   "outputs": [],
   "source": [
    "linkedin = linkedin[linkedin['job_title'].isin(categories)]"
   ]
  },
  {
   "cell_type": "code",
   "execution_count": 102,
   "metadata": {},
   "outputs": [
    {
     "data": {
      "text/html": [
       "<div>\n",
       "<style scoped>\n",
       "    .dataframe tbody tr th:only-of-type {\n",
       "        vertical-align: middle;\n",
       "    }\n",
       "\n",
       "    .dataframe tbody tr th {\n",
       "        vertical-align: top;\n",
       "    }\n",
       "\n",
       "    .dataframe thead th {\n",
       "        text-align: right;\n",
       "    }\n",
       "</style>\n",
       "<table border=\"1\" class=\"dataframe\">\n",
       "  <thead>\n",
       "    <tr style=\"text-align: right;\">\n",
       "      <th></th>\n",
       "      <th>job_id</th>\n",
       "      <th>job_title</th>\n",
       "      <th>company_name</th>\n",
       "      <th>company_state</th>\n",
       "      <th>salary_range</th>\n",
       "      <th>remote_ratio</th>\n",
       "      <th>employment_type</th>\n",
       "      <th>experience_level</th>\n",
       "      <th>company_size</th>\n",
       "      <th>image_link</th>\n",
       "      <th>employees</th>\n",
       "      <th>salary</th>\n",
       "      <th>original_title</th>\n",
       "    </tr>\n",
       "  </thead>\n",
       "  <tbody>\n",
       "    <tr>\n",
       "      <th>27</th>\n",
       "      <td>3634189427</td>\n",
       "      <td>Data Scientist</td>\n",
       "      <td>Spotter</td>\n",
       "      <td>CA</td>\n",
       "      <td>100.000 $/año - 500.000 $/año</td>\n",
       "      <td>Híbrido</td>\n",
       "      <td>Jornada completa</td>\n",
       "      <td>Intermedio</td>\n",
       "      <td>M</td>\n",
       "      <td>https://media.licdn.com/dms/image/C560BAQEYvkA...</td>\n",
       "      <td>De 51 a 200 empleados</td>\n",
       "      <td>300000.0</td>\n",
       "      <td>Senior Data Scientist - LLM</td>\n",
       "    </tr>\n",
       "    <tr>\n",
       "      <th>603</th>\n",
       "      <td>3770165247</td>\n",
       "      <td>Data Analyst</td>\n",
       "      <td>TEKGENCE INC</td>\n",
       "      <td>OH</td>\n",
       "      <td>20 $/h - 23 $/h</td>\n",
       "      <td>Presencial</td>\n",
       "      <td>Contrato por obra</td>\n",
       "      <td>Sin experiencia</td>\n",
       "      <td>L</td>\n",
       "      <td>https://media.licdn.com/dms/image/C560BAQHeElf...</td>\n",
       "      <td>De 501 a 1.000 empleados</td>\n",
       "      <td>41280.0</td>\n",
       "      <td>Data Analyst</td>\n",
       "    </tr>\n",
       "    <tr>\n",
       "      <th>194</th>\n",
       "      <td>3751628399</td>\n",
       "      <td>Machine Learning Engineer</td>\n",
       "      <td>VeeAR Projects Inc.</td>\n",
       "      <td>TX</td>\n",
       "      <td>101.000 $/año - 179.000 $/año</td>\n",
       "      <td>Híbrido</td>\n",
       "      <td>Jornada completa</td>\n",
       "      <td>Sin experiencia</td>\n",
       "      <td>L</td>\n",
       "      <td>https://media.licdn.com/dms/image/C560BAQH9cWu...</td>\n",
       "      <td>De 201 a 500 empleados</td>\n",
       "      <td>140000.0</td>\n",
       "      <td>Machine Learning Engineer</td>\n",
       "    </tr>\n",
       "  </tbody>\n",
       "</table>\n",
       "</div>"
      ],
      "text/plain": [
       "         job_id                  job_title         company_name company_state  \\\n",
       "27   3634189427             Data Scientist              Spotter            CA   \n",
       "603  3770165247               Data Analyst         TEKGENCE INC            OH   \n",
       "194  3751628399  Machine Learning Engineer  VeeAR Projects Inc.            TX   \n",
       "\n",
       "                      salary_range remote_ratio    employment_type  \\\n",
       "27   100.000 $/año - 500.000 $/año      Híbrido   Jornada completa   \n",
       "603                20 $/h - 23 $/h   Presencial  Contrato por obra   \n",
       "194  101.000 $/año - 179.000 $/año      Híbrido   Jornada completa   \n",
       "\n",
       "    experience_level company_size  \\\n",
       "27        Intermedio            M   \n",
       "603  Sin experiencia            L   \n",
       "194  Sin experiencia            L   \n",
       "\n",
       "                                            image_link  \\\n",
       "27   https://media.licdn.com/dms/image/C560BAQEYvkA...   \n",
       "603  https://media.licdn.com/dms/image/C560BAQHeElf...   \n",
       "194  https://media.licdn.com/dms/image/C560BAQH9cWu...   \n",
       "\n",
       "                    employees    salary               original_title  \n",
       "27      De 51 a 200 empleados  300000.0  Senior Data Scientist - LLM  \n",
       "603  De 501 a 1.000 empleados   41280.0                 Data Analyst  \n",
       "194    De 201 a 500 empleados  140000.0    Machine Learning Engineer  "
      ]
     },
     "execution_count": 102,
     "metadata": {},
     "output_type": "execute_result"
    }
   ],
   "source": [
    "linkedin.shape\n",
    "linkedin.sample(3)"
   ]
  },
  {
   "cell_type": "code",
   "execution_count": 103,
   "metadata": {},
   "outputs": [
    {
     "data": {
      "text/plain": [
       "job_id               0\n",
       "job_title            0\n",
       "company_name         0\n",
       "company_state        0\n",
       "salary_range        74\n",
       "remote_ratio         0\n",
       "employment_type      0\n",
       "experience_level     0\n",
       "company_size         0\n",
       "image_link           0\n",
       "employees            0\n",
       "salary              79\n",
       "original_title       0\n",
       "dtype: int64"
      ]
     },
     "execution_count": 103,
     "metadata": {},
     "output_type": "execute_result"
    }
   ],
   "source": [
    "linkedin = linkedin[linkedin['employment_type'] != 'Temporal']\n",
    "linkedin = linkedin[~linkedin.drop(['salary', 'salary_range'], axis=1).isna().all(axis=1)]\n",
    "linkedin = linkedin[linkedin['remote_ratio'].notna()]\n",
    "linkedin = linkedin[linkedin['experience_level'].notna()]\n",
    "linkedin = linkedin[linkedin['company_size'].notna()]\n",
    "linkedin.isna().sum()"
   ]
  },
  {
   "cell_type": "code",
   "execution_count": 104,
   "metadata": {},
   "outputs": [],
   "source": [
    "linkedin.to_csv('../data/linkedin_standarized.csv', index=False)"
   ]
  }
 ],
 "metadata": {
  "kernelspec": {
   "display_name": "project",
   "language": "python",
   "name": "python3"
  },
  "language_info": {
   "codemirror_mode": {
    "name": "ipython",
    "version": 3
   },
   "file_extension": ".py",
   "mimetype": "text/x-python",
   "name": "python",
   "nbconvert_exporter": "python",
   "pygments_lexer": "ipython3",
   "version": "3.11.5"
  }
 },
 "nbformat": 4,
 "nbformat_minor": 2
}
