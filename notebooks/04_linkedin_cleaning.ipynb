{
 "cells": [
  {
   "cell_type": "markdown",
   "metadata": {},
   "source": [
    "#### Imports"
   ]
  },
  {
   "cell_type": "code",
   "execution_count": 1631,
   "metadata": {},
   "outputs": [],
   "source": [
    "import pandas as pd\n",
    "import numpy as np\n",
    "import re"
   ]
  },
  {
   "cell_type": "markdown",
   "metadata": {},
   "source": [
    "#### Read linkedin csv"
   ]
  },
  {
   "cell_type": "code",
   "execution_count": 1632,
   "metadata": {},
   "outputs": [
    {
     "data": {
      "text/html": [
       "<div>\n",
       "<style scoped>\n",
       "    .dataframe tbody tr th:only-of-type {\n",
       "        vertical-align: middle;\n",
       "    }\n",
       "\n",
       "    .dataframe tbody tr th {\n",
       "        vertical-align: top;\n",
       "    }\n",
       "\n",
       "    .dataframe thead th {\n",
       "        text-align: right;\n",
       "    }\n",
       "</style>\n",
       "<table border=\"1\" class=\"dataframe\">\n",
       "  <thead>\n",
       "    <tr style=\"text-align: right;\">\n",
       "      <th></th>\n",
       "      <th>job_id</th>\n",
       "      <th>job_title</th>\n",
       "      <th>company_name</th>\n",
       "      <th>company_state</th>\n",
       "      <th>salary_range</th>\n",
       "      <th>remote_ratio</th>\n",
       "      <th>employment_type</th>\n",
       "      <th>experience_level</th>\n",
       "      <th>company_size</th>\n",
       "    </tr>\n",
       "  </thead>\n",
       "  <tbody>\n",
       "    <tr>\n",
       "      <th>360</th>\n",
       "      <td>3770041073</td>\n",
       "      <td>Data Engineer II - NBC Sports Next</td>\n",
       "      <td>NBC Sports Next</td>\n",
       "      <td>· Mineápolis, MN</td>\n",
       "      <td>28,26 $/h - 49,52 $/h</td>\n",
       "      <td>En remoto</td>\n",
       "      <td>Jornada completa</td>\n",
       "      <td>Intermedio</td>\n",
       "      <td>De 1.001 a 5.000 empleados · Tecnología, infor...</td>\n",
       "    </tr>\n",
       "    <tr>\n",
       "      <th>143</th>\n",
       "      <td>3758907164</td>\n",
       "      <td>Staff Machine Learning Researcher</td>\n",
       "      <td>Storm3</td>\n",
       "      <td>· San Francisco y alrededores</td>\n",
       "      <td>260.000 $/año - 300.000 $/año</td>\n",
       "      <td>Híbrido</td>\n",
       "      <td>Jornada completa</td>\n",
       "      <td>Director</td>\n",
       "      <td>De 51 a 200 empleados · Dotación y selección d...</td>\n",
       "    </tr>\n",
       "    <tr>\n",
       "      <th>547</th>\n",
       "      <td>3776052372</td>\n",
       "      <td>Data Engineer (Hybrid) - 16010</td>\n",
       "      <td>Enlighten</td>\n",
       "      <td>· Columbia, MD</td>\n",
       "      <td>198.200 $/año - 297.300 $/año</td>\n",
       "      <td>En remoto</td>\n",
       "      <td>Jornada completa</td>\n",
       "      <td>Sin experiencia</td>\n",
       "      <td>De 51 a 200 empleados · Desarrollo de software</td>\n",
       "    </tr>\n",
       "  </tbody>\n",
       "</table>\n",
       "</div>"
      ],
      "text/plain": [
       "         job_id                           job_title     company_name  \\\n",
       "360  3770041073  Data Engineer II - NBC Sports Next  NBC Sports Next   \n",
       "143  3758907164   Staff Machine Learning Researcher           Storm3   \n",
       "547  3776052372      Data Engineer (Hybrid) - 16010        Enlighten   \n",
       "\n",
       "                     company_state                   salary_range  \\\n",
       "360               · Mineápolis, MN          28,26 $/h - 49,52 $/h   \n",
       "143  · San Francisco y alrededores  260.000 $/año - 300.000 $/año   \n",
       "547                 · Columbia, MD  198.200 $/año - 297.300 $/año   \n",
       "\n",
       "    remote_ratio   employment_type experience_level  \\\n",
       "360    En remoto  Jornada completa       Intermedio   \n",
       "143      Híbrido  Jornada completa         Director   \n",
       "547    En remoto  Jornada completa  Sin experiencia   \n",
       "\n",
       "                                          company_size  \n",
       "360  De 1.001 a 5.000 empleados · Tecnología, infor...  \n",
       "143  De 51 a 200 empleados · Dotación y selección d...  \n",
       "547     De 51 a 200 empleados · Desarrollo de software  "
      ]
     },
     "execution_count": 1632,
     "metadata": {},
     "output_type": "execute_result"
    }
   ],
   "source": [
    "linkedin = pd.read_csv('../data/linkedin.csv')\n",
    "linkedin.sample(3)"
   ]
  },
  {
   "cell_type": "markdown",
   "metadata": {},
   "source": [
    "#### Cleaning 'company_state' column"
   ]
  },
  {
   "cell_type": "code",
   "execution_count": 1633,
   "metadata": {},
   "outputs": [
    {
     "data": {
      "text/plain": [
       "company_state\n",
       "Estados Unidos         72\n",
       "· Nueva York, NY       29\n",
       "· Seattle, WA          19\n",
       "· San Francisco, CA    17\n",
       "· San José, CA         12\n",
       "                       ..\n",
       "· Plano, TX             1\n",
       "· Lexington, KY         1\n",
       "· Montpelier, VT        1\n",
       "· Bolingbrook, IL       1\n",
       "· Scott AFB, IL         1\n",
       "Name: count, Length: 227, dtype: int64"
      ]
     },
     "execution_count": 1633,
     "metadata": {},
     "output_type": "execute_result"
    }
   ],
   "source": [
    "states = ['AL', 'AK', 'AZ', 'AR', 'CA', 'NC', 'SC', 'CO', 'CT', 'ND', 'SD', 'DE', 'FL', 'GA', 'HI', 'ID', 'IL', 'IN', 'IA', 'KS', 'KY', 'LA',\n",
    "          'ME', 'MD', 'MA', 'MI', 'MN', 'MS', 'MO', 'MT', 'NE', 'NV', 'NJ', 'NY', 'NH', 'NM', 'OH', 'OK', 'OR', 'PA', 'RI', 'TN', 'TX', 'UT',\n",
    "          'UT', 'VT', 'VA', 'WV', 'WA', 'WI', 'WY']\n",
    "linkedin['company_state'] = linkedin['company_state'].apply(lambda row: 'Estados Unidos' if row == '· Estados Unidos' else row)\n",
    "linkedin['company_state'].value_counts()"
   ]
  },
  {
   "cell_type": "code",
   "execution_count": 1634,
   "metadata": {},
   "outputs": [],
   "source": [
    "def fclean_company_state(df, states):\n",
    "    for i in states:\n",
    "        linkedin['company_state'] = linkedin['company_state'].apply(lambda row: i if i in str(row) else row)\n",
    "    return df\n",
    "\n",
    "linkedin = fclean_company_state(linkedin, states)"
   ]
  },
  {
   "cell_type": "code",
   "execution_count": 1635,
   "metadata": {},
   "outputs": [
    {
     "data": {
      "text/plain": [
       "array(['NC', 'VA', 'Estados Unidos', 'CA', 'MI', 'WA', 'NE', 'TX', 'MN',\n",
       "       'MA', 'NY', 'IL', 'OH', 'GA', 'FL', 'WI', 'PA', 'OR', 'NJ', 'MD',\n",
       "       'AZ', 'MO', 'KS', 'CT', 'UT', '· Unión Europea', 'IN', 'TN', 'KY',\n",
       "       'LA', 'NV', 'OK', 'CO', 'IA', 'VT', 'ID', 'SC', 'HI', 'DE', 'AR',\n",
       "       'RI', 'NM', 'NH'], dtype=object)"
      ]
     },
     "execution_count": 1635,
     "metadata": {},
     "output_type": "execute_result"
    }
   ],
   "source": [
    "def sclean_company_state(df, states):\n",
    "    for key, value in states.items():\n",
    "        linkedin['company_state'] = linkedin['company_state'].apply(lambda row: value if key in str(row) else row)\n",
    "    return df\n",
    "\n",
    "left_states = {\n",
    "    'Virginia': 'VA',\n",
    "    'Minnesota': 'MN',\n",
    "    'Washington': 'WA',\n",
    "    'San Francisco': 'CA',\n",
    "    'Nebraska': 'NE',\n",
    "    'California': 'CA',\n",
    "    'Texas': 'TX',\n",
    "    'Nueva York': 'NY',\n",
    "    'Michigan': 'MI',\n",
    "    'Luisiana': 'LA',\n",
    "    'Florida': 'FL',\n",
    "    'Maryland': 'MD',\n",
    "    'Nevada': 'NV',\n",
    "    'Oregón': 'OR',\n",
    "    'Oklahoma': 'OK',\n",
    "    'Georgia': 'GA',\n",
    "    'Carolina del Sur': 'SC',\n",
    "    'Delaware': 'DE',\n",
    "    'Ohio': 'OH',\n",
    "    'Arkansas': 'AR',\n",
    "    'Iowa': 'IA',\n",
    "    'Carolina del Norte': 'NC',\n",
    "    'Indiana': 'IN',\n",
    "    'Nashville': 'TN',\n",
    "    'Massachusetts': 'MA',\n",
    "    'Tennessee': 'TN',\n",
    "    'Enid': 'OK',\n",
    "    'Chicago': 'IL',\n",
    "    'América del Norte': 'Estados Unidos',\n",
    "    'Des Moines': 'IA',\n",
    "    'Pittsburgh': 'PA',\n",
    "    'Cincinnati': 'OH',\n",
    "    'St. Louis': 'MO'\n",
    "}\n",
    "linkedin = sclean_company_state(linkedin, left_states)\n",
    "linkedin['company_state'].unique()"
   ]
  },
  {
   "cell_type": "markdown",
   "metadata": {},
   "source": [
    "#### Cleaning 'remote_ratio' column"
   ]
  },
  {
   "cell_type": "code",
   "execution_count": 1636,
   "metadata": {},
   "outputs": [
    {
     "data": {
      "text/plain": [
       "remote_ratio\n",
       "En remoto     261\n",
       "Híbrido       185\n",
       "Presencial    144\n",
       "Name: count, dtype: int64"
      ]
     },
     "execution_count": 1636,
     "metadata": {},
     "output_type": "execute_result"
    }
   ],
   "source": [
    "def clean_remote_ratio(df, dict_):\n",
    "    for key, val in dict_.items():\n",
    "        df['remote_ratio'] = df['remote_ratio'].apply(lambda row: key if key in str(row) else str(row))\n",
    "    df['remote_ratio'] = df['remote_ratio'].apply(lambda row: np.nan if str(row) == 'nan' else str(row))\n",
    "    return df\n",
    "\n",
    "remote_dict = {\n",
    "    'Presencial': 0,\n",
    "    'Híbrido': 50,\n",
    "    'En remoto': 100\n",
    "}\n",
    "linkedin = clean_remote_ratio(linkedin, remote_dict)\n",
    "linkedin['remote_ratio'].value_counts()"
   ]
  },
  {
   "cell_type": "code",
   "execution_count": 1637,
   "metadata": {},
   "outputs": [
    {
     "data": {
      "text/plain": [
       "remote_ratio\n",
       "En remoto     261\n",
       "Híbrido       185\n",
       "Presencial    144\n",
       "Name: count, dtype: int64"
      ]
     },
     "execution_count": 1637,
     "metadata": {},
     "output_type": "execute_result"
    }
   ],
   "source": [
    "linkedin.loc[linkedin['remote_ratio'] == 'nan', 'remote_ratio'] = np.nan\n",
    "linkedin['remote_ratio'].value_counts()"
   ]
  },
  {
   "cell_type": "markdown",
   "metadata": {},
   "source": [
    "#### Cleaning 'experience_level' column"
   ]
  },
  {
   "cell_type": "code",
   "execution_count": 1638,
   "metadata": {},
   "outputs": [
    {
     "data": {
      "text/plain": [
       "experience_level\n",
       "Intermedio                 286\n",
       "Sin experiencia            145\n",
       "Prácticas                   66\n",
       "Algo de responsabilidad     65\n",
       "Director                    27\n",
       "Ejecutivo                    2\n",
       "Name: count, dtype: int64"
      ]
     },
     "execution_count": 1638,
     "metadata": {},
     "output_type": "execute_result"
    }
   ],
   "source": [
    "linkedin.sample(5)\n",
    "linkedin['experience_level'].value_counts()"
   ]
  },
  {
   "cell_type": "markdown",
   "metadata": {},
   "source": [
    "#### Cleaning 'employment_type' column"
   ]
  },
  {
   "cell_type": "code",
   "execution_count": 1639,
   "metadata": {},
   "outputs": [
    {
     "data": {
      "text/plain": [
       "employment_type\n",
       "Jornada completa     418\n",
       "Contrato por obra     88\n",
       "Prácticas             52\n",
       "Media jornada         38\n",
       "Name: count, dtype: int64"
      ]
     },
     "execution_count": 1639,
     "metadata": {},
     "output_type": "execute_result"
    }
   ],
   "source": [
    "def clean_employment_type(df, list_):\n",
    "    for i in list_:\n",
    "        df['employment_type'] = df['employment_type'].apply(lambda row: i if i in str(row) else str(row))\n",
    "    return df\n",
    "\n",
    "remote_dict = [\n",
    "    'Jornada completa',\n",
    "    'Contrato por obra',\n",
    "    'Media jornada',\n",
    "    'Prácticas'\n",
    "]\n",
    "linkedin = clean_employment_type(linkedin, remote_dict)\n",
    "linkedin['employment_type'].value_counts()"
   ]
  },
  {
   "cell_type": "markdown",
   "metadata": {},
   "source": [
    "#### Cleaning 'company_size' column"
   ]
  },
  {
   "cell_type": "code",
   "execution_count": 1640,
   "metadata": {},
   "outputs": [
    {
     "data": {
      "text/plain": [
       "company_size\n",
       "De 51 a 200 empleados · Servicios y consultoría de TI                                               37\n",
       "De 51 a 200 empleados · Dotación y selección de personal                                            32\n",
       "De 11 a 50 empleados · Dotación y selección de personal                                             25\n",
       "Más de 10.001 empleados · Hospitales y atención sanitaria                                           24\n",
       "De 1.001 a 5.000 empleados · Servicios y consultoría de TI                                          23\n",
       "                                                                                                    ..\n",
       "Ve una comparación con los otros 301 solicitantes. Probar Premium gratis                             1\n",
       "De 1.001 a 5.000 empleados · Fabricación de alimentos y bebidas                                      1\n",
       "Más de 10.001 empleados · Fabricación de electrodomésticos y productos eléctricos y electrónicos     1\n",
       "Entre 1 y 10 empleados · Construcción                                                                1\n",
       "De 201 a 500 empleados · Tecnología, información e internet                                          1\n",
       "Name: count, Length: 149, dtype: int64"
      ]
     },
     "execution_count": 1640,
     "metadata": {},
     "output_type": "execute_result"
    }
   ],
   "source": [
    "linkedin['company_size'].value_counts()"
   ]
  },
  {
   "cell_type": "code",
   "execution_count": 1641,
   "metadata": {},
   "outputs": [
    {
     "data": {
      "text/plain": [
       "employees\n",
       "Más de 10.001 empleados                                                     126\n",
       "De 51 a 200 empleados                                                       119\n",
       "De 1.001 a 5.000 empleados                                                  100\n",
       "De 11 a 50 empleados                                                         68\n",
       "De 201 a 500 empleados                                                       52\n",
       "De 501 a 1.000 empleados                                                     51\n",
       "De 5.001 a 10.000 empleados                                                  40\n",
       "Entre 1 y 10 empleados                                                       33\n",
       "Nagesh Kumar Gona ✈ busca personal para este empleo                           1\n",
       "Ve una comparación con los otros 137 solicitantes. Probar Premium gratis      1\n",
       "Ve una comparación con los otros 301 solicitantes. Probar Premium gratis      1\n",
       "Ve una comparación con los otros 652 solicitantes. Probar Premium gratis      1\n",
       "Fabricación de productos de plástico                                          1\n",
       "Ve una comparación con los otros 444 solicitantes. Probar Premium gratis      1\n",
       "Servicios para el individuo y la familia                                      1\n",
       "Name: count, dtype: int64"
      ]
     },
     "execution_count": 1641,
     "metadata": {},
     "output_type": "execute_result"
    }
   ],
   "source": [
    "linkedin['employees'] = linkedin['company_size'].apply(lambda row: row.split('·')[0].strip())\n",
    "linkedin['employees'].value_counts()"
   ]
  },
  {
   "cell_type": "code",
   "execution_count": 1642,
   "metadata": {},
   "outputs": [
    {
     "data": {
      "text/html": [
       "<div>\n",
       "<style scoped>\n",
       "    .dataframe tbody tr th:only-of-type {\n",
       "        vertical-align: middle;\n",
       "    }\n",
       "\n",
       "    .dataframe tbody tr th {\n",
       "        vertical-align: top;\n",
       "    }\n",
       "\n",
       "    .dataframe thead th {\n",
       "        text-align: right;\n",
       "    }\n",
       "</style>\n",
       "<table border=\"1\" class=\"dataframe\">\n",
       "  <thead>\n",
       "    <tr style=\"text-align: right;\">\n",
       "      <th></th>\n",
       "      <th>job_id</th>\n",
       "      <th>job_title</th>\n",
       "      <th>company_name</th>\n",
       "      <th>company_state</th>\n",
       "      <th>salary_range</th>\n",
       "      <th>remote_ratio</th>\n",
       "      <th>employment_type</th>\n",
       "      <th>experience_level</th>\n",
       "      <th>company_size</th>\n",
       "      <th>employees</th>\n",
       "    </tr>\n",
       "  </thead>\n",
       "  <tbody>\n",
       "    <tr>\n",
       "      <th>114</th>\n",
       "      <td>3756057160</td>\n",
       "      <td>Lead Machine Learning Engineer</td>\n",
       "      <td>Non-Disclosed</td>\n",
       "      <td>NY</td>\n",
       "      <td>850.000 $/año - 1.100.000 $/año</td>\n",
       "      <td>Presencial</td>\n",
       "      <td>Jornada completa</td>\n",
       "      <td>Director</td>\n",
       "      <td>Ve una comparación con los otros 137 solicitan...</td>\n",
       "      <td>Ve una comparación con los otros 137 solicitan...</td>\n",
       "    </tr>\n",
       "    <tr>\n",
       "      <th>194</th>\n",
       "      <td>3762242381</td>\n",
       "      <td>Data Scientist</td>\n",
       "      <td>Probar Premium gratis</td>\n",
       "      <td>IL</td>\n",
       "      <td>170.000 $/año - 190.000 $/año</td>\n",
       "      <td>Híbrido</td>\n",
       "      <td>Jornada completa</td>\n",
       "      <td>Intermedio</td>\n",
       "      <td>Ve una comparación con los otros 301 solicitan...</td>\n",
       "      <td>Ve una comparación con los otros 301 solicitan...</td>\n",
       "    </tr>\n",
       "    <tr>\n",
       "      <th>195</th>\n",
       "      <td>3762242406</td>\n",
       "      <td>Data Analyst</td>\n",
       "      <td>Probar Premium gratis</td>\n",
       "      <td>IL</td>\n",
       "      <td>170.000 $/año - 190.000 $/año</td>\n",
       "      <td>Híbrido</td>\n",
       "      <td>Jornada completa</td>\n",
       "      <td>Intermedio</td>\n",
       "      <td>Ve una comparación con los otros 652 solicitan...</td>\n",
       "      <td>Ve una comparación con los otros 652 solicitan...</td>\n",
       "    </tr>\n",
       "    <tr>\n",
       "      <th>409</th>\n",
       "      <td>3771514066</td>\n",
       "      <td>Quality Control Analyst</td>\n",
       "      <td>Carolina Poly, Inc.</td>\n",
       "      <td>SC</td>\n",
       "      <td>65.000 $/año - 72.000 $/año</td>\n",
       "      <td>Presencial</td>\n",
       "      <td>Jornada completa</td>\n",
       "      <td>Sin experiencia</td>\n",
       "      <td>Fabricación de productos de plástico</td>\n",
       "      <td>Fabricación de productos de plástico</td>\n",
       "    </tr>\n",
       "    <tr>\n",
       "      <th>504</th>\n",
       "      <td>3775200323</td>\n",
       "      <td>Data Analyst</td>\n",
       "      <td>Probar Premium gratis</td>\n",
       "      <td>MA</td>\n",
       "      <td>35 $/h - 40 $/h</td>\n",
       "      <td>En remoto</td>\n",
       "      <td>Media jornada</td>\n",
       "      <td>NaN</td>\n",
       "      <td>Ve una comparación con los otros 444 solicitan...</td>\n",
       "      <td>Ve una comparación con los otros 444 solicitan...</td>\n",
       "    </tr>\n",
       "    <tr>\n",
       "      <th>528</th>\n",
       "      <td>3775649749</td>\n",
       "      <td>Data Consultant ( Remote)</td>\n",
       "      <td>Fresca Fresh Blanket Service</td>\n",
       "      <td>Estados Unidos</td>\n",
       "      <td>NaN</td>\n",
       "      <td>En remoto</td>\n",
       "      <td>Media jornada</td>\n",
       "      <td>Algo de responsabilidad</td>\n",
       "      <td>Servicios para el individuo y la familia</td>\n",
       "      <td>Servicios para el individuo y la familia</td>\n",
       "    </tr>\n",
       "  </tbody>\n",
       "</table>\n",
       "</div>"
      ],
      "text/plain": [
       "         job_id                       job_title                  company_name  \\\n",
       "114  3756057160  Lead Machine Learning Engineer                 Non-Disclosed   \n",
       "194  3762242381                  Data Scientist         Probar Premium gratis   \n",
       "195  3762242406                    Data Analyst         Probar Premium gratis   \n",
       "409  3771514066         Quality Control Analyst           Carolina Poly, Inc.   \n",
       "504  3775200323                    Data Analyst         Probar Premium gratis   \n",
       "528  3775649749       Data Consultant ( Remote)  Fresca Fresh Blanket Service   \n",
       "\n",
       "      company_state                     salary_range remote_ratio  \\\n",
       "114              NY  850.000 $/año - 1.100.000 $/año   Presencial   \n",
       "194              IL    170.000 $/año - 190.000 $/año      Híbrido   \n",
       "195              IL    170.000 $/año - 190.000 $/año      Híbrido   \n",
       "409              SC      65.000 $/año - 72.000 $/año   Presencial   \n",
       "504              MA                  35 $/h - 40 $/h    En remoto   \n",
       "528  Estados Unidos                              NaN    En remoto   \n",
       "\n",
       "      employment_type         experience_level  \\\n",
       "114  Jornada completa                 Director   \n",
       "194  Jornada completa               Intermedio   \n",
       "195  Jornada completa               Intermedio   \n",
       "409  Jornada completa          Sin experiencia   \n",
       "504     Media jornada                      NaN   \n",
       "528     Media jornada  Algo de responsabilidad   \n",
       "\n",
       "                                          company_size  \\\n",
       "114  Ve una comparación con los otros 137 solicitan...   \n",
       "194  Ve una comparación con los otros 301 solicitan...   \n",
       "195  Ve una comparación con los otros 652 solicitan...   \n",
       "409               Fabricación de productos de plástico   \n",
       "504  Ve una comparación con los otros 444 solicitan...   \n",
       "528           Servicios para el individuo y la familia   \n",
       "\n",
       "                                             employees  \n",
       "114  Ve una comparación con los otros 137 solicitan...  \n",
       "194  Ve una comparación con los otros 301 solicitan...  \n",
       "195  Ve una comparación con los otros 652 solicitan...  \n",
       "409               Fabricación de productos de plástico  \n",
       "504  Ve una comparación con los otros 444 solicitan...  \n",
       "528           Servicios para el individuo y la familia  "
      ]
     },
     "execution_count": 1642,
     "metadata": {},
     "output_type": "execute_result"
    }
   ],
   "source": [
    "# Patrones que deseas buscar en la columna específica\n",
    "patrones = [\n",
    "    r\"Ve una comparación con los otros \\d+ solicitantes\\. Probar Premium gratis\",\n",
    "    r\"Fabricación de productos de plástico\",\n",
    "    r\"Servicios para el individuo y la familia\"\n",
    "]\n",
    "\n",
    "# Crear una expresión regular combinando los patrones con el operador OR (|)\n",
    "regex_pattern = '|'.join(patrones)\n",
    "\n",
    "# Filtrar el DataFrame por la columna específica\n",
    "linkedin[linkedin['employees'].str.contains(regex_pattern)]"
   ]
  },
  {
   "cell_type": "code",
   "execution_count": 1643,
   "metadata": {},
   "outputs": [
    {
     "data": {
      "text/plain": [
       "employees\n",
       "Más de 10.001 empleados                                126\n",
       "De 51 a 200 empleados                                  119\n",
       "De 1.001 a 5.000 empleados                             100\n",
       "De 11 a 50 empleados                                    68\n",
       "De 201 a 500 empleados                                  52\n",
       "De 501 a 1.000 empleados                                51\n",
       "De 5.001 a 10.000 empleados                             40\n",
       "Entre 1 y 10 empleados                                  33\n",
       "Nagesh Kumar Gona ✈ busca personal para este empleo      1\n",
       "Name: count, dtype: int64"
      ]
     },
     "execution_count": 1643,
     "metadata": {},
     "output_type": "execute_result"
    }
   ],
   "source": [
    "linkedin.loc[linkedin['employees'].str.contains(regex_pattern), 'employees'] = np.nan\n",
    "linkedin['employees'].value_counts()"
   ]
  },
  {
   "cell_type": "code",
   "execution_count": 1644,
   "metadata": {},
   "outputs": [
    {
     "data": {
      "text/plain": [
       "employees\n",
       "10.001    126\n",
       "200       119\n",
       "5.000     100\n",
       "50         68\n",
       "500        52\n",
       "1.000      51\n",
       "10.000     40\n",
       "10         33\n",
       "Name: count, dtype: int64"
      ]
     },
     "execution_count": 1644,
     "metadata": {},
     "output_type": "execute_result"
    }
   ],
   "source": [
    "pattern1 = r\"Más de (\\d+\\.?\\d*) empleados\"\n",
    "pattern2 = r\"De (\\d+\\.?\\d*) a (\\d+\\.?\\d*) empleados\"\n",
    "pattern3 = r\"Entre (\\d+\\.?\\d*) y (\\d+\\.?\\d*) empleados\"\n",
    "def clean_employee(row):\n",
    "    match1 = re.match(pattern1, str(row))\n",
    "    match2 = re.match(pattern2, str(row))\n",
    "    match3 = re.match(pattern3, str(row))\n",
    "    if match1:\n",
    "        return match1.group(1)\n",
    "    elif match2:\n",
    "        return match2.group(2)\n",
    "    elif match3:\n",
    "        return match3.group(2)\n",
    "    else:\n",
    "        return np.nan\n",
    "\n",
    "linkedin['employees'] = linkedin['employees'].apply(clean_employee)\n",
    "linkedin['employees'].value_counts()"
   ]
  },
  {
   "cell_type": "code",
   "execution_count": 1645,
   "metadata": {},
   "outputs": [
    {
     "data": {
      "text/plain": [
       "company_size\n",
       "L    369\n",
       "M    187\n",
       "S     33\n",
       "Name: count, dtype: int64"
      ]
     },
     "execution_count": 1645,
     "metadata": {},
     "output_type": "execute_result"
    }
   ],
   "source": [
    "def standarize_company_size(row):\n",
    "    if pd.notnull(row):\n",
    "        if int(row.replace('.', '')) < 50:\n",
    "            return 'S'\n",
    "        elif int(row.replace('.', '')) <= 250:\n",
    "            return 'M'\n",
    "        elif int(row.replace('.', '')) > 250:\n",
    "            return 'L'\n",
    "        else:\n",
    "            return np.nan\n",
    "\n",
    "linkedin['company_size'] = linkedin['employees'].apply(standarize_company_size)\n",
    "linkedin['company_size'].value_counts()"
   ]
  },
  {
   "cell_type": "markdown",
   "metadata": {},
   "source": [
    "#### Cleaning 'salary_range' column"
   ]
  },
  {
   "cell_type": "code",
   "execution_count": 1646,
   "metadata": {},
   "outputs": [
    {
     "data": {
      "text/plain": [
       "array(['100.000 $/año - 150.000 $/año', '283.780 $/año - 331.640 $/año',\n",
       "       '145.000 $/año - 180.000 $/año', '95.000 $/año - 130.000 $/año',\n",
       "       '167.200 $/año - 250.800 $/año', '200.000 $/año - 240.000 $/año',\n",
       "       '70.000 $/yr', nan, '200.000 $/año - 300.000 $/año',\n",
       "       '120.000 $/año - 220.000 $/año', '144.000 $/año - 270.250 $/año',\n",
       "       '170.112 $/año - 237.000 $/año', '170.000 $/año - 190.000 $/año',\n",
       "       '20 $/hr', '145.000 $/año - 195.000 $/año',\n",
       "       '67.733 $/año - 91.440 $/año', '95.000 $/año - 120.000 $/año',\n",
       "       '78 $/h - 104 $/h', '122.000 $/año - 190.000 $/año',\n",
       "       '101.000 $/año - 179.000 $/año', '48 $/h - 65 $/h',\n",
       "       '125.000 $/año - 160.000 $/año', '850.000 $/año - 1.100.000 $/año',\n",
       "       '75 $/h - 85 $/h', '45 $/h - 55 $/h',\n",
       "       '150.000 $/año - 250.000 $/año', '40 $/h - 43 $/h',\n",
       "       '150.000 $/año - 300.000 $/año', '90 $/hr',\n",
       "       '260.000 $/año - 300.000 $/año', '150.000 $/año - 200.000 $/año',\n",
       "       '90.000 $/año - 130.000 $/año', '60 $/h - 68 $/h',\n",
       "       '70.000 $/año - 85.000 $/año', '26 $/h - 31 $/h',\n",
       "       '139.100 $/año - 235.400 $/año', '60.000 $/año - 100.000 $/año',\n",
       "       '140.000 $/año - 170.000 $/año', '90 $/h - 100 $/h',\n",
       "       '90.000 $/año - 110.000 $/año', '400.000 $/año - 700.000 $/año',\n",
       "       '140.000 $/año - 165.000 $/año', '73.500 $/año - 170.000 $/año',\n",
       "       '87.600 $/año - 118.400 $/año', '50 $/h - 57 $/h',\n",
       "       '60 $/h - 70 $/h', '60.000 $/año - 65.000 $/año',\n",
       "       '85.000 $/año - 125.000 $/año', '32 $/h - 37 $/h',\n",
       "       '26 $/h - 29 $/h', '75.000 $/año - 120.000 $/año',\n",
       "       '150 $/año - 400 $/año', '75 $/h - 80 $/h', '70 $/año - 75 $/año',\n",
       "       '55 $/h - 60 $/h', '130.000 $/año - 190.000 $/año',\n",
       "       '40 $/h - 50 $/h', '140.000 $/yr', '190.000 $/año - 210.000 $/año',\n",
       "       '26 $/hr', '90.000 $/año - 120.000 $/año', '60 $/h - 63 $/h',\n",
       "       '78.000 $/año - 120.000 $/año', '250.000 $/año - 350.000 $/año',\n",
       "       '100.000 $/año - 115.000 $/año', '140.000 $/año - 150.000 $/año',\n",
       "       '130.000 $/año - 220.000 $/año', '50 $/h - 55 $/h',\n",
       "       '65.000 $/año - 85.000 $/año', '15 $/h - 20 $/h',\n",
       "       '70.000 $/año - 80.000 $/año', '10.120 $/año - 12.170 $/año',\n",
       "       '40 $/h - 51 $/h', '80.000 $/año - 140.000 $/año',\n",
       "       '145.000 $/año - 154.000 $/año', '120.000 $/año - 150.000 $/año',\n",
       "       '65 $/h - 70 $/h', '28,26 $/h - 49,52 $/h', '53 $/h - 58 $/h',\n",
       "       '100.000 $/año - 170.000 $/año', '110.000 $/año - 125.000 $/año',\n",
       "       '200.000 $/año - 250.000 $/año', '180.000 $/año - 195.000 $/año',\n",
       "       '70.000 $/año - 130.000 $/año', '120.000 $/año - 165.000 $/año',\n",
       "       '65.000 $/año - 72.000 $/año', '90.000 $/yr',\n",
       "       '130.000 $/año - 180.000 $/año', '275.000 $/año - 425.000 $/año',\n",
       "       '170.000 $/año - 200.000 $/año', '50.000 $/año - 85.000 $/año',\n",
       "       '30 $/hr', '80.000 $/año - 95.000 $/año', '500.000 $/yr',\n",
       "       '140.000 $/año - 180.000 $/año', '135.200 $/año - 145.600 $/año',\n",
       "       '80 $/h - 85 $/h', '70 $/h - 80 $/h',\n",
       "       '84.546 $/año - 109.908 $/año', '131.900 $/año - 151.700 $/año',\n",
       "       '17 $/hr', '50 $/h - 54 $/h', '95.000 $/año - 115.000 $/año',\n",
       "       '141.570 $/año - 173.030 $/año', '100.000 $/año - 125.000 $/año',\n",
       "       '36 $/h - 39,58 $/h', '4.649 $/mes - 9.465 $/mes',\n",
       "       '6.482 $/mes - 8.102 $/mes', '3.240 $/mes - 3.907 $/mes',\n",
       "       '35 $/h - 40 $/h', '125.000 $/año - 175.000 $/año',\n",
       "       '150.000 $/año - 180.000 $/año', '70 $/hr', '20 $/h - 24 $/h',\n",
       "       '70 $/h - 100 $/h', '130.000 $/año - 205.000 $/año',\n",
       "       '15 $/h - 35 $/h', '198.200 $/año - 297.300 $/año', '244.000 $/yr',\n",
       "       '45.000 $/yr', '85.000 $/año - 90.000 $/año',\n",
       "       '64.000 $/año - 76.000 $/año', '80 $/hr',\n",
       "       '100.000 $/año - 140.000 $/año', '125.000 $/año - 185.000 $/año'],\n",
       "      dtype=object)"
      ]
     },
     "execution_count": 1646,
     "metadata": {},
     "output_type": "execute_result"
    }
   ],
   "source": [
    "linkedin['salary_range'].unique()"
   ]
  },
  {
   "cell_type": "code",
   "execution_count": 1647,
   "metadata": {},
   "outputs": [
    {
     "data": {
      "text/plain": [
       "salary_range\n",
       "230000.0    23\n",
       "207750.0    21\n",
       "250000.0    19\n",
       "279125.0    19\n",
       "57600.0     18\n",
       "            ..\n",
       "148800.0     1\n",
       "16205.0      1\n",
       "192000.0     1\n",
       "157440.0     1\n",
       "217500.0     1\n",
       "Name: count, Length: 113, dtype: int64"
      ]
     },
     "execution_count": 1647,
     "metadata": {},
     "output_type": "execute_result"
    }
   ],
   "source": [
    "hour_pattern = r\"(\\d+) \\$\\/hr\"\n",
    "year_pattern = r\"(\\d+\\.?\\d*) \\$\\/yr\"\n",
    "hour_range_pattern = r\"(\\d+\\,?\\d*) \\$\\/h - (\\d+\\,?\\d*) \\$\\/h\"\n",
    "year_range_pattern = r\"(\\d+\\.?\\d*) \\$\\/año - (\\d+\\.?\\d*) \\$\\/año\"\n",
    "month_range_pattern = r\"(\\d+\\.?\\d*) \\$\\/mes - (\\d+\\.?\\d*) \\$\\/mes\"\n",
    "\n",
    "\n",
    "def clean_salary(row):\n",
    "    match_h = re.match(hour_pattern, str(row))\n",
    "    match_y = re.match(year_pattern, str(row))\n",
    "    match_rh = re.match(hour_range_pattern, str(row))\n",
    "    match_ry = re.match(year_range_pattern, str(row))\n",
    "    match_rm = re.match(month_range_pattern, str(row))\n",
    "    if match_h:\n",
    "        num_h = match_h.group(1)\n",
    "        num_w = int(num_h) * 40\n",
    "        return int(num_w * 48)\n",
    "    elif match_y:\n",
    "        return int(match_y.group(1).replace('.', ''))\n",
    "    elif match_rh:\n",
    "        min_ = match_rh.group(1)\n",
    "        max_ = match_rh.group(2)\n",
    "        num_h = float(min_.replace(',', '.')) + float(max_.replace(',', '.')) / 2\n",
    "        num_w = num_h * 40\n",
    "        return int(num_w * 48)\n",
    "    elif match_ry:\n",
    "        min_ = match_ry.group(1)\n",
    "        max_ = match_ry.group(2)\n",
    "        if len(min_) <= 3:\n",
    "            min_ += '000'\n",
    "        if len(max_) <= 3:\n",
    "            max_ += '000'\n",
    "        num_y = float(min_.replace('.', '')) + float(max_.replace('.', '')) / 2\n",
    "        return int(num_y)\n",
    "    elif match_rm:\n",
    "        min_ = match_rm.group(1)\n",
    "        max_ = match_rm.group(2)\n",
    "        num_m = float(min_.replace('.', '')) + float(max_.replace('.', '')) / 2\n",
    "        return int(num_m * 12)\n",
    "    else:\n",
    "        return np.nan\n",
    "\n",
    "linkedin['salary_range'] = linkedin['salary_range'].apply(clean_salary)\n",
    "linkedin['salary_range'].value_counts()"
   ]
  },
  {
   "cell_type": "code",
   "execution_count": 1648,
   "metadata": {},
   "outputs": [
    {
     "data": {
      "text/html": [
       "<div>\n",
       "<style scoped>\n",
       "    .dataframe tbody tr th:only-of-type {\n",
       "        vertical-align: middle;\n",
       "    }\n",
       "\n",
       "    .dataframe tbody tr th {\n",
       "        vertical-align: top;\n",
       "    }\n",
       "\n",
       "    .dataframe thead th {\n",
       "        text-align: right;\n",
       "    }\n",
       "</style>\n",
       "<table border=\"1\" class=\"dataframe\">\n",
       "  <thead>\n",
       "    <tr style=\"text-align: right;\">\n",
       "      <th></th>\n",
       "      <th>job_id</th>\n",
       "      <th>job_title</th>\n",
       "      <th>company_name</th>\n",
       "      <th>company_state</th>\n",
       "      <th>salary_range</th>\n",
       "      <th>remote_ratio</th>\n",
       "      <th>employment_type</th>\n",
       "      <th>experience_level</th>\n",
       "      <th>company_size</th>\n",
       "      <th>employees</th>\n",
       "    </tr>\n",
       "  </thead>\n",
       "  <tbody>\n",
       "    <tr>\n",
       "      <th>393</th>\n",
       "      <td>3770786405</td>\n",
       "      <td>Staff Credit Strategy Analyst, Data Scientist</td>\n",
       "      <td>SoFi</td>\n",
       "      <td>DE</td>\n",
       "      <td>325000.0</td>\n",
       "      <td>Híbrido</td>\n",
       "      <td>Jornada completa</td>\n",
       "      <td>Intermedio</td>\n",
       "      <td>L</td>\n",
       "      <td>5.000</td>\n",
       "    </tr>\n",
       "    <tr>\n",
       "      <th>128</th>\n",
       "      <td>3757366936</td>\n",
       "      <td>Applied Scientist</td>\n",
       "      <td>Quanti Recruitment</td>\n",
       "      <td>NY</td>\n",
       "      <td>275000.0</td>\n",
       "      <td>Presencial</td>\n",
       "      <td>Jornada completa</td>\n",
       "      <td>Intermedio</td>\n",
       "      <td>S</td>\n",
       "      <td>10</td>\n",
       "    </tr>\n",
       "    <tr>\n",
       "      <th>231</th>\n",
       "      <td>3764675617</td>\n",
       "      <td>Statistician/Data Scientist</td>\n",
       "      <td>Eli Lilly and Company</td>\n",
       "      <td>IN</td>\n",
       "      <td>96960.0</td>\n",
       "      <td>Presencial</td>\n",
       "      <td>Contrato por obra</td>\n",
       "      <td>Intermedio</td>\n",
       "      <td>L</td>\n",
       "      <td>10.001</td>\n",
       "    </tr>\n",
       "    <tr>\n",
       "      <th>102</th>\n",
       "      <td>3754419732</td>\n",
       "      <td>Data Scientist MMM (Marketing Mix Model)</td>\n",
       "      <td>AMISEQ</td>\n",
       "      <td>CA</td>\n",
       "      <td>NaN</td>\n",
       "      <td>Híbrido</td>\n",
       "      <td>Prácticas</td>\n",
       "      <td>Prácticas</td>\n",
       "      <td>M</td>\n",
       "      <td>200</td>\n",
       "    </tr>\n",
       "    <tr>\n",
       "      <th>408</th>\n",
       "      <td>3771503379</td>\n",
       "      <td>Data Analyst</td>\n",
       "      <td>Business Plan Solutions, LLC</td>\n",
       "      <td>TX</td>\n",
       "      <td>101000.0</td>\n",
       "      <td>Presencial</td>\n",
       "      <td>Jornada completa</td>\n",
       "      <td>Sin experiencia</td>\n",
       "      <td>M</td>\n",
       "      <td>50</td>\n",
       "    </tr>\n",
       "  </tbody>\n",
       "</table>\n",
       "</div>"
      ],
      "text/plain": [
       "         job_id                                      job_title  \\\n",
       "393  3770786405  Staff Credit Strategy Analyst, Data Scientist   \n",
       "128  3757366936                              Applied Scientist   \n",
       "231  3764675617                    Statistician/Data Scientist   \n",
       "102  3754419732       Data Scientist MMM (Marketing Mix Model)   \n",
       "408  3771503379                                   Data Analyst   \n",
       "\n",
       "                     company_name company_state  salary_range remote_ratio  \\\n",
       "393                          SoFi            DE      325000.0      Híbrido   \n",
       "128            Quanti Recruitment            NY      275000.0   Presencial   \n",
       "231         Eli Lilly and Company            IN       96960.0   Presencial   \n",
       "102                        AMISEQ            CA           NaN      Híbrido   \n",
       "408  Business Plan Solutions, LLC            TX      101000.0   Presencial   \n",
       "\n",
       "       employment_type experience_level company_size employees  \n",
       "393   Jornada completa       Intermedio            L     5.000  \n",
       "128   Jornada completa       Intermedio            S        10  \n",
       "231  Contrato por obra       Intermedio            L    10.001  \n",
       "102          Prácticas        Prácticas            M       200  \n",
       "408   Jornada completa  Sin experiencia            M        50  "
      ]
     },
     "execution_count": 1648,
     "metadata": {},
     "output_type": "execute_result"
    }
   ],
   "source": [
    "linkedin.sample(5)"
   ]
  },
  {
   "cell_type": "markdown",
   "metadata": {},
   "source": [
    "#### Cleaning 'job_title' column"
   ]
  },
  {
   "cell_type": "code",
   "execution_count": 1649,
   "metadata": {},
   "outputs": [
    {
     "data": {
      "text/plain": [
       "job_title\n",
       "Machine Learning Engineer                           59\n",
       "Data Engineer                                       44\n",
       "Data Analyst                                        43\n",
       "Data Scientist                                      35\n",
       "Data Analyst  I                                     19\n",
       "                                                    ..\n",
       "Data Scientist - LLM                                 1\n",
       "Actuarial Data Scientist                             1\n",
       "AI/ML Data Scientist                                 1\n",
       "Associate Data Scientist - Cybersecurity, Intern     1\n",
       "Machine Learning Engineer, Planning                  1\n",
       "Name: count, Length: 325, dtype: int64"
      ]
     },
     "execution_count": 1649,
     "metadata": {},
     "output_type": "execute_result"
    }
   ],
   "source": [
    "linkedin['job_title'].value_counts()"
   ]
  },
  {
   "cell_type": "code",
   "execution_count": 1650,
   "metadata": {},
   "outputs": [
    {
     "data": {
      "text/plain": [
       "array(['Machine Learning Engineer', 'CYBER INTEL ANALYST - PEN TESTER',\n",
       "       'Deep Learning Engineer',\n",
       "       'Senior Algorithms Engineer (Image Processing)', 'Data Engineer',\n",
       "       'Data Scientist',\n",
       "       'Computer Vision Engineer (Multimodal with Large Language Models)',\n",
       "       'BI Analyst', 'Data Analyst', 'Artificial Learning Engineer',\n",
       "       'Research Engineer', 'Computer Vision Engineer',\n",
       "       'RF Computational Engineer 3', 'Project Scheduler',\n",
       "       'Adaptive Optics Senior Software Engineer',\n",
       "       'Finance Analyst (Benelux)',\n",
       "       'Core Infrastructure Engineer - Networking', 'Analytics Engineer',\n",
       "       'Applied Scientist', None, 'Quantitative Researcher',\n",
       "       'Computer Vision and Optimization Engineer', 'AI Engineer',\n",
       "       'Software Company DevOps Engineer',\n",
       "       'summer intern - r&d/artificial intelligence',\n",
       "       'Remote Cruise Planner - Entry Level',\n",
       "       'Remote Travel Consultant - Entry Level',\n",
       "       'Remote Customer Service Sales Rep - Entry Level',\n",
       "       'Remote Corporate & Event Planning - Entry Level',\n",
       "       'Remote Resort Reservationist - Entry Level',\n",
       "       'Remote Marketing Travel Specialist',\n",
       "       'Remote Tourism Advisor - Entry Level',\n",
       "       'Remote Coordinator - Entry Level', 'Business Analyst',\n",
       "       'Human Resources Analyst',\n",
       "       'Summer Intern - Publishing Ethics and IPR', 'Content Analyst',\n",
       "       'BI Engineer', 'GIS Analyst II',\n",
       "       'Content Insights & Optimization Manager',\n",
       "       'Biopharmaceutical   SENIOR COMMISSIONING & QUALIFICATION ENGINEER',\n",
       "       'Pharmaceutical Process Engineer', 'Sr. Applied Scientist, WSAT',\n",
       "       'Product Analyst', 'Quality Control Analyst',\n",
       "       'Senior Growth Product Manager', 'RESEARCH ANALYST',\n",
       "       'Growth Hacking Consultant - Instagram/Tiktok', 'Moderator',\n",
       "       'Statistical Programmer',\n",
       "       'Consultancy – PSEA Risk Analysis & Mapping Consultant Req.#567862',\n",
       "       'Volunteer: CrowdDoing Service Learning Marketing Director Volunteer',\n",
       "       'Instructor', 'Propulsion Engineer (Merlin Flight Operations)',\n",
       "       'Prophet Model Developer',\n",
       "       'senior paid social analyst (growth marketing team)',\n",
       "       'RESEARCH SCIENTIST 2', 'RESEARCH STUDY ASSISTANT',\n",
       "       'responsible ai testing science consultant',\n",
       "       'Digital Marketing Strategist',\n",
       "       'Insights Analyst – LinkedIn Talent Solutions',\n",
       "       'Pharmaceutical Engineer',\n",
       "       'artificial intelligence architecture(fully remote)',\n",
       "       'solutions architect, generative ai'], dtype=object)"
      ]
     },
     "execution_count": 1650,
     "metadata": {},
     "output_type": "execute_result"
    }
   ],
   "source": [
    "def standarize_job(row):\n",
    "    title = str(row).lower()\n",
    "    if 'data engineer' in title:\n",
    "        return 'Data Engineer'\n",
    "    elif 'data analyst' in title:\n",
    "        return 'Data Analyst'\n",
    "    elif 'data scientist' in title:\n",
    "        return 'Data Scientist'\n",
    "    elif 'data' in title and 'junior' not in title:\n",
    "        if 'engineer' in title:\n",
    "            return 'Data Engineer'\n",
    "        elif 'analyst' in title:\n",
    "            return 'Data Analyst'\n",
    "    elif ('machine' in title and 'learning' in title) or ('ml' in title and 'engineer' in title):\n",
    "        return 'Machine Learning Engineer'\n",
    "    elif 'deep' in title and 'learning' in title and 'engineer' in title:\n",
    "        return 'Deep Learning Engineer'\n",
    "    elif 'junior' in title:\n",
    "        if 'data' in title and 'engineer' in title:\n",
    "            return 'Data Engineer'\n",
    "        elif 'data' in title and 'analyst' in title:\n",
    "            return 'Data Analyst'\n",
    "    elif 'business' in title:\n",
    "        if 'intelligence' in title and 'analyst' in title:\n",
    "            return 'BI Analyst'\n",
    "        elif 'analyst' in title:\n",
    "            return 'Business Analyst'\n",
    "        else:\n",
    "            return 'BI Engineer'\n",
    "    elif 'artificial intelligence' in title or 'ai' in title:\n",
    "        if 'research engineer' in title:\n",
    "            return 'Research Engineer'\n",
    "        elif 'ml' in title:\n",
    "            return 'Machine Learning Engineer'\n",
    "        elif 'engineer' in title:\n",
    "            return 'AI Engineer'\n",
    "        else:\n",
    "            return title\n",
    "    else:\n",
    "        return str(row)\n",
    "\n",
    "\n",
    "linkedin['job_title'] = linkedin['job_title'].apply(standarize_job)\n",
    "linkedin['job_title'].unique()"
   ]
  },
  {
   "cell_type": "markdown",
   "metadata": {},
   "source": [
    "    Categories for 'job_title' column"
   ]
  },
  {
   "cell_type": "code",
   "execution_count": 1651,
   "metadata": {},
   "outputs": [],
   "source": [
    "categories = [\n",
    "    'Data Engineer',\n",
    "    'Data Analyst',\n",
    "    'Data Scientist',\n",
    "    'Machine Learning Engineer',\n",
    "    'Deep Learning Engineer',\n",
    "    'BI Analyst',\n",
    "    'Business Analyst',\n",
    "    'BI Engineer',\n",
    "    'Research Engineer',\n",
    "    'AI Engineer'\n",
    "]"
   ]
  },
  {
   "cell_type": "code",
   "execution_count": 1652,
   "metadata": {},
   "outputs": [
    {
     "data": {
      "text/plain": [
       "(596, 10)"
      ]
     },
     "execution_count": 1652,
     "metadata": {},
     "output_type": "execute_result"
    }
   ],
   "source": [
    "linkedin.shape"
   ]
  },
  {
   "cell_type": "code",
   "execution_count": 1653,
   "metadata": {},
   "outputs": [],
   "source": [
    "linkedin = linkedin[linkedin['job_title'].isin(categories)]\n",
    "linkedin = linkedin.drop(columns=['employees'])"
   ]
  },
  {
   "cell_type": "code",
   "execution_count": 1654,
   "metadata": {},
   "outputs": [
    {
     "data": {
      "text/plain": [
       "(518, 9)"
      ]
     },
     "execution_count": 1654,
     "metadata": {},
     "output_type": "execute_result"
    }
   ],
   "source": [
    "linkedin.shape"
   ]
  },
  {
   "cell_type": "code",
   "execution_count": 1656,
   "metadata": {},
   "outputs": [
    {
     "data": {
      "text/html": [
       "<div>\n",
       "<style scoped>\n",
       "    .dataframe tbody tr th:only-of-type {\n",
       "        vertical-align: middle;\n",
       "    }\n",
       "\n",
       "    .dataframe tbody tr th {\n",
       "        vertical-align: top;\n",
       "    }\n",
       "\n",
       "    .dataframe thead th {\n",
       "        text-align: right;\n",
       "    }\n",
       "</style>\n",
       "<table border=\"1\" class=\"dataframe\">\n",
       "  <thead>\n",
       "    <tr style=\"text-align: right;\">\n",
       "      <th></th>\n",
       "      <th>job_id</th>\n",
       "      <th>job_title</th>\n",
       "      <th>company_name</th>\n",
       "      <th>company_state</th>\n",
       "      <th>salary_range</th>\n",
       "      <th>remote_ratio</th>\n",
       "      <th>employment_type</th>\n",
       "      <th>experience_level</th>\n",
       "      <th>company_size</th>\n",
       "    </tr>\n",
       "  </thead>\n",
       "  <tbody>\n",
       "    <tr>\n",
       "      <th>115</th>\n",
       "      <td>3756135992</td>\n",
       "      <td>Data Scientist</td>\n",
       "      <td>Adobe</td>\n",
       "      <td>CA</td>\n",
       "      <td>NaN</td>\n",
       "      <td>Presencial</td>\n",
       "      <td>Jornada completa</td>\n",
       "      <td>Director</td>\n",
       "      <td>L</td>\n",
       "    </tr>\n",
       "  </tbody>\n",
       "</table>\n",
       "</div>"
      ],
      "text/plain": [
       "         job_id       job_title company_name company_state  salary_range  \\\n",
       "115  3756135992  Data Scientist        Adobe            CA           NaN   \n",
       "\n",
       "    remote_ratio   employment_type experience_level company_size  \n",
       "115   Presencial  Jornada completa         Director            L  "
      ]
     },
     "execution_count": 1656,
     "metadata": {},
     "output_type": "execute_result"
    }
   ],
   "source": [
    "linkedin[linkedin['job_id'] == 3756135992]"
   ]
  },
  {
   "cell_type": "code",
   "execution_count": 1655,
   "metadata": {},
   "outputs": [],
   "source": [
    "linkedin.to_csv('../data/linkedin_standarized.csv', index=False)"
   ]
  }
 ],
 "metadata": {
  "kernelspec": {
   "display_name": "project",
   "language": "python",
   "name": "python3"
  },
  "language_info": {
   "codemirror_mode": {
    "name": "ipython",
    "version": 3
   },
   "file_extension": ".py",
   "mimetype": "text/x-python",
   "name": "python",
   "nbconvert_exporter": "python",
   "pygments_lexer": "ipython3",
   "version": "3.11.5"
  }
 },
 "nbformat": 4,
 "nbformat_minor": 2
}
