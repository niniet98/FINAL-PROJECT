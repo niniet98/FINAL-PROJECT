{
 "cells": [
  {
   "cell_type": "markdown",
   "metadata": {},
   "source": [
    "#### Imports"
   ]
  },
  {
   "cell_type": "code",
   "execution_count": 1708,
   "metadata": {},
   "outputs": [],
   "source": [
    "import pandas as pd\n",
    "import numpy as np\n",
    "import re"
   ]
  },
  {
   "cell_type": "markdown",
   "metadata": {},
   "source": [
    "#### Read linkedin csv"
   ]
  },
  {
   "cell_type": "code",
   "execution_count": 1709,
   "metadata": {},
   "outputs": [
    {
     "data": {
      "text/html": [
       "<div>\n",
       "<style scoped>\n",
       "    .dataframe tbody tr th:only-of-type {\n",
       "        vertical-align: middle;\n",
       "    }\n",
       "\n",
       "    .dataframe tbody tr th {\n",
       "        vertical-align: top;\n",
       "    }\n",
       "\n",
       "    .dataframe thead th {\n",
       "        text-align: right;\n",
       "    }\n",
       "</style>\n",
       "<table border=\"1\" class=\"dataframe\">\n",
       "  <thead>\n",
       "    <tr style=\"text-align: right;\">\n",
       "      <th></th>\n",
       "      <th>job_id</th>\n",
       "      <th>job_title</th>\n",
       "      <th>company_name</th>\n",
       "      <th>company_state</th>\n",
       "      <th>salary_range</th>\n",
       "      <th>remote_ratio</th>\n",
       "      <th>employment_type</th>\n",
       "      <th>experience_level</th>\n",
       "      <th>company_size</th>\n",
       "    </tr>\n",
       "  </thead>\n",
       "  <tbody>\n",
       "    <tr>\n",
       "      <th>386</th>\n",
       "      <td>3770133317</td>\n",
       "      <td>Data Engineer</td>\n",
       "      <td>The Fountain Group</td>\n",
       "      <td>· Orange, CA</td>\n",
       "      <td>20 $/h - 35 $/h</td>\n",
       "      <td>Presencial</td>\n",
       "      <td>Prácticas</td>\n",
       "      <td>Prácticas</td>\n",
       "      <td>De 501 a 1.000 empleados · Dotación y selecció...</td>\n",
       "    </tr>\n",
       "    <tr>\n",
       "      <th>46</th>\n",
       "      <td>3728891680</td>\n",
       "      <td>Deep Learning Engineer - Robustness Against Ad...</td>\n",
       "      <td>Expedition Technology Inc</td>\n",
       "      <td>· Herndon, VA</td>\n",
       "      <td>120.000 $/año - 220.000 $/año</td>\n",
       "      <td>Presencial</td>\n",
       "      <td>Jornada completa</td>\n",
       "      <td>Sin experiencia</td>\n",
       "      <td>De 51 a 200 empleados · Fabricación de product...</td>\n",
       "    </tr>\n",
       "    <tr>\n",
       "      <th>177</th>\n",
       "      <td>3761481929</td>\n",
       "      <td>Software Company DevOps Engineer</td>\n",
       "      <td>QDStaff</td>\n",
       "      <td>· Boca Ratón, FL</td>\n",
       "      <td>60.000 $/año - 100.000 $/año</td>\n",
       "      <td>Presencial</td>\n",
       "      <td>Jornada completa</td>\n",
       "      <td>Algo de responsabilidad</td>\n",
       "      <td>Entre 1 y 10 empleados · Dotación y selección ...</td>\n",
       "    </tr>\n",
       "  </tbody>\n",
       "</table>\n",
       "</div>"
      ],
      "text/plain": [
       "         job_id                                          job_title  \\\n",
       "386  3770133317                                      Data Engineer   \n",
       "46   3728891680  Deep Learning Engineer - Robustness Against Ad...   \n",
       "177  3761481929                   Software Company DevOps Engineer   \n",
       "\n",
       "                  company_name     company_state  \\\n",
       "386         The Fountain Group      · Orange, CA   \n",
       "46   Expedition Technology Inc     · Herndon, VA   \n",
       "177                    QDStaff  · Boca Ratón, FL   \n",
       "\n",
       "                      salary_range remote_ratio   employment_type  \\\n",
       "386                20 $/h - 35 $/h   Presencial         Prácticas   \n",
       "46   120.000 $/año - 220.000 $/año   Presencial  Jornada completa   \n",
       "177   60.000 $/año - 100.000 $/año   Presencial  Jornada completa   \n",
       "\n",
       "            experience_level  \\\n",
       "386                Prácticas   \n",
       "46           Sin experiencia   \n",
       "177  Algo de responsabilidad   \n",
       "\n",
       "                                          company_size  \n",
       "386  De 501 a 1.000 empleados · Dotación y selecció...  \n",
       "46   De 51 a 200 empleados · Fabricación de product...  \n",
       "177  Entre 1 y 10 empleados · Dotación y selección ...  "
      ]
     },
     "execution_count": 1709,
     "metadata": {},
     "output_type": "execute_result"
    }
   ],
   "source": [
    "linkedin = pd.read_csv('../data/linkedin.csv')\n",
    "linkedin.sample(3)"
   ]
  },
  {
   "cell_type": "markdown",
   "metadata": {},
   "source": [
    "#### Cleaning 'company_state' column"
   ]
  },
  {
   "cell_type": "code",
   "execution_count": 1710,
   "metadata": {},
   "outputs": [
    {
     "data": {
      "text/plain": [
       "company_state\n",
       "Estados Unidos               82\n",
       "· Nueva York, NY             31\n",
       "· Seattle, WA                19\n",
       "· San Francisco, CA          19\n",
       "· Dallas, TX                 14\n",
       "                             ..\n",
       "· Somerville, MA              1\n",
       "· Lake Buena Vista, FL        1\n",
       "· Inver Grove Heights, MN     1\n",
       "· Portland, OR                1\n",
       "· Parsippany, NJ              1\n",
       "Name: count, Length: 239, dtype: int64"
      ]
     },
     "execution_count": 1710,
     "metadata": {},
     "output_type": "execute_result"
    }
   ],
   "source": [
    "states = ['AL', 'AK', 'AZ', 'AR', 'CA', 'NC', 'SC', 'CO', 'CT', 'ND', 'SD', 'DE', 'FL', 'GA', 'HI', 'ID', 'IL', 'IN', 'IA', 'KS', 'KY', 'LA',\n",
    "          'ME', 'MD', 'MA', 'MI', 'MN', 'MS', 'MO', 'MT', 'NE', 'NV', 'NJ', 'NY', 'NH', 'NM', 'OH', 'OK', 'OR', 'PA', 'RI', 'TN', 'TX', 'UT',\n",
    "          'UT', 'VT', 'VA', 'WV', 'WA', 'WI', 'WY']\n",
    "linkedin['company_state'] = linkedin['company_state'].apply(lambda row: 'Estados Unidos' if row == '· Estados Unidos' else row)\n",
    "linkedin['company_state'].value_counts()"
   ]
  },
  {
   "cell_type": "code",
   "execution_count": 1711,
   "metadata": {},
   "outputs": [],
   "source": [
    "def fclean_company_state(df, states):\n",
    "    for i in states:\n",
    "        linkedin['company_state'] = linkedin['company_state'].apply(lambda row: i if i in str(row) else row)\n",
    "    return df\n",
    "\n",
    "linkedin = fclean_company_state(linkedin, states)"
   ]
  },
  {
   "cell_type": "code",
   "execution_count": 1712,
   "metadata": {},
   "outputs": [
    {
     "data": {
      "text/plain": [
       "array(['NC', 'VA', 'Estados Unidos', 'CA', 'MI', 'WA', 'NE', 'TX', 'MN',\n",
       "       'MA', 'NY', 'IL', 'OH', 'GA', 'FL', 'WI', 'PA', 'OR', 'NJ', 'MD',\n",
       "       'AZ', 'MO', 'KS', 'CT', 'UT', '· Unión Europea', 'IN', 'TN', 'KY',\n",
       "       'LA', 'NV', 'OK', 'CO', 'IA', 'VT', '· Illinois, Estados Unidos',\n",
       "       'ID', 'SC', 'HI', 'DE', '· Jacksonville y alrededores', 'SD', 'AR',\n",
       "       'RI', 'NM', 'NH'], dtype=object)"
      ]
     },
     "execution_count": 1712,
     "metadata": {},
     "output_type": "execute_result"
    }
   ],
   "source": [
    "def sclean_company_state(df, states):\n",
    "    for key, value in states.items():\n",
    "        linkedin['company_state'] = linkedin['company_state'].apply(lambda row: value if key in str(row) else row)\n",
    "    return df\n",
    "\n",
    "left_states = {\n",
    "    'Virginia': 'VA',\n",
    "    'Minnesota': 'MN',\n",
    "    'Washington': 'WA',\n",
    "    'San Francisco': 'CA',\n",
    "    'Nebraska': 'NE',\n",
    "    'California': 'CA',\n",
    "    'Texas': 'TX',\n",
    "    'Nueva York': 'NY',\n",
    "    'Michigan': 'MI',\n",
    "    'Luisiana': 'LA',\n",
    "    'Florida': 'FL',\n",
    "    'Maryland': 'MD',\n",
    "    'Nevada': 'NV',\n",
    "    'Oregón': 'OR',\n",
    "    'Oklahoma': 'OK',\n",
    "    'Georgia': 'GA',\n",
    "    'Carolina del Sur': 'SC',\n",
    "    'Delaware': 'DE',\n",
    "    'Ohio': 'OH',\n",
    "    'Arkansas': 'AR',\n",
    "    'Iowa': 'IA',\n",
    "    'Carolina del Norte': 'NC',\n",
    "    'Indiana': 'IN',\n",
    "    'Nashville': 'TN',\n",
    "    'Massachusetts': 'MA',\n",
    "    'Tennessee': 'TN',\n",
    "    'Enid': 'OK',\n",
    "    'Chicago': 'IL',\n",
    "    'América del Norte': 'Estados Unidos',\n",
    "    'Des Moines': 'IA',\n",
    "    'Pittsburgh': 'PA',\n",
    "    'Cincinnati': 'OH',\n",
    "    'St. Louis': 'MO'\n",
    "}\n",
    "linkedin = sclean_company_state(linkedin, left_states)\n",
    "linkedin['company_state'].unique()"
   ]
  },
  {
   "cell_type": "markdown",
   "metadata": {},
   "source": [
    "#### Cleaning 'remote_ratio' column"
   ]
  },
  {
   "cell_type": "code",
   "execution_count": 1713,
   "metadata": {},
   "outputs": [
    {
     "data": {
      "text/plain": [
       "remote_ratio\n",
       "En remoto     257\n",
       "Híbrido       201\n",
       "Presencial    172\n",
       "Name: count, dtype: int64"
      ]
     },
     "execution_count": 1713,
     "metadata": {},
     "output_type": "execute_result"
    }
   ],
   "source": [
    "def clean_remote_ratio(df, dict_):\n",
    "    for key, val in dict_.items():\n",
    "        df['remote_ratio'] = df['remote_ratio'].apply(lambda row: key if key in str(row) else str(row))\n",
    "    df['remote_ratio'] = df['remote_ratio'].apply(lambda row: np.nan if str(row) == 'nan' else str(row))\n",
    "    return df\n",
    "\n",
    "remote_dict = {\n",
    "    'Presencial': 0,\n",
    "    'Híbrido': 50,\n",
    "    'En remoto': 100\n",
    "}\n",
    "linkedin = clean_remote_ratio(linkedin, remote_dict)\n",
    "linkedin['remote_ratio'].value_counts()"
   ]
  },
  {
   "cell_type": "code",
   "execution_count": 1714,
   "metadata": {},
   "outputs": [
    {
     "data": {
      "text/plain": [
       "remote_ratio\n",
       "En remoto     257\n",
       "Híbrido       201\n",
       "Presencial    172\n",
       "Name: count, dtype: int64"
      ]
     },
     "execution_count": 1714,
     "metadata": {},
     "output_type": "execute_result"
    }
   ],
   "source": [
    "linkedin.loc[linkedin['remote_ratio'] == 'nan', 'remote_ratio'] = np.nan\n",
    "linkedin['remote_ratio'].value_counts()"
   ]
  },
  {
   "cell_type": "markdown",
   "metadata": {},
   "source": [
    "#### Cleaning 'experience_level' column"
   ]
  },
  {
   "cell_type": "code",
   "execution_count": 1715,
   "metadata": {},
   "outputs": [
    {
     "data": {
      "text/plain": [
       "experience_level\n",
       "Intermedio                 276\n",
       "Sin experiencia            166\n",
       "Prácticas                  104\n",
       "Algo de responsabilidad     80\n",
       "Director                    18\n",
       "Ejecutivo                    2\n",
       "Name: count, dtype: int64"
      ]
     },
     "execution_count": 1715,
     "metadata": {},
     "output_type": "execute_result"
    }
   ],
   "source": [
    "linkedin.sample(5)\n",
    "linkedin['experience_level'].value_counts()"
   ]
  },
  {
   "cell_type": "markdown",
   "metadata": {},
   "source": [
    "#### Cleaning 'employment_type' column"
   ]
  },
  {
   "cell_type": "code",
   "execution_count": 1716,
   "metadata": {},
   "outputs": [
    {
     "data": {
      "text/plain": [
       "employment_type\n",
       "Jornada completa     404\n",
       "Contrato por obra    111\n",
       "Prácticas             82\n",
       "Media jornada         54\n",
       "Name: count, dtype: int64"
      ]
     },
     "execution_count": 1716,
     "metadata": {},
     "output_type": "execute_result"
    }
   ],
   "source": [
    "def clean_employment_type(df, list_):\n",
    "    for i in list_:\n",
    "        df['employment_type'] = df['employment_type'].apply(lambda row: i if i in str(row) else str(row))\n",
    "    return df\n",
    "\n",
    "remote_dict = [\n",
    "    'Jornada completa',\n",
    "    'Contrato por obra',\n",
    "    'Media jornada',\n",
    "    'Prácticas'\n",
    "]\n",
    "linkedin = clean_employment_type(linkedin, remote_dict)\n",
    "linkedin['employment_type'].value_counts()"
   ]
  },
  {
   "cell_type": "markdown",
   "metadata": {},
   "source": [
    "#### Cleaning 'company_size' column"
   ]
  },
  {
   "cell_type": "code",
   "execution_count": 1717,
   "metadata": {},
   "outputs": [
    {
     "data": {
      "text/plain": [
       "company_size\n",
       "De 51 a 200 empleados · Servicios y consultoría de TI                       42\n",
       "De 51 a 200 empleados · Dotación y selección de personal                    39\n",
       "De 1.001 a 5.000 empleados · Servicios y consultoría de TI                  27\n",
       "De 11 a 50 empleados · Dotación y selección de personal                     25\n",
       "Más de 10.001 empleados · Hospitales y atención sanitaria                   24\n",
       "                                                                            ..\n",
       "De 1.001 a 5.000 empleados · Servicios profesionales                         1\n",
       "De 1.001 a 5.000 empleados · Servicios de diseño                             1\n",
       "Ve una comparación con los otros 661 solicitantes. Probar Premium gratis     1\n",
       "Ve una comparación con los otros 306 solicitantes. Probar Premium gratis     1\n",
       "De 201 a 500 empleados · Tecnología, información e internet                  1\n",
       "Name: count, Length: 159, dtype: int64"
      ]
     },
     "execution_count": 1717,
     "metadata": {},
     "output_type": "execute_result"
    }
   ],
   "source": [
    "linkedin['company_size'].value_counts()"
   ]
  },
  {
   "cell_type": "code",
   "execution_count": 1718,
   "metadata": {},
   "outputs": [
    {
     "data": {
      "text/plain": [
       "employees\n",
       "De 51 a 200 empleados                                                       137\n",
       "Más de 10.001 empleados                                                     132\n",
       "De 1.001 a 5.000 empleados                                                  112\n",
       "De 11 a 50 empleados                                                         69\n",
       "De 201 a 500 empleados                                                       58\n",
       "De 501 a 1.000 empleados                                                     56\n",
       "De 5.001 a 10.000 empleados                                                  42\n",
       "Entre 1 y 10 empleados                                                       37\n",
       "Nagesh Kumar Gona ✈ busca personal para este empleo                           1\n",
       "Ve una comparación con los otros 137 solicitantes. Probar Premium gratis      1\n",
       "Ve una comparación con los otros 306 solicitantes. Probar Premium gratis      1\n",
       "Ve una comparación con los otros 661 solicitantes. Probar Premium gratis      1\n",
       "Ve una comparación con los otros 539 solicitantes. Probar Premium gratis      1\n",
       "Fabricación de productos de plástico                                          1\n",
       "Ve una comparación con los otros 444 solicitantes. Probar Premium gratis      1\n",
       "Servicios para el individuo y la familia                                      1\n",
       "Name: count, dtype: int64"
      ]
     },
     "execution_count": 1718,
     "metadata": {},
     "output_type": "execute_result"
    }
   ],
   "source": [
    "linkedin['employees'] = linkedin['company_size'].apply(lambda row: row.split('·')[0].strip())\n",
    "linkedin['employees'].value_counts()"
   ]
  },
  {
   "cell_type": "code",
   "execution_count": 1719,
   "metadata": {},
   "outputs": [
    {
     "data": {
      "text/plain": [
       "employees\n",
       "200       137\n",
       "10.001    132\n",
       "5.000     112\n",
       "50         69\n",
       "500        58\n",
       "1.000      56\n",
       "10.000     42\n",
       "10         37\n",
       "Name: count, dtype: int64"
      ]
     },
     "execution_count": 1719,
     "metadata": {},
     "output_type": "execute_result"
    }
   ],
   "source": [
    "pattern1 = r\"Más de (\\d+\\.?\\d*) empleados\"\n",
    "pattern2 = r\"De (\\d+\\.?\\d*) a (\\d+\\.?\\d*) empleados\"\n",
    "pattern3 = r\"Entre (\\d+\\.?\\d*) y (\\d+\\.?\\d*) empleados\"\n",
    "def clean_employee(row):\n",
    "    match1 = re.match(pattern1, str(row))\n",
    "    match2 = re.match(pattern2, str(row))\n",
    "    match3 = re.match(pattern3, str(row))\n",
    "    if match1:\n",
    "        return match1.group(1)\n",
    "    elif match2:\n",
    "        return match2.group(2)\n",
    "    elif match3:\n",
    "        return match3.group(2)\n",
    "    else:\n",
    "        return np.nan\n",
    "\n",
    "linkedin['employees'] = linkedin['employees'].apply(clean_employee)\n",
    "linkedin['employees'].value_counts()"
   ]
  },
  {
   "cell_type": "code",
   "execution_count": 1720,
   "metadata": {},
   "outputs": [
    {
     "data": {
      "text/plain": [
       "company_size\n",
       "L    400\n",
       "M    206\n",
       "S     37\n",
       "Name: count, dtype: int64"
      ]
     },
     "execution_count": 1720,
     "metadata": {},
     "output_type": "execute_result"
    }
   ],
   "source": [
    "def standarize_company_size(row):\n",
    "    if pd.notnull(row):\n",
    "        if int(row.replace('.', '')) < 50:\n",
    "            return 'S'\n",
    "        elif int(row.replace('.', '')) <= 250:\n",
    "            return 'M'\n",
    "        elif int(row.replace('.', '')) > 250:\n",
    "            return 'L'\n",
    "        else:\n",
    "            return np.nan\n",
    "\n",
    "linkedin['company_size'] = linkedin['employees'].apply(standarize_company_size)\n",
    "linkedin['company_size'].value_counts()"
   ]
  },
  {
   "cell_type": "markdown",
   "metadata": {},
   "source": [
    "#### Cleaning 'salary_range' column"
   ]
  },
  {
   "cell_type": "code",
   "execution_count": 1721,
   "metadata": {},
   "outputs": [
    {
     "data": {
      "text/plain": [
       "array(['100.000 $/año - 150.000 $/año', '283.780 $/año - 331.640 $/año',\n",
       "       '145.000 $/año - 180.000 $/año', '95.000 $/año - 130.000 $/año',\n",
       "       '167.200 $/año - 250.800 $/año', '200.000 $/año - 240.000 $/año',\n",
       "       '70.000 $/yr', nan, '200.000 $/año - 300.000 $/año',\n",
       "       '120.000 $/año - 220.000 $/año', '144.000 $/año - 270.250 $/año',\n",
       "       '170.112 $/año - 237.000 $/año', '170.000 $/año - 190.000 $/año',\n",
       "       '20 $/hr', '145.000 $/año - 195.000 $/año',\n",
       "       '67.733 $/año - 91.440 $/año', '95.000 $/año - 120.000 $/año',\n",
       "       '78 $/h - 104 $/h', '122.000 $/año - 190.000 $/año',\n",
       "       '101.000 $/año - 179.000 $/año', '48 $/h - 65 $/h',\n",
       "       '125.000 $/año - 160.000 $/año', '850.000 $/año - 1.100.000 $/año',\n",
       "       '35 $/h - 55 $/h', '75 $/h - 85 $/h', '45 $/h - 55 $/h',\n",
       "       '150.000 $/año - 250.000 $/año', '40 $/h - 43 $/h',\n",
       "       '150.000 $/año - 300.000 $/año', '90 $/hr',\n",
       "       '260.000 $/año - 300.000 $/año', '150.000 $/año - 200.000 $/año',\n",
       "       '90.000 $/año - 130.000 $/año', '60 $/h - 68 $/h',\n",
       "       '70.000 $/año - 85.000 $/año', '26 $/h - 31 $/h',\n",
       "       '139.100 $/año - 235.400 $/año', '60.000 $/año - 100.000 $/año',\n",
       "       '140.000 $/año - 170.000 $/año', '90 $/h - 100 $/h',\n",
       "       '90.000 $/año - 110.000 $/año', '400.000 $/año - 700.000 $/año',\n",
       "       '140.000 $/año - 165.000 $/año', '73.500 $/año - 170.000 $/año',\n",
       "       '87.600 $/año - 118.400 $/año', '50 $/h - 57 $/h',\n",
       "       '60 $/h - 70 $/h', '60.000 $/año - 65.000 $/año',\n",
       "       '85.000 $/año - 125.000 $/año', '32 $/h - 37 $/h',\n",
       "       '26 $/h - 29 $/h', '75.000 $/año - 120.000 $/año',\n",
       "       '150 $/año - 400 $/año', '75 $/h - 80 $/h', '70 $/año - 75 $/año',\n",
       "       '55 $/h - 60 $/h', '130.000 $/año - 190.000 $/año',\n",
       "       '40 $/h - 50 $/h', '140.000 $/yr', '200.000 $/año - 600.000 $/año',\n",
       "       '190.000 $/año - 210.000 $/año', '26 $/hr',\n",
       "       '90.000 $/año - 120.000 $/año', '60 $/h - 63 $/h',\n",
       "       '78.000 $/año - 120.000 $/año', '250.000 $/año - 350.000 $/año',\n",
       "       '100.000 $/año - 115.000 $/año', '140.000 $/año - 150.000 $/año',\n",
       "       '50 $/h - 60 $/h', '130.000 $/año - 220.000 $/año',\n",
       "       '50 $/h - 55 $/h', '65.000 $/año - 85.000 $/año',\n",
       "       '15 $/h - 20 $/h', '70.000 $/año - 80.000 $/año',\n",
       "       '10.120 $/año - 12.170 $/año', '40 $/h - 51 $/h',\n",
       "       '80.000 $/año - 140.000 $/año', '145.000 $/año - 154.000 $/año',\n",
       "       '120.000 $/año - 150.000 $/año', '65 $/h - 70 $/h',\n",
       "       '28,26 $/h - 49,52 $/h', '20 $/h - 35 $/h', '150.000 $/yr',\n",
       "       '20 $/h - 23 $/h', '53 $/h - 58 $/h', '5 $/h - 58 $/h',\n",
       "       '60 $/h - 65 $/h', '20 $/h - 28 $/h', '18 $/hr', '29 $/h - 34 $/h',\n",
       "       '70 $/h - 75 $/h', '100.000 $/año - 170.000 $/año',\n",
       "       '110.000 $/año - 125.000 $/año', '200.000 $/año - 250.000 $/año',\n",
       "       '180.000 $/año - 195.000 $/año', '33.200 $/año - 53.000 $/año',\n",
       "       '70.000 $/año - 130.000 $/año', '25 $/h - 30 $/h',\n",
       "       '120.000 $/año - 165.000 $/año', '65.000 $/año - 72.000 $/año',\n",
       "       '113.006,40 $/año - 141.793,59 $/año', '90.000 $/yr',\n",
       "       '130.000 $/año - 180.000 $/año', '275.000 $/año - 425.000 $/año',\n",
       "       '76 $/h - 82 $/h', '55 $/h - 58 $/h',\n",
       "       '170.000 $/año - 199.000 $/año', '170.000 $/año - 200.000 $/año',\n",
       "       '50.000 $/año - 85.000 $/año', '30 $/hr',\n",
       "       '80.000 $/año - 95.000 $/año', '500.000 $/yr',\n",
       "       '140.000 $/año - 180.000 $/año', '135.200 $/año - 145.600 $/año',\n",
       "       '80 $/h - 85 $/h', '70 $/h - 80 $/h',\n",
       "       '84.546 $/año - 109.908 $/año', '131.900 $/año - 151.700 $/año',\n",
       "       '17 $/hr', '50 $/h - 54 $/h', '95.000 $/año - 115.000 $/año',\n",
       "       '141.570 $/año - 173.030 $/año', '100.000 $/año - 125.000 $/año',\n",
       "       '36 $/h - 39,58 $/h', '4.649 $/mes - 9.465 $/mes',\n",
       "       '6.482 $/mes - 8.102 $/mes', '3.240 $/mes - 3.907 $/mes',\n",
       "       '35 $/h - 40 $/h', '125.000 $/año - 175.000 $/año',\n",
       "       '150.000 $/año - 180.000 $/año', '70 $/hr', '20 $/h - 24 $/h',\n",
       "       '70 $/h - 100 $/h', '130.000 $/año - 205.000 $/año',\n",
       "       '15 $/h - 35 $/h', '198.200 $/año - 297.300 $/año', '244.000 $/yr',\n",
       "       '45.000 $/yr', '85.000 $/año - 90.000 $/año',\n",
       "       '64.000 $/año - 76.000 $/año', '80 $/hr',\n",
       "       '100.000 $/año - 140.000 $/año', '60 $/h - 75 $/h',\n",
       "       '125.000 $/año - 185.000 $/año'], dtype=object)"
      ]
     },
     "execution_count": 1721,
     "metadata": {},
     "output_type": "execute_result"
    }
   ],
   "source": [
    "linkedin['salary_range'].unique()"
   ]
  },
  {
   "cell_type": "code",
   "execution_count": 1722,
   "metadata": {},
   "outputs": [
    {
     "data": {
      "text/plain": [
       "salary_range\n",
       "230000.0    23\n",
       "207750.0    21\n",
       "250000.0    19\n",
       "279125.0    19\n",
       "225000.0    18\n",
       "            ..\n",
       "277500.0     1\n",
       "224640.0     1\n",
       "208000.0     1\n",
       "235200.0     1\n",
       "177600.0     1\n",
       "Name: count, Length: 127, dtype: int64"
      ]
     },
     "execution_count": 1722,
     "metadata": {},
     "output_type": "execute_result"
    }
   ],
   "source": [
    "hour_pattern = r\"(\\d+) \\$\\/hr\"\n",
    "year_pattern = r\"(\\d+\\.?\\d*) \\$\\/yr\"\n",
    "hour_range_pattern = r\"(\\d+\\,?\\d*) \\$\\/h - (\\d+\\,?\\d*) \\$\\/h\"\n",
    "year_range_pattern = r\"(\\d+\\.?\\d*) \\$\\/año - (\\d+\\.?\\d*) \\$\\/año\"\n",
    "month_range_pattern = r\"(\\d+\\.?\\d*) \\$\\/mes - (\\d+\\.?\\d*) \\$\\/mes\"\n",
    "\n",
    "\n",
    "def clean_salary(row):\n",
    "    match_h = re.match(hour_pattern, str(row))\n",
    "    match_y = re.match(year_pattern, str(row))\n",
    "    match_rh = re.match(hour_range_pattern, str(row))\n",
    "    match_ry = re.match(year_range_pattern, str(row))\n",
    "    match_rm = re.match(month_range_pattern, str(row))\n",
    "    if match_h:\n",
    "        num_h = match_h.group(1)\n",
    "        num_w = int(num_h) * 40\n",
    "        return int(num_w * 48)\n",
    "    elif match_y:\n",
    "        return int(match_y.group(1).replace('.', ''))\n",
    "    elif match_rh:\n",
    "        min_ = match_rh.group(1)\n",
    "        max_ = match_rh.group(2)\n",
    "        num_h = float(min_.replace(',', '.')) + float(max_.replace(',', '.')) / 2\n",
    "        num_w = num_h * 40\n",
    "        return int(num_w * 48)\n",
    "    elif match_ry:\n",
    "        min_ = match_ry.group(1)\n",
    "        max_ = match_ry.group(2)\n",
    "        if len(min_) <= 3:\n",
    "            min_ += '000'\n",
    "        if len(max_) <= 3:\n",
    "            max_ += '000'\n",
    "        num_y = float(min_.replace('.', '')) + float(max_.replace('.', '')) / 2\n",
    "        return int(num_y)\n",
    "    elif match_rm:\n",
    "        min_ = match_rm.group(1)\n",
    "        max_ = match_rm.group(2)\n",
    "        num_m = float(min_.replace('.', '')) + float(max_.replace('.', '')) / 2\n",
    "        return int(num_m * 12)\n",
    "    else:\n",
    "        return np.nan\n",
    "\n",
    "linkedin['salary_range'] = linkedin['salary_range'].apply(clean_salary)\n",
    "linkedin['salary_range'].value_counts()"
   ]
  },
  {
   "cell_type": "code",
   "execution_count": 1723,
   "metadata": {},
   "outputs": [
    {
     "data": {
      "text/html": [
       "<div>\n",
       "<style scoped>\n",
       "    .dataframe tbody tr th:only-of-type {\n",
       "        vertical-align: middle;\n",
       "    }\n",
       "\n",
       "    .dataframe tbody tr th {\n",
       "        vertical-align: top;\n",
       "    }\n",
       "\n",
       "    .dataframe thead th {\n",
       "        text-align: right;\n",
       "    }\n",
       "</style>\n",
       "<table border=\"1\" class=\"dataframe\">\n",
       "  <thead>\n",
       "    <tr style=\"text-align: right;\">\n",
       "      <th></th>\n",
       "      <th>job_id</th>\n",
       "      <th>job_title</th>\n",
       "      <th>company_name</th>\n",
       "      <th>company_state</th>\n",
       "      <th>salary_range</th>\n",
       "      <th>remote_ratio</th>\n",
       "      <th>employment_type</th>\n",
       "      <th>experience_level</th>\n",
       "      <th>company_size</th>\n",
       "      <th>employees</th>\n",
       "    </tr>\n",
       "  </thead>\n",
       "  <tbody>\n",
       "    <tr>\n",
       "      <th>514</th>\n",
       "      <td>3773895778</td>\n",
       "      <td>Data Analyst  I</td>\n",
       "      <td>Centene Corporation</td>\n",
       "      <td>IA</td>\n",
       "      <td>207750.0</td>\n",
       "      <td>En remoto</td>\n",
       "      <td>Jornada completa</td>\n",
       "      <td>Sin experiencia</td>\n",
       "      <td>L</td>\n",
       "      <td>10.001</td>\n",
       "    </tr>\n",
       "    <tr>\n",
       "      <th>109</th>\n",
       "      <td>3755427585</td>\n",
       "      <td>Machine Learning Engineer</td>\n",
       "      <td>hackajob</td>\n",
       "      <td>CA</td>\n",
       "      <td>205000.0</td>\n",
       "      <td>En remoto</td>\n",
       "      <td>Jornada completa</td>\n",
       "      <td>Intermedio</td>\n",
       "      <td>M</td>\n",
       "      <td>200</td>\n",
       "    </tr>\n",
       "    <tr>\n",
       "      <th>260</th>\n",
       "      <td>3765447371</td>\n",
       "      <td>Predictive Modeler/Data Scientist 212176</td>\n",
       "      <td>Medix™</td>\n",
       "      <td>IL</td>\n",
       "      <td>107500.0</td>\n",
       "      <td>En remoto</td>\n",
       "      <td>Contrato por obra</td>\n",
       "      <td>Intermedio</td>\n",
       "      <td>L</td>\n",
       "      <td>1.000</td>\n",
       "    </tr>\n",
       "    <tr>\n",
       "      <th>196</th>\n",
       "      <td>3761926222</td>\n",
       "      <td>Data Analyst</td>\n",
       "      <td>Hexaware Technologies</td>\n",
       "      <td>VA</td>\n",
       "      <td>265000.0</td>\n",
       "      <td>Híbrido</td>\n",
       "      <td>Jornada completa</td>\n",
       "      <td>Intermedio</td>\n",
       "      <td>L</td>\n",
       "      <td>10.001</td>\n",
       "    </tr>\n",
       "    <tr>\n",
       "      <th>558</th>\n",
       "      <td>3775534052</td>\n",
       "      <td>Online Data Analyst</td>\n",
       "      <td>TELUS International</td>\n",
       "      <td>TN</td>\n",
       "      <td>NaN</td>\n",
       "      <td>En remoto</td>\n",
       "      <td>Media jornada</td>\n",
       "      <td>Sin experiencia</td>\n",
       "      <td>L</td>\n",
       "      <td>10.001</td>\n",
       "    </tr>\n",
       "  </tbody>\n",
       "</table>\n",
       "</div>"
      ],
      "text/plain": [
       "         job_id                                 job_title  \\\n",
       "514  3773895778                           Data Analyst  I   \n",
       "109  3755427585                 Machine Learning Engineer   \n",
       "260  3765447371  Predictive Modeler/Data Scientist 212176   \n",
       "196  3761926222                              Data Analyst   \n",
       "558  3775534052                       Online Data Analyst   \n",
       "\n",
       "              company_name company_state  salary_range remote_ratio  \\\n",
       "514    Centene Corporation            IA      207750.0    En remoto   \n",
       "109               hackajob            CA      205000.0    En remoto   \n",
       "260                 Medix™            IL      107500.0    En remoto   \n",
       "196  Hexaware Technologies            VA      265000.0      Híbrido   \n",
       "558    TELUS International            TN           NaN    En remoto   \n",
       "\n",
       "       employment_type experience_level company_size employees  \n",
       "514   Jornada completa  Sin experiencia            L    10.001  \n",
       "109   Jornada completa       Intermedio            M       200  \n",
       "260  Contrato por obra       Intermedio            L     1.000  \n",
       "196   Jornada completa       Intermedio            L    10.001  \n",
       "558      Media jornada  Sin experiencia            L    10.001  "
      ]
     },
     "execution_count": 1723,
     "metadata": {},
     "output_type": "execute_result"
    }
   ],
   "source": [
    "linkedin.sample(5)"
   ]
  },
  {
   "cell_type": "markdown",
   "metadata": {},
   "source": [
    "#### Cleaning 'job_title' column"
   ]
  },
  {
   "cell_type": "code",
   "execution_count": 1724,
   "metadata": {},
   "outputs": [
    {
     "data": {
      "text/plain": [
       "job_title\n",
       "Machine Learning Engineer                       60\n",
       "Data Analyst                                    52\n",
       "Data Engineer                                   48\n",
       "Data Scientist                                  39\n",
       "Data Analyst  I                                 19\n",
       "                                                ..\n",
       "Business Data Scientist, Early Career (2024)     1\n",
       "Data Scientist - Investment Management           1\n",
       "Python Data Engineer                             1\n",
       "AI Research Engineer                             1\n",
       "Sr. Data Scientist                               1\n",
       "Name: count, Length: 356, dtype: int64"
      ]
     },
     "execution_count": 1724,
     "metadata": {},
     "output_type": "execute_result"
    }
   ],
   "source": [
    "linkedin['job_title'].value_counts()"
   ]
  },
  {
   "cell_type": "code",
   "execution_count": 1725,
   "metadata": {},
   "outputs": [
    {
     "data": {
      "text/plain": [
       "array(['Machine Learning Engineer', 'CYBER INTEL ANALYST - PEN TESTER',\n",
       "       'Deep Learning Engineer',\n",
       "       'Senior Algorithms Engineer (Image Processing)', 'Data Engineer',\n",
       "       'Data Scientist',\n",
       "       'Computer Vision Engineer (Multimodal with Large Language Models)',\n",
       "       'BI Analyst', 'Data Analyst', 'Artificial Learning Engineer',\n",
       "       'Research Engineer', 'Computer Vision Engineer',\n",
       "       'RF Computational Engineer 3', 'Project Scheduler',\n",
       "       'Adaptive Optics Senior Software Engineer',\n",
       "       'Finance Analyst (Benelux)', 'Deep Learning Research Intern',\n",
       "       'Core Infrastructure Engineer - Networking', 'Analytics Engineer',\n",
       "       'Applied Scientist', None, 'Quantitative Researcher',\n",
       "       'Computer Vision and Optimization Engineer', 'AI Engineer',\n",
       "       'Software Company DevOps Engineer',\n",
       "       'summer intern - r&d/artificial intelligence',\n",
       "       'Remote Cruise Planner - Entry Level',\n",
       "       'Remote Travel Consultant - Entry Level',\n",
       "       'Remote Customer Service Sales Rep - Entry Level',\n",
       "       'Remote Corporate & Event Planning - Entry Level',\n",
       "       'Remote Resort Reservationist - Entry Level',\n",
       "       'Remote Marketing Travel Specialist',\n",
       "       'Remote Tourism Advisor - Entry Level',\n",
       "       'Remote Coordinator - Entry Level', 'Business Analyst',\n",
       "       'Human Resources Analyst',\n",
       "       'Summer Intern - Publishing Ethics and IPR', 'Content Analyst',\n",
       "       'BI Engineer', 'GIS Analyst II',\n",
       "       'Content Insights & Optimization Manager',\n",
       "       'Biopharmaceutical   SENIOR COMMISSIONING & QUALIFICATION ENGINEER',\n",
       "       'Pharmaceutical Process Engineer',\n",
       "       'NBC Sports Finance, Technology & Engineering Internships',\n",
       "       'Sr. Applied Scientist, WSAT', 'supply chain analyst',\n",
       "       'Senior P&C Analytics Actuary - PR12617', 'Product Analyst',\n",
       "       'Quality Control Analyst', 'Senior Growth Product Manager',\n",
       "       'RESEARCH ANALYST', 'product manager – fairness benchmarking',\n",
       "       'Growth Hacking Consultant - Instagram/Tiktok', 'Moderator',\n",
       "       'Statistical Programmer',\n",
       "       'Consultancy – PSEA Risk Analysis & Mapping Consultant Req.#567862',\n",
       "       'Volunteer: CrowdDoing Service Learning Marketing Director Volunteer',\n",
       "       'Instructor', 'Propulsion Engineer (Merlin Flight Operations)',\n",
       "       'Prophet Model Developer',\n",
       "       'senior paid social analyst (growth marketing team)',\n",
       "       'RESEARCH SCIENTIST 2', 'RESEARCH STUDY ASSISTANT',\n",
       "       'responsible ai testing science consultant',\n",
       "       'Digital Marketing Strategist',\n",
       "       'Insights Analyst – LinkedIn Talent Solutions',\n",
       "       'Pharmaceutical Engineer',\n",
       "       'artificial intelligence architecture(fully remote)',\n",
       "       'solutions architect, generative ai',\n",
       "       'Product Management Intern, AV - Summer 2024'], dtype=object)"
      ]
     },
     "execution_count": 1725,
     "metadata": {},
     "output_type": "execute_result"
    }
   ],
   "source": [
    "def standarize_job(row):\n",
    "    title = str(row).lower()\n",
    "    if 'data engineer' in title:\n",
    "        return 'Data Engineer'\n",
    "    elif 'data analyst' in title:\n",
    "        return 'Data Analyst'\n",
    "    elif 'data scientist' in title:\n",
    "        return 'Data Scientist'\n",
    "    elif 'data' in title and 'junior' not in title:\n",
    "        if 'engineer' in title:\n",
    "            return 'Data Engineer'\n",
    "        elif 'analyst' in title:\n",
    "            return 'Data Analyst'\n",
    "    elif ('machine' in title and 'learning' in title) or ('ml' in title and 'engineer' in title):\n",
    "        return 'Machine Learning Engineer'\n",
    "    elif 'deep' in title and 'learning' in title and 'engineer' in title:\n",
    "        return 'Deep Learning Engineer'\n",
    "    elif 'junior' in title:\n",
    "        if 'data' in title and 'engineer' in title:\n",
    "            return 'Data Engineer'\n",
    "        elif 'data' in title and 'analyst' in title:\n",
    "            return 'Data Analyst'\n",
    "    elif 'business' in title:\n",
    "        if 'intelligence' in title and 'analyst' in title:\n",
    "            return 'BI Analyst'\n",
    "        elif 'analyst' in title:\n",
    "            return 'Business Analyst'\n",
    "        else:\n",
    "            return 'BI Engineer'\n",
    "    elif 'artificial intelligence' in title or 'ai' in title:\n",
    "        if 'research engineer' in title:\n",
    "            return 'Research Engineer'\n",
    "        elif 'ml' in title:\n",
    "            return 'Machine Learning Engineer'\n",
    "        elif 'engineer' in title:\n",
    "            return 'AI Engineer'\n",
    "        else:\n",
    "            return title\n",
    "    else:\n",
    "        return str(row)\n",
    "\n",
    "\n",
    "linkedin['job_title'] = linkedin['job_title'].apply(standarize_job)\n",
    "linkedin['job_title'].unique()"
   ]
  },
  {
   "cell_type": "markdown",
   "metadata": {},
   "source": [
    "    Categories for 'job_title' column"
   ]
  },
  {
   "cell_type": "code",
   "execution_count": 1726,
   "metadata": {},
   "outputs": [],
   "source": [
    "categories = [\n",
    "    'Data Engineer',\n",
    "    'Data Analyst',\n",
    "    'Data Scientist',\n",
    "    'Machine Learning Engineer',\n",
    "    'Deep Learning Engineer',\n",
    "    'BI Analyst',\n",
    "    'Business Analyst',\n",
    "    'BI Engineer',\n",
    "    'Research Engineer',\n",
    "    'AI Engineer'\n",
    "]"
   ]
  },
  {
   "cell_type": "code",
   "execution_count": 1727,
   "metadata": {},
   "outputs": [
    {
     "data": {
      "text/plain": [
       "(651, 10)"
      ]
     },
     "execution_count": 1727,
     "metadata": {},
     "output_type": "execute_result"
    }
   ],
   "source": [
    "linkedin.shape"
   ]
  },
  {
   "cell_type": "code",
   "execution_count": 1728,
   "metadata": {},
   "outputs": [],
   "source": [
    "linkedin = linkedin[linkedin['job_title'].isin(categories)]\n",
    "linkedin = linkedin.drop(columns=['employees'])"
   ]
  },
  {
   "cell_type": "code",
   "execution_count": 1729,
   "metadata": {},
   "outputs": [
    {
     "data": {
      "text/plain": [
       "(562, 9)"
      ]
     },
     "execution_count": 1729,
     "metadata": {},
     "output_type": "execute_result"
    }
   ],
   "source": [
    "linkedin.shape"
   ]
  },
  {
   "cell_type": "code",
   "execution_count": 1730,
   "metadata": {},
   "outputs": [
    {
     "data": {
      "text/html": [
       "<div>\n",
       "<style scoped>\n",
       "    .dataframe tbody tr th:only-of-type {\n",
       "        vertical-align: middle;\n",
       "    }\n",
       "\n",
       "    .dataframe tbody tr th {\n",
       "        vertical-align: top;\n",
       "    }\n",
       "\n",
       "    .dataframe thead th {\n",
       "        text-align: right;\n",
       "    }\n",
       "</style>\n",
       "<table border=\"1\" class=\"dataframe\">\n",
       "  <thead>\n",
       "    <tr style=\"text-align: right;\">\n",
       "      <th></th>\n",
       "      <th>job_id</th>\n",
       "      <th>job_title</th>\n",
       "      <th>company_name</th>\n",
       "      <th>company_state</th>\n",
       "      <th>salary_range</th>\n",
       "      <th>remote_ratio</th>\n",
       "      <th>employment_type</th>\n",
       "      <th>experience_level</th>\n",
       "      <th>company_size</th>\n",
       "    </tr>\n",
       "  </thead>\n",
       "  <tbody>\n",
       "    <tr>\n",
       "      <th>116</th>\n",
       "      <td>3756135992</td>\n",
       "      <td>Data Scientist</td>\n",
       "      <td>Adobe</td>\n",
       "      <td>CA</td>\n",
       "      <td>120000.0</td>\n",
       "      <td>Híbrido</td>\n",
       "      <td>Prácticas</td>\n",
       "      <td>Prácticas</td>\n",
       "      <td>L</td>\n",
       "    </tr>\n",
       "  </tbody>\n",
       "</table>\n",
       "</div>"
      ],
      "text/plain": [
       "         job_id       job_title company_name company_state  salary_range  \\\n",
       "116  3756135992  Data Scientist        Adobe            CA      120000.0   \n",
       "\n",
       "    remote_ratio employment_type experience_level company_size  \n",
       "116      Híbrido       Prácticas        Prácticas            L  "
      ]
     },
     "execution_count": 1730,
     "metadata": {},
     "output_type": "execute_result"
    }
   ],
   "source": [
    "linkedin[linkedin['job_id'] == 3756135992]"
   ]
  },
  {
   "cell_type": "code",
   "execution_count": 1731,
   "metadata": {},
   "outputs": [],
   "source": [
    "linkedin.to_csv('../data/linkedin_standarized.csv', index=False)"
   ]
  }
 ],
 "metadata": {
  "kernelspec": {
   "display_name": "project",
   "language": "python",
   "name": "python3"
  },
  "language_info": {
   "codemirror_mode": {
    "name": "ipython",
    "version": 3
   },
   "file_extension": ".py",
   "mimetype": "text/x-python",
   "name": "python",
   "nbconvert_exporter": "python",
   "pygments_lexer": "ipython3",
   "version": "3.11.5"
  }
 },
 "nbformat": 4,
 "nbformat_minor": 2
}
