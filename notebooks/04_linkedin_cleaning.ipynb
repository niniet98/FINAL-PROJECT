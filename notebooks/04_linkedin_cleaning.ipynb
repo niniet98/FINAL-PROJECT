{
 "cells": [
  {
   "cell_type": "markdown",
   "metadata": {},
   "source": [
    "#### Imports"
   ]
  },
  {
   "cell_type": "code",
   "execution_count": 417,
   "metadata": {},
   "outputs": [],
   "source": [
    "import pandas as pd\n",
    "import numpy as np\n",
    "import re"
   ]
  },
  {
   "cell_type": "markdown",
   "metadata": {},
   "source": [
    "#### Read linkedin csv"
   ]
  },
  {
   "cell_type": "code",
   "execution_count": 418,
   "metadata": {},
   "outputs": [
    {
     "data": {
      "text/html": [
       "<div>\n",
       "<style scoped>\n",
       "    .dataframe tbody tr th:only-of-type {\n",
       "        vertical-align: middle;\n",
       "    }\n",
       "\n",
       "    .dataframe tbody tr th {\n",
       "        vertical-align: top;\n",
       "    }\n",
       "\n",
       "    .dataframe thead th {\n",
       "        text-align: right;\n",
       "    }\n",
       "</style>\n",
       "<table border=\"1\" class=\"dataframe\">\n",
       "  <thead>\n",
       "    <tr style=\"text-align: right;\">\n",
       "      <th></th>\n",
       "      <th>job_id</th>\n",
       "      <th>job_title</th>\n",
       "      <th>company_name</th>\n",
       "      <th>company_state</th>\n",
       "      <th>salary_range</th>\n",
       "      <th>remote_ratio</th>\n",
       "      <th>employment_type</th>\n",
       "      <th>experience_level</th>\n",
       "      <th>company_size</th>\n",
       "    </tr>\n",
       "  </thead>\n",
       "  <tbody>\n",
       "    <tr>\n",
       "      <th>51</th>\n",
       "      <td>3752496774</td>\n",
       "      <td>AI/ML engineer</td>\n",
       "      <td>First Soft Solutions LLC</td>\n",
       "      <td>· Dallas, TX</td>\n",
       "      <td>78 $/h - 104 $/h</td>\n",
       "      <td>Híbrido</td>\n",
       "      <td>Contrato por obra</td>\n",
       "      <td>Intermedio</td>\n",
       "      <td>De 51 a 200 empleados · Servicios y consultorí...</td>\n",
       "    </tr>\n",
       "    <tr>\n",
       "      <th>281</th>\n",
       "      <td>3775623213</td>\n",
       "      <td>Junior Data Analyst</td>\n",
       "      <td>Coders Data</td>\n",
       "      <td>· Texas, Estados Unidos</td>\n",
       "      <td>20 $/h - 24 $/h</td>\n",
       "      <td>En remoto</td>\n",
       "      <td>Contrato por obra</td>\n",
       "      <td>Sin experiencia</td>\n",
       "      <td>De 201 a 500 empleados · Servicios y consultor...</td>\n",
       "    </tr>\n",
       "    <tr>\n",
       "      <th>288</th>\n",
       "      <td>3775816825</td>\n",
       "      <td>Artificial Intelligence Engineer</td>\n",
       "      <td>Braintrust</td>\n",
       "      <td>· Estados Unidos</td>\n",
       "      <td>15 $/h - 35 $/h</td>\n",
       "      <td>En remoto</td>\n",
       "      <td>Jornada completa</td>\n",
       "      <td>Sin experiencia</td>\n",
       "      <td>De 11 a 50 empleados · Tecnología, información...</td>\n",
       "    </tr>\n",
       "  </tbody>\n",
       "</table>\n",
       "</div>"
      ],
      "text/plain": [
       "         job_id                         job_title              company_name  \\\n",
       "51   3752496774                    AI/ML engineer  First Soft Solutions LLC   \n",
       "281  3775623213               Junior Data Analyst               Coders Data   \n",
       "288  3775816825  Artificial Intelligence Engineer                Braintrust   \n",
       "\n",
       "               company_state      salary_range remote_ratio  \\\n",
       "51              · Dallas, TX  78 $/h - 104 $/h      Híbrido   \n",
       "281  · Texas, Estados Unidos   20 $/h - 24 $/h    En remoto   \n",
       "288         · Estados Unidos   15 $/h - 35 $/h    En remoto   \n",
       "\n",
       "       employment_type experience_level  \\\n",
       "51   Contrato por obra       Intermedio   \n",
       "281  Contrato por obra  Sin experiencia   \n",
       "288   Jornada completa  Sin experiencia   \n",
       "\n",
       "                                          company_size  \n",
       "51   De 51 a 200 empleados · Servicios y consultorí...  \n",
       "281  De 201 a 500 empleados · Servicios y consultor...  \n",
       "288  De 11 a 50 empleados · Tecnología, información...  "
      ]
     },
     "execution_count": 418,
     "metadata": {},
     "output_type": "execute_result"
    }
   ],
   "source": [
    "linkedin = pd.read_csv('../data/linkedin.csv')\n",
    "linkedin.sample(3)"
   ]
  },
  {
   "cell_type": "markdown",
   "metadata": {},
   "source": [
    "#### Cleaning 'company_state' column"
   ]
  },
  {
   "cell_type": "code",
   "execution_count": 419,
   "metadata": {},
   "outputs": [
    {
     "data": {
      "text/plain": [
       "company_state\n",
       "Estados Unidos                             33\n",
       "· Nueva York, NY                           11\n",
       "· Seattle, WA                               8\n",
       "· Washington, DC                            7\n",
       "· Cincinnati, OH                            6\n",
       "                                           ..\n",
       "· Newport News, VA                          1\n",
       "· Morris Plains, NJ                         1\n",
       "· Washington DC-Baltimore y alrededores     1\n",
       "· Chesterfield, VA                          1\n",
       "· Santa Ana, CA                             1\n",
       "Name: count, Length: 151, dtype: int64"
      ]
     },
     "execution_count": 419,
     "metadata": {},
     "output_type": "execute_result"
    }
   ],
   "source": [
    "states = ['AL', 'AK', 'AZ', 'AR', 'CA', 'NC', 'SC', 'CO', 'CT', 'ND', 'SD', 'DE', 'FL', 'GA', 'HI', 'ID', 'IL', 'IN', 'IA', 'KS', 'KY', 'LA',\n",
    "          'ME', 'MD', 'MA', 'MI', 'MN', 'MS', 'MO', 'MT', 'NE', 'NV', 'NJ', 'NY', 'NH', 'NM', 'OH', 'OK', 'OR', 'PA', 'RI', 'TN', 'TX', 'UT',\n",
    "          'UT', 'VT', 'VA', 'WV', 'WA', 'WI', 'WY']\n",
    "linkedin['company_state'] = linkedin['company_state'].apply(lambda row: 'Estados Unidos' if row == '· Estados Unidos' else row)\n",
    "linkedin['company_state'].value_counts()"
   ]
  },
  {
   "cell_type": "code",
   "execution_count": 420,
   "metadata": {},
   "outputs": [],
   "source": [
    "def fclean_company_state(df, states):\n",
    "    for i in states:\n",
    "        linkedin['company_state'] = linkedin['company_state'].apply(lambda row: i if i in str(row) else row)\n",
    "    return df\n",
    "\n",
    "linkedin = fclean_company_state(linkedin, states)"
   ]
  },
  {
   "cell_type": "code",
   "execution_count": 421,
   "metadata": {},
   "outputs": [],
   "source": [
    "def sclean_company_state(df, states):\n",
    "    for key, value in states.items():\n",
    "        linkedin['company_state'] = linkedin['company_state'].apply(lambda row: value if key in str(row) else row)\n",
    "    return df\n",
    "\n",
    "left_states = {\n",
    "    'Virginia': 'VA',\n",
    "    'Minnesota': 'MN',\n",
    "    'Washington': 'WA',\n",
    "    'San Francisco': 'CA',\n",
    "    'Nebraska': 'NE',\n",
    "    'California': 'CA',\n",
    "    'Texas': 'TX',\n",
    "    'Nueva York': 'NY',\n",
    "    'Michigan': 'MI',\n",
    "    'Luisiana': 'LA',\n",
    "    'Florida': 'FL',\n",
    "    'Maryland': 'MD',\n",
    "    'Nevada': 'NV',\n",
    "    'Oregón': 'OR',\n",
    "    'Oklahoma': 'OK',\n",
    "    'Georgia': 'GA',\n",
    "    'Carolina del Sur': 'SC',\n",
    "    'Delaware': 'DE',\n",
    "    'Ohio': 'OH',\n",
    "    'Arkansas': 'AR',\n",
    "    'Iowa': 'IA',\n",
    "    'Carolina del Norte': 'NC',\n",
    "    'Indiana': 'IN',\n",
    "    'Nashville': 'TN',\n",
    "    'Massachusetts': 'MA',\n",
    "    'Tennessee': 'TN',\n",
    "    'Enid': 'OK'\n",
    "}\n",
    "linkedin = sclean_company_state(linkedin, left_states)"
   ]
  },
  {
   "cell_type": "markdown",
   "metadata": {},
   "source": [
    "#### Cleaning 'company_state' column"
   ]
  },
  {
   "cell_type": "code",
   "execution_count": 422,
   "metadata": {},
   "outputs": [
    {
     "data": {
      "text/html": [
       "<div>\n",
       "<style scoped>\n",
       "    .dataframe tbody tr th:only-of-type {\n",
       "        vertical-align: middle;\n",
       "    }\n",
       "\n",
       "    .dataframe tbody tr th {\n",
       "        vertical-align: top;\n",
       "    }\n",
       "\n",
       "    .dataframe thead th {\n",
       "        text-align: right;\n",
       "    }\n",
       "</style>\n",
       "<table border=\"1\" class=\"dataframe\">\n",
       "  <thead>\n",
       "    <tr style=\"text-align: right;\">\n",
       "      <th></th>\n",
       "      <th>job_id</th>\n",
       "      <th>job_title</th>\n",
       "      <th>company_name</th>\n",
       "      <th>company_state</th>\n",
       "      <th>salary_range</th>\n",
       "      <th>remote_ratio</th>\n",
       "      <th>employment_type</th>\n",
       "      <th>experience_level</th>\n",
       "      <th>company_size</th>\n",
       "    </tr>\n",
       "  </thead>\n",
       "  <tbody>\n",
       "    <tr>\n",
       "      <th>250</th>\n",
       "      <td>3773899223</td>\n",
       "      <td>Data Analyst  I</td>\n",
       "      <td>Centene Corporation</td>\n",
       "      <td>NH</td>\n",
       "      <td>131.900 $/año - 151.700 $/año</td>\n",
       "      <td>En remoto</td>\n",
       "      <td>Jornada completa</td>\n",
       "      <td>Sin experiencia</td>\n",
       "      <td>Más de 10.001 empleados · Hospitales y atenció...</td>\n",
       "    </tr>\n",
       "    <tr>\n",
       "      <th>290</th>\n",
       "      <td>3775821533</td>\n",
       "      <td>Machine Learning Engineer</td>\n",
       "      <td>Conexess Group</td>\n",
       "      <td>MO</td>\n",
       "      <td>198.200 $/año - 297.300 $/año</td>\n",
       "      <td>En remoto</td>\n",
       "      <td>Jornada completa</td>\n",
       "      <td>Sin experiencia</td>\n",
       "      <td>De 51 a 200 empleados · Servicios y consultorí...</td>\n",
       "    </tr>\n",
       "    <tr>\n",
       "      <th>21</th>\n",
       "      <td>3728125911</td>\n",
       "      <td>Research Engineer - FAIR Core Learning</td>\n",
       "      <td>Meta</td>\n",
       "      <td>WA</td>\n",
       "      <td>200.000 $/año - 240.000 $/año</td>\n",
       "      <td>Híbrido</td>\n",
       "      <td>Jornada completa</td>\n",
       "      <td>Director</td>\n",
       "      <td>Más de 10.001 empleados · Desarrollo de software</td>\n",
       "    </tr>\n",
       "    <tr>\n",
       "      <th>115</th>\n",
       "      <td>3765439827</td>\n",
       "      <td>Data Scientist - Marketing Analytics (212176)</td>\n",
       "      <td>Medix Technology</td>\n",
       "      <td>Estados Unidos</td>\n",
       "      <td>75 $/h - 80 $/h</td>\n",
       "      <td>En remoto</td>\n",
       "      <td>Contrato por obra</td>\n",
       "      <td>Intermedio</td>\n",
       "      <td>De 201 a 500 empleados · Servicios y consultor...</td>\n",
       "    </tr>\n",
       "    <tr>\n",
       "      <th>228</th>\n",
       "      <td>3773397379</td>\n",
       "      <td>Senior Data Scientist</td>\n",
       "      <td>Charter Global</td>\n",
       "      <td>VA</td>\n",
       "      <td>75 $/h - 80 $/h</td>\n",
       "      <td>En remoto</td>\n",
       "      <td>Contrato por obra</td>\n",
       "      <td>Intermedio</td>\n",
       "      <td>De 1.001 a 5.000 empleados · Servicios y consu...</td>\n",
       "    </tr>\n",
       "  </tbody>\n",
       "</table>\n",
       "</div>"
      ],
      "text/plain": [
       "         job_id                                      job_title  \\\n",
       "250  3773899223                                Data Analyst  I   \n",
       "290  3775821533                      Machine Learning Engineer   \n",
       "21   3728125911         Research Engineer - FAIR Core Learning   \n",
       "115  3765439827  Data Scientist - Marketing Analytics (212176)   \n",
       "228  3773397379                          Senior Data Scientist   \n",
       "\n",
       "            company_name   company_state                   salary_range  \\\n",
       "250  Centene Corporation              NH  131.900 $/año - 151.700 $/año   \n",
       "290       Conexess Group              MO  198.200 $/año - 297.300 $/año   \n",
       "21                  Meta              WA  200.000 $/año - 240.000 $/año   \n",
       "115     Medix Technology  Estados Unidos                75 $/h - 80 $/h   \n",
       "228       Charter Global              VA                75 $/h - 80 $/h   \n",
       "\n",
       "    remote_ratio    employment_type experience_level  \\\n",
       "250    En remoto   Jornada completa  Sin experiencia   \n",
       "290    En remoto   Jornada completa  Sin experiencia   \n",
       "21       Híbrido   Jornada completa         Director   \n",
       "115    En remoto  Contrato por obra       Intermedio   \n",
       "228    En remoto  Contrato por obra       Intermedio   \n",
       "\n",
       "                                          company_size  \n",
       "250  Más de 10.001 empleados · Hospitales y atenció...  \n",
       "290  De 51 a 200 empleados · Servicios y consultorí...  \n",
       "21    Más de 10.001 empleados · Desarrollo de software  \n",
       "115  De 201 a 500 empleados · Servicios y consultor...  \n",
       "228  De 1.001 a 5.000 empleados · Servicios y consu...  "
      ]
     },
     "execution_count": 422,
     "metadata": {},
     "output_type": "execute_result"
    }
   ],
   "source": [
    "linkedin.sample(5)"
   ]
  },
  {
   "cell_type": "code",
   "execution_count": 423,
   "metadata": {},
   "outputs": [
    {
     "data": {
      "text/plain": [
       "remote_ratio\n",
       "En remoto                                                                               117\n",
       "Híbrido                                                                                 105\n",
       "Presencial                                                                               69\n",
       "En remotoCoincide con tus preferencias de empleo. La modalidad laboral es En remoto.      2\n",
       "Name: count, dtype: int64"
      ]
     },
     "execution_count": 423,
     "metadata": {},
     "output_type": "execute_result"
    }
   ],
   "source": [
    "linkedin['remote_ratio'].value_counts()"
   ]
  },
  {
   "cell_type": "code",
   "execution_count": 424,
   "metadata": {},
   "outputs": [
    {
     "data": {
      "text/plain": [
       "remote_ratio\n",
       "En remoto     119\n",
       "Híbrido       105\n",
       "Presencial     69\n",
       "nan             2\n",
       "Name: count, dtype: int64"
      ]
     },
     "execution_count": 424,
     "metadata": {},
     "output_type": "execute_result"
    }
   ],
   "source": [
    "def clean_remote_ratio(df, dict_):\n",
    "    for key, val in dict_.items():\n",
    "        df['remote_ratio'] = df['remote_ratio'].apply(lambda row: key if key in str(row) else str(row))\n",
    "    return df\n",
    "\n",
    "remote_dict = {\n",
    "    'Presencial': 0,\n",
    "    'Híbrido': 50,\n",
    "    'En remoto': 100\n",
    "}\n",
    "linkedin = clean_remote_ratio(linkedin, remote_dict)\n",
    "linkedin['remote_ratio'].value_counts()"
   ]
  },
  {
   "cell_type": "code",
   "execution_count": 434,
   "metadata": {},
   "outputs": [
    {
     "data": {
      "text/plain": [
       "remote_ratio\n",
       "En remoto     119\n",
       "Híbrido       105\n",
       "Presencial     69\n",
       "Name: count, dtype: int64"
      ]
     },
     "execution_count": 434,
     "metadata": {},
     "output_type": "execute_result"
    }
   ],
   "source": [
    "linkedin.loc[linkedin['remote_ratio'] == 'nan', 'remote_ratio'] = np.nan\n",
    "linkedin['remote_ratio'].value_counts()"
   ]
  },
  {
   "cell_type": "markdown",
   "metadata": {},
   "source": [
    "#### Cleaning 'experience_level' column"
   ]
  },
  {
   "cell_type": "code",
   "execution_count": 427,
   "metadata": {},
   "outputs": [
    {
     "data": {
      "text/plain": [
       "experience_level\n",
       "Intermedio                 118\n",
       "Sin experiencia             79\n",
       "Algo de responsabilidad     49\n",
       "Prácticas                   20\n",
       "Director                    11\n",
       "Ejecutivo                    2\n",
       "Name: count, dtype: int64"
      ]
     },
     "execution_count": 427,
     "metadata": {},
     "output_type": "execute_result"
    }
   ],
   "source": [
    "linkedin.sample(5)\n",
    "linkedin['experience_level'].value_counts()"
   ]
  },
  {
   "cell_type": "markdown",
   "metadata": {},
   "source": [
    "#### Cleaning 'employment_type' column"
   ]
  },
  {
   "cell_type": "code",
   "execution_count": 428,
   "metadata": {},
   "outputs": [
    {
     "data": {
      "text/plain": [
       "employment_type\n",
       "Jornada completa     185\n",
       "Contrato por obra     54\n",
       "Media jornada         31\n",
       "Prácticas             25\n",
       "Name: count, dtype: int64"
      ]
     },
     "execution_count": 428,
     "metadata": {},
     "output_type": "execute_result"
    }
   ],
   "source": [
    "def clean_employment_type(df, list_):\n",
    "    for i in list_:\n",
    "        df['employment_type'] = df['employment_type'].apply(lambda row: i if i in str(row) else str(row))\n",
    "    return df\n",
    "\n",
    "remote_dict = [\n",
    "    'Jornada completa',\n",
    "    'Contrato por obra',\n",
    "    'Media jornada',\n",
    "    'Prácticas'\n",
    "]\n",
    "linkedin = clean_employment_type(linkedin, remote_dict)\n",
    "linkedin['employment_type'].value_counts()"
   ]
  },
  {
   "cell_type": "markdown",
   "metadata": {},
   "source": [
    "#### Cleaning 'company_size' column"
   ]
  },
  {
   "cell_type": "code",
   "execution_count": 429,
   "metadata": {},
   "outputs": [
    {
     "data": {
      "text/plain": [
       "company_size\n",
       "Más de 10.001 empleados · Hospitales y atención sanitaria                        22\n",
       "De 51 a 200 empleados · Servicios y consultoría de TI                            22\n",
       "De 5.001 a 10.000 empleados · Servicios y consultoría de TI                      15\n",
       "Más de 10.001 empleados · Seguros                                                12\n",
       "De 51 a 200 empleados · Dotación y selección de personal                         12\n",
       "                                                                                 ..\n",
       "De 51 a 200 empleados · Departamento de defensa y del espacio exterior            1\n",
       "Más de 10.001 empleados · Fabricación de productos de defensa y espacio           1\n",
       "Más de 10.001 empleados · Fabricación de maquinaria de automatización             1\n",
       "De 51 a 200 empleados · Servicios de investigación                                1\n",
       "De 1.001 a 5.000 empleados · Tecnología, información y medios de comunicación     1\n",
       "Name: count, Length: 96, dtype: int64"
      ]
     },
     "execution_count": 429,
     "metadata": {},
     "output_type": "execute_result"
    }
   ],
   "source": [
    "linkedin['company_size'].value_counts()"
   ]
  },
  {
   "cell_type": "code",
   "execution_count": 430,
   "metadata": {},
   "outputs": [
    {
     "data": {
      "text/plain": [
       "empleados\n",
       "Más de 10.001 empleados                                                     82\n",
       "De 51 a 200 empleados                                                       59\n",
       "De 1.001 a 5.000 empleados                                                  44\n",
       "De 11 a 50 empleados                                                        32\n",
       "De 5.001 a 10.000 empleados                                                 22\n",
       "Entre 1 y 10 empleados                                                      21\n",
       "De 201 a 500 empleados                                                      18\n",
       "De 501 a 1.000 empleados                                                    13\n",
       "Ve una comparación con los otros 287 solicitantes. Probar Premium gratis     1\n",
       "Fabricación de productos de plástico                                         1\n",
       "Ve una comparación con los otros 444 solicitantes. Probar Premium gratis     1\n",
       "Servicios para el individuo y la familia                                     1\n",
       "Name: count, dtype: int64"
      ]
     },
     "execution_count": 430,
     "metadata": {},
     "output_type": "execute_result"
    }
   ],
   "source": [
    "linkedin['empleados'] = linkedin['company_size'].apply(lambda row: row.split('·')[0].strip())\n",
    "linkedin['empleados'].value_counts()"
   ]
  },
  {
   "cell_type": "code",
   "execution_count": 431,
   "metadata": {},
   "outputs": [
    {
     "data": {
      "text/html": [
       "<div>\n",
       "<style scoped>\n",
       "    .dataframe tbody tr th:only-of-type {\n",
       "        vertical-align: middle;\n",
       "    }\n",
       "\n",
       "    .dataframe tbody tr th {\n",
       "        vertical-align: top;\n",
       "    }\n",
       "\n",
       "    .dataframe thead th {\n",
       "        text-align: right;\n",
       "    }\n",
       "</style>\n",
       "<table border=\"1\" class=\"dataframe\">\n",
       "  <thead>\n",
       "    <tr style=\"text-align: right;\">\n",
       "      <th></th>\n",
       "      <th>job_id</th>\n",
       "      <th>job_title</th>\n",
       "      <th>company_name</th>\n",
       "      <th>company_state</th>\n",
       "      <th>salary_range</th>\n",
       "      <th>remote_ratio</th>\n",
       "      <th>employment_type</th>\n",
       "      <th>experience_level</th>\n",
       "      <th>company_size</th>\n",
       "      <th>empleados</th>\n",
       "    </tr>\n",
       "  </thead>\n",
       "  <tbody>\n",
       "    <tr>\n",
       "      <th>91</th>\n",
       "      <td>3762242381</td>\n",
       "      <td>Data Scientist</td>\n",
       "      <td>Probar Premium gratis</td>\n",
       "      <td>IL</td>\n",
       "      <td>140.000 $/año - 170.000 $/año</td>\n",
       "      <td>Híbrido</td>\n",
       "      <td>Jornada completa</td>\n",
       "      <td>Intermedio</td>\n",
       "      <td>Ve una comparación con los otros 287 solicitan...</td>\n",
       "      <td>Ve una comparación con los otros 287 solicitan...</td>\n",
       "    </tr>\n",
       "    <tr>\n",
       "      <th>190</th>\n",
       "      <td>3771514066</td>\n",
       "      <td>Quality Control Analyst</td>\n",
       "      <td>Carolina Poly, Inc.</td>\n",
       "      <td>SC</td>\n",
       "      <td>120.000 $/año - 165.000 $/año</td>\n",
       "      <td>Híbrido</td>\n",
       "      <td>Jornada completa</td>\n",
       "      <td>Sin experiencia</td>\n",
       "      <td>Fabricación de productos de plástico</td>\n",
       "      <td>Fabricación de productos de plástico</td>\n",
       "    </tr>\n",
       "    <tr>\n",
       "      <th>270</th>\n",
       "      <td>3775200323</td>\n",
       "      <td>Data Analyst</td>\n",
       "      <td>Probar Premium gratis</td>\n",
       "      <td>MA</td>\n",
       "      <td>35 $/h - 40 $/h</td>\n",
       "      <td>En remoto</td>\n",
       "      <td>Media jornada</td>\n",
       "      <td>NaN</td>\n",
       "      <td>Ve una comparación con los otros 444 solicitan...</td>\n",
       "      <td>Ve una comparación con los otros 444 solicitan...</td>\n",
       "    </tr>\n",
       "    <tr>\n",
       "      <th>286</th>\n",
       "      <td>3775649749</td>\n",
       "      <td>Data Consultant ( Remote)</td>\n",
       "      <td>Fresca Fresh Blanket Service</td>\n",
       "      <td>Estados Unidos</td>\n",
       "      <td>NaN</td>\n",
       "      <td>En remoto</td>\n",
       "      <td>Media jornada</td>\n",
       "      <td>Algo de responsabilidad</td>\n",
       "      <td>Servicios para el individuo y la familia</td>\n",
       "      <td>Servicios para el individuo y la familia</td>\n",
       "    </tr>\n",
       "  </tbody>\n",
       "</table>\n",
       "</div>"
      ],
      "text/plain": [
       "         job_id                  job_title                  company_name  \\\n",
       "91   3762242381             Data Scientist         Probar Premium gratis   \n",
       "190  3771514066    Quality Control Analyst           Carolina Poly, Inc.   \n",
       "270  3775200323               Data Analyst         Probar Premium gratis   \n",
       "286  3775649749  Data Consultant ( Remote)  Fresca Fresh Blanket Service   \n",
       "\n",
       "      company_state                   salary_range remote_ratio  \\\n",
       "91               IL  140.000 $/año - 170.000 $/año      Híbrido   \n",
       "190              SC  120.000 $/año - 165.000 $/año      Híbrido   \n",
       "270              MA                35 $/h - 40 $/h    En remoto   \n",
       "286  Estados Unidos                            NaN    En remoto   \n",
       "\n",
       "      employment_type         experience_level  \\\n",
       "91   Jornada completa               Intermedio   \n",
       "190  Jornada completa          Sin experiencia   \n",
       "270     Media jornada                      NaN   \n",
       "286     Media jornada  Algo de responsabilidad   \n",
       "\n",
       "                                          company_size  \\\n",
       "91   Ve una comparación con los otros 287 solicitan...   \n",
       "190               Fabricación de productos de plástico   \n",
       "270  Ve una comparación con los otros 444 solicitan...   \n",
       "286           Servicios para el individuo y la familia   \n",
       "\n",
       "                                             empleados  \n",
       "91   Ve una comparación con los otros 287 solicitan...  \n",
       "190               Fabricación de productos de plástico  \n",
       "270  Ve una comparación con los otros 444 solicitan...  \n",
       "286           Servicios para el individuo y la familia  "
      ]
     },
     "execution_count": 431,
     "metadata": {},
     "output_type": "execute_result"
    }
   ],
   "source": [
    "# Patrones que deseas buscar en la columna específica\n",
    "patrones = [\n",
    "    r\"Ve una comparación con los otros \\d+ solicitantes\\. Probar Premium gratis\",\n",
    "    r\"Fabricación de productos de plástico\",\n",
    "    r\"Servicios para el individuo y la familia\"\n",
    "]\n",
    "\n",
    "# Crear una expresión regular combinando los patrones con el operador OR (|)\n",
    "regex_pattern = '|'.join(patrones)\n",
    "\n",
    "# Filtrar el DataFrame por la columna específica\n",
    "linkedin[linkedin['empleados'].str.contains(regex_pattern)]"
   ]
  },
  {
   "cell_type": "code",
   "execution_count": 432,
   "metadata": {},
   "outputs": [
    {
     "data": {
      "text/plain": [
       "empleados\n",
       "Más de 10.001 empleados        82\n",
       "De 51 a 200 empleados          59\n",
       "De 1.001 a 5.000 empleados     44\n",
       "De 11 a 50 empleados           32\n",
       "De 5.001 a 10.000 empleados    22\n",
       "Entre 1 y 10 empleados         21\n",
       "De 201 a 500 empleados         18\n",
       "De 501 a 1.000 empleados       13\n",
       "Name: count, dtype: int64"
      ]
     },
     "execution_count": 432,
     "metadata": {},
     "output_type": "execute_result"
    }
   ],
   "source": [
    "linkedin.loc[linkedin['empleados'].str.contains(regex_pattern), 'empleados'] = np.nan\n",
    "linkedin['empleados'].value_counts()"
   ]
  },
  {
   "cell_type": "markdown",
   "metadata": {},
   "source": [
    "#### Cleaning 'salary_range' column"
   ]
  },
  {
   "cell_type": "code",
   "execution_count": 436,
   "metadata": {},
   "outputs": [
    {
     "data": {
      "text/plain": [
       "salary_range\n",
       "140.000 $/año - 170.000 $/año    23\n",
       "131.900 $/año - 151.700 $/año    21\n",
       "30 $/hr                          18\n",
       "60 $/h - 63 $/h                  13\n",
       "170.000 $/año - 190.000 $/año    12\n",
       "10.120 $/año - 12.170 $/año      11\n",
       "110.000 $/año - 125.000 $/año    11\n",
       "200.000 $/año - 240.000 $/año     8\n",
       "78 $/h - 104 $/h                  8\n",
       "48 $/h - 65 $/h                   8\n",
       "85.000 $/año - 125.000 $/año      8\n",
       "141.570 $/año - 173.030 $/año     7\n",
       "15 $/h - 20 $/h                   7\n",
       "120.000 $/año - 165.000 $/año     6\n",
       "283.780 $/año - 331.640 $/año     6\n",
       "198.200 $/año - 297.300 $/año     6\n",
       "40 $/h - 43 $/h                   6\n",
       "100.000 $/año - 150.000 $/año     5\n",
       "144.000 $/año - 270.250 $/año     5\n",
       "50 $/h - 57 $/h                   4\n",
       "150.000 $/año - 200.000 $/año     4\n",
       "75 $/h - 80 $/h                   4\n",
       "95.000 $/año - 120.000 $/año      4\n",
       "400.000 $/año - 700.000 $/año     3\n",
       "80.000 $/año - 95.000 $/año       3\n",
       "275.000 $/año - 425.000 $/año     3\n",
       "100.000 $/año - 115.000 $/año     3\n",
       "55 $/h - 60 $/h                   3\n",
       "20 $/hr                           2\n",
       "500.000 $/yr                      2\n",
       "50.000 $/año - 85.000 $/año       2\n",
       "35 $/h - 40 $/h                   2\n",
       "20 $/h - 24 $/h                   2\n",
       "145.000 $/año - 180.000 $/año     2\n",
       "60.000 $/año - 100.000 $/año      2\n",
       "170.000 $/año - 200.000 $/año     2\n",
       "130.000 $/año - 180.000 $/año     2\n",
       "90.000 $/año - 120.000 $/año      2\n",
       "167.200 $/año - 250.800 $/año     2\n",
       "70.000 $/año - 130.000 $/año      2\n",
       "90.000 $/año - 130.000 $/año      2\n",
       "135.200 $/año - 145.600 $/año     1\n",
       "6.482 $/mes - 8.102 $/mes         1\n",
       "15 $/h - 35 $/h                   1\n",
       "70 $/año - 75 $/año               1\n",
       "40 $/h - 50 $/h                   1\n",
       "70 $/hr                           1\n",
       "3.240 $/mes - 3.907 $/mes         1\n",
       "4.649 $/mes - 9.465 $/mes         1\n",
       "65.000 $/año - 85.000 $/año       1\n",
       "70.000 $/año - 85.000 $/año       1\n",
       "50 $/h - 54 $/h                   1\n",
       "17 $/hr                           1\n",
       "95.000 $/año - 130.000 $/año      1\n",
       "84.546 $/año - 109.908 $/año      1\n",
       "80 $/h - 85 $/h                   1\n",
       "95.000 $/año - 115.000 $/año      1\n",
       "Name: count, dtype: int64"
      ]
     },
     "execution_count": 436,
     "metadata": {},
     "output_type": "execute_result"
    }
   ],
   "source": [
    "linkedin['salary_range'].value_counts()"
   ]
  }
 ],
 "metadata": {
  "kernelspec": {
   "display_name": "project",
   "language": "python",
   "name": "python3"
  },
  "language_info": {
   "codemirror_mode": {
    "name": "ipython",
    "version": 3
   },
   "file_extension": ".py",
   "mimetype": "text/x-python",
   "name": "python",
   "nbconvert_exporter": "python",
   "pygments_lexer": "ipython3",
   "version": "3.11.5"
  }
 },
 "nbformat": 4,
 "nbformat_minor": 2
}
