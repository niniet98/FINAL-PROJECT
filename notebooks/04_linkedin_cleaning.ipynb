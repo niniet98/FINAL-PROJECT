{
 "cells": [
  {
   "cell_type": "markdown",
   "metadata": {},
   "source": [
    "#### Imports"
   ]
  },
  {
   "cell_type": "code",
   "execution_count": 2282,
   "metadata": {},
   "outputs": [],
   "source": [
    "import pandas as pd\n",
    "import numpy as np\n",
    "import re"
   ]
  },
  {
   "cell_type": "markdown",
   "metadata": {},
   "source": [
    "#### Read linkedin csv"
   ]
  },
  {
   "cell_type": "code",
   "execution_count": 2283,
   "metadata": {},
   "outputs": [
    {
     "data": {
      "text/html": [
       "<div>\n",
       "<style scoped>\n",
       "    .dataframe tbody tr th:only-of-type {\n",
       "        vertical-align: middle;\n",
       "    }\n",
       "\n",
       "    .dataframe tbody tr th {\n",
       "        vertical-align: top;\n",
       "    }\n",
       "\n",
       "    .dataframe thead th {\n",
       "        text-align: right;\n",
       "    }\n",
       "</style>\n",
       "<table border=\"1\" class=\"dataframe\">\n",
       "  <thead>\n",
       "    <tr style=\"text-align: right;\">\n",
       "      <th></th>\n",
       "      <th>job_id</th>\n",
       "      <th>job_title</th>\n",
       "      <th>company_name</th>\n",
       "      <th>company_state</th>\n",
       "      <th>salary_range</th>\n",
       "      <th>remote_ratio</th>\n",
       "      <th>employment_type</th>\n",
       "      <th>experience_level</th>\n",
       "      <th>company_size</th>\n",
       "    </tr>\n",
       "  </thead>\n",
       "  <tbody>\n",
       "    <tr>\n",
       "      <th>571</th>\n",
       "      <td>3775377578</td>\n",
       "      <td>Senior Machine Learning Engineer</td>\n",
       "      <td>Jobot</td>\n",
       "      <td>· Nueva York, NY</td>\n",
       "      <td>125.000 $/año - 175.000 $/año</td>\n",
       "      <td>Presencial</td>\n",
       "      <td>Jornada completa</td>\n",
       "      <td>Intermedio</td>\n",
       "      <td>De 501 a 1.000 empleados · Dotación y selecció...</td>\n",
       "    </tr>\n",
       "    <tr>\n",
       "      <th>583</th>\n",
       "      <td>3775617153</td>\n",
       "      <td>Data Labeling Analyst II</td>\n",
       "      <td>Facebook</td>\n",
       "      <td>· Nueva York, NY</td>\n",
       "      <td>20 $/h - 24 $/h</td>\n",
       "      <td>En remoto</td>\n",
       "      <td>Contrato por obra</td>\n",
       "      <td>Sin experiencia</td>\n",
       "      <td>Más de 10.001 empleados · Desarrollo de software</td>\n",
       "    </tr>\n",
       "    <tr>\n",
       "      <th>168</th>\n",
       "      <td>3759719867</td>\n",
       "      <td>Machine Learning Engineer</td>\n",
       "      <td>Akkodis</td>\n",
       "      <td>· Dearborn, MI</td>\n",
       "      <td>60 $/h - 68 $/h</td>\n",
       "      <td>Presencial</td>\n",
       "      <td>Contrato por obra</td>\n",
       "      <td>Intermedio</td>\n",
       "      <td>Más de 10.001 empleados · Servicios y consulto...</td>\n",
       "    </tr>\n",
       "  </tbody>\n",
       "</table>\n",
       "</div>"
      ],
      "text/plain": [
       "         job_id                         job_title company_name  \\\n",
       "571  3775377578  Senior Machine Learning Engineer        Jobot   \n",
       "583  3775617153          Data Labeling Analyst II     Facebook   \n",
       "168  3759719867         Machine Learning Engineer      Akkodis   \n",
       "\n",
       "        company_state                   salary_range remote_ratio  \\\n",
       "571  · Nueva York, NY  125.000 $/año - 175.000 $/año   Presencial   \n",
       "583  · Nueva York, NY                20 $/h - 24 $/h    En remoto   \n",
       "168    · Dearborn, MI                60 $/h - 68 $/h   Presencial   \n",
       "\n",
       "       employment_type experience_level  \\\n",
       "571   Jornada completa       Intermedio   \n",
       "583  Contrato por obra  Sin experiencia   \n",
       "168  Contrato por obra       Intermedio   \n",
       "\n",
       "                                          company_size  \n",
       "571  De 501 a 1.000 empleados · Dotación y selecció...  \n",
       "583   Más de 10.001 empleados · Desarrollo de software  \n",
       "168  Más de 10.001 empleados · Servicios y consulto...  "
      ]
     },
     "execution_count": 2283,
     "metadata": {},
     "output_type": "execute_result"
    }
   ],
   "source": [
    "linkedin = pd.read_csv('../data/linkedin.csv')\n",
    "linkedin.sample(3)"
   ]
  },
  {
   "cell_type": "markdown",
   "metadata": {},
   "source": [
    "#### Cleaning 'company_state' column"
   ]
  },
  {
   "cell_type": "code",
   "execution_count": 2284,
   "metadata": {},
   "outputs": [
    {
     "data": {
      "text/plain": [
       "company_state\n",
       "Estados Unidos                 87\n",
       "· Nueva York, NY               32\n",
       "· San Francisco, CA            20\n",
       "· Seattle, WA                  19\n",
       "· Dallas, TX                   14\n",
       "                               ..\n",
       "· Plano, TX                     1\n",
       "· Lexington, KY                 1\n",
       "Hedge Fund · Nueva York, NY     1\n",
       "· Montpelier, VT                1\n",
       "· Parsippany, NJ                1\n",
       "Name: count, Length: 243, dtype: int64"
      ]
     },
     "execution_count": 2284,
     "metadata": {},
     "output_type": "execute_result"
    }
   ],
   "source": [
    "states = ['AL', 'AK', 'AZ', 'AR', 'CA', 'NC', 'SC', 'CO', 'CT', 'ND', 'SD', 'DE', 'FL', 'GA', 'HI', 'ID', 'IL', 'IN', 'IA', 'KS', 'KY', 'LA',\n",
    "          'ME', 'MD', 'MA', 'MI', 'MN', 'MS', 'MO', 'MT', 'NE', 'NV', 'NJ', 'NY', 'NH', 'NM', 'OH', 'OK', 'OR', 'PA', 'RI', 'TN', 'TX', 'UT',\n",
    "          'UT', 'VT', 'VA', 'WV', 'WA', 'WI', 'WY']\n",
    "linkedin['company_state'].value_counts()"
   ]
  },
  {
   "cell_type": "code",
   "execution_count": 2285,
   "metadata": {},
   "outputs": [],
   "source": [
    "def fclean_company_state(df, states):\n",
    "    for i in states:\n",
    "        linkedin['company_state'] = linkedin['company_state'].apply(lambda row: i if i in str(row) else row)\n",
    "    return df\n",
    "\n",
    "linkedin = fclean_company_state(linkedin, states)"
   ]
  },
  {
   "cell_type": "code",
   "execution_count": 2286,
   "metadata": {},
   "outputs": [
    {
     "data": {
      "text/plain": [
       "array(['NC', 'VA', 'USA', 'CA', 'MI', 'WA', 'NE', 'TX', 'MN', 'MA', 'NY',\n",
       "       'IL', 'OH', 'GA', 'FL', 'WI', 'PA', 'OR', 'NJ', 'MD', 'AZ', 'MO',\n",
       "       'KS', 'CT', 'UT', 'IN', 'TN', 'KY', 'CO', 'LA', 'NV', 'OK', 'IA',\n",
       "       'VT', 'ID', 'SC', 'HI', 'DE', 'SD', 'AR', 'RI', 'NM', 'NH'],\n",
       "      dtype=object)"
      ]
     },
     "execution_count": 2286,
     "metadata": {},
     "output_type": "execute_result"
    }
   ],
   "source": [
    "def sclean_company_state(df, states):\n",
    "    for key, value in states.items():\n",
    "        linkedin['company_state'] = linkedin['company_state'].apply(lambda row: value if key in str(row) else row)\n",
    "    return df\n",
    "\n",
    "left_states = {\n",
    "    'Virginia': 'VA',\n",
    "    'Minnesota': 'MN',\n",
    "    'Washington': 'WA',\n",
    "    'San Francisco': 'CA',\n",
    "    'Nebraska': 'NE',\n",
    "    'California': 'CA',\n",
    "    'Texas': 'TX',\n",
    "    'Nueva York': 'NY',\n",
    "    'Michigan': 'MI',\n",
    "    'Luisiana': 'LA',\n",
    "    'Florida': 'FL',\n",
    "    'Maryland': 'MD',\n",
    "    'Nevada': 'NV',\n",
    "    'Oregón': 'OR',\n",
    "    'Oklahoma': 'OK',\n",
    "    'Georgia': 'GA',\n",
    "    'Carolina del Sur': 'SC',\n",
    "    'Delaware': 'DE',\n",
    "    'Ohio': 'OH',\n",
    "    'Arkansas': 'AR',\n",
    "    'Iowa': 'IA',\n",
    "    'Carolina del Norte': 'NC',\n",
    "    'Indiana': 'IN',\n",
    "    'Nashville': 'TN',\n",
    "    'Massachusetts': 'MA',\n",
    "    'Tennessee': 'TN',\n",
    "    'Enid': 'OK',\n",
    "    'Chicago': 'IL',\n",
    "    'América del Norte': 'USA',\n",
    "    'Estados Unidos': 'USA',\n",
    "    'Des Moines': 'IA',\n",
    "    'Pittsburgh': 'PA',\n",
    "    'Cincinnati': 'OH',\n",
    "    'St. Louis': 'MO',\n",
    "    'Illinois': 'IL',\n",
    "    'Jacksonville': 'FL'\n",
    "}\n",
    "linkedin = sclean_company_state(linkedin, left_states)\n",
    "linkedin = linkedin[~linkedin['company_state'].str.contains('Unión Europea', na=False)]\n",
    "linkedin['company_state'].unique()"
   ]
  },
  {
   "cell_type": "markdown",
   "metadata": {},
   "source": [
    "#### Cleaning 'remote_ratio' column"
   ]
  },
  {
   "cell_type": "code",
   "execution_count": 2287,
   "metadata": {},
   "outputs": [
    {
     "data": {
      "text/plain": [
       "remote_ratio\n",
       "En remoto     256\n",
       "Híbrido       216\n",
       "Presencial    175\n",
       "Name: count, dtype: int64"
      ]
     },
     "execution_count": 2287,
     "metadata": {},
     "output_type": "execute_result"
    }
   ],
   "source": [
    "def clean_remote_ratio(df, list_):\n",
    "    for i in list_:\n",
    "        df['remote_ratio'] = df['remote_ratio'].apply(lambda row: i if i in str(row) else str(row))\n",
    "    df['remote_ratio'] = df['remote_ratio'].apply(lambda row: np.nan if str(row) == 'nan' else str(row))\n",
    "    return df\n",
    "\n",
    "remote_dict = [\n",
    "    'Presencial',\n",
    "    'Híbrido',\n",
    "    'En remoto'\n",
    "]\n",
    "linkedin = clean_remote_ratio(linkedin, remote_dict)\n",
    "linkedin['remote_ratio'].value_counts()"
   ]
  },
  {
   "cell_type": "code",
   "execution_count": 2288,
   "metadata": {},
   "outputs": [
    {
     "data": {
      "text/plain": [
       "remote_ratio\n",
       "En remoto     256\n",
       "Híbrido       216\n",
       "Presencial    175\n",
       "Name: count, dtype: int64"
      ]
     },
     "execution_count": 2288,
     "metadata": {},
     "output_type": "execute_result"
    }
   ],
   "source": [
    "linkedin.loc[linkedin['remote_ratio'] == 'nan', 'remote_ratio'] = np.nan\n",
    "linkedin['remote_ratio'].value_counts()"
   ]
  },
  {
   "cell_type": "markdown",
   "metadata": {},
   "source": [
    "#### Cleaning 'experience_level' column"
   ]
  },
  {
   "cell_type": "code",
   "execution_count": 2289,
   "metadata": {},
   "outputs": [
    {
     "data": {
      "text/plain": [
       "experience_level\n",
       "Intermedio                 291\n",
       "Sin experiencia            174\n",
       "Prácticas                  102\n",
       "Algo de responsabilidad     75\n",
       "Director                    19\n",
       "Ejecutivo                    2\n",
       "Name: count, dtype: int64"
      ]
     },
     "execution_count": 2289,
     "metadata": {},
     "output_type": "execute_result"
    }
   ],
   "source": [
    "linkedin.sample(5)\n",
    "linkedin['experience_level'].value_counts()"
   ]
  },
  {
   "cell_type": "markdown",
   "metadata": {},
   "source": [
    "#### Cleaning 'employment_type' column"
   ]
  },
  {
   "cell_type": "code",
   "execution_count": 2290,
   "metadata": {},
   "outputs": [
    {
     "data": {
      "text/plain": [
       "employment_type\n",
       "Jornada completa     420\n",
       "Contrato por obra    113\n",
       "Prácticas             80\n",
       "Media jornada         55\n",
       "Name: count, dtype: int64"
      ]
     },
     "execution_count": 2290,
     "metadata": {},
     "output_type": "execute_result"
    }
   ],
   "source": [
    "def clean_employment_type(df, list_):\n",
    "    for i in list_:\n",
    "        df['employment_type'] = df['employment_type'].apply(lambda row: i if i in str(row) else str(row))\n",
    "    return df\n",
    "\n",
    "remote_dict = [\n",
    "    'Jornada completa',\n",
    "    'Contrato por obra',\n",
    "    'Media jornada',\n",
    "    'Prácticas'\n",
    "]\n",
    "linkedin = clean_employment_type(linkedin, remote_dict)\n",
    "linkedin['employment_type'].value_counts()"
   ]
  },
  {
   "cell_type": "markdown",
   "metadata": {},
   "source": [
    "#### Cleaning 'company_size' column"
   ]
  },
  {
   "cell_type": "code",
   "execution_count": 2291,
   "metadata": {},
   "outputs": [
    {
     "data": {
      "text/plain": [
       "company_size\n",
       "De 51 a 200 empleados · Servicios y consultoría de TI                       42\n",
       "De 51 a 200 empleados · Dotación y selección de personal                    41\n",
       "De 1.001 a 5.000 empleados · Servicios y consultoría de TI                  30\n",
       "De 11 a 50 empleados · Dotación y selección de personal                     27\n",
       "Más de 10.001 empleados · Hospitales y atención sanitaria                   24\n",
       "                                                                            ..\n",
       "De 1.001 a 5.000 empleados · Servicios de diseño                             1\n",
       "Ve una comparación con los otros 661 solicitantes. Probar Premium gratis     1\n",
       "Ve una comparación con los otros 308 solicitantes. Probar Premium gratis     1\n",
       "De 1.001 a 5.000 empleados · Fabricación de alimentos y bebidas              1\n",
       "De 201 a 500 empleados · Tecnología, información e internet                  1\n",
       "Name: count, Length: 160, dtype: int64"
      ]
     },
     "execution_count": 2291,
     "metadata": {},
     "output_type": "execute_result"
    }
   ],
   "source": [
    "linkedin['company_size'].value_counts()"
   ]
  },
  {
   "cell_type": "code",
   "execution_count": 2292,
   "metadata": {},
   "outputs": [
    {
     "data": {
      "text/plain": [
       "employees\n",
       "De 51 a 200 empleados                                                       139\n",
       "Más de 10.001 empleados                                                     134\n",
       "De 1.001 a 5.000 empleados                                                  116\n",
       "De 11 a 50 empleados                                                         74\n",
       "De 201 a 500 empleados                                                       61\n",
       "De 501 a 1.000 empleados                                                     57\n",
       "De 5.001 a 10.000 empleados                                                  42\n",
       "Entre 1 y 10 empleados                                                       37\n",
       "Nagesh Kumar Gona ✈ busca personal para este empleo                           1\n",
       "Ve una comparación con los otros 137 solicitantes. Probar Premium gratis      1\n",
       "Ve una comparación con los otros 308 solicitantes. Probar Premium gratis      1\n",
       "Ve una comparación con los otros 661 solicitantes. Probar Premium gratis      1\n",
       "Ve una comparación con los otros 539 solicitantes. Probar Premium gratis      1\n",
       "Fabricación de productos de plástico                                          1\n",
       "Ve una comparación con los otros 444 solicitantes. Probar Premium gratis      1\n",
       "Servicios para el individuo y la familia                                      1\n",
       "Name: count, dtype: int64"
      ]
     },
     "execution_count": 2292,
     "metadata": {},
     "output_type": "execute_result"
    }
   ],
   "source": [
    "linkedin['employees'] = linkedin['company_size'].apply(lambda row: row.split('·')[0].strip())\n",
    "linkedin['employees'].value_counts()"
   ]
  },
  {
   "cell_type": "code",
   "execution_count": 2293,
   "metadata": {},
   "outputs": [
    {
     "data": {
      "text/plain": [
       "employees\n",
       "200       139\n",
       "10.001    134\n",
       "5.000     116\n",
       "50         74\n",
       "500        61\n",
       "1.000      57\n",
       "10.000     42\n",
       "10         37\n",
       "Name: count, dtype: int64"
      ]
     },
     "execution_count": 2293,
     "metadata": {},
     "output_type": "execute_result"
    }
   ],
   "source": [
    "pattern1 = r\"Más de (\\d+\\.?\\d*) empleados\"\n",
    "pattern2 = r\"De (\\d+\\.?\\d*) a (\\d+\\.?\\d*) empleados\"\n",
    "pattern3 = r\"Entre (\\d+\\.?\\d*) y (\\d+\\.?\\d*) empleados\"\n",
    "def clean_employee(row):\n",
    "    match1 = re.match(pattern1, str(row))\n",
    "    match2 = re.match(pattern2, str(row))\n",
    "    match3 = re.match(pattern3, str(row))\n",
    "    if match1:\n",
    "        return match1.group(1)\n",
    "    elif match2:\n",
    "        return match2.group(2)\n",
    "    elif match3:\n",
    "        return match3.group(2)\n",
    "    else:\n",
    "        return np.nan\n",
    "\n",
    "linkedin['employees'] = linkedin['employees'].apply(clean_employee)\n",
    "linkedin['employees'].value_counts()"
   ]
  },
  {
   "cell_type": "code",
   "execution_count": 2294,
   "metadata": {},
   "outputs": [
    {
     "data": {
      "text/plain": [
       "company_size\n",
       "L    410\n",
       "M    213\n",
       "S     37\n",
       "Name: count, dtype: int64"
      ]
     },
     "execution_count": 2294,
     "metadata": {},
     "output_type": "execute_result"
    }
   ],
   "source": [
    "def standarize_company_size(row):\n",
    "    if pd.notnull(row):\n",
    "        if int(row.replace('.', '')) < 50:\n",
    "            return 'S'\n",
    "        elif int(row.replace('.', '')) <= 250:\n",
    "            return 'M'\n",
    "        elif int(row.replace('.', '')) > 250:\n",
    "            return 'L'\n",
    "        else:\n",
    "            return np.nan\n",
    "\n",
    "linkedin['company_size'] = linkedin['employees'].apply(standarize_company_size)\n",
    "linkedin['company_size'].value_counts()"
   ]
  },
  {
   "cell_type": "markdown",
   "metadata": {},
   "source": [
    "#### Cleaning 'salary_range' column"
   ]
  },
  {
   "cell_type": "code",
   "execution_count": 2295,
   "metadata": {},
   "outputs": [
    {
     "data": {
      "text/plain": [
       "array(['100.000 $/año - 150.000 $/año', '283.780 $/año - 331.640 $/año',\n",
       "       '145.000 $/año - 180.000 $/año', '95.000 $/año - 130.000 $/año',\n",
       "       '167.200 $/año - 250.800 $/año', '200.000 $/año - 240.000 $/año',\n",
       "       '70.000 $/yr', nan, '200.000 $/año - 300.000 $/año',\n",
       "       '120.000 $/año - 220.000 $/año', '144.000 $/año - 270.250 $/año',\n",
       "       '150.000 $/año - 200.000 $/año', '170.112 $/año - 237.000 $/año',\n",
       "       '170.000 $/año - 190.000 $/año', '20 $/hr',\n",
       "       '145.000 $/año - 195.000 $/año', '67.733 $/año - 91.440 $/año',\n",
       "       '95.000 $/año - 120.000 $/año', '78 $/h - 104 $/h',\n",
       "       '122.000 $/año - 190.000 $/año', '101.000 $/año - 179.000 $/año',\n",
       "       '92.500 $/año - 119.500 $/año', '48 $/h - 65 $/h',\n",
       "       '125.000 $/año - 160.000 $/año', '850.000 $/año - 1.100.000 $/año',\n",
       "       '35 $/h - 55 $/h', '75 $/h - 85 $/h', '45 $/h - 55 $/h',\n",
       "       '150.000 $/año - 250.000 $/año', '40 $/h - 43 $/h',\n",
       "       '115.000 $/año - 130.000 $/año', '150.000 $/año - 300.000 $/año',\n",
       "       '90 $/hr', '260.000 $/año - 300.000 $/año',\n",
       "       '90.000 $/año - 130.000 $/año', '60 $/h - 68 $/h',\n",
       "       '70.000 $/año - 85.000 $/año', '140.000 $/año - 160.000 $/año',\n",
       "       '26 $/h - 31 $/h', '139.100 $/año - 235.400 $/año',\n",
       "       '60.000 $/año - 100.000 $/año', '140.000 $/año - 170.000 $/año',\n",
       "       '90 $/h - 100 $/h', '90.000 $/año - 110.000 $/año',\n",
       "       '140.000 $/año - 180.000 $/año', '400.000 $/año - 700.000 $/año',\n",
       "       '140.000 $/año - 165.000 $/año', '73.500 $/año - 170.000 $/año',\n",
       "       '87.600 $/año - 118.400 $/año', '50 $/h - 57 $/h',\n",
       "       '60 $/h - 70 $/h', '60.000 $/año - 65.000 $/año',\n",
       "       '85.000 $/año - 125.000 $/año', '32 $/h - 37 $/h',\n",
       "       '26 $/h - 29 $/h', '75.000 $/año - 120.000 $/año',\n",
       "       '150 $/año - 400 $/año', '75 $/h - 80 $/h', '70 $/año - 75 $/año',\n",
       "       '60.000 $/año - 95.000 $/año', '55 $/h - 60 $/h',\n",
       "       '130.000 $/año - 190.000 $/año', '40 $/h - 50 $/h', '140.000 $/yr',\n",
       "       '200.000 $/año - 600.000 $/año', '190.000 $/año - 210.000 $/año',\n",
       "       '26 $/hr', '171.000 $/año - 258.000 $/año',\n",
       "       '90.000 $/año - 120.000 $/año', '60 $/h - 63 $/h',\n",
       "       '78.000 $/año - 120.000 $/año', '250.000 $/año - 350.000 $/año',\n",
       "       '100.000 $/año - 115.000 $/año', '140.000 $/año - 150.000 $/año',\n",
       "       '50 $/h - 60 $/h', '130.000 $/año - 220.000 $/año',\n",
       "       '50 $/h - 55 $/h', '65.000 $/año - 85.000 $/año',\n",
       "       '15 $/h - 20 $/h', '70.000 $/año - 80.000 $/año',\n",
       "       '10.120 $/año - 12.170 $/año', '40 $/h - 51 $/h',\n",
       "       '80.000 $/año - 140.000 $/año', '145.000 $/año - 154.000 $/año',\n",
       "       '120.000 $/año - 150.000 $/año', '60 $/h - 75 $/h',\n",
       "       '65 $/h - 70 $/h', '28,26 $/h - 49,52 $/h', '20 $/h - 35 $/h',\n",
       "       '150.000 $/yr', '20 $/h - 23 $/h', '53 $/h - 58 $/h',\n",
       "       '5 $/h - 58 $/h', '60 $/h - 65 $/h', '20 $/h - 28 $/h', '18 $/hr',\n",
       "       '29 $/h - 34 $/h', '70 $/h - 75 $/h',\n",
       "       '100.000 $/año - 170.000 $/año', '110.000 $/año - 125.000 $/año',\n",
       "       '200.000 $/año - 250.000 $/año', '180.000 $/año - 195.000 $/año',\n",
       "       '33.200 $/año - 53.000 $/año', '70.000 $/año - 130.000 $/año',\n",
       "       '25 $/h - 30 $/h', '120.000 $/año - 165.000 $/año',\n",
       "       '65.000 $/año - 72.000 $/año',\n",
       "       '113.006,40 $/año - 141.793,59 $/año', '90.000 $/yr',\n",
       "       '130.000 $/año - 180.000 $/año', '275.000 $/año - 425.000 $/año',\n",
       "       '76 $/h - 82 $/h', '55 $/h - 58 $/h',\n",
       "       '170.000 $/año - 199.000 $/año', '170.000 $/año - 200.000 $/año',\n",
       "       '50.000 $/año - 85.000 $/año', '30 $/hr',\n",
       "       '80.000 $/año - 95.000 $/año', '500.000 $/yr',\n",
       "       '135.200 $/año - 145.600 $/año', '80 $/h - 85 $/h',\n",
       "       '70 $/h - 80 $/h', '84.546 $/año - 109.908 $/año',\n",
       "       '131.900 $/año - 151.700 $/año', '17 $/hr', '50 $/h - 54 $/h',\n",
       "       '95.000 $/año - 115.000 $/año', '141.570 $/año - 173.030 $/año',\n",
       "       '100.000 $/año - 125.000 $/año', '36 $/h - 39,58 $/h',\n",
       "       '4.649 $/mes - 9.465 $/mes', '6.482 $/mes - 8.102 $/mes',\n",
       "       '3.240 $/mes - 3.907 $/mes', '35 $/h - 40 $/h',\n",
       "       '125.000 $/año - 175.000 $/año', '150.000 $/año - 180.000 $/año',\n",
       "       '70 $/hr', '20 $/h - 24 $/h', '70 $/h - 100 $/h',\n",
       "       '130.000 $/año - 205.000 $/año', '15 $/h - 35 $/h',\n",
       "       '198.200 $/año - 297.300 $/año', '244.000 $/yr', '45.000 $/yr',\n",
       "       '85.000 $/año - 90.000 $/año', '64.000 $/año - 76.000 $/año',\n",
       "       '80 $/hr', '100.000 $/año - 140.000 $/año',\n",
       "       '125.000 $/año - 185.000 $/año'], dtype=object)"
      ]
     },
     "execution_count": 2295,
     "metadata": {},
     "output_type": "execute_result"
    }
   ],
   "source": [
    "linkedin['salary_range'].unique()"
   ]
  },
  {
   "cell_type": "code",
   "execution_count": 2296,
   "metadata": {},
   "outputs": [],
   "source": [
    "hour_pattern = r\"(\\d+) \\$\\/hr\"\n",
    "year_pattern = r\"(\\d+\\.?\\d*) \\$\\/yr\"\n",
    "hour_range_pattern = r\"(\\d+\\,?\\d*) \\$\\/h - (\\d+\\,?\\d*) \\$\\/h\"\n",
    "year_range_pattern = r\"(\\d+\\.?\\d*) \\$\\/año - (\\d+\\.?\\d*) \\$\\/año\"\n",
    "month_range_pattern = r\"(\\d+\\.?\\d*) \\$\\/mes - (\\d+\\.?\\d*) \\$\\/mes\""
   ]
  },
  {
   "cell_type": "code",
   "execution_count": 2297,
   "metadata": {},
   "outputs": [],
   "source": [
    "def clean_salary(row, type=None):\n",
    "    match_h = re.match(hour_pattern, str(row))\n",
    "    match_y = re.match(year_pattern, str(row))\n",
    "    match_rh = re.match(hour_range_pattern, str(row))\n",
    "    match_ry = re.match(year_range_pattern, str(row))\n",
    "    match_rm = re.match(month_range_pattern, str(row))\n",
    "    if match_h:\n",
    "        num_h = match_h.group(1)\n",
    "        # if type == 'max':\n",
    "        #     num_h = int(num_h) + 5\n",
    "        # elif type == 'min':\n",
    "        #     num_h = int(num_h) - 5\n",
    "        num_w = int(num_h) * 40\n",
    "        return int(num_w * 48)\n",
    "    elif match_y:\n",
    "        sal = int(match_y.group(1).replace('.', ''))\n",
    "        # if type == 'max':\n",
    "        #     sal += 2000\n",
    "        # elif type == 'min':\n",
    "        #     sal -= 2000\n",
    "        return sal\n",
    "    elif match_rh:\n",
    "        min_ = match_rh.group(1)\n",
    "        max_ = match_rh.group(2)\n",
    "        num_h = (float(min_.replace(',', '.')) + float(max_.replace(',', '.'))) / 2\n",
    "        # if type == 'max':\n",
    "        #     num_h = float(max_.replace(',', '.'))\n",
    "        # elif type == 'min':\n",
    "        #     num_h = float(min_.replace(',', '.'))\n",
    "        num_w = num_h * 40\n",
    "        return int(num_w * 48)\n",
    "    elif match_ry:\n",
    "        min_ = match_ry.group(1)\n",
    "        max_ = match_ry.group(2)\n",
    "        if '.' not in max_:\n",
    "            max_ += '000'\n",
    "        if '.' not in min_:\n",
    "            min_ += '000'\n",
    "        num_y = (float(min_.replace('.', '')) + float(max_.replace('.', ''))) / 2\n",
    "        # if type == 'max':\n",
    "        #     num_y = float(max_.replace('.', ''))\n",
    "        # elif type == 'min':\n",
    "        #     num_y = float(min_.replace('.', ''))\n",
    "        return int(num_y)\n",
    "    elif match_rm:\n",
    "        min_ = match_rm.group(1)\n",
    "        max_ = match_rm.group(2)\n",
    "        num_m = (float(min_.replace('.', '')) + float(max_.replace('.', ''))) / 2\n",
    "        # if type == 'max':\n",
    "        #     num_m = float(max_.replace('.', ''))\n",
    "        # elif type == 'min':\n",
    "        #     num_m = float(min_.replace('.', ''))\n",
    "        return int(num_m * 12)\n",
    "    else:\n",
    "        return np.nan\n",
    "\n",
    "# linkedin['min_salary'] = linkedin['salary_range'].apply(lambda row: clean_salary(row, 'min'))\n",
    "linkedin['salary'] = linkedin['salary_range'].apply(clean_salary)\n",
    "# linkedin['max_salary'] = linkedin['salary_range'].apply(lambda row: clean_salary(row, 'max'))"
   ]
  },
  {
   "cell_type": "code",
   "execution_count": 2298,
   "metadata": {},
   "outputs": [
    {
     "data": {
      "text/plain": [
       "array([125000., 307710., 162500., 112500., 209000., 220000.,  70000.,\n",
       "           nan, 250000., 170000., 207125., 175000., 203556., 180000.,\n",
       "        38400.,  79586., 107500., 174720., 156000., 140000., 106000.,\n",
       "       108480., 142500.,  86400., 153600.,  96000., 200000.,  79680.,\n",
       "       122500., 225000., 172800., 280000., 110000., 122880.,  77500.,\n",
       "       150000.,  54720., 187250.,  80000., 155000., 182400., 100000.,\n",
       "       160000., 550000., 152500., 121750., 103000., 102720., 124800.,\n",
       "        62500., 105000.,  66240.,  52800.,  97500., 275000., 148800.,\n",
       "        72500., 110400., 400000.,  49920., 214500., 118080.,  99000.,\n",
       "       300000., 145000., 105600., 100800.,  75000.,  33600.,  11145.,\n",
       "        87360., 149500., 135000., 129600.,  74668.,  41280., 106560.,\n",
       "        60480., 120000.,  46080.,  34560., 139200., 117500., 187500.,\n",
       "        43100.,  68500.,  90000., 350000., 151680., 184500., 185000.,\n",
       "        67500.,  57600.,  87500., 500000., 140400., 158400., 144000.,\n",
       "        97227., 141800.,  32640.,  99840., 157300.,  72556.,  84684.,\n",
       "        87504.,  42882.,  72000., 165000., 134400.,  42240., 163200.,\n",
       "       167500.,  48000., 247750., 244000.,  45000.])"
      ]
     },
     "execution_count": 2298,
     "metadata": {},
     "output_type": "execute_result"
    }
   ],
   "source": [
    "linkedin['salary'].unique()"
   ]
  },
  {
   "cell_type": "code",
   "execution_count": 2299,
   "metadata": {},
   "outputs": [
    {
     "data": {
      "text/html": [
       "<div>\n",
       "<style scoped>\n",
       "    .dataframe tbody tr th:only-of-type {\n",
       "        vertical-align: middle;\n",
       "    }\n",
       "\n",
       "    .dataframe tbody tr th {\n",
       "        vertical-align: top;\n",
       "    }\n",
       "\n",
       "    .dataframe thead th {\n",
       "        text-align: right;\n",
       "    }\n",
       "</style>\n",
       "<table border=\"1\" class=\"dataframe\">\n",
       "  <thead>\n",
       "    <tr style=\"text-align: right;\">\n",
       "      <th></th>\n",
       "      <th>job_id</th>\n",
       "      <th>job_title</th>\n",
       "      <th>company_name</th>\n",
       "      <th>company_state</th>\n",
       "      <th>salary_range</th>\n",
       "      <th>remote_ratio</th>\n",
       "      <th>employment_type</th>\n",
       "      <th>experience_level</th>\n",
       "      <th>company_size</th>\n",
       "      <th>employees</th>\n",
       "      <th>salary</th>\n",
       "    </tr>\n",
       "  </thead>\n",
       "  <tbody>\n",
       "    <tr>\n",
       "      <th>599</th>\n",
       "      <td>3775780334</td>\n",
       "      <td>Senior Machine Learning (ML) Engineer</td>\n",
       "      <td>EVONA</td>\n",
       "      <td>CA</td>\n",
       "      <td>130.000 $/año - 205.000 $/año</td>\n",
       "      <td>Híbrido</td>\n",
       "      <td>Jornada completa</td>\n",
       "      <td>Intermedio</td>\n",
       "      <td>M</td>\n",
       "      <td>200</td>\n",
       "      <td>167500.0</td>\n",
       "    </tr>\n",
       "    <tr>\n",
       "      <th>224</th>\n",
       "      <td>3762687470</td>\n",
       "      <td>Data Scientist</td>\n",
       "      <td>Acunor</td>\n",
       "      <td>NY</td>\n",
       "      <td>140.000 $/año - 180.000 $/año</td>\n",
       "      <td>Híbrido</td>\n",
       "      <td>Jornada completa</td>\n",
       "      <td>Intermedio</td>\n",
       "      <td>M</td>\n",
       "      <td>50</td>\n",
       "      <td>160000.0</td>\n",
       "    </tr>\n",
       "    <tr>\n",
       "      <th>505</th>\n",
       "      <td>3773304594</td>\n",
       "      <td>Deep Learning Engineer Co-Founder</td>\n",
       "      <td>Stealth</td>\n",
       "      <td>FL</td>\n",
       "      <td>500.000 $/yr</td>\n",
       "      <td>Presencial</td>\n",
       "      <td>Jornada completa</td>\n",
       "      <td>Ejecutivo</td>\n",
       "      <td>S</td>\n",
       "      <td>10</td>\n",
       "      <td>500000.0</td>\n",
       "    </tr>\n",
       "    <tr>\n",
       "      <th>366</th>\n",
       "      <td>3769019542</td>\n",
       "      <td>Machine Learning Engineer</td>\n",
       "      <td>Kforce Inc</td>\n",
       "      <td>TX</td>\n",
       "      <td>40 $/h - 51 $/h</td>\n",
       "      <td>Presencial</td>\n",
       "      <td>Contrato por obra</td>\n",
       "      <td>Sin experiencia</td>\n",
       "      <td>L</td>\n",
       "      <td>5.000</td>\n",
       "      <td>87360.0</td>\n",
       "    </tr>\n",
       "    <tr>\n",
       "      <th>281</th>\n",
       "      <td>3765833525</td>\n",
       "      <td>Remote Travel Consultant - Entry Level</td>\n",
       "      <td>Travel by Tilly</td>\n",
       "      <td>IL</td>\n",
       "      <td>NaN</td>\n",
       "      <td>En remoto</td>\n",
       "      <td>Media jornada</td>\n",
       "      <td>Sin experiencia</td>\n",
       "      <td>S</td>\n",
       "      <td>10</td>\n",
       "      <td>NaN</td>\n",
       "    </tr>\n",
       "  </tbody>\n",
       "</table>\n",
       "</div>"
      ],
      "text/plain": [
       "         job_id                               job_title     company_name  \\\n",
       "599  3775780334   Senior Machine Learning (ML) Engineer            EVONA   \n",
       "224  3762687470                          Data Scientist           Acunor   \n",
       "505  3773304594       Deep Learning Engineer Co-Founder          Stealth   \n",
       "366  3769019542               Machine Learning Engineer       Kforce Inc   \n",
       "281  3765833525  Remote Travel Consultant - Entry Level  Travel by Tilly   \n",
       "\n",
       "    company_state                   salary_range remote_ratio  \\\n",
       "599            CA  130.000 $/año - 205.000 $/año      Híbrido   \n",
       "224            NY  140.000 $/año - 180.000 $/año      Híbrido   \n",
       "505            FL                   500.000 $/yr   Presencial   \n",
       "366            TX                40 $/h - 51 $/h   Presencial   \n",
       "281            IL                            NaN    En remoto   \n",
       "\n",
       "       employment_type experience_level company_size employees    salary  \n",
       "599   Jornada completa       Intermedio            M       200  167500.0  \n",
       "224   Jornada completa       Intermedio            M        50  160000.0  \n",
       "505   Jornada completa        Ejecutivo            S        10  500000.0  \n",
       "366  Contrato por obra  Sin experiencia            L     5.000   87360.0  \n",
       "281      Media jornada  Sin experiencia            S        10       NaN  "
      ]
     },
     "execution_count": 2299,
     "metadata": {},
     "output_type": "execute_result"
    }
   ],
   "source": [
    "linkedin.sample(5)"
   ]
  },
  {
   "cell_type": "markdown",
   "metadata": {},
   "source": [
    "#### Cleaning 'job_title' column"
   ]
  },
  {
   "cell_type": "code",
   "execution_count": 2300,
   "metadata": {},
   "outputs": [
    {
     "data": {
      "text/plain": [
       "job_title\n",
       "Machine Learning Engineer                                    60\n",
       "Data Analyst                                                 52\n",
       "Data Engineer                                                48\n",
       "Data Scientist                                               45\n",
       "Data Analyst  I                                              19\n",
       "                                                             ..\n",
       "AI Research Engineer                                          1\n",
       "Machine Learning Software Engineer                            1\n",
       "Data Engineer with Mortgage Exp_Remote (Only W2 Contract)     1\n",
       "Principal Data Scientist (healthcare)                         1\n",
       "Sr. Data Scientist                                            1\n",
       "Name: count, Length: 363, dtype: int64"
      ]
     },
     "execution_count": 2300,
     "metadata": {},
     "output_type": "execute_result"
    }
   ],
   "source": [
    "linkedin['job_title'].value_counts()"
   ]
  },
  {
   "cell_type": "code",
   "execution_count": 2301,
   "metadata": {},
   "outputs": [
    {
     "data": {
      "text/plain": [
       "array(['Machine Learning Engineer', 'CYBER INTEL ANALYST - PEN TESTER',\n",
       "       'Deep Learning Engineer',\n",
       "       'Senior Algorithms Engineer (Image Processing)', 'Data Engineer',\n",
       "       'Data Scientist',\n",
       "       'Computer Vision Engineer (Multimodal with Large Language Models)',\n",
       "       'BI Analyst', 'Data Analyst', 'Artificial Learning Engineer',\n",
       "       'Research Engineer', 'Computer Vision Engineer',\n",
       "       'RF Computational Engineer 3', 'Project Scheduler',\n",
       "       'Adaptive Optics Senior Software Engineer',\n",
       "       'Finance Analyst (Benelux)', 'Deep Learning Research Intern',\n",
       "       'Analytics Engineer', 'Applied Scientist', None,\n",
       "       'Quantitative Researcher',\n",
       "       'Computer Vision and Optimization Engineer', 'AI Engineer',\n",
       "       'Software Company DevOps Engineer',\n",
       "       'summer intern - r&d/artificial intelligence',\n",
       "       'Remote Cruise Planner - Entry Level',\n",
       "       'Remote Travel Consultant - Entry Level',\n",
       "       'Remote Customer Service Sales Rep - Entry Level',\n",
       "       'Remote Corporate & Event Planning - Entry Level',\n",
       "       'Remote Resort Reservationist - Entry Level',\n",
       "       'Remote Marketing Travel Specialist',\n",
       "       'Remote Tourism Advisor - Entry Level',\n",
       "       'Remote Coordinator - Entry Level', 'Business Analyst',\n",
       "       'Human Resources Analyst',\n",
       "       'Summer Intern - Publishing Ethics and IPR', 'Content Analyst',\n",
       "       'BI Engineer', 'GIS Analyst II',\n",
       "       'Content Insights & Optimization Manager',\n",
       "       'Biopharmaceutical   SENIOR COMMISSIONING & QUALIFICATION ENGINEER',\n",
       "       'Pharmaceutical Process Engineer',\n",
       "       'NBC Sports Finance, Technology & Engineering Internships',\n",
       "       'Sr. Applied Scientist, WSAT', 'supply chain analyst',\n",
       "       'Senior P&C Analytics Actuary - PR12617', 'Product Analyst',\n",
       "       'Quality Control Analyst', 'Senior Growth Product Manager',\n",
       "       'RESEARCH ANALYST', 'product manager – fairness benchmarking',\n",
       "       'Growth Hacking Consultant - Instagram/Tiktok', 'Moderator',\n",
       "       'Statistical Programmer',\n",
       "       'Consultancy – PSEA Risk Analysis & Mapping Consultant Req.#567862',\n",
       "       'Volunteer: CrowdDoing Service Learning Marketing Director Volunteer',\n",
       "       'Instructor', 'Propulsion Engineer (Merlin Flight Operations)',\n",
       "       'Prophet Model Developer',\n",
       "       'senior paid social analyst (growth marketing team)',\n",
       "       'RESEARCH SCIENTIST 2', 'RESEARCH STUDY ASSISTANT',\n",
       "       'responsible ai testing science consultant',\n",
       "       'Digital Marketing Strategist',\n",
       "       'Insights Analyst – LinkedIn Talent Solutions',\n",
       "       'Pharmaceutical Engineer',\n",
       "       'artificial intelligence architecture(fully remote)',\n",
       "       'solutions architect, generative ai',\n",
       "       'Product Management Intern, AV - Summer 2024'], dtype=object)"
      ]
     },
     "execution_count": 2301,
     "metadata": {},
     "output_type": "execute_result"
    }
   ],
   "source": [
    "def standarize_job(row):\n",
    "    title = str(row).lower()\n",
    "    if 'data engineer' in title:\n",
    "        return 'Data Engineer'\n",
    "    elif 'data analyst' in title:\n",
    "        return 'Data Analyst'\n",
    "    elif 'data scientist' in title:\n",
    "        return 'Data Scientist'\n",
    "    elif 'data' in title and 'junior' not in title:\n",
    "        if 'engineer' in title:\n",
    "            return 'Data Engineer'\n",
    "        elif 'analyst' in title:\n",
    "            return 'Data Analyst'\n",
    "    elif ('machine' in title and 'learning' in title) or ('ml' in title and 'engineer' in title):\n",
    "        return 'Machine Learning Engineer'\n",
    "    elif 'deep' in title and 'learning' in title and 'engineer' in title:\n",
    "        return 'Deep Learning Engineer'\n",
    "    elif 'junior' in title:\n",
    "        if 'data' in title and 'engineer' in title:\n",
    "            return 'Data Engineer'\n",
    "        elif 'data' in title and 'analyst' in title:\n",
    "            return 'Data Analyst'\n",
    "    elif 'business' in title:\n",
    "        if 'intelligence' in title and 'analyst' in title:\n",
    "            return 'BI Analyst'\n",
    "        elif 'analyst' in title:\n",
    "            return 'Business Analyst'\n",
    "        else:\n",
    "            return 'BI Engineer'\n",
    "    elif 'artificial intelligence' in title or 'ai' in title:\n",
    "        if 'research engineer' in title:\n",
    "            return 'Research Engineer'\n",
    "        elif 'ml' in title:\n",
    "            return 'Machine Learning Engineer'\n",
    "        elif 'engineer' in title:\n",
    "            return 'AI Engineer'\n",
    "        else:\n",
    "            return title\n",
    "    else:\n",
    "        return str(row)\n",
    "\n",
    "\n",
    "linkedin['job_title'] = linkedin['job_title'].apply(standarize_job)\n",
    "linkedin['job_title'].unique()"
   ]
  },
  {
   "cell_type": "markdown",
   "metadata": {},
   "source": [
    "    Categories for 'job_title' column"
   ]
  },
  {
   "cell_type": "code",
   "execution_count": 2302,
   "metadata": {},
   "outputs": [],
   "source": [
    "categories = [\n",
    "    'Data Engineer',\n",
    "    'Data Analyst',\n",
    "    'Data Scientist',\n",
    "    'Machine Learning Engineer',\n",
    "    'Deep Learning Engineer',\n",
    "    'BI Analyst',\n",
    "    'Business Analyst',\n",
    "    'BI Engineer',\n",
    "    'Research Engineer',\n",
    "    'AI Engineer'\n",
    "]"
   ]
  },
  {
   "cell_type": "code",
   "execution_count": 2303,
   "metadata": {},
   "outputs": [
    {
     "data": {
      "text/plain": [
       "(668, 11)"
      ]
     },
     "execution_count": 2303,
     "metadata": {},
     "output_type": "execute_result"
    }
   ],
   "source": [
    "linkedin.shape"
   ]
  },
  {
   "cell_type": "code",
   "execution_count": 2304,
   "metadata": {},
   "outputs": [],
   "source": [
    "linkedin = linkedin[linkedin['job_title'].isin(categories)]\n",
    "linkedin = linkedin.drop(columns=['employees', 'salary_range'])"
   ]
  },
  {
   "cell_type": "code",
   "execution_count": 2305,
   "metadata": {},
   "outputs": [
    {
     "data": {
      "text/plain": [
       "(580, 9)"
      ]
     },
     "execution_count": 2305,
     "metadata": {},
     "output_type": "execute_result"
    }
   ],
   "source": [
    "linkedin.shape"
   ]
  },
  {
   "cell_type": "code",
   "execution_count": 2306,
   "metadata": {},
   "outputs": [
    {
     "data": {
      "text/html": [
       "<div>\n",
       "<style scoped>\n",
       "    .dataframe tbody tr th:only-of-type {\n",
       "        vertical-align: middle;\n",
       "    }\n",
       "\n",
       "    .dataframe tbody tr th {\n",
       "        vertical-align: top;\n",
       "    }\n",
       "\n",
       "    .dataframe thead th {\n",
       "        text-align: right;\n",
       "    }\n",
       "</style>\n",
       "<table border=\"1\" class=\"dataframe\">\n",
       "  <thead>\n",
       "    <tr style=\"text-align: right;\">\n",
       "      <th></th>\n",
       "      <th>job_id</th>\n",
       "      <th>job_title</th>\n",
       "      <th>company_name</th>\n",
       "      <th>company_state</th>\n",
       "      <th>remote_ratio</th>\n",
       "      <th>employment_type</th>\n",
       "      <th>experience_level</th>\n",
       "      <th>company_size</th>\n",
       "      <th>salary</th>\n",
       "    </tr>\n",
       "  </thead>\n",
       "  <tbody>\n",
       "    <tr>\n",
       "      <th>123</th>\n",
       "      <td>3756135992</td>\n",
       "      <td>Data Scientist</td>\n",
       "      <td>Adobe</td>\n",
       "      <td>CA</td>\n",
       "      <td>Híbrido</td>\n",
       "      <td>Prácticas</td>\n",
       "      <td>Prácticas</td>\n",
       "      <td>L</td>\n",
       "      <td>86400.0</td>\n",
       "    </tr>\n",
       "  </tbody>\n",
       "</table>\n",
       "</div>"
      ],
      "text/plain": [
       "         job_id       job_title company_name company_state remote_ratio  \\\n",
       "123  3756135992  Data Scientist        Adobe            CA      Híbrido   \n",
       "\n",
       "    employment_type experience_level company_size   salary  \n",
       "123       Prácticas        Prácticas            L  86400.0  "
      ]
     },
     "execution_count": 2306,
     "metadata": {},
     "output_type": "execute_result"
    }
   ],
   "source": [
    "linkedin[linkedin['job_id'] == 3756135992]"
   ]
  },
  {
   "cell_type": "code",
   "execution_count": 2307,
   "metadata": {},
   "outputs": [],
   "source": [
    "linkedin.to_csv('../data/linkedin_standarized.csv', index=False)"
   ]
  }
 ],
 "metadata": {
  "kernelspec": {
   "display_name": "project",
   "language": "python",
   "name": "python3"
  },
  "language_info": {
   "codemirror_mode": {
    "name": "ipython",
    "version": 3
   },
   "file_extension": ".py",
   "mimetype": "text/x-python",
   "name": "python",
   "nbconvert_exporter": "python",
   "pygments_lexer": "ipython3",
   "version": "3.11.5"
  }
 },
 "nbformat": 4,
 "nbformat_minor": 2
}
