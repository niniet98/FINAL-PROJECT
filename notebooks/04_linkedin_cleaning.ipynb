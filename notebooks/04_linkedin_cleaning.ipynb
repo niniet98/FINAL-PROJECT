{
 "cells": [
  {
   "cell_type": "markdown",
   "metadata": {},
   "source": [
    "#### Imports"
   ]
  },
  {
   "cell_type": "code",
   "execution_count": 2775,
   "metadata": {},
   "outputs": [],
   "source": [
    "import pandas as pd\n",
    "import numpy as np\n",
    "import re"
   ]
  },
  {
   "cell_type": "markdown",
   "metadata": {},
   "source": [
    "#### Read linkedin csv"
   ]
  },
  {
   "cell_type": "code",
   "execution_count": 2776,
   "metadata": {},
   "outputs": [
    {
     "data": {
      "text/html": [
       "<div>\n",
       "<style scoped>\n",
       "    .dataframe tbody tr th:only-of-type {\n",
       "        vertical-align: middle;\n",
       "    }\n",
       "\n",
       "    .dataframe tbody tr th {\n",
       "        vertical-align: top;\n",
       "    }\n",
       "\n",
       "    .dataframe thead th {\n",
       "        text-align: right;\n",
       "    }\n",
       "</style>\n",
       "<table border=\"1\" class=\"dataframe\">\n",
       "  <thead>\n",
       "    <tr style=\"text-align: right;\">\n",
       "      <th></th>\n",
       "      <th>job_id</th>\n",
       "      <th>job_title</th>\n",
       "      <th>company_name</th>\n",
       "      <th>company_state</th>\n",
       "      <th>salary_range</th>\n",
       "      <th>remote_ratio</th>\n",
       "      <th>employment_type</th>\n",
       "      <th>experience_level</th>\n",
       "      <th>company_size</th>\n",
       "      <th>image_link</th>\n",
       "    </tr>\n",
       "  </thead>\n",
       "  <tbody>\n",
       "    <tr>\n",
       "      <th>682</th>\n",
       "      <td>3773802052</td>\n",
       "      <td>Data Analyst</td>\n",
       "      <td>Promise</td>\n",
       "      <td>· Fairfield, CA</td>\n",
       "      <td>70 $/h - 80 $/h</td>\n",
       "      <td>Presencial</td>\n",
       "      <td>Contrato por obra</td>\n",
       "      <td>Intermedio</td>\n",
       "      <td>De 11 a 50 empleados · Desarrollo de software</td>\n",
       "      <td>https://media.licdn.com/dms/image/C560BAQH8jYM...</td>\n",
       "    </tr>\n",
       "    <tr>\n",
       "      <th>623</th>\n",
       "      <td>3772209411</td>\n",
       "      <td>Data Engineer with Power BI</td>\n",
       "      <td>InvestM Technology LLC</td>\n",
       "      <td>· Nueva York, NY</td>\n",
       "      <td>55 $/h - 58 $/h</td>\n",
       "      <td>Presencial</td>\n",
       "      <td>Contrato por obra</td>\n",
       "      <td>Sin experiencia</td>\n",
       "      <td>De 11 a 50 empleados · Servicios y consultoría...</td>\n",
       "      <td>https://media.licdn.com/dms/image/D4E0BAQHkkQT...</td>\n",
       "    </tr>\n",
       "    <tr>\n",
       "      <th>376</th>\n",
       "      <td>3765481174</td>\n",
       "      <td>Data Analyst</td>\n",
       "      <td>The Society of St. Vincent de Paul - Phoenix</td>\n",
       "      <td>· Phoenix, AZ</td>\n",
       "      <td>55 $/h - 60 $/h</td>\n",
       "      <td>Presencial</td>\n",
       "      <td>Contrato por obra</td>\n",
       "      <td>Algo de responsabilidad</td>\n",
       "      <td>De 51 a 200 empleados · Gestión de organizacio...</td>\n",
       "      <td>https://media.licdn.com/dms/image/C560BAQEb9oR...</td>\n",
       "    </tr>\n",
       "  </tbody>\n",
       "</table>\n",
       "</div>"
      ],
      "text/plain": [
       "         job_id                    job_title  \\\n",
       "682  3773802052                 Data Analyst   \n",
       "623  3772209411  Data Engineer with Power BI   \n",
       "376  3765481174                 Data Analyst   \n",
       "\n",
       "                                     company_name     company_state  \\\n",
       "682                                       Promise   · Fairfield, CA   \n",
       "623                        InvestM Technology LLC  · Nueva York, NY   \n",
       "376  The Society of St. Vincent de Paul - Phoenix     · Phoenix, AZ   \n",
       "\n",
       "        salary_range remote_ratio    employment_type         experience_level  \\\n",
       "682  70 $/h - 80 $/h   Presencial  Contrato por obra               Intermedio   \n",
       "623  55 $/h - 58 $/h   Presencial  Contrato por obra          Sin experiencia   \n",
       "376  55 $/h - 60 $/h   Presencial  Contrato por obra  Algo de responsabilidad   \n",
       "\n",
       "                                          company_size  \\\n",
       "682      De 11 a 50 empleados · Desarrollo de software   \n",
       "623  De 11 a 50 empleados · Servicios y consultoría...   \n",
       "376  De 51 a 200 empleados · Gestión de organizacio...   \n",
       "\n",
       "                                            image_link  \n",
       "682  https://media.licdn.com/dms/image/C560BAQH8jYM...  \n",
       "623  https://media.licdn.com/dms/image/D4E0BAQHkkQT...  \n",
       "376  https://media.licdn.com/dms/image/C560BAQEb9oR...  "
      ]
     },
     "execution_count": 2776,
     "metadata": {},
     "output_type": "execute_result"
    }
   ],
   "source": [
    "linkedin = pd.read_csv('../data/linkedin.csv')\n",
    "linkedin.sample(3)"
   ]
  },
  {
   "cell_type": "markdown",
   "metadata": {},
   "source": [
    "#### Cleaning 'company_state' column"
   ]
  },
  {
   "cell_type": "code",
   "execution_count": 2777,
   "metadata": {},
   "outputs": [
    {
     "data": {
      "text/plain": [
       "company_state\n",
       "· Estados Unidos       102\n",
       "· Nueva York, NY        42\n",
       "· Seattle, WA           29\n",
       "· San Francisco, CA     26\n",
       "· Chicago, IL           18\n",
       "                      ... \n",
       "· Waukegan, IL           1\n",
       "· Foxborough, MA         1\n",
       "· Newport News, VA       1\n",
       "· Chantilly, VA          1\n",
       "· Mesa, AZ               1\n",
       "Name: count, Length: 315, dtype: int64"
      ]
     },
     "execution_count": 2777,
     "metadata": {},
     "output_type": "execute_result"
    }
   ],
   "source": [
    "states = ['AL', 'AK', 'AZ', 'AR', 'CA', 'NC', 'SC', 'CO', 'CT', 'ND', 'SD', 'DE', 'FL', 'GA', 'HI', 'ID', 'IL', 'IN', 'IA', 'KS', 'KY', 'LA',\n",
    "          'ME', 'MD', 'MA', 'MI', 'MN', 'MS', 'MO', 'MT', 'NE', 'NV', 'NJ', 'NY', 'NH', 'NM', 'OH', 'OK', 'OR', 'PA', 'RI', 'TN', 'TX', 'UT',\n",
    "          'UT', 'VT', 'VA', 'WV', 'WA', 'WI', 'WY']\n",
    "linkedin['company_state'].value_counts()"
   ]
  },
  {
   "cell_type": "code",
   "execution_count": 2778,
   "metadata": {},
   "outputs": [],
   "source": [
    "def fclean_company_state(df, states):\n",
    "    for i in states:\n",
    "        linkedin['company_state'] = linkedin['company_state'].apply(lambda row: i if i in str(row) else row)\n",
    "    return df\n",
    "\n",
    "linkedin = fclean_company_state(linkedin, states)"
   ]
  },
  {
   "cell_type": "code",
   "execution_count": 2779,
   "metadata": {},
   "outputs": [
    {
     "data": {
      "text/plain": [
       "array(['CA', 'NC', 'VA', 'NY', 'USA', 'MI', 'WA', 'NE', 'TX', 'IN', 'GA',\n",
       "       'AZ', 'UT', 'OR', 'IL', 'MN', 'MA', 'NJ', 'PA',\n",
       "       '· Cleveland y alrededores', 'OH', 'FL', 'KS', 'SC', 'MD', 'WI',\n",
       "       '· Los Ángeles y alrededores', 'AR', 'MO', 'CO', 'CT', 'TN', 'KY',\n",
       "       '· Urbana-Champaign y alrededores', 'LA', 'NV', 'OK', 'IA', 'SD',\n",
       "       'VT', 'ID', 'AL', 'HI', 'DE', 'RI', 'NM', 'NH',\n",
       "       '· Houston y alrededores'], dtype=object)"
      ]
     },
     "execution_count": 2779,
     "metadata": {},
     "output_type": "execute_result"
    }
   ],
   "source": [
    "def sclean_company_state(df, states):\n",
    "    for key, value in states.items():\n",
    "        linkedin['company_state'] = linkedin['company_state'].apply(lambda row: value if key in str(row) else row)\n",
    "    return df\n",
    "\n",
    "left_states = {\n",
    "    'Virginia': 'VA',\n",
    "    'Minnesota': 'MN',\n",
    "    'Washington': 'WA',\n",
    "    'San Francisco': 'CA',\n",
    "    'Nebraska': 'NE',\n",
    "    'California': 'CA',\n",
    "    'Texas': 'TX',\n",
    "    'Nueva York': 'NY',\n",
    "    'Michigan': 'MI',\n",
    "    'Luisiana': 'LA',\n",
    "    'Florida': 'FL',\n",
    "    'Maryland': 'MD',\n",
    "    'Nevada': 'NV',\n",
    "    'Oregón': 'OR',\n",
    "    'Oklahoma': 'OK',\n",
    "    'Georgia': 'GA',\n",
    "    'Carolina del Sur': 'SC',\n",
    "    'Delaware': 'DE',\n",
    "    'Ohio': 'OH',\n",
    "    'Arkansas': 'AR',\n",
    "    'Iowa': 'IA',\n",
    "    'Carolina del Norte': 'NC',\n",
    "    'Indiana': 'IN',\n",
    "    'Nashville': 'TN',\n",
    "    'Massachusetts': 'MA',\n",
    "    'Tennessee': 'TN',\n",
    "    'Enid': 'OK',\n",
    "    'Chicago': 'IL',\n",
    "    'América del Norte': 'USA',\n",
    "    'Estados Unidos': 'USA',\n",
    "    'Des Moines': 'IA',\n",
    "    'Pittsburgh': 'PA',\n",
    "    'Cincinnati': 'OH',\n",
    "    'St. Louis': 'MO',\n",
    "    'Illinois': 'IL',\n",
    "    'Jacksonville': 'FL'\n",
    "}\n",
    "linkedin = sclean_company_state(linkedin, left_states)\n",
    "linkedin = linkedin[~linkedin['company_state'].str.contains('Unión Europea', na=False)]\n",
    "linkedin['company_state'].unique()"
   ]
  },
  {
   "cell_type": "markdown",
   "metadata": {},
   "source": [
    "#### Cleaning 'remote_ratio' column"
   ]
  },
  {
   "cell_type": "code",
   "execution_count": 2780,
   "metadata": {},
   "outputs": [
    {
     "data": {
      "text/plain": [
       "remote_ratio\n",
       "En remoto     353\n",
       "Híbrido       275\n",
       "Presencial    267\n",
       "Name: count, dtype: int64"
      ]
     },
     "execution_count": 2780,
     "metadata": {},
     "output_type": "execute_result"
    }
   ],
   "source": [
    "def clean_remote_ratio(df, list_):\n",
    "    for i in list_:\n",
    "        df['remote_ratio'] = df['remote_ratio'].apply(lambda row: i if i in str(row) else str(row))\n",
    "    df['remote_ratio'] = df['remote_ratio'].apply(lambda row: np.nan if str(row) == 'nan' else str(row))\n",
    "    return df\n",
    "\n",
    "remote_dict = [\n",
    "    'Presencial',\n",
    "    'Híbrido',\n",
    "    'En remoto'\n",
    "]\n",
    "linkedin = clean_remote_ratio(linkedin, remote_dict)\n",
    "linkedin['remote_ratio'].value_counts()"
   ]
  },
  {
   "cell_type": "code",
   "execution_count": 2781,
   "metadata": {},
   "outputs": [
    {
     "data": {
      "text/plain": [
       "remote_ratio\n",
       "En remoto     353\n",
       "Híbrido       275\n",
       "Presencial    267\n",
       "Name: count, dtype: int64"
      ]
     },
     "execution_count": 2781,
     "metadata": {},
     "output_type": "execute_result"
    }
   ],
   "source": [
    "linkedin.loc[linkedin['remote_ratio'] == 'nan', 'remote_ratio'] = np.nan\n",
    "linkedin['remote_ratio'].value_counts()"
   ]
  },
  {
   "cell_type": "markdown",
   "metadata": {},
   "source": [
    "#### Cleaning 'experience_level' column"
   ]
  },
  {
   "cell_type": "code",
   "execution_count": 2782,
   "metadata": {},
   "outputs": [
    {
     "data": {
      "text/plain": [
       "experience_level\n",
       "Intermedio                 398\n",
       "Sin experiencia            298\n",
       "Prácticas                  116\n",
       "Algo de responsabilidad     83\n",
       "Director                    17\n",
       "Ejecutivo                    2\n",
       "Name: count, dtype: int64"
      ]
     },
     "execution_count": 2782,
     "metadata": {},
     "output_type": "execute_result"
    }
   ],
   "source": [
    "linkedin.sample(5)\n",
    "linkedin['experience_level'].value_counts()"
   ]
  },
  {
   "cell_type": "markdown",
   "metadata": {},
   "source": [
    "#### Cleaning 'employment_type' column"
   ]
  },
  {
   "cell_type": "code",
   "execution_count": 2783,
   "metadata": {},
   "outputs": [
    {
     "data": {
      "text/plain": [
       "employment_type\n",
       "Jornada completa     645\n",
       "Contrato por obra    132\n",
       "Prácticas             89\n",
       "Media jornada         52\n",
       "Temporal               1\n",
       "Name: count, dtype: int64"
      ]
     },
     "execution_count": 2783,
     "metadata": {},
     "output_type": "execute_result"
    }
   ],
   "source": [
    "def clean_employment_type(df, list_):\n",
    "    for i in list_:\n",
    "        df['employment_type'] = df['employment_type'].apply(lambda row: i if i in str(row) else str(row))\n",
    "    return df\n",
    "\n",
    "remote_dict = [\n",
    "    'Jornada completa',\n",
    "    'Contrato por obra',\n",
    "    'Media jornada',\n",
    "    'Prácticas',\n",
    "    'Temporal'\n",
    "]\n",
    "linkedin = clean_employment_type(linkedin, remote_dict)\n",
    "linkedin['employment_type'].value_counts()"
   ]
  },
  {
   "cell_type": "markdown",
   "metadata": {},
   "source": [
    "#### Cleaning 'company_size' column"
   ]
  },
  {
   "cell_type": "code",
   "execution_count": 2784,
   "metadata": {},
   "outputs": [
    {
     "data": {
      "text/plain": [
       "company_size\n",
       "De 51 a 200 empleados · Servicios y consultoría de TI            43\n",
       "De 51 a 200 empleados · Dotación y selección de personal         41\n",
       "Más de 10.001 empleados · Hospitales y atención sanitaria        34\n",
       "De 11 a 50 empleados · Dotación y selección de personal          33\n",
       "De 1.001 a 5.000 empleados · Servicios y consultoría de TI       32\n",
       "                                                                 ..\n",
       "De 5.001 a 10.000 empleados · Generación de energía eléctrica     1\n",
       "De 201 a 500 empleados · Telecomunicaciones                       1\n",
       "De 51 a 200 empleados · Publicaciones en línea                    1\n",
       "De 5.001 a 10.000 empleados · Bienes inmuebles                    1\n",
       "De 11 a 50 empleados · Noticias en línea                          1\n",
       "Name: count, Length: 222, dtype: int64"
      ]
     },
     "execution_count": 2784,
     "metadata": {},
     "output_type": "execute_result"
    }
   ],
   "source": [
    "linkedin['company_size'].value_counts()"
   ]
  },
  {
   "cell_type": "code",
   "execution_count": 2785,
   "metadata": {},
   "outputs": [
    {
     "data": {
      "text/plain": [
       "company_size\n",
       "Más de 10.001 empleados                                251\n",
       "De 51 a 200 empleados                                  162\n",
       "De 1.001 a 5.000 empleados                             159\n",
       "De 11 a 50 empleados                                    92\n",
       "De 201 a 500 empleados                                  78\n",
       "De 501 a 1.000 empleados                                76\n",
       "De 5.001 a 10.000 empleados                             55\n",
       "Entre 1 y 10 empleados                                  44\n",
       "Nagesh Kumar Gona ✈ busca personal para este empleo      1\n",
       "Fabricación de productos de plástico                     1\n",
       "Name: count, dtype: int64"
      ]
     },
     "execution_count": 2785,
     "metadata": {},
     "output_type": "execute_result"
    }
   ],
   "source": [
    "linkedin['company_size'] = linkedin['company_size'].apply(lambda row: row.split('·')[0].strip())\n",
    "linkedin['company_size'].value_counts()"
   ]
  },
  {
   "cell_type": "code",
   "execution_count": 2786,
   "metadata": {},
   "outputs": [
    {
     "data": {
      "text/plain": [
       "employees\n",
       "10.001    251\n",
       "200       162\n",
       "5.000     159\n",
       "50         92\n",
       "500        78\n",
       "1.000      76\n",
       "10.000     55\n",
       "10         44\n",
       "Name: count, dtype: int64"
      ]
     },
     "execution_count": 2786,
     "metadata": {},
     "output_type": "execute_result"
    }
   ],
   "source": [
    "def filter_employee(row):\n",
    "    pattern1 = r\"(Más de \\d+\\.?\\d* empleados)\"\n",
    "    pattern2 = r\"(De \\d+\\.?\\d* a \\d+\\.?\\d* empleados)\"\n",
    "    pattern3 = r\"(Entre \\d+\\.?\\d* y \\d+\\.?\\d* empleados)\"\n",
    "\n",
    "    match1 = re.search(pattern1, str(row))\n",
    "    match2 = re.search(pattern2, str(row))\n",
    "    match3 = re.search(pattern3, str(row))\n",
    "\n",
    "    if match1:\n",
    "        return match1.group(1)\n",
    "    elif match2:\n",
    "        return match2.group(1)\n",
    "    elif match3:\n",
    "        return match3.group(1)\n",
    "    else:\n",
    "        return np.nan\n",
    "\n",
    "def clean_employee(row):\n",
    "    pattern1 = r\"Más de (\\d+\\.?\\d*) empleados\"\n",
    "    pattern2 = r\"De (\\d+\\.?\\d*) a (\\d+\\.?\\d*) empleados\"\n",
    "    pattern3 = r\"Entre (\\d+\\.?\\d*) y (\\d+\\.?\\d*) empleados\"\n",
    "\n",
    "    match1 = re.match(pattern1, str(row))\n",
    "    match2 = re.match(pattern2, str(row))\n",
    "    match3 = re.match(pattern3, str(row))\n",
    "\n",
    "    if match1:\n",
    "        return match1.group(1)\n",
    "    elif match2:\n",
    "        return match2.group(2)\n",
    "    elif match3:\n",
    "        return match3.group(2)\n",
    "    else:\n",
    "        return np.nan\n",
    "\n",
    "linkedin['company_size'] = linkedin['company_size'].apply(filter_employee)\n",
    "linkedin['employees'] = linkedin['company_size'].apply(clean_employee)\n",
    "linkedin['employees'].value_counts()"
   ]
  },
  {
   "cell_type": "code",
   "execution_count": 2787,
   "metadata": {},
   "outputs": [
    {
     "data": {
      "text/plain": [
       "company_size\n",
       "L    619\n",
       "M    254\n",
       "S     44\n",
       "Name: count, dtype: int64"
      ]
     },
     "execution_count": 2787,
     "metadata": {},
     "output_type": "execute_result"
    }
   ],
   "source": [
    "def standarize_company_size(row):\n",
    "    if pd.notnull(row):\n",
    "        if int(row.replace('.', '')) < 50:\n",
    "            return 'S'\n",
    "        elif int(row.replace('.', '')) <= 250:\n",
    "            return 'M'\n",
    "        elif int(row.replace('.', '')) > 250:\n",
    "            return 'L'\n",
    "        else:\n",
    "            return np.nan\n",
    "\n",
    "linkedin ['comp_size'] = linkedin['employees']\n",
    "linkedin['employees'] = linkedin['company_size']\n",
    "linkedin['company_size'] = linkedin['comp_size']\n",
    "linkedin['company_size'] = linkedin['company_size'].apply(standarize_company_size)\n",
    "linkedin = linkedin.drop(columns=['comp_size'])\n",
    "linkedin['company_size'].value_counts()"
   ]
  },
  {
   "cell_type": "markdown",
   "metadata": {},
   "source": [
    "#### Cleaning 'salary_range' column"
   ]
  },
  {
   "cell_type": "code",
   "execution_count": 2788,
   "metadata": {},
   "outputs": [
    {
     "data": {
      "text/plain": [
       "array(['90.000 $/año - 120.000 $/año', '100.000 $/año - 150.000 $/año',\n",
       "       '283.780 $/año - 331.640 $/año', '160.000 $/año - 200.000 $/año',\n",
       "       nan, '65.000 $/año - 185.000 $/año',\n",
       "       '145.000 $/año - 180.000 $/año', '95.000 $/año - 130.000 $/año',\n",
       "       '57.000 $/año - 85.000 $/año', '84.899 $/año - 172.663 $/año',\n",
       "       '167.200 $/año - 250.800 $/año', '17,87 $/h - 23,96 $/h',\n",
       "       '200.000 $/año - 240.000 $/año', '136.038 $/año - 182.490 $/año',\n",
       "       '70.000 $/yr', '200.000 $/año - 300.000 $/año',\n",
       "       '120.000 $/año - 220.000 $/año', '60.000 $/año - 90.000 $/año',\n",
       "       '95.301 $/año - 138.186 $/año', '125.000 $/año - 185.000 $/año',\n",
       "       '144.000 $/año - 270.250 $/año', '150.000 $/año - 200.000 $/año',\n",
       "       '83.890 $/año - 142.610 $/año', '120.000 $/año - 180.000 $/año',\n",
       "       '170.112 $/año - 237.000 $/año', '170.000 $/año - 190.000 $/año',\n",
       "       '20 $/hr', '145.000 $/año - 195.000 $/año', '25 $/h - 30 $/h',\n",
       "       '67.733 $/año - 91.440 $/año', '125.000 $/año - 195.000 $/año',\n",
       "       '125.000 $/año - 157.000 $/año', '95.000 $/año - 120.000 $/año',\n",
       "       '78 $/h - 104 $/h', '122.000 $/año - 190.000 $/año',\n",
       "       '101.000 $/año - 179.000 $/año', '92.500 $/año - 119.500 $/año',\n",
       "       '48 $/h - 65 $/h', '125.000 $/año - 135.000 $/año',\n",
       "       '125.000 $/año - 160.000 $/año', '35 $/h - 55 $/h',\n",
       "       '92.500 $/año - 158.000 $/año', '80.500 $/año - 137.000 $/año',\n",
       "       '71.500 $/año - 115.000 $/año', '75 $/h - 85 $/h',\n",
       "       '45 $/h - 55 $/h', '150.000 $/año - 250.000 $/año',\n",
       "       '40 $/h - 43 $/h', '115.000 $/año - 130.000 $/año',\n",
       "       '150.000 $/año - 300.000 $/año', '90 $/hr',\n",
       "       '260.000 $/año - 300.000 $/año', '90.000 $/año - 130.000 $/año',\n",
       "       '60 $/h - 68 $/h', '70.000 $/año - 85.000 $/año',\n",
       "       '140.000 $/año - 160.000 $/año', '150.000 $/año - 190.000 $/año',\n",
       "       '26 $/h - 31 $/h', '139.100 $/año - 235.400 $/año',\n",
       "       '60.000 $/año - 100.000 $/año', '140.000 $/año - 170.000 $/año',\n",
       "       '90 $/h - 100 $/h', '90.000 $/año - 110.000 $/año',\n",
       "       '106.953,60 $/año - 130.000 $/año',\n",
       "       '140.000 $/año - 180.000 $/año', '400.000 $/año - 700.000 $/año',\n",
       "       '140.000 $/año - 165.000 $/año', '73.500 $/año - 170.000 $/año',\n",
       "       '103.500 $/año - 200.000 $/año', '87.600 $/año - 118.400 $/año',\n",
       "       '50 $/h - 57 $/h', '60 $/h - 70 $/h',\n",
       "       '60.000 $/año - 65.000 $/año', '85.000 $/año - 125.000 $/año',\n",
       "       '32 $/h - 37 $/h', '26 $/h - 29 $/h',\n",
       "       '75.000 $/año - 120.000 $/año', '100.000 $/año - 174.000 $/año',\n",
       "       '150 $/año - 400 $/año', '75 $/h - 80 $/h', '70 $/año - 75 $/año',\n",
       "       '60.000 $/año - 95.000 $/año', '55 $/h - 60 $/h',\n",
       "       '130.000 $/año - 190.000 $/año', '40 $/h - 50 $/h', '140.000 $/yr',\n",
       "       '200.000 $/año - 600.000 $/año', '190.000 $/año - 210.000 $/año',\n",
       "       '78.500 $/año - 112.100 $/año', '26 $/hr',\n",
       "       '111.100 $/año - 166.700 $/año', '171.000 $/año - 258.000 $/año',\n",
       "       '20,75 $/h - 37 $/h', '60 $/h - 63 $/h',\n",
       "       '78.000 $/año - 120.000 $/año', '250.000 $/año - 350.000 $/año',\n",
       "       '100.000 $/año - 115.000 $/año', '140.000 $/año - 150.000 $/año',\n",
       "       '50 $/h - 60 $/h', '130.000 $/año - 220.000 $/año',\n",
       "       '168.000 $/año - 225.000 $/año', '92 $/h - 97 $/h',\n",
       "       '50 $/h - 55 $/h', '65.000 $/año - 85.000 $/año',\n",
       "       '15 $/h - 20 $/h', '70.000 $/año - 80.000 $/año',\n",
       "       '10.120 $/año - 12.170 $/año', '40 $/h - 51 $/h',\n",
       "       '80.000 $/año - 140.000 $/año', '102.690 $/año - 142.500 $/año',\n",
       "       '145.000 $/año - 154.000 $/año', '140.250 $/año - 165.000 $/año',\n",
       "       '120.000 $/año - 150.000 $/año', '60 $/h - 75 $/h',\n",
       "       '65 $/h - 70 $/h', '28,26 $/h - 49,52 $/h', '20 $/h - 35 $/h',\n",
       "       '81.000 $/año - 196.000 $/año', '94.000 $/año - 196.000 $/año',\n",
       "       '150.000 $/yr', '20 $/h - 23 $/h', '53 $/h - 58 $/h',\n",
       "       '5 $/h - 58 $/h', '60 $/h - 65 $/h', '20 $/h - 28 $/h', '18 $/hr',\n",
       "       '70 $/h - 80 $/h', '29 $/h - 34 $/h', '70 $/h - 75 $/h',\n",
       "       '100.000 $/año - 170.000 $/año', '110.000 $/año - 125.000 $/año',\n",
       "       '200.000 $/año - 250.000 $/año', '180.000 $/año - 195.000 $/año',\n",
       "       '33.200 $/año - 53.000 $/año', '70.000 $/año - 130.000 $/año',\n",
       "       '120.000 $/año - 165.000 $/año', '65.000 $/año - 72.000 $/año',\n",
       "       '113.006,40 $/año - 141.793,59 $/año', '90.000 $/yr',\n",
       "       '130.000 $/año - 180.000 $/año', '275.000 $/año - 425.000 $/año',\n",
       "       '76 $/h - 82 $/h', '55 $/h - 58 $/h',\n",
       "       '170.000 $/año - 199.000 $/año', '170.000 $/año - 200.000 $/año',\n",
       "       '50.000 $/año - 85.000 $/año', '30 $/hr', '28 $/h - 30 $/h',\n",
       "       '80.000 $/año - 95.000 $/año', '500.000 $/yr',\n",
       "       '135.200 $/año - 145.600 $/año', '80 $/h - 85 $/h',\n",
       "       '84.546 $/año - 109.908 $/año', '131.900 $/año - 151.700 $/año',\n",
       "       '17 $/hr', '50 $/h - 54 $/h', '55 $/h - 70 $/h',\n",
       "       '95.000 $/año - 115.000 $/año', '141.570 $/año - 173.030 $/año',\n",
       "       '100.000 $/año - 125.000 $/año', '94.199 $/año - 122.459 $/año',\n",
       "       '36 $/h - 39,58 $/h', '50.000 $/año - 60.000 $/año',\n",
       "       '3.895 $/mes - 6.032 $/mes', '4.649 $/mes - 9.465 $/mes',\n",
       "       '6.482 $/mes - 8.102 $/mes', '3.240 $/mes - 3.907 $/mes',\n",
       "       '125.000 $/año - 175.000 $/año', '150.000 $/año - 180.000 $/año',\n",
       "       '70 $/hr', '20 $/h - 24 $/h', '70 $/h - 100 $/h',\n",
       "       '130.000 $/año - 205.000 $/año', '15 $/h - 35 $/h',\n",
       "       '198.200 $/año - 297.300 $/año', '244.000 $/yr',\n",
       "       '181.000 $/año - 262.000 $/año', '45.000 $/yr',\n",
       "       '124.800 $/año - 220.800 $/año', '85.000 $/año - 90.000 $/año',\n",
       "       '64.000 $/año - 76.000 $/año', '80 $/hr',\n",
       "       '105.930 $/año - 158.890 $/año', '135.000 $/año - 150.000 $/año',\n",
       "       '100.000 $/año - 140.000 $/año', '71.428 $/año - 102.981 $/año',\n",
       "       '139.700 $/año - 247.300 $/año', '128.800 $/año - 193.200 $/año',\n",
       "       '60.000 $/año - 70.000 $/año', '205.700 $/año - 278.300 $/año',\n",
       "       '120.000 $/año - 160.000 $/año', '120.000 $/año - 162.000 $/año',\n",
       "       '67.000 $/año - 78.000 $/año', '67.000 $/año - 79.000 $/año',\n",
       "       '125.000 $/año - 200.000 $/año', '112.000 $/año - 122.000 $/año',\n",
       "       '64.000 $/año - 78.000 $/año'], dtype=object)"
      ]
     },
     "execution_count": 2788,
     "metadata": {},
     "output_type": "execute_result"
    }
   ],
   "source": [
    "linkedin['salary_range'].unique()"
   ]
  },
  {
   "cell_type": "code",
   "execution_count": 2789,
   "metadata": {},
   "outputs": [],
   "source": [
    "hour_pattern = r\"(\\d+) \\$\\/hr\"\n",
    "year_pattern = r\"(\\d+\\.?\\d*) \\$\\/yr\"\n",
    "hour_range_pattern = r\"(\\d+\\,?\\d*) \\$\\/h - (\\d+\\,?\\d*) \\$\\/h\"\n",
    "year_range_pattern = r\"(\\d+\\.?\\d*) \\$\\/año - (\\d+\\.?\\d*) \\$\\/año\"\n",
    "month_range_pattern = r\"(\\d+\\.?\\d*) \\$\\/mes - (\\d+\\.?\\d*) \\$\\/mes\""
   ]
  },
  {
   "cell_type": "code",
   "execution_count": 2790,
   "metadata": {},
   "outputs": [],
   "source": [
    "def clean_salary(row, type=None):\n",
    "    match_h = re.match(hour_pattern, str(row))\n",
    "    match_y = re.match(year_pattern, str(row))\n",
    "    match_rh = re.match(hour_range_pattern, str(row))\n",
    "    match_ry = re.match(year_range_pattern, str(row))\n",
    "    match_rm = re.match(month_range_pattern, str(row))\n",
    "    if match_h:\n",
    "        num_h = match_h.group(1)\n",
    "        # if type == 'max':\n",
    "        #     num_h = int(num_h) + 5\n",
    "        # elif type == 'min':\n",
    "        #     num_h = int(num_h) - 5\n",
    "        num_w = int(num_h) * 40\n",
    "        return int(num_w * 48)\n",
    "    elif match_y:\n",
    "        sal = int(match_y.group(1).replace('.', ''))\n",
    "        # if type == 'max':\n",
    "        #     sal += 2000\n",
    "        # elif type == 'min':\n",
    "        #     sal -= 2000\n",
    "        return sal\n",
    "    elif match_rh:\n",
    "        min_ = match_rh.group(1)\n",
    "        max_ = match_rh.group(2)\n",
    "        num_h = (float(min_.replace(',', '.')) + float(max_.replace(',', '.'))) / 2\n",
    "        # if type == 'max':\n",
    "        #     num_h = float(max_.replace(',', '.'))\n",
    "        # elif type == 'min':\n",
    "        #     num_h = float(min_.replace(',', '.'))\n",
    "        num_w = num_h * 40\n",
    "        return int(num_w * 48)\n",
    "    elif match_ry:\n",
    "        min_ = match_ry.group(1)\n",
    "        max_ = match_ry.group(2)\n",
    "        if '.' not in max_:\n",
    "            max_ += '000'\n",
    "        if '.' not in min_:\n",
    "            min_ += '000'\n",
    "        num_y = (float(min_.replace('.', '')) + float(max_.replace('.', ''))) / 2\n",
    "        # if type == 'max':\n",
    "        #     num_y = float(max_.replace('.', ''))\n",
    "        # elif type == 'min':\n",
    "        #     num_y = float(min_.replace('.', ''))\n",
    "        return int(num_y)\n",
    "    elif match_rm:\n",
    "        min_ = match_rm.group(1)\n",
    "        max_ = match_rm.group(2)\n",
    "        num_m = (float(min_.replace('.', '')) + float(max_.replace('.', ''))) / 2\n",
    "        # if type == 'max':\n",
    "        #     num_m = float(max_.replace('.', ''))\n",
    "        # elif type == 'min':\n",
    "        #     num_m = float(min_.replace('.', ''))\n",
    "        return int(num_m * 12)\n",
    "    else:\n",
    "        return np.nan\n",
    "\n",
    "# linkedin['min_salary'] = linkedin['salary_range'].apply(lambda row: clean_salary(row, 'min'))\n",
    "linkedin['salary'] = linkedin['salary_range'].apply(clean_salary)\n",
    "# linkedin['max_salary'] = linkedin['salary_range'].apply(lambda row: clean_salary(row, 'max'))"
   ]
  },
  {
   "cell_type": "code",
   "execution_count": 2791,
   "metadata": {},
   "outputs": [
    {
     "data": {
      "text/plain": [
       "array([105000., 125000., 307710., 180000.,     nan, 162500., 112500.,\n",
       "        71000., 128781., 209000.,  40156., 220000., 159264.,  70000.,\n",
       "       250000., 170000.,  75000., 116743., 155000., 207125., 175000.,\n",
       "       113250., 150000., 203556.,  38400.,  52800.,  79586., 160000.,\n",
       "       141000., 107500., 174720., 156000., 140000., 106000., 108480.,\n",
       "       130000., 142500.,  86400., 125250., 108750.,  93250., 153600.,\n",
       "        96000., 200000.,  79680., 122500., 225000., 172800., 280000.,\n",
       "       110000., 122880.,  77500.,  54720., 187250.,  80000., 182400.,\n",
       "       100000., 550000., 152500., 121750., 151750., 103000., 102720.,\n",
       "       124800.,  62500.,  66240.,  97500., 137000., 275000., 148800.,\n",
       "        72500., 110400., 400000.,  95300.,  49920., 138900., 214500.,\n",
       "        55440., 118080.,  99000., 300000., 145000., 105600., 196500.,\n",
       "       181440., 100800.,  33600.,  11145.,  87360., 122595., 149500.,\n",
       "       152625., 135000., 129600.,  74668., 138500.,  41280., 106560.,\n",
       "        60480., 120000.,  46080.,  34560., 144000., 139200., 117500.,\n",
       "       187500.,  43100.,  68500.,  90000., 350000., 151680., 184500.,\n",
       "       185000.,  67500.,  57600.,  55680.,  87500., 500000., 140400.,\n",
       "       158400.,  97227., 141800.,  32640.,  99840., 157300., 108329.,\n",
       "        72556.,  55000.,  59562.,  84684.,  87504.,  42882., 165000.,\n",
       "       134400.,  42240., 163200., 167500.,  48000., 247750., 244000.,\n",
       "       221500.,  45000., 132410.,  87204., 193500., 161000.,  65000.,\n",
       "       242000.,  73000., 117000.])"
      ]
     },
     "execution_count": 2791,
     "metadata": {},
     "output_type": "execute_result"
    }
   ],
   "source": [
    "linkedin['salary'].unique()"
   ]
  },
  {
   "cell_type": "code",
   "execution_count": 2792,
   "metadata": {},
   "outputs": [
    {
     "data": {
      "text/html": [
       "<div>\n",
       "<style scoped>\n",
       "    .dataframe tbody tr th:only-of-type {\n",
       "        vertical-align: middle;\n",
       "    }\n",
       "\n",
       "    .dataframe tbody tr th {\n",
       "        vertical-align: top;\n",
       "    }\n",
       "\n",
       "    .dataframe thead th {\n",
       "        text-align: right;\n",
       "    }\n",
       "</style>\n",
       "<table border=\"1\" class=\"dataframe\">\n",
       "  <thead>\n",
       "    <tr style=\"text-align: right;\">\n",
       "      <th></th>\n",
       "      <th>job_id</th>\n",
       "      <th>job_title</th>\n",
       "      <th>company_name</th>\n",
       "      <th>company_state</th>\n",
       "      <th>salary_range</th>\n",
       "      <th>remote_ratio</th>\n",
       "      <th>employment_type</th>\n",
       "      <th>experience_level</th>\n",
       "      <th>company_size</th>\n",
       "      <th>image_link</th>\n",
       "      <th>employees</th>\n",
       "      <th>salary</th>\n",
       "    </tr>\n",
       "  </thead>\n",
       "  <tbody>\n",
       "    <tr>\n",
       "      <th>424</th>\n",
       "      <td>3766891845</td>\n",
       "      <td>Data Analyst</td>\n",
       "      <td>Ad hoc Research</td>\n",
       "      <td>MD</td>\n",
       "      <td>NaN</td>\n",
       "      <td>NaN</td>\n",
       "      <td>Prácticas</td>\n",
       "      <td>Prácticas</td>\n",
       "      <td>M</td>\n",
       "      <td>https://media.licdn.com/dms/image/C4E0BAQGOHBF...</td>\n",
       "      <td>De 51 a 200 empleados</td>\n",
       "      <td>NaN</td>\n",
       "    </tr>\n",
       "    <tr>\n",
       "      <th>226</th>\n",
       "      <td>3758102716</td>\n",
       "      <td>Principal Machine Learning Engineer</td>\n",
       "      <td>Storm3</td>\n",
       "      <td>USA</td>\n",
       "      <td>150.000 $/año - 300.000 $/año</td>\n",
       "      <td>Híbrido</td>\n",
       "      <td>Jornada completa</td>\n",
       "      <td>Intermedio</td>\n",
       "      <td>M</td>\n",
       "      <td>https://media.licdn.com/dms/image/C4D0BAQEGZJV...</td>\n",
       "      <td>De 51 a 200 empleados</td>\n",
       "      <td>225000.0</td>\n",
       "    </tr>\n",
       "    <tr>\n",
       "      <th>374</th>\n",
       "      <td>3765449491</td>\n",
       "      <td>Associate Data Scientist</td>\n",
       "      <td>InVitro Cell Research, LLC</td>\n",
       "      <td>NY</td>\n",
       "      <td>60.000 $/año - 95.000 $/año</td>\n",
       "      <td>Presencial</td>\n",
       "      <td>Jornada completa</td>\n",
       "      <td>Sin experiencia</td>\n",
       "      <td>M</td>\n",
       "      <td>https://media.licdn.com/dms/image/C4E0BAQHN393...</td>\n",
       "      <td>De 11 a 50 empleados</td>\n",
       "      <td>77500.0</td>\n",
       "    </tr>\n",
       "    <tr>\n",
       "      <th>380</th>\n",
       "      <td>3765831773</td>\n",
       "      <td>Remote Cruise Planner - Entry Level</td>\n",
       "      <td>Travel by Tilly</td>\n",
       "      <td>AZ</td>\n",
       "      <td>NaN</td>\n",
       "      <td>En remoto</td>\n",
       "      <td>Media jornada</td>\n",
       "      <td>Sin experiencia</td>\n",
       "      <td>S</td>\n",
       "      <td>https://media.licdn.com/dms/image/C4E0BAQHhOeg...</td>\n",
       "      <td>Entre 1 y 10 empleados</td>\n",
       "      <td>NaN</td>\n",
       "    </tr>\n",
       "    <tr>\n",
       "      <th>1</th>\n",
       "      <td>3313895534</td>\n",
       "      <td>Signal Processing AI/Machine Learning Engineer</td>\n",
       "      <td>CyberCoders</td>\n",
       "      <td>NC</td>\n",
       "      <td>100.000 $/año - 150.000 $/año</td>\n",
       "      <td>Presencial</td>\n",
       "      <td>Jornada completa</td>\n",
       "      <td>Intermedio</td>\n",
       "      <td>L</td>\n",
       "      <td>https://media.licdn.com/dms/image/C560BAQF7t9X...</td>\n",
       "      <td>De 201 a 500 empleados</td>\n",
       "      <td>125000.0</td>\n",
       "    </tr>\n",
       "  </tbody>\n",
       "</table>\n",
       "</div>"
      ],
      "text/plain": [
       "         job_id                                       job_title  \\\n",
       "424  3766891845                                    Data Analyst   \n",
       "226  3758102716             Principal Machine Learning Engineer   \n",
       "374  3765449491                        Associate Data Scientist   \n",
       "380  3765831773             Remote Cruise Planner - Entry Level   \n",
       "1    3313895534  Signal Processing AI/Machine Learning Engineer   \n",
       "\n",
       "                   company_name company_state                   salary_range  \\\n",
       "424             Ad hoc Research            MD                            NaN   \n",
       "226                      Storm3           USA  150.000 $/año - 300.000 $/año   \n",
       "374  InVitro Cell Research, LLC            NY    60.000 $/año - 95.000 $/año   \n",
       "380             Travel by Tilly            AZ                            NaN   \n",
       "1                   CyberCoders            NC  100.000 $/año - 150.000 $/año   \n",
       "\n",
       "    remote_ratio   employment_type experience_level company_size  \\\n",
       "424          NaN         Prácticas        Prácticas            M   \n",
       "226      Híbrido  Jornada completa       Intermedio            M   \n",
       "374   Presencial  Jornada completa  Sin experiencia            M   \n",
       "380    En remoto     Media jornada  Sin experiencia            S   \n",
       "1     Presencial  Jornada completa       Intermedio            L   \n",
       "\n",
       "                                            image_link  \\\n",
       "424  https://media.licdn.com/dms/image/C4E0BAQGOHBF...   \n",
       "226  https://media.licdn.com/dms/image/C4D0BAQEGZJV...   \n",
       "374  https://media.licdn.com/dms/image/C4E0BAQHN393...   \n",
       "380  https://media.licdn.com/dms/image/C4E0BAQHhOeg...   \n",
       "1    https://media.licdn.com/dms/image/C560BAQF7t9X...   \n",
       "\n",
       "                  employees    salary  \n",
       "424   De 51 a 200 empleados       NaN  \n",
       "226   De 51 a 200 empleados  225000.0  \n",
       "374    De 11 a 50 empleados   77500.0  \n",
       "380  Entre 1 y 10 empleados       NaN  \n",
       "1    De 201 a 500 empleados  125000.0  "
      ]
     },
     "execution_count": 2792,
     "metadata": {},
     "output_type": "execute_result"
    }
   ],
   "source": [
    "linkedin.sample(5)"
   ]
  },
  {
   "cell_type": "markdown",
   "metadata": {},
   "source": [
    "#### Cleaning 'job_title' column"
   ]
  },
  {
   "cell_type": "code",
   "execution_count": 2793,
   "metadata": {},
   "outputs": [
    {
     "data": {
      "text/plain": [
       "job_title\n",
       "Machine Learning Engineer                                                           90\n",
       "Data Engineer                                                                       65\n",
       "Data Analyst                                                                        64\n",
       "Data Scientist                                                                      44\n",
       "Senior Data Scientist                                                               28\n",
       "                                                                                    ..\n",
       "Machine Learning Engineer (E-commerce Feed Recommendation) - 2024 Start (MS/PhD)     1\n",
       "AI Research Engineer                                                                 1\n",
       "Machine Learning Software Engineer                                                   1\n",
       "Data Engineer with Mortgage Exp_Remote (Only W2 Contract)                            1\n",
       "Junior Machine Learning Engineer                                                     1\n",
       "Name: count, Length: 488, dtype: int64"
      ]
     },
     "execution_count": 2793,
     "metadata": {},
     "output_type": "execute_result"
    }
   ],
   "source": [
    "linkedin['job_title'].value_counts()"
   ]
  },
  {
   "cell_type": "code",
   "execution_count": 2794,
   "metadata": {},
   "outputs": [
    {
     "data": {
      "text/plain": [
       "array(['Machine Learning Engineer', 'CYBER INTEL ANALYST - PEN TESTER',\n",
       "       'Deep Learning Engineer',\n",
       "       'Senior Algorithms Engineer (Image Processing)', 'Data Scientist',\n",
       "       'Data Engineer', 'Data Analyst', 'Deep Learning Researcher',\n",
       "       'Computer Vision Engineer (Multimodal with Large Language Models)',\n",
       "       None, 'BI Analyst', 'Artificial Learning Engineer',\n",
       "       'Research Engineer', 'Computer Vision Engineer',\n",
       "       'RF Computational Engineer 3', 'Project Scheduler',\n",
       "       'Adaptive Optics Senior Software Engineer',\n",
       "       'Finance Analyst (Benelux)', 'Deep Learning Research Intern',\n",
       "       'Analytics Engineer', 'Applied Scientist',\n",
       "       'Quantitative Researcher', 'Analyst, Analytics',\n",
       "       'Computer Vision and Optimization Engineer', 'AI Engineer',\n",
       "       'Software Company DevOps Engineer', 'BI Engineer',\n",
       "       'summer intern - r&d/artificial intelligence',\n",
       "       'Remote Cruise Planner - Entry Level',\n",
       "       'Remote Travel Consultant - Entry Level',\n",
       "       'Remote Customer Service Sales Rep - Entry Level',\n",
       "       'Remote Corporate & Event Planning - Entry Level',\n",
       "       'Remote Resort Reservationist - Entry Level',\n",
       "       'Remote Marketing Travel Specialist',\n",
       "       'Remote Tourism Advisor - Entry Level',\n",
       "       'Remote Coordinator - Entry Level', 'Business Analyst',\n",
       "       'Human Resources Analyst',\n",
       "       'Summer Intern - Publishing Ethics and IPR', 'Content Analyst',\n",
       "       'GIS Analyst II', 'Content Insights & Optimization Manager',\n",
       "       'Biopharmaceutical   SENIOR COMMISSIONING & QUALIFICATION ENGINEER',\n",
       "       'Pharmaceutical Process Engineer',\n",
       "       'NBC Sports Finance, Technology & Engineering Internships',\n",
       "       'Sr. Applied Scientist, WSAT', 'supply chain analyst',\n",
       "       'Senior P&C Analytics Actuary - PR12617', 'Product Analyst',\n",
       "       'Quality Control Analyst', 'Senior Growth Product Manager',\n",
       "       'RESEARCH ANALYST', 'product manager – fairness benchmarking',\n",
       "       'Research Scientist - Voice',\n",
       "       'Growth Hacking Consultant - Instagram/Tiktok', 'Moderator',\n",
       "       'Statistical Programmer',\n",
       "       'Consultancy – PSEA Risk Analysis & Mapping Consultant Req.#567862',\n",
       "       'Volunteer: CrowdDoing Service Learning Marketing Director Volunteer',\n",
       "       'Instructor', 'Propulsion Engineer (Merlin Flight Operations)',\n",
       "       'Prophet Model Developer',\n",
       "       'senior paid social analyst (growth marketing team)',\n",
       "       'RESEARCH SCIENTIST 2', 'RESEARCH STUDY ASSISTANT',\n",
       "       'responsible ai testing science consultant',\n",
       "       'Digital Marketing Strategist',\n",
       "       'Insights Analyst – LinkedIn Talent Solutions',\n",
       "       'Pharmaceutical Engineer', 'Applied Researcher II',\n",
       "       'Applied Researcher I', 'Staff Research Scientist/Physicist',\n",
       "       'artificial intelligence architecture(fully remote)',\n",
       "       'PhD Research Intern, Robotic Perception - Summer 2024',\n",
       "       'solutions architect, generative ai', 'ai consultant',\n",
       "       'CPU Circuit Design Engineer',\n",
       "       'Senior Algorithms & Signal Processing Engineer',\n",
       "       'post doc research associate – edge artificial intelligence in soil science',\n",
       "       'computational scientist - artificial intelligence (hybrid eligible)',\n",
       "       'Analyst, Insights & Research',\n",
       "       'senior drug discovery ai applied scientist',\n",
       "       'Product Management Intern, AV - Summer 2024'], dtype=object)"
      ]
     },
     "execution_count": 2794,
     "metadata": {},
     "output_type": "execute_result"
    }
   ],
   "source": [
    "def standarize_job(row):\n",
    "    title = str(row).lower()\n",
    "    if 'data engineer' in title:\n",
    "        return 'Data Engineer'\n",
    "    elif 'data analyst' in title:\n",
    "        return 'Data Analyst'\n",
    "    elif 'data scientist' in title:\n",
    "        return 'Data Scientist'\n",
    "    elif 'data' in title and 'junior' not in title:\n",
    "        if 'engineer' in title:\n",
    "            return 'Data Engineer'\n",
    "        elif 'analyst' in title:\n",
    "            return 'Data Analyst'\n",
    "    elif ('machine' in title and 'learning' in title) or ('ml' in title and 'engineer' in title):\n",
    "        return 'Machine Learning Engineer'\n",
    "    elif 'deep' in title and 'learning' in title and 'engineer' in title:\n",
    "        return 'Deep Learning Engineer'\n",
    "    elif 'junior' in title:\n",
    "        if 'data' in title and 'engineer' in title:\n",
    "            return 'Data Engineer'\n",
    "        elif 'data' in title and 'analyst' in title:\n",
    "            return 'Data Analyst'\n",
    "    elif 'business' in title:\n",
    "        if 'intelligence' in title and 'analyst' in title:\n",
    "            return 'BI Analyst'\n",
    "        elif 'analyst' in title:\n",
    "            return 'Business Analyst'\n",
    "        else:\n",
    "            return 'BI Engineer'\n",
    "    elif 'artificial intelligence' in title or 'ai' in title:\n",
    "        if 'research engineer' in title:\n",
    "            return 'Research Engineer'\n",
    "        elif 'ml' in title:\n",
    "            return 'Machine Learning Engineer'\n",
    "        elif 'engineer' in title:\n",
    "            return 'AI Engineer'\n",
    "        else:\n",
    "            return title\n",
    "    else:\n",
    "        return str(row)\n",
    "\n",
    "\n",
    "linkedin['original_title'] = linkedin['job_title']\n",
    "linkedin['job_title'] = linkedin['job_title'].apply(standarize_job)\n",
    "linkedin['job_title'].unique()"
   ]
  },
  {
   "cell_type": "markdown",
   "metadata": {},
   "source": [
    "    Categories for 'job_title' column"
   ]
  },
  {
   "cell_type": "code",
   "execution_count": 2795,
   "metadata": {},
   "outputs": [],
   "source": [
    "categories = [\n",
    "    'Data Engineer',\n",
    "    'Data Analyst',\n",
    "    'Data Scientist',\n",
    "    'Machine Learning Engineer',\n",
    "    'Deep Learning Engineer',\n",
    "    'BI Analyst',\n",
    "    'Business Analyst',\n",
    "    'BI Engineer',\n",
    "    'Research Engineer',\n",
    "    'AI Engineer'\n",
    "]"
   ]
  },
  {
   "cell_type": "code",
   "execution_count": 2796,
   "metadata": {},
   "outputs": [
    {
     "data": {
      "text/plain": [
       "(919, 13)"
      ]
     },
     "execution_count": 2796,
     "metadata": {},
     "output_type": "execute_result"
    }
   ],
   "source": [
    "linkedin.shape"
   ]
  },
  {
   "cell_type": "code",
   "execution_count": 2797,
   "metadata": {},
   "outputs": [],
   "source": [
    "linkedin = linkedin[linkedin['job_title'].isin(categories)]"
   ]
  },
  {
   "cell_type": "code",
   "execution_count": 2798,
   "metadata": {},
   "outputs": [
    {
     "data": {
      "text/html": [
       "<div>\n",
       "<style scoped>\n",
       "    .dataframe tbody tr th:only-of-type {\n",
       "        vertical-align: middle;\n",
       "    }\n",
       "\n",
       "    .dataframe tbody tr th {\n",
       "        vertical-align: top;\n",
       "    }\n",
       "\n",
       "    .dataframe thead th {\n",
       "        text-align: right;\n",
       "    }\n",
       "</style>\n",
       "<table border=\"1\" class=\"dataframe\">\n",
       "  <thead>\n",
       "    <tr style=\"text-align: right;\">\n",
       "      <th></th>\n",
       "      <th>job_id</th>\n",
       "      <th>job_title</th>\n",
       "      <th>company_name</th>\n",
       "      <th>company_state</th>\n",
       "      <th>salary_range</th>\n",
       "      <th>remote_ratio</th>\n",
       "      <th>employment_type</th>\n",
       "      <th>experience_level</th>\n",
       "      <th>company_size</th>\n",
       "      <th>image_link</th>\n",
       "      <th>employees</th>\n",
       "      <th>salary</th>\n",
       "      <th>original_title</th>\n",
       "    </tr>\n",
       "  </thead>\n",
       "  <tbody>\n",
       "    <tr>\n",
       "      <th>246</th>\n",
       "      <td>3759374206</td>\n",
       "      <td>Machine Learning Engineer</td>\n",
       "      <td>Adobe</td>\n",
       "      <td>CA</td>\n",
       "      <td>150.000 $/año - 200.000 $/año</td>\n",
       "      <td>Híbrido</td>\n",
       "      <td>Jornada completa</td>\n",
       "      <td>Intermedio</td>\n",
       "      <td>L</td>\n",
       "      <td>https://media.licdn.com/dms/image/C560BAQFrtK-...</td>\n",
       "      <td>Más de 10.001 empleados</td>\n",
       "      <td>175000.0</td>\n",
       "      <td>2024 AI/ML Intern - Machine Learning Engineer</td>\n",
       "    </tr>\n",
       "    <tr>\n",
       "      <th>868</th>\n",
       "      <td>3776946154</td>\n",
       "      <td>Data Engineer</td>\n",
       "      <td>hackajob</td>\n",
       "      <td>USA</td>\n",
       "      <td>100.000 $/año - 140.000 $/año</td>\n",
       "      <td>En remoto</td>\n",
       "      <td>Jornada completa</td>\n",
       "      <td>Intermedio</td>\n",
       "      <td>M</td>\n",
       "      <td>https://media.licdn.com/dms/image/D560BAQF6HYG...</td>\n",
       "      <td>De 51 a 200 empleados</td>\n",
       "      <td>120000.0</td>\n",
       "      <td>Data Engineer</td>\n",
       "    </tr>\n",
       "    <tr>\n",
       "      <th>812</th>\n",
       "      <td>3776414165</td>\n",
       "      <td>Data Scientist</td>\n",
       "      <td>Grammarly</td>\n",
       "      <td>USA</td>\n",
       "      <td>181.000 $/año - 262.000 $/año</td>\n",
       "      <td>Híbrido</td>\n",
       "      <td>Jornada completa</td>\n",
       "      <td>Intermedio</td>\n",
       "      <td>L</td>\n",
       "      <td>https://media.licdn.com/dms/image/C560BAQFroT1...</td>\n",
       "      <td>De 501 a 1.000 empleados</td>\n",
       "      <td>221500.0</td>\n",
       "      <td>Senior Data Scientist, SEO</td>\n",
       "    </tr>\n",
       "  </tbody>\n",
       "</table>\n",
       "</div>"
      ],
      "text/plain": [
       "         job_id                  job_title company_name company_state  \\\n",
       "246  3759374206  Machine Learning Engineer        Adobe            CA   \n",
       "868  3776946154              Data Engineer     hackajob           USA   \n",
       "812  3776414165             Data Scientist    Grammarly           USA   \n",
       "\n",
       "                      salary_range remote_ratio   employment_type  \\\n",
       "246  150.000 $/año - 200.000 $/año      Híbrido  Jornada completa   \n",
       "868  100.000 $/año - 140.000 $/año    En remoto  Jornada completa   \n",
       "812  181.000 $/año - 262.000 $/año      Híbrido  Jornada completa   \n",
       "\n",
       "    experience_level company_size  \\\n",
       "246       Intermedio            L   \n",
       "868       Intermedio            M   \n",
       "812       Intermedio            L   \n",
       "\n",
       "                                            image_link  \\\n",
       "246  https://media.licdn.com/dms/image/C560BAQFrtK-...   \n",
       "868  https://media.licdn.com/dms/image/D560BAQF6HYG...   \n",
       "812  https://media.licdn.com/dms/image/C560BAQFroT1...   \n",
       "\n",
       "                    employees    salary  \\\n",
       "246   Más de 10.001 empleados  175000.0   \n",
       "868     De 51 a 200 empleados  120000.0   \n",
       "812  De 501 a 1.000 empleados  221500.0   \n",
       "\n",
       "                                    original_title  \n",
       "246  2024 AI/ML Intern - Machine Learning Engineer  \n",
       "868                                  Data Engineer  \n",
       "812                     Senior Data Scientist, SEO  "
      ]
     },
     "execution_count": 2798,
     "metadata": {},
     "output_type": "execute_result"
    }
   ],
   "source": [
    "linkedin.shape\n",
    "linkedin.sample(3)"
   ]
  },
  {
   "cell_type": "code",
   "execution_count": 2802,
   "metadata": {},
   "outputs": [
    {
     "data": {
      "text/plain": [
       "job_id               0\n",
       "job_title            0\n",
       "company_name         0\n",
       "company_state        0\n",
       "salary_range        65\n",
       "remote_ratio         0\n",
       "employment_type      0\n",
       "experience_level     0\n",
       "company_size         0\n",
       "image_link           0\n",
       "employees            0\n",
       "salary              69\n",
       "original_title       0\n",
       "dtype: int64"
      ]
     },
     "execution_count": 2802,
     "metadata": {},
     "output_type": "execute_result"
    }
   ],
   "source": [
    "linkedin = linkedin[linkedin['employment_type'] != 'Temporal']\n",
    "linkedin = linkedin[~linkedin.drop(['salary', 'salary_range'], axis=1).isna().all(axis=1)]\n",
    "linkedin = linkedin[linkedin['remote_ratio'].notna()]\n",
    "linkedin = linkedin[linkedin['experience_level'].notna()]\n",
    "linkedin = linkedin[linkedin['company_size'].notna()]\n",
    "linkedin.isna().sum()\n",
    "# linkedin.shape"
   ]
  },
  {
   "cell_type": "code",
   "execution_count": 2800,
   "metadata": {},
   "outputs": [],
   "source": [
    "linkedin.to_csv('../data/linkedin_standarized.csv', index=False)"
   ]
  }
 ],
 "metadata": {
  "kernelspec": {
   "display_name": "project",
   "language": "python",
   "name": "python3"
  },
  "language_info": {
   "codemirror_mode": {
    "name": "ipython",
    "version": 3
   },
   "file_extension": ".py",
   "mimetype": "text/x-python",
   "name": "python",
   "nbconvert_exporter": "python",
   "pygments_lexer": "ipython3",
   "version": "3.11.5"
  }
 },
 "nbformat": 4,
 "nbformat_minor": 2
}
