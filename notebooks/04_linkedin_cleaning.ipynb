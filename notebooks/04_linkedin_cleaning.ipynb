{
 "cells": [
  {
   "cell_type": "markdown",
   "metadata": {},
   "source": [
    "#### Imports"
   ]
  },
  {
   "cell_type": "code",
   "execution_count": 2,
   "metadata": {},
   "outputs": [],
   "source": [
    "import pandas as pd"
   ]
  },
  {
   "cell_type": "markdown",
   "metadata": {},
   "source": [
    "#### Read linkedin csv"
   ]
  },
  {
   "cell_type": "code",
   "execution_count": 3,
   "metadata": {},
   "outputs": [
    {
     "data": {
      "text/html": [
       "<div>\n",
       "<style scoped>\n",
       "    .dataframe tbody tr th:only-of-type {\n",
       "        vertical-align: middle;\n",
       "    }\n",
       "\n",
       "    .dataframe tbody tr th {\n",
       "        vertical-align: top;\n",
       "    }\n",
       "\n",
       "    .dataframe thead th {\n",
       "        text-align: right;\n",
       "    }\n",
       "</style>\n",
       "<table border=\"1\" class=\"dataframe\">\n",
       "  <thead>\n",
       "    <tr style=\"text-align: right;\">\n",
       "      <th></th>\n",
       "      <th>job_id</th>\n",
       "      <th>job_title</th>\n",
       "      <th>company_name</th>\n",
       "      <th>company_state</th>\n",
       "      <th>salary_range</th>\n",
       "      <th>remote_ratio</th>\n",
       "      <th>employment_type</th>\n",
       "      <th>experience_level</th>\n",
       "      <th>company_size</th>\n",
       "    </tr>\n",
       "  </thead>\n",
       "  <tbody>\n",
       "    <tr>\n",
       "      <th>0</th>\n",
       "      <td>3313895534</td>\n",
       "      <td>Signal Processing AI/Machine Learning Engineer</td>\n",
       "      <td>CyberCoders</td>\n",
       "      <td>· Raleigh, NC</td>\n",
       "      <td>100.000 $/año - 150.000 $/año</td>\n",
       "      <td>Presencial</td>\n",
       "      <td>Jornada completa</td>\n",
       "      <td>Intermedio</td>\n",
       "      <td>De 201 a 500 empleados · Dotación y selección ...</td>\n",
       "    </tr>\n",
       "  </tbody>\n",
       "</table>\n",
       "</div>"
      ],
      "text/plain": [
       "       job_id                                       job_title company_name  \\\n",
       "0  3313895534  Signal Processing AI/Machine Learning Engineer  CyberCoders   \n",
       "\n",
       "   company_state                   salary_range remote_ratio  \\\n",
       "0  · Raleigh, NC  100.000 $/año - 150.000 $/año   Presencial   \n",
       "\n",
       "    employment_type experience_level  \\\n",
       "0  Jornada completa       Intermedio   \n",
       "\n",
       "                                        company_size  \n",
       "0  De 201 a 500 empleados · Dotación y selección ...  "
      ]
     },
     "execution_count": 3,
     "metadata": {},
     "output_type": "execute_result"
    }
   ],
   "source": [
    "linkedin = pd.read_csv('../data/linkedin.csv')\n",
    "linkedin.sample()"
   ]
  }
 ],
 "metadata": {
  "kernelspec": {
   "display_name": "project",
   "language": "python",
   "name": "python3"
  },
  "language_info": {
   "codemirror_mode": {
    "name": "ipython",
    "version": 3
   },
   "file_extension": ".py",
   "mimetype": "text/x-python",
   "name": "python",
   "nbconvert_exporter": "python",
   "pygments_lexer": "ipython3",
   "version": "3.11.5"
  }
 },
 "nbformat": 4,
 "nbformat_minor": 2
}
