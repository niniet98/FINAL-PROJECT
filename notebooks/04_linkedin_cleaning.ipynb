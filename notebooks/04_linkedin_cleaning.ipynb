{
 "cells": [
  {
   "cell_type": "markdown",
   "metadata": {},
   "source": [
    "#### Imports"
   ]
  },
  {
   "cell_type": "code",
   "execution_count": 369,
   "metadata": {},
   "outputs": [],
   "source": [
    "import pandas as pd\n",
    "import numpy as np"
   ]
  },
  {
   "cell_type": "markdown",
   "metadata": {},
   "source": [
    "#### Read linkedin csv"
   ]
  },
  {
   "cell_type": "code",
   "execution_count": 370,
   "metadata": {},
   "outputs": [
    {
     "data": {
      "text/html": [
       "<div>\n",
       "<style scoped>\n",
       "    .dataframe tbody tr th:only-of-type {\n",
       "        vertical-align: middle;\n",
       "    }\n",
       "\n",
       "    .dataframe tbody tr th {\n",
       "        vertical-align: top;\n",
       "    }\n",
       "\n",
       "    .dataframe thead th {\n",
       "        text-align: right;\n",
       "    }\n",
       "</style>\n",
       "<table border=\"1\" class=\"dataframe\">\n",
       "  <thead>\n",
       "    <tr style=\"text-align: right;\">\n",
       "      <th></th>\n",
       "      <th>job_id</th>\n",
       "      <th>job_title</th>\n",
       "      <th>company_name</th>\n",
       "      <th>company_state</th>\n",
       "      <th>salary_range</th>\n",
       "      <th>remote_ratio</th>\n",
       "      <th>employment_type</th>\n",
       "      <th>experience_level</th>\n",
       "      <th>company_size</th>\n",
       "    </tr>\n",
       "  </thead>\n",
       "  <tbody>\n",
       "    <tr>\n",
       "      <th>194</th>\n",
       "      <td>3771908283</td>\n",
       "      <td>Head of Data (remote)</td>\n",
       "      <td>Verve Group</td>\n",
       "      <td>· Nueva York, Estados Unidos</td>\n",
       "      <td>275.000 $/año - 425.000 $/año</td>\n",
       "      <td>En remoto</td>\n",
       "      <td>Jornada completa</td>\n",
       "      <td>Director</td>\n",
       "      <td>De 201 a 500 empleados · Servicios de publicidad</td>\n",
       "    </tr>\n",
       "    <tr>\n",
       "      <th>269</th>\n",
       "      <td>3775183162</td>\n",
       "      <td>RESEARCH STUDY ASSISTANT</td>\n",
       "      <td>University of Washington</td>\n",
       "      <td>· Seattle, WA</td>\n",
       "      <td>3.240 $/mes - 3.907 $/mes</td>\n",
       "      <td>Presencial</td>\n",
       "      <td>Jornada completa</td>\n",
       "      <td>Sin experiencia</td>\n",
       "      <td>Más de 10.001 empleados · Enseñanza superior</td>\n",
       "    </tr>\n",
       "    <tr>\n",
       "      <th>224</th>\n",
       "      <td>3773350153</td>\n",
       "      <td>Statistical Programmer</td>\n",
       "      <td>Green Key Resources</td>\n",
       "      <td>· Princeton, NJ</td>\n",
       "      <td>135.200 $/año - 145.600 $/año</td>\n",
       "      <td>Híbrido</td>\n",
       "      <td>Jornada completa</td>\n",
       "      <td>Intermedio</td>\n",
       "      <td>De 201 a 500 empleados · Dotación y selección ...</td>\n",
       "    </tr>\n",
       "  </tbody>\n",
       "</table>\n",
       "</div>"
      ],
      "text/plain": [
       "         job_id                 job_title              company_name  \\\n",
       "194  3771908283     Head of Data (remote)               Verve Group   \n",
       "269  3775183162  RESEARCH STUDY ASSISTANT  University of Washington   \n",
       "224  3773350153    Statistical Programmer       Green Key Resources   \n",
       "\n",
       "                    company_state                   salary_range remote_ratio  \\\n",
       "194  · Nueva York, Estados Unidos  275.000 $/año - 425.000 $/año    En remoto   \n",
       "269                 · Seattle, WA      3.240 $/mes - 3.907 $/mes   Presencial   \n",
       "224               · Princeton, NJ  135.200 $/año - 145.600 $/año      Híbrido   \n",
       "\n",
       "      employment_type experience_level  \\\n",
       "194  Jornada completa         Director   \n",
       "269  Jornada completa  Sin experiencia   \n",
       "224  Jornada completa       Intermedio   \n",
       "\n",
       "                                          company_size  \n",
       "194   De 201 a 500 empleados · Servicios de publicidad  \n",
       "269       Más de 10.001 empleados · Enseñanza superior  \n",
       "224  De 201 a 500 empleados · Dotación y selección ...  "
      ]
     },
     "execution_count": 370,
     "metadata": {},
     "output_type": "execute_result"
    }
   ],
   "source": [
    "linkedin = pd.read_csv('../data/linkedin.csv')\n",
    "linkedin.sample(3)"
   ]
  },
  {
   "cell_type": "markdown",
   "metadata": {},
   "source": [
    "#### Cleaning 'company_state' column"
   ]
  },
  {
   "cell_type": "code",
   "execution_count": 371,
   "metadata": {},
   "outputs": [
    {
     "data": {
      "text/plain": [
       "company_state\n",
       "Estados Unidos                             33\n",
       "· Nueva York, NY                           11\n",
       "· Seattle, WA                               8\n",
       "· Washington, DC                            7\n",
       "· Cincinnati, OH                            6\n",
       "                                           ..\n",
       "· Newport News, VA                          1\n",
       "· Morris Plains, NJ                         1\n",
       "· Washington DC-Baltimore y alrededores     1\n",
       "· Chesterfield, VA                          1\n",
       "· Santa Ana, CA                             1\n",
       "Name: count, Length: 151, dtype: int64"
      ]
     },
     "execution_count": 371,
     "metadata": {},
     "output_type": "execute_result"
    }
   ],
   "source": [
    "states = ['AL', 'AK', 'AZ', 'AR', 'CA', 'NC', 'SC', 'CO', 'CT', 'ND', 'SD', 'DE', 'FL', 'GA', 'HI', 'ID', 'IL', 'IN', 'IA', 'KS', 'KY', 'LA',\n",
    "          'ME', 'MD', 'MA', 'MI', 'MN', 'MS', 'MO', 'MT', 'NE', 'NV', 'NJ', 'NY', 'NH', 'NM', 'OH', 'OK', 'OR', 'PA', 'RI', 'TN', 'TX', 'UT',\n",
    "          'UT', 'VT', 'VA', 'WV', 'WA', 'WI', 'WY']\n",
    "linkedin['company_state'] = linkedin['company_state'].apply(lambda row: 'Estados Unidos' if row == '· Estados Unidos' else row)\n",
    "linkedin['company_state'].value_counts()"
   ]
  },
  {
   "cell_type": "code",
   "execution_count": 372,
   "metadata": {},
   "outputs": [],
   "source": [
    "def fclean_company_state(df, states):\n",
    "    for i in states:\n",
    "        linkedin['company_state'] = linkedin['company_state'].apply(lambda row: i if i in str(row) else row)\n",
    "    return df\n",
    "\n",
    "linkedin = fclean_company_state(linkedin, states)"
   ]
  },
  {
   "cell_type": "code",
   "execution_count": 373,
   "metadata": {},
   "outputs": [],
   "source": [
    "def sclean_company_state(df, states):\n",
    "    for key, value in states.items():\n",
    "        linkedin['company_state'] = linkedin['company_state'].apply(lambda row: value if key in str(row) else row)\n",
    "    return df\n",
    "\n",
    "left_states = {\n",
    "    'Virginia': 'VA',\n",
    "    'Minnesota': 'MN',\n",
    "    'Washington': 'WA',\n",
    "    'San Francisco': 'CA',\n",
    "    'Nebraska': 'NE',\n",
    "    'California': 'CA',\n",
    "    'Texas': 'TX',\n",
    "    'Nueva York': 'NY',\n",
    "    'Michigan': 'MI',\n",
    "    'Luisiana': 'LA',\n",
    "    'Florida': 'FL',\n",
    "    'Maryland': 'MD',\n",
    "    'Nevada': 'NV',\n",
    "    'Oregón': 'OR',\n",
    "    'Oklahoma': 'OK',\n",
    "    'Georgia': 'GA',\n",
    "    'Carolina del Sur': 'SC',\n",
    "    'Delaware': 'DE',\n",
    "    'Ohio': 'OH',\n",
    "    'Arkansas': 'AR',\n",
    "    'Iowa': 'IA',\n",
    "    'Carolina del Norte': 'NC',\n",
    "    'Indiana': 'IN',\n",
    "    'Nashville': 'TN',\n",
    "    'Massachusetts': 'MA',\n",
    "    'Tennessee': 'TN',\n",
    "    'Enid': 'OK'\n",
    "}\n",
    "linkedin = sclean_company_state(linkedin, left_states)"
   ]
  },
  {
   "cell_type": "markdown",
   "metadata": {},
   "source": [
    "#### Cleaning 'company_state' column"
   ]
  },
  {
   "cell_type": "code",
   "execution_count": 374,
   "metadata": {},
   "outputs": [
    {
     "data": {
      "text/html": [
       "<div>\n",
       "<style scoped>\n",
       "    .dataframe tbody tr th:only-of-type {\n",
       "        vertical-align: middle;\n",
       "    }\n",
       "\n",
       "    .dataframe tbody tr th {\n",
       "        vertical-align: top;\n",
       "    }\n",
       "\n",
       "    .dataframe thead th {\n",
       "        text-align: right;\n",
       "    }\n",
       "</style>\n",
       "<table border=\"1\" class=\"dataframe\">\n",
       "  <thead>\n",
       "    <tr style=\"text-align: right;\">\n",
       "      <th></th>\n",
       "      <th>job_id</th>\n",
       "      <th>job_title</th>\n",
       "      <th>company_name</th>\n",
       "      <th>company_state</th>\n",
       "      <th>salary_range</th>\n",
       "      <th>remote_ratio</th>\n",
       "      <th>employment_type</th>\n",
       "      <th>experience_level</th>\n",
       "      <th>company_size</th>\n",
       "    </tr>\n",
       "  </thead>\n",
       "  <tbody>\n",
       "    <tr>\n",
       "      <th>239</th>\n",
       "      <td>3773894894</td>\n",
       "      <td>Data Analyst  I</td>\n",
       "      <td>Centene Corporation</td>\n",
       "      <td>DE</td>\n",
       "      <td>131.900 $/año - 151.700 $/año</td>\n",
       "      <td>En remoto</td>\n",
       "      <td>Jornada completa</td>\n",
       "      <td>Sin experiencia</td>\n",
       "      <td>Más de 10.001 empleados · Hospitales y atenció...</td>\n",
       "    </tr>\n",
       "    <tr>\n",
       "      <th>189</th>\n",
       "      <td>3771503379</td>\n",
       "      <td>Data Analyst</td>\n",
       "      <td>Business Plan Solutions, LLC</td>\n",
       "      <td>TX</td>\n",
       "      <td>120.000 $/año - 165.000 $/año</td>\n",
       "      <td>Híbrido</td>\n",
       "      <td>Jornada completa</td>\n",
       "      <td>Sin experiencia</td>\n",
       "      <td>De 11 a 50 empleados · Servicios y consultoría...</td>\n",
       "    </tr>\n",
       "    <tr>\n",
       "      <th>24</th>\n",
       "      <td>3730766989</td>\n",
       "      <td>Senior Deep Learning Compiler Engineer - MLIR</td>\n",
       "      <td>NVIDIA</td>\n",
       "      <td>Estados Unidos</td>\n",
       "      <td>144.000 $/año - 270.250 $/año</td>\n",
       "      <td>En remoto</td>\n",
       "      <td>Jornada completa</td>\n",
       "      <td>Intermedio</td>\n",
       "      <td>Más de 10.001 empleados · Fabricación de equip...</td>\n",
       "    </tr>\n",
       "    <tr>\n",
       "      <th>47</th>\n",
       "      <td>3749346453</td>\n",
       "      <td>Adaptive Optics Senior Software Engineer</td>\n",
       "      <td>TMT International Observatory LLC</td>\n",
       "      <td>CA</td>\n",
       "      <td>78 $/h - 104 $/h</td>\n",
       "      <td>Híbrido</td>\n",
       "      <td>Contrato por obra</td>\n",
       "      <td>Intermedio</td>\n",
       "      <td>De 51 a 200 empleados · Servicios de investiga...</td>\n",
       "    </tr>\n",
       "    <tr>\n",
       "      <th>236</th>\n",
       "      <td>3773889315</td>\n",
       "      <td>Data Scientist</td>\n",
       "      <td>Confluent</td>\n",
       "      <td>Estados Unidos</td>\n",
       "      <td>131.900 $/año - 151.700 $/año</td>\n",
       "      <td>En remoto</td>\n",
       "      <td>Jornada completa</td>\n",
       "      <td>Sin experiencia</td>\n",
       "      <td>De 1.001 a 5.000 empleados · Desarrollo de sof...</td>\n",
       "    </tr>\n",
       "  </tbody>\n",
       "</table>\n",
       "</div>"
      ],
      "text/plain": [
       "         job_id                                      job_title  \\\n",
       "239  3773894894                                Data Analyst  I   \n",
       "189  3771503379                                   Data Analyst   \n",
       "24   3730766989  Senior Deep Learning Compiler Engineer - MLIR   \n",
       "47   3749346453       Adaptive Optics Senior Software Engineer   \n",
       "236  3773889315                                 Data Scientist   \n",
       "\n",
       "                          company_name   company_state  \\\n",
       "239                Centene Corporation              DE   \n",
       "189       Business Plan Solutions, LLC              TX   \n",
       "24                              NVIDIA  Estados Unidos   \n",
       "47   TMT International Observatory LLC              CA   \n",
       "236                          Confluent  Estados Unidos   \n",
       "\n",
       "                      salary_range remote_ratio    employment_type  \\\n",
       "239  131.900 $/año - 151.700 $/año    En remoto   Jornada completa   \n",
       "189  120.000 $/año - 165.000 $/año      Híbrido   Jornada completa   \n",
       "24   144.000 $/año - 270.250 $/año    En remoto   Jornada completa   \n",
       "47                78 $/h - 104 $/h      Híbrido  Contrato por obra   \n",
       "236  131.900 $/año - 151.700 $/año    En remoto   Jornada completa   \n",
       "\n",
       "    experience_level                                       company_size  \n",
       "239  Sin experiencia  Más de 10.001 empleados · Hospitales y atenció...  \n",
       "189  Sin experiencia  De 11 a 50 empleados · Servicios y consultoría...  \n",
       "24        Intermedio  Más de 10.001 empleados · Fabricación de equip...  \n",
       "47        Intermedio  De 51 a 200 empleados · Servicios de investiga...  \n",
       "236  Sin experiencia  De 1.001 a 5.000 empleados · Desarrollo de sof...  "
      ]
     },
     "execution_count": 374,
     "metadata": {},
     "output_type": "execute_result"
    }
   ],
   "source": [
    "linkedin.sample(5)"
   ]
  },
  {
   "cell_type": "code",
   "execution_count": 375,
   "metadata": {},
   "outputs": [
    {
     "data": {
      "text/plain": [
       "remote_ratio\n",
       "En remoto                                                                               117\n",
       "Híbrido                                                                                 105\n",
       "Presencial                                                                               69\n",
       "En remotoCoincide con tus preferencias de empleo. La modalidad laboral es En remoto.      2\n",
       "Name: count, dtype: int64"
      ]
     },
     "execution_count": 375,
     "metadata": {},
     "output_type": "execute_result"
    }
   ],
   "source": [
    "linkedin['remote_ratio'].value_counts()"
   ]
  },
  {
   "cell_type": "markdown",
   "metadata": {},
   "source": [
    "Aquí podemos ver que hay valores en la columna que pertenecen a la columna salary_range, por lo tanto tienen que moverse a la columna correspondiente."
   ]
  },
  {
   "cell_type": "code",
   "execution_count": 376,
   "metadata": {},
   "outputs": [
    {
     "data": {
      "text/plain": [
       "remote_ratio\n",
       "En remoto                                                                               117\n",
       "Híbrido                                                                                 105\n",
       "Presencial                                                                               69\n",
       "En remotoCoincide con tus preferencias de empleo. La modalidad laboral es En remoto.      2\n",
       "nan                                                                                       2\n",
       "Name: count, dtype: int64"
      ]
     },
     "execution_count": 376,
     "metadata": {},
     "output_type": "execute_result"
    }
   ],
   "source": [
    "linkedin['salary_range'] = linkedin['remote_ratio'].apply(lambda row: str(row) if '$' in str(row) else np.nan)\n",
    "linkedin['remote_ratio'] = linkedin['remote_ratio'].apply(lambda row: np.nan if '$' in str(row) else str(row))\n",
    "linkedin['remote_ratio'].value_counts()"
   ]
  },
  {
   "cell_type": "code",
   "execution_count": 377,
   "metadata": {},
   "outputs": [
    {
     "data": {
      "text/plain": [
       "remote_ratio\n",
       "En remoto     119\n",
       "Híbrido       105\n",
       "Presencial     69\n",
       "nan             2\n",
       "Name: count, dtype: int64"
      ]
     },
     "execution_count": 377,
     "metadata": {},
     "output_type": "execute_result"
    }
   ],
   "source": [
    "def clean_remote_ratio(df, dict_):\n",
    "    for key, val in dict_.items():\n",
    "        df['remote_ratio'] = df['remote_ratio'].apply(lambda row: key if key in str(row) else str(row))\n",
    "    return df\n",
    "\n",
    "remote_dict = {\n",
    "    'Presencial': 0,\n",
    "    'Híbrido': 50,\n",
    "    'En remoto': 100\n",
    "}\n",
    "linkedin = clean_remote_ratio(linkedin, remote_dict)\n",
    "linkedin['remote_ratio'].value_counts()"
   ]
  },
  {
   "cell_type": "markdown",
   "metadata": {},
   "source": [
    "The next line should not return any row, that is because the cleaning is working fine."
   ]
  },
  {
   "cell_type": "code",
   "execution_count": 378,
   "metadata": {},
   "outputs": [
    {
     "data": {
      "text/html": [
       "<div>\n",
       "<style scoped>\n",
       "    .dataframe tbody tr th:only-of-type {\n",
       "        vertical-align: middle;\n",
       "    }\n",
       "\n",
       "    .dataframe tbody tr th {\n",
       "        vertical-align: top;\n",
       "    }\n",
       "\n",
       "    .dataframe thead th {\n",
       "        text-align: right;\n",
       "    }\n",
       "</style>\n",
       "<table border=\"1\" class=\"dataframe\">\n",
       "  <thead>\n",
       "    <tr style=\"text-align: right;\">\n",
       "      <th></th>\n",
       "      <th>job_id</th>\n",
       "      <th>job_title</th>\n",
       "      <th>company_name</th>\n",
       "      <th>company_state</th>\n",
       "      <th>salary_range</th>\n",
       "      <th>remote_ratio</th>\n",
       "      <th>employment_type</th>\n",
       "      <th>experience_level</th>\n",
       "      <th>company_size</th>\n",
       "    </tr>\n",
       "  </thead>\n",
       "  <tbody>\n",
       "  </tbody>\n",
       "</table>\n",
       "</div>"
      ],
      "text/plain": [
       "Empty DataFrame\n",
       "Columns: [job_id, job_title, company_name, company_state, salary_range, remote_ratio, employment_type, experience_level, company_size]\n",
       "Index: []"
      ]
     },
     "execution_count": 378,
     "metadata": {},
     "output_type": "execute_result"
    }
   ],
   "source": [
    "linkedin[(linkedin['remote_ratio'] == 'Jornada completa') | (linkedin['remote_ratio'] == 'Contrato por obra')]"
   ]
  },
  {
   "cell_type": "code",
   "execution_count": 379,
   "metadata": {},
   "outputs": [
    {
     "data": {
      "text/plain": [
       "remote_ratio\n",
       "En remoto     119\n",
       "Híbrido       105\n",
       "Presencial     69\n",
       "nan             2\n",
       "Name: count, dtype: int64"
      ]
     },
     "execution_count": 379,
     "metadata": {},
     "output_type": "execute_result"
    }
   ],
   "source": [
    "linkedin['remote_ratio'].value_counts()"
   ]
  },
  {
   "cell_type": "markdown",
   "metadata": {},
   "source": [
    "#### Cleaning 'experience_level' column"
   ]
  },
  {
   "cell_type": "code",
   "execution_count": 380,
   "metadata": {},
   "outputs": [
    {
     "data": {
      "text/plain": [
       "experience_level\n",
       "Intermedio                 118\n",
       "Sin experiencia             79\n",
       "Algo de responsabilidad     49\n",
       "Prácticas                   20\n",
       "Director                    11\n",
       "Ejecutivo                    2\n",
       "Name: count, dtype: int64"
      ]
     },
     "execution_count": 380,
     "metadata": {},
     "output_type": "execute_result"
    }
   ],
   "source": [
    "linkedin.sample(5)\n",
    "linkedin['experience_level'].value_counts()"
   ]
  },
  {
   "cell_type": "markdown",
   "metadata": {},
   "source": [
    "#### Cleaning 'employment_type' column"
   ]
  },
  {
   "cell_type": "code",
   "execution_count": 381,
   "metadata": {},
   "outputs": [
    {
     "data": {
      "text/plain": [
       "employment_type\n",
       "Jornada completa                                                                                   183\n",
       "Contrato por obra                                                                                   54\n",
       "Media jornada                                                                                       31\n",
       "Prácticas                                                                                           25\n",
       "Jornada completaCoincide con tus preferencias de empleo. El tipo de empleo es Jornada completa.      2\n",
       "Name: count, dtype: int64"
      ]
     },
     "execution_count": 381,
     "metadata": {},
     "output_type": "execute_result"
    }
   ],
   "source": [
    "linkedin['employment_type'].value_counts()"
   ]
  }
 ],
 "metadata": {
  "kernelspec": {
   "display_name": "project",
   "language": "python",
   "name": "python3"
  },
  "language_info": {
   "codemirror_mode": {
    "name": "ipython",
    "version": 3
   },
   "file_extension": ".py",
   "mimetype": "text/x-python",
   "name": "python",
   "nbconvert_exporter": "python",
   "pygments_lexer": "ipython3",
   "version": "3.11.5"
  }
 },
 "nbformat": 4,
 "nbformat_minor": 2
}
