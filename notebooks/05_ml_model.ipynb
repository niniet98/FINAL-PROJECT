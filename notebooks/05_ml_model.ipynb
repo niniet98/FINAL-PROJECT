{
 "cells": [
  {
   "cell_type": "markdown",
   "metadata": {},
   "source": [
    "#### Imports"
   ]
  },
  {
   "cell_type": "code",
   "execution_count": 3263,
   "metadata": {},
   "outputs": [],
   "source": [
    "import pandas as pd\n",
    "import numpy as np\n",
    "import sklearn.preprocessing as ps"
   ]
  },
  {
   "cell_type": "markdown",
   "metadata": {},
   "source": [
    "#### Preparing dataset for ML model"
   ]
  },
  {
   "cell_type": "code",
   "execution_count": 3264,
   "metadata": {},
   "outputs": [
    {
     "data": {
      "text/html": [
       "<div>\n",
       "<style scoped>\n",
       "    .dataframe tbody tr th:only-of-type {\n",
       "        vertical-align: middle;\n",
       "    }\n",
       "\n",
       "    .dataframe tbody tr th {\n",
       "        vertical-align: top;\n",
       "    }\n",
       "\n",
       "    .dataframe thead th {\n",
       "        text-align: right;\n",
       "    }\n",
       "</style>\n",
       "<table border=\"1\" class=\"dataframe\">\n",
       "  <thead>\n",
       "    <tr style=\"text-align: right;\">\n",
       "      <th></th>\n",
       "      <th>job_id</th>\n",
       "      <th>job_title</th>\n",
       "      <th>company_name</th>\n",
       "      <th>company_state</th>\n",
       "      <th>salary_range</th>\n",
       "      <th>remote_ratio</th>\n",
       "      <th>employment_type</th>\n",
       "      <th>experience_level</th>\n",
       "      <th>company_size</th>\n",
       "      <th>image_link</th>\n",
       "      <th>employees</th>\n",
       "      <th>salary</th>\n",
       "      <th>original_title</th>\n",
       "    </tr>\n",
       "  </thead>\n",
       "  <tbody>\n",
       "    <tr>\n",
       "      <th>503</th>\n",
       "      <td>3770198438</td>\n",
       "      <td>Data Engineer</td>\n",
       "      <td>Eliassen Group</td>\n",
       "      <td>OH</td>\n",
       "      <td>70 $/h - 75 $/h</td>\n",
       "      <td>Híbrido</td>\n",
       "      <td>Contrato por obra</td>\n",
       "      <td>Intermedio</td>\n",
       "      <td>L</td>\n",
       "      <td>https://media.licdn.com/dms/image/C560BAQEF3Co...</td>\n",
       "      <td>De 1.001 a 5.000 empleados</td>\n",
       "      <td>139200.0</td>\n",
       "      <td>Data Engineer</td>\n",
       "    </tr>\n",
       "    <tr>\n",
       "      <th>54</th>\n",
       "      <td>3711696827</td>\n",
       "      <td>Data Scientist</td>\n",
       "      <td>The Lubrizol Corporation</td>\n",
       "      <td>OH</td>\n",
       "      <td>70.000 $/yr</td>\n",
       "      <td>En remoto</td>\n",
       "      <td>Jornada completa</td>\n",
       "      <td>Intermedio</td>\n",
       "      <td>L</td>\n",
       "      <td>https://media.licdn.com/dms/image/C560BAQHgFRl...</td>\n",
       "      <td>De 5.001 a 10.000 empleados</td>\n",
       "      <td>70000.0</td>\n",
       "      <td>Data Scientist / Statistician Intern Summer 20...</td>\n",
       "    </tr>\n",
       "    <tr>\n",
       "      <th>160</th>\n",
       "      <td>3752871763</td>\n",
       "      <td>Machine Learning Engineer</td>\n",
       "      <td>Red Oak Technologies</td>\n",
       "      <td>TX</td>\n",
       "      <td>48 $/h - 65 $/h</td>\n",
       "      <td>En remoto</td>\n",
       "      <td>Contrato por obra</td>\n",
       "      <td>Intermedio</td>\n",
       "      <td>L</td>\n",
       "      <td>https://media.licdn.com/dms/image/C4E0BAQETw9l...</td>\n",
       "      <td>De 501 a 1.000 empleados</td>\n",
       "      <td>108480.0</td>\n",
       "      <td>Machine Learning Engineer</td>\n",
       "    </tr>\n",
       "    <tr>\n",
       "      <th>568</th>\n",
       "      <td>3772986290</td>\n",
       "      <td>Data Engineer</td>\n",
       "      <td>Ibotta, Inc.</td>\n",
       "      <td>CO</td>\n",
       "      <td>28 $/h - 30 $/h</td>\n",
       "      <td>Presencial</td>\n",
       "      <td>Jornada completa</td>\n",
       "      <td>Sin experiencia</td>\n",
       "      <td>L</td>\n",
       "      <td>https://media.licdn.com/dms/image/C560BAQGHAjy...</td>\n",
       "      <td>De 501 a 1.000 empleados</td>\n",
       "      <td>55680.0</td>\n",
       "      <td>Data Engineer</td>\n",
       "    </tr>\n",
       "    <tr>\n",
       "      <th>511</th>\n",
       "      <td>3771024354</td>\n",
       "      <td>Data Engineer</td>\n",
       "      <td>Northrop Grumman</td>\n",
       "      <td>FL</td>\n",
       "      <td>33.200 $/año - 53.000 $/año</td>\n",
       "      <td>En remoto</td>\n",
       "      <td>Jornada completa</td>\n",
       "      <td>Prácticas</td>\n",
       "      <td>L</td>\n",
       "      <td>https://media.licdn.com/dms/image/C4E0BAQFnJf3...</td>\n",
       "      <td>Más de 10.001 empleados</td>\n",
       "      <td>43100.0</td>\n",
       "      <td>Data Scientist/Data Engineer</td>\n",
       "    </tr>\n",
       "  </tbody>\n",
       "</table>\n",
       "</div>"
      ],
      "text/plain": [
       "         job_id                  job_title              company_name  \\\n",
       "503  3770198438              Data Engineer            Eliassen Group   \n",
       "54   3711696827             Data Scientist  The Lubrizol Corporation   \n",
       "160  3752871763  Machine Learning Engineer      Red Oak Technologies   \n",
       "568  3772986290              Data Engineer              Ibotta, Inc.   \n",
       "511  3771024354              Data Engineer          Northrop Grumman   \n",
       "\n",
       "    company_state                 salary_range remote_ratio  \\\n",
       "503            OH              70 $/h - 75 $/h      Híbrido   \n",
       "54             OH                  70.000 $/yr    En remoto   \n",
       "160            TX              48 $/h - 65 $/h    En remoto   \n",
       "568            CO              28 $/h - 30 $/h   Presencial   \n",
       "511            FL  33.200 $/año - 53.000 $/año    En remoto   \n",
       "\n",
       "       employment_type experience_level company_size  \\\n",
       "503  Contrato por obra       Intermedio            L   \n",
       "54    Jornada completa       Intermedio            L   \n",
       "160  Contrato por obra       Intermedio            L   \n",
       "568   Jornada completa  Sin experiencia            L   \n",
       "511   Jornada completa        Prácticas            L   \n",
       "\n",
       "                                            image_link  \\\n",
       "503  https://media.licdn.com/dms/image/C560BAQEF3Co...   \n",
       "54   https://media.licdn.com/dms/image/C560BAQHgFRl...   \n",
       "160  https://media.licdn.com/dms/image/C4E0BAQETw9l...   \n",
       "568  https://media.licdn.com/dms/image/C560BAQGHAjy...   \n",
       "511  https://media.licdn.com/dms/image/C4E0BAQFnJf3...   \n",
       "\n",
       "                       employees    salary  \\\n",
       "503   De 1.001 a 5.000 empleados  139200.0   \n",
       "54   De 5.001 a 10.000 empleados   70000.0   \n",
       "160     De 501 a 1.000 empleados  108480.0   \n",
       "568     De 501 a 1.000 empleados   55680.0   \n",
       "511      Más de 10.001 empleados   43100.0   \n",
       "\n",
       "                                        original_title  \n",
       "503                                      Data Engineer  \n",
       "54   Data Scientist / Statistician Intern Summer 20...  \n",
       "160                          Machine Learning Engineer  \n",
       "568                                      Data Engineer  \n",
       "511                       Data Scientist/Data Engineer  "
      ]
     },
     "execution_count": 3264,
     "metadata": {},
     "output_type": "execute_result"
    }
   ],
   "source": [
    "linkedin = pd.read_csv('../data/linkedin_standarized.csv')\n",
    "linkedin.sample(5)"
   ]
  },
  {
   "cell_type": "code",
   "execution_count": 3265,
   "metadata": {},
   "outputs": [
    {
     "data": {
      "text/plain": [
       "company_size\n",
       "L    536\n",
       "M    220\n",
       "S     31\n",
       "Name: count, dtype: int64"
      ]
     },
     "execution_count": 3265,
     "metadata": {},
     "output_type": "execute_result"
    }
   ],
   "source": [
    "linkedin.shape\n",
    "linkedin['company_size'].value_counts()"
   ]
  },
  {
   "cell_type": "markdown",
   "metadata": {},
   "source": [
    "First we need to see which columns have null values."
   ]
  },
  {
   "cell_type": "code",
   "execution_count": 3266,
   "metadata": {},
   "outputs": [
    {
     "data": {
      "text/plain": [
       "job_id               0\n",
       "job_title            0\n",
       "company_name         0\n",
       "company_state        0\n",
       "salary_range        65\n",
       "remote_ratio         0\n",
       "employment_type      0\n",
       "experience_level     0\n",
       "company_size         0\n",
       "image_link           0\n",
       "employees            0\n",
       "salary              69\n",
       "original_title       0\n",
       "dtype: int64"
      ]
     },
     "execution_count": 3266,
     "metadata": {},
     "output_type": "execute_result"
    }
   ],
   "source": [
    "linkedin.isna().sum()"
   ]
  },
  {
   "cell_type": "markdown",
   "metadata": {},
   "source": [
    "The ones with salary range in null value, are going to be the predicted ones."
   ]
  },
  {
   "cell_type": "code",
   "execution_count": 3267,
   "metadata": {},
   "outputs": [
    {
     "data": {
      "text/plain": [
       "(69, 13)"
      ]
     },
     "execution_count": 3267,
     "metadata": {},
     "output_type": "execute_result"
    }
   ],
   "source": [
    "to_predict = linkedin[linkedin['salary'].isnull()]\n",
    "to_predict.shape"
   ]
  },
  {
   "cell_type": "code",
   "execution_count": 3268,
   "metadata": {},
   "outputs": [
    {
     "data": {
      "text/plain": [
       "(718, 13)"
      ]
     },
     "execution_count": 3268,
     "metadata": {},
     "output_type": "execute_result"
    }
   ],
   "source": [
    "linkedin = linkedin[~linkedin['salary'].isnull()]\n",
    "linkedin.shape"
   ]
  },
  {
   "cell_type": "code",
   "execution_count": 3269,
   "metadata": {},
   "outputs": [
    {
     "data": {
      "text/plain": [
       "employment_type\n",
       "Jornada completa     570\n",
       "Contrato por obra    120\n",
       "Prácticas             28\n",
       "Name: count, dtype: int64"
      ]
     },
     "execution_count": 3269,
     "metadata": {},
     "output_type": "execute_result"
    }
   ],
   "source": [
    "linkedin = linkedin[linkedin['employment_type'] != 'Temporal']\n",
    "linkedin['employment_type'].value_counts()"
   ]
  },
  {
   "cell_type": "markdown",
   "metadata": {},
   "source": [
    "Let's save this dataframe for sql queries."
   ]
  },
  {
   "cell_type": "code",
   "execution_count": 3270,
   "metadata": {},
   "outputs": [],
   "source": [
    "linkedin.to_csv('../data/linkedin_salaries_sql.csv', index=False)"
   ]
  },
  {
   "cell_type": "markdown",
   "metadata": {},
   "source": [
    "Let's check again null values in order to delete those rows."
   ]
  },
  {
   "cell_type": "code",
   "execution_count": 3271,
   "metadata": {},
   "outputs": [
    {
     "data": {
      "text/plain": [
       "job_id              0\n",
       "job_title           0\n",
       "company_name        0\n",
       "company_state       0\n",
       "salary_range        0\n",
       "remote_ratio        0\n",
       "employment_type     0\n",
       "experience_level    0\n",
       "company_size        0\n",
       "image_link          0\n",
       "employees           0\n",
       "salary              0\n",
       "original_title      0\n",
       "dtype: int64"
      ]
     },
     "execution_count": 3271,
     "metadata": {},
     "output_type": "execute_result"
    }
   ],
   "source": [
    "linkedin.isna().sum()"
   ]
  },
  {
   "cell_type": "code",
   "execution_count": 3272,
   "metadata": {},
   "outputs": [],
   "source": [
    "linkedin = linkedin.dropna()"
   ]
  },
  {
   "cell_type": "code",
   "execution_count": 3273,
   "metadata": {},
   "outputs": [
    {
     "data": {
      "text/plain": [
       "(718, 13)"
      ]
     },
     "execution_count": 3273,
     "metadata": {},
     "output_type": "execute_result"
    }
   ],
   "source": [
    "linkedin.shape"
   ]
  },
  {
   "cell_type": "markdown",
   "metadata": {},
   "source": [
    "##### Function to clean both datasets"
   ]
  },
  {
   "cell_type": "code",
   "execution_count": 3274,
   "metadata": {},
   "outputs": [
    {
     "data": {
      "text/plain": [
       "(69, 13)"
      ]
     },
     "execution_count": 3274,
     "metadata": {},
     "output_type": "execute_result"
    }
   ],
   "source": [
    "prepared_to_predict = to_predict[~to_predict.drop(['salary', 'salary_range'], axis=1).isna().all(axis=1)]\n",
    "prepared_to_predict.shape"
   ]
  },
  {
   "cell_type": "code",
   "execution_count": 3275,
   "metadata": {},
   "outputs": [
    {
     "data": {
      "text/plain": [
       "job_id               0\n",
       "job_title            0\n",
       "company_name         0\n",
       "company_state        0\n",
       "salary_range        65\n",
       "remote_ratio         0\n",
       "employment_type      0\n",
       "experience_level     0\n",
       "company_size         0\n",
       "image_link           0\n",
       "employees            0\n",
       "salary              69\n",
       "original_title       0\n",
       "dtype: int64"
      ]
     },
     "execution_count": 3275,
     "metadata": {},
     "output_type": "execute_result"
    }
   ],
   "source": [
    "prepared_to_predict.isna().sum()"
   ]
  },
  {
   "cell_type": "code",
   "execution_count": 3276,
   "metadata": {},
   "outputs": [
    {
     "data": {
      "text/plain": [
       "(69, 13)"
      ]
     },
     "execution_count": 3276,
     "metadata": {},
     "output_type": "execute_result"
    }
   ],
   "source": [
    "prepared_to_predict.shape"
   ]
  },
  {
   "cell_type": "markdown",
   "metadata": {},
   "source": [
    "    Column 'job_title'"
   ]
  },
  {
   "cell_type": "markdown",
   "metadata": {},
   "source": [
    "Classificating the job_title category with numbers."
   ]
  },
  {
   "cell_type": "code",
   "execution_count": 3277,
   "metadata": {},
   "outputs": [
    {
     "data": {
      "text/html": [
       "<div>\n",
       "<style scoped>\n",
       "    .dataframe tbody tr th:only-of-type {\n",
       "        vertical-align: middle;\n",
       "    }\n",
       "\n",
       "    .dataframe tbody tr th {\n",
       "        vertical-align: top;\n",
       "    }\n",
       "\n",
       "    .dataframe thead th {\n",
       "        text-align: right;\n",
       "    }\n",
       "</style>\n",
       "<table border=\"1\" class=\"dataframe\">\n",
       "  <thead>\n",
       "    <tr style=\"text-align: right;\">\n",
       "      <th></th>\n",
       "      <th>job_title</th>\n",
       "      <th>salary</th>\n",
       "    </tr>\n",
       "  </thead>\n",
       "  <tbody>\n",
       "    <tr>\n",
       "      <th>7</th>\n",
       "      <td>Deep Learning Engineer</td>\n",
       "      <td>173151.066667</td>\n",
       "    </tr>\n",
       "    <tr>\n",
       "      <th>8</th>\n",
       "      <td>Machine Learning Engineer</td>\n",
       "      <td>160196.896341</td>\n",
       "    </tr>\n",
       "    <tr>\n",
       "      <th>9</th>\n",
       "      <td>Research Engineer</td>\n",
       "      <td>149496.500000</td>\n",
       "    </tr>\n",
       "    <tr>\n",
       "      <th>6</th>\n",
       "      <td>Data Scientist</td>\n",
       "      <td>143585.000000</td>\n",
       "    </tr>\n",
       "    <tr>\n",
       "      <th>5</th>\n",
       "      <td>Data Engineer</td>\n",
       "      <td>133813.465116</td>\n",
       "    </tr>\n",
       "    <tr>\n",
       "      <th>1</th>\n",
       "      <td>BI Analyst</td>\n",
       "      <td>123222.750000</td>\n",
       "    </tr>\n",
       "    <tr>\n",
       "      <th>0</th>\n",
       "      <td>AI Engineer</td>\n",
       "      <td>117393.076923</td>\n",
       "    </tr>\n",
       "    <tr>\n",
       "      <th>4</th>\n",
       "      <td>Data Analyst</td>\n",
       "      <td>115355.708333</td>\n",
       "    </tr>\n",
       "    <tr>\n",
       "      <th>2</th>\n",
       "      <td>BI Engineer</td>\n",
       "      <td>84333.333333</td>\n",
       "    </tr>\n",
       "    <tr>\n",
       "      <th>3</th>\n",
       "      <td>Business Analyst</td>\n",
       "      <td>71470.000000</td>\n",
       "    </tr>\n",
       "  </tbody>\n",
       "</table>\n",
       "</div>"
      ],
      "text/plain": [
       "                   job_title         salary\n",
       "7     Deep Learning Engineer  173151.066667\n",
       "8  Machine Learning Engineer  160196.896341\n",
       "9          Research Engineer  149496.500000\n",
       "6             Data Scientist  143585.000000\n",
       "5              Data Engineer  133813.465116\n",
       "1                 BI Analyst  123222.750000\n",
       "0                AI Engineer  117393.076923\n",
       "4               Data Analyst  115355.708333\n",
       "2                BI Engineer   84333.333333\n",
       "3           Business Analyst   71470.000000"
      ]
     },
     "execution_count": 3277,
     "metadata": {},
     "output_type": "execute_result"
    }
   ],
   "source": [
    "linkedin.groupby('job_title')['salary'].mean().reset_index().sort_values(by='salary', ascending=False)"
   ]
  },
  {
   "cell_type": "markdown",
   "metadata": {},
   "source": [
    "    Column 'remote_ratio'"
   ]
  },
  {
   "cell_type": "code",
   "execution_count": 3278,
   "metadata": {},
   "outputs": [
    {
     "data": {
      "text/plain": [
       "remote_ratio\n",
       "En remoto     280\n",
       "Híbrido       238\n",
       "Presencial    200\n",
       "Name: count, dtype: int64"
      ]
     },
     "execution_count": 3278,
     "metadata": {},
     "output_type": "execute_result"
    }
   ],
   "source": [
    "linkedin['remote_ratio'].value_counts()"
   ]
  },
  {
   "cell_type": "markdown",
   "metadata": {},
   "source": [
    "    Column 'employment_type'"
   ]
  },
  {
   "cell_type": "code",
   "execution_count": 3279,
   "metadata": {},
   "outputs": [
    {
     "data": {
      "text/plain": [
       "employment_type\n",
       "Jornada completa     570\n",
       "Contrato por obra    120\n",
       "Prácticas             28\n",
       "Name: count, dtype: int64"
      ]
     },
     "execution_count": 3279,
     "metadata": {},
     "output_type": "execute_result"
    }
   ],
   "source": [
    "linkedin['employment_type'].value_counts()"
   ]
  },
  {
   "cell_type": "markdown",
   "metadata": {},
   "source": [
    "    Column 'experience_level'"
   ]
  },
  {
   "cell_type": "code",
   "execution_count": 3280,
   "metadata": {},
   "outputs": [
    {
     "data": {
      "text/plain": [
       "experience_level\n",
       "Intermedio                 348\n",
       "Sin experiencia            248\n",
       "Algo de responsabilidad     54\n",
       "Prácticas                   51\n",
       "Director                    15\n",
       "Ejecutivo                    2\n",
       "Name: count, dtype: int64"
      ]
     },
     "execution_count": 3280,
     "metadata": {},
     "output_type": "execute_result"
    }
   ],
   "source": [
    "linkedin['experience_level'].value_counts()"
   ]
  },
  {
   "cell_type": "markdown",
   "metadata": {},
   "source": [
    "    Column 'company_size'"
   ]
  },
  {
   "cell_type": "code",
   "execution_count": 3281,
   "metadata": {},
   "outputs": [
    {
     "data": {
      "text/plain": [
       "company_size\n",
       "L    488\n",
       "M    202\n",
       "S     28\n",
       "Name: count, dtype: int64"
      ]
     },
     "execution_count": 3281,
     "metadata": {},
     "output_type": "execute_result"
    }
   ],
   "source": [
    "linkedin['company_size'].value_counts()"
   ]
  },
  {
   "cell_type": "markdown",
   "metadata": {},
   "source": [
    "#### Cleaning function"
   ]
  },
  {
   "cell_type": "code",
   "execution_count": 3282,
   "metadata": {},
   "outputs": [],
   "source": [
    "def categorizing_dataset(dframe):\n",
    "    # ------ Cleaning: group\n",
    "    df = dframe.copy()\n",
    "\n",
    "    # 1. job_title\n",
    "    job_categories = {\n",
    "        'Deep Learning Engineer': 10,\n",
    "        'Machine Learning Engineer': 9,\n",
    "        'Research Engineer': 8,\n",
    "        'BI Analyst': 7,\n",
    "        'Data Scientist': 6,\n",
    "        'Data Engineer': 5,\n",
    "        'Data Analyst': 4,\n",
    "        'Business Analyst': 3,\n",
    "        'AI Engineer': 2,\n",
    "        'BI Engineer': 1\n",
    "    }\n",
    "    df[\"job_title\"] = df.job_title.replace(job_categories)\n",
    "\n",
    "    # 2. remote_ratio\n",
    "    remote_categories = {\n",
    "        'En remoto': 100,\n",
    "        'Híbrido': 50,\n",
    "        'Presencial': 0\n",
    "    }\n",
    "    df[\"remote_ratio\"] = df.remote_ratio.replace(remote_categories)\n",
    "\n",
    "    # 3. employment_type\n",
    "    employment_type = {\n",
    "        'Jornada completa': 4,\n",
    "        'Media jornada': 3,\n",
    "        'Contrato por obra': 2,\n",
    "        'Prácticas': 1\n",
    "    }\n",
    "    df['employment_type'] = df.employment_type.replace(employment_type)\n",
    "\n",
    "    # 4. experience_level\n",
    "    experience_categories = {\n",
    "        'Director': 6,\n",
    "        'Ejecutivo': 5,\n",
    "        'Algo de responsabilidad': 4,\n",
    "        'Intermedio': 3,\n",
    "        'Sin experiencia': 2,\n",
    "        'Temporal': 1,\n",
    "        'Prácticas': 0\n",
    "    }\n",
    "    df[\"experience_level\"] = df.experience_level.replace(experience_categories)\n",
    "\n",
    "    # 5. company_size\n",
    "    oneonehotencoder = ps.OneHotEncoder()\n",
    "    df[['L', 'M', 'S']] = oneonehotencoder.fit_transform(df[\"company_size\"].values.reshape(-1, 1)).toarray()\n",
    "\n",
    "    return df"
   ]
  },
  {
   "cell_type": "code",
   "execution_count": 3283,
   "metadata": {},
   "outputs": [
    {
     "data": {
      "text/plain": [
       "array(['M', 'L', 'S'], dtype=object)"
      ]
     },
     "execution_count": 3283,
     "metadata": {},
     "output_type": "execute_result"
    }
   ],
   "source": [
    "linkedin['company_size'].unique()"
   ]
  },
  {
   "cell_type": "code",
   "execution_count": 3284,
   "metadata": {},
   "outputs": [
    {
     "data": {
      "text/html": [
       "<div>\n",
       "<style scoped>\n",
       "    .dataframe tbody tr th:only-of-type {\n",
       "        vertical-align: middle;\n",
       "    }\n",
       "\n",
       "    .dataframe tbody tr th {\n",
       "        vertical-align: top;\n",
       "    }\n",
       "\n",
       "    .dataframe thead th {\n",
       "        text-align: right;\n",
       "    }\n",
       "</style>\n",
       "<table border=\"1\" class=\"dataframe\">\n",
       "  <thead>\n",
       "    <tr style=\"text-align: right;\">\n",
       "      <th></th>\n",
       "      <th>job_id</th>\n",
       "      <th>job_title</th>\n",
       "      <th>company_name</th>\n",
       "      <th>company_state</th>\n",
       "      <th>salary_range</th>\n",
       "      <th>remote_ratio</th>\n",
       "      <th>employment_type</th>\n",
       "      <th>experience_level</th>\n",
       "      <th>company_size</th>\n",
       "      <th>image_link</th>\n",
       "      <th>employees</th>\n",
       "      <th>salary</th>\n",
       "      <th>original_title</th>\n",
       "      <th>L</th>\n",
       "      <th>M</th>\n",
       "      <th>S</th>\n",
       "    </tr>\n",
       "  </thead>\n",
       "  <tbody>\n",
       "    <tr>\n",
       "      <th>570</th>\n",
       "      <td>3773061360</td>\n",
       "      <td>4</td>\n",
       "      <td>Cloudious LLC</td>\n",
       "      <td>NY</td>\n",
       "      <td>80.000 $/año - 95.000 $/año</td>\n",
       "      <td>0</td>\n",
       "      <td>4</td>\n",
       "      <td>2</td>\n",
       "      <td>L</td>\n",
       "      <td>https://media.licdn.com/dms/image/C560BAQEVNlC...</td>\n",
       "      <td>De 201 a 500 empleados</td>\n",
       "      <td>87500.0</td>\n",
       "      <td>Data Analyst</td>\n",
       "      <td>1.0</td>\n",
       "      <td>0.0</td>\n",
       "      <td>0.0</td>\n",
       "    </tr>\n",
       "    <tr>\n",
       "      <th>502</th>\n",
       "      <td>3770197255</td>\n",
       "      <td>9</td>\n",
       "      <td>Cynet Systems</td>\n",
       "      <td>NJ</td>\n",
       "      <td>55 $/h - 60 $/h</td>\n",
       "      <td>0</td>\n",
       "      <td>2</td>\n",
       "      <td>2</td>\n",
       "      <td>L</td>\n",
       "      <td>https://media.licdn.com/dms/image/D4D0BAQGvDjf...</td>\n",
       "      <td>De 1.001 a 5.000 empleados</td>\n",
       "      <td>110400.0</td>\n",
       "      <td>AI/ML Engineer</td>\n",
       "      <td>1.0</td>\n",
       "      <td>0.0</td>\n",
       "      <td>0.0</td>\n",
       "    </tr>\n",
       "    <tr>\n",
       "      <th>735</th>\n",
       "      <td>3776795942</td>\n",
       "      <td>5</td>\n",
       "      <td>UNCOMN</td>\n",
       "      <td>IL</td>\n",
       "      <td>140.000 $/año - 180.000 $/año</td>\n",
       "      <td>100</td>\n",
       "      <td>4</td>\n",
       "      <td>3</td>\n",
       "      <td>L</td>\n",
       "      <td>https://media.licdn.com/dms/image/D560BAQFkSRz...</td>\n",
       "      <td>De 201 a 500 empleados</td>\n",
       "      <td>160000.0</td>\n",
       "      <td>Data Engineer</td>\n",
       "      <td>1.0</td>\n",
       "      <td>0.0</td>\n",
       "      <td>0.0</td>\n",
       "    </tr>\n",
       "    <tr>\n",
       "      <th>92</th>\n",
       "      <td>3735019426</td>\n",
       "      <td>5</td>\n",
       "      <td>Magellan Health</td>\n",
       "      <td>USA</td>\n",
       "      <td>83.890 $/año - 142.610 $/año</td>\n",
       "      <td>100</td>\n",
       "      <td>4</td>\n",
       "      <td>3</td>\n",
       "      <td>L</td>\n",
       "      <td>https://media.licdn.com/dms/image/C4D0BAQH9gt-...</td>\n",
       "      <td>De 5.001 a 10.000 empleados</td>\n",
       "      <td>113250.0</td>\n",
       "      <td>Senior Data Loss Protection Engineer - Fully R...</td>\n",
       "      <td>1.0</td>\n",
       "      <td>0.0</td>\n",
       "      <td>0.0</td>\n",
       "    </tr>\n",
       "    <tr>\n",
       "      <th>68</th>\n",
       "      <td>3725452231</td>\n",
       "      <td>9</td>\n",
       "      <td>MemryX Inc.</td>\n",
       "      <td>MI</td>\n",
       "      <td>60.000 $/año - 90.000 $/año</td>\n",
       "      <td>100</td>\n",
       "      <td>2</td>\n",
       "      <td>2</td>\n",
       "      <td>M</td>\n",
       "      <td>https://media.licdn.com/dms/image/C560BAQGXqiA...</td>\n",
       "      <td>De 11 a 50 empleados</td>\n",
       "      <td>75000.0</td>\n",
       "      <td>Artificial Intelligence/Machine Learning Appli...</td>\n",
       "      <td>0.0</td>\n",
       "      <td>1.0</td>\n",
       "      <td>0.0</td>\n",
       "    </tr>\n",
       "  </tbody>\n",
       "</table>\n",
       "</div>"
      ],
      "text/plain": [
       "         job_id  job_title     company_name company_state  \\\n",
       "570  3773061360          4    Cloudious LLC            NY   \n",
       "502  3770197255          9    Cynet Systems            NJ   \n",
       "735  3776795942          5           UNCOMN            IL   \n",
       "92   3735019426          5  Magellan Health           USA   \n",
       "68   3725452231          9      MemryX Inc.            MI   \n",
       "\n",
       "                      salary_range  remote_ratio  employment_type  \\\n",
       "570    80.000 $/año - 95.000 $/año             0                4   \n",
       "502                55 $/h - 60 $/h             0                2   \n",
       "735  140.000 $/año - 180.000 $/año           100                4   \n",
       "92    83.890 $/año - 142.610 $/año           100                4   \n",
       "68     60.000 $/año - 90.000 $/año           100                2   \n",
       "\n",
       "     experience_level company_size  \\\n",
       "570                 2            L   \n",
       "502                 2            L   \n",
       "735                 3            L   \n",
       "92                  3            L   \n",
       "68                  2            M   \n",
       "\n",
       "                                            image_link  \\\n",
       "570  https://media.licdn.com/dms/image/C560BAQEVNlC...   \n",
       "502  https://media.licdn.com/dms/image/D4D0BAQGvDjf...   \n",
       "735  https://media.licdn.com/dms/image/D560BAQFkSRz...   \n",
       "92   https://media.licdn.com/dms/image/C4D0BAQH9gt-...   \n",
       "68   https://media.licdn.com/dms/image/C560BAQGXqiA...   \n",
       "\n",
       "                       employees    salary  \\\n",
       "570       De 201 a 500 empleados   87500.0   \n",
       "502   De 1.001 a 5.000 empleados  110400.0   \n",
       "735       De 201 a 500 empleados  160000.0   \n",
       "92   De 5.001 a 10.000 empleados  113250.0   \n",
       "68          De 11 a 50 empleados   75000.0   \n",
       "\n",
       "                                        original_title    L    M    S  \n",
       "570                                       Data Analyst  1.0  0.0  0.0  \n",
       "502                                     AI/ML Engineer  1.0  0.0  0.0  \n",
       "735                                      Data Engineer  1.0  0.0  0.0  \n",
       "92   Senior Data Loss Protection Engineer - Fully R...  1.0  0.0  0.0  \n",
       "68   Artificial Intelligence/Machine Learning Appli...  0.0  1.0  0.0  "
      ]
     },
     "execution_count": 3284,
     "metadata": {},
     "output_type": "execute_result"
    }
   ],
   "source": [
    "prepared_linkedin = categorizing_dataset(linkedin)\n",
    "prepared_linkedin.sample(5)"
   ]
  },
  {
   "cell_type": "code",
   "execution_count": 3285,
   "metadata": {},
   "outputs": [
    {
     "data": {
      "text/html": [
       "<div>\n",
       "<style scoped>\n",
       "    .dataframe tbody tr th:only-of-type {\n",
       "        vertical-align: middle;\n",
       "    }\n",
       "\n",
       "    .dataframe tbody tr th {\n",
       "        vertical-align: top;\n",
       "    }\n",
       "\n",
       "    .dataframe thead th {\n",
       "        text-align: right;\n",
       "    }\n",
       "</style>\n",
       "<table border=\"1\" class=\"dataframe\">\n",
       "  <thead>\n",
       "    <tr style=\"text-align: right;\">\n",
       "      <th></th>\n",
       "      <th>job_id</th>\n",
       "      <th>job_title</th>\n",
       "      <th>company_name</th>\n",
       "      <th>company_state</th>\n",
       "      <th>salary_range</th>\n",
       "      <th>remote_ratio</th>\n",
       "      <th>employment_type</th>\n",
       "      <th>experience_level</th>\n",
       "      <th>company_size</th>\n",
       "      <th>image_link</th>\n",
       "      <th>employees</th>\n",
       "      <th>salary</th>\n",
       "      <th>original_title</th>\n",
       "      <th>L</th>\n",
       "      <th>M</th>\n",
       "      <th>S</th>\n",
       "    </tr>\n",
       "  </thead>\n",
       "  <tbody>\n",
       "    <tr>\n",
       "      <th>279</th>\n",
       "      <td>3762626619</td>\n",
       "      <td>5</td>\n",
       "      <td>King County Library System</td>\n",
       "      <td>WA</td>\n",
       "      <td>106.953,60 $/año - 130.000 $/año</td>\n",
       "      <td>0</td>\n",
       "      <td>4</td>\n",
       "      <td>3</td>\n",
       "      <td>L</td>\n",
       "      <td>https://media.licdn.com/dms/image/C4E0BAQEXO13...</td>\n",
       "      <td>De 1.001 a 5.000 empleados</td>\n",
       "      <td>NaN</td>\n",
       "      <td>Data Engineer</td>\n",
       "      <td>1.0</td>\n",
       "      <td>0.0</td>\n",
       "      <td>0.0</td>\n",
       "    </tr>\n",
       "  </tbody>\n",
       "</table>\n",
       "</div>"
      ],
      "text/plain": [
       "         job_id  job_title                company_name company_state  \\\n",
       "279  3762626619          5  King County Library System            WA   \n",
       "\n",
       "                         salary_range  remote_ratio  employment_type  \\\n",
       "279  106.953,60 $/año - 130.000 $/año             0                4   \n",
       "\n",
       "     experience_level company_size  \\\n",
       "279                 3            L   \n",
       "\n",
       "                                            image_link  \\\n",
       "279  https://media.licdn.com/dms/image/C4E0BAQEXO13...   \n",
       "\n",
       "                      employees  salary original_title    L    M    S  \n",
       "279  De 1.001 a 5.000 empleados     NaN  Data Engineer  1.0  0.0  0.0  "
      ]
     },
     "execution_count": 3285,
     "metadata": {},
     "output_type": "execute_result"
    }
   ],
   "source": [
    "prepared_to_predict = categorizing_dataset(prepared_to_predict)\n",
    "prepared_to_predict.sample()"
   ]
  },
  {
   "cell_type": "code",
   "execution_count": 3286,
   "metadata": {},
   "outputs": [
    {
     "data": {
      "text/plain": [
       "employment_type\n",
       "1    43\n",
       "3    22\n",
       "4     4\n",
       "Name: count, dtype: int64"
      ]
     },
     "execution_count": 3286,
     "metadata": {},
     "output_type": "execute_result"
    }
   ],
   "source": [
    "prepared_to_predict['employment_type'].value_counts()"
   ]
  },
  {
   "cell_type": "code",
   "execution_count": 3287,
   "metadata": {},
   "outputs": [],
   "source": [
    "# Viz mantra\n",
    "from matplotlib import pyplot as plt\n",
    "%matplotlib inline\n",
    "%config Inlinebackend.figure_format = 'retina'\n",
    "import seaborn as sns\n",
    "sns.set_context('poster')\n",
    "sns.set(rc={'figure.figsize': (16., 9.)})\n",
    "sns.set_style('whitegrid')\n",
    "\n",
    "from sklearn import metrics"
   ]
  },
  {
   "cell_type": "code",
   "execution_count": 3288,
   "metadata": {},
   "outputs": [
    {
     "data": {
      "image/png": "[encoded data removed]",
      "text/plain": [
       "<Figure size 1600x900 with 2 Axes>"
      ]
     },
     "metadata": {},
     "output_type": "display_data"
    }
   ],
   "source": [
    "corr = prepared_linkedin.select_dtypes(exclude=['object']).drop(columns=['job_id']).corr()\n",
    "sns.heatmap(corr, annot=True, cmap='inferno', fmt='.2f', mask=np.triu(corr));"
   ]
  },
  {
   "cell_type": "markdown",
   "metadata": {},
   "source": [
    "#### Models"
   ]
  },
  {
   "cell_type": "code",
   "execution_count": 3289,
   "metadata": {},
   "outputs": [],
   "source": [
    "from sklearn.model_selection import train_test_split\n",
    "from sklearn.metrics import mean_squared_error\n",
    "from sklearn.linear_model import LinearRegression\n",
    "from sklearn.tree import DecisionTreeRegressor\n",
    "from sklearn.neighbors import KNeighborsRegressor\n",
    "from sklearn.ensemble import GradientBoostingRegressor, RandomForestRegressor"
   ]
  },
  {
   "cell_type": "code",
   "execution_count": 3290,
   "metadata": {},
   "outputs": [
    {
     "data": {
      "text/plain": [
       "job_id                int64\n",
       "job_title             int64\n",
       "company_name         object\n",
       "company_state        object\n",
       "salary_range         object\n",
       "remote_ratio          int64\n",
       "employment_type       int64\n",
       "experience_level      int64\n",
       "company_size         object\n",
       "image_link           object\n",
       "employees            object\n",
       "salary              float64\n",
       "original_title       object\n",
       "L                   float64\n",
       "M                   float64\n",
       "S                   float64\n",
       "dtype: object"
      ]
     },
     "execution_count": 3290,
     "metadata": {},
     "output_type": "execute_result"
    }
   ],
   "source": [
    "prepared_linkedin.dtypes"
   ]
  },
  {
   "cell_type": "code",
   "execution_count": 3291,
   "metadata": {},
   "outputs": [],
   "source": [
    "# X = prepared_linkedin.select_dtypes(exclude='object').drop(columns=['salary', 'min_salary', 'max_salary'])\n",
    "X = prepared_linkedin.select_dtypes(exclude='object').drop(columns=['salary'])\n",
    "y = prepared_linkedin['salary']\n",
    "\n",
    "X_train, X_test, y_train, y_test = train_test_split(X, y, test_size=0.20)"
   ]
  },
  {
   "cell_type": "code",
   "execution_count": 3292,
   "metadata": {},
   "outputs": [
    {
     "data": {
      "text/plain": [
       "(574, 8)"
      ]
     },
     "execution_count": 3292,
     "metadata": {},
     "output_type": "execute_result"
    }
   ],
   "source": [
    "X_train.shape"
   ]
  },
  {
   "cell_type": "markdown",
   "metadata": {},
   "source": [
    "    LinearRegression"
   ]
  },
  {
   "cell_type": "code",
   "execution_count": 3293,
   "metadata": {},
   "outputs": [
    {
     "data": {
      "text/html": [
       "<style>#sk-container-id-291 {color: black;}#sk-container-id-291 pre{padding: 0;}#sk-container-id-291 div.sk-toggleable {background-color: white;}#sk-container-id-291 label.sk-toggleable__label {cursor: pointer;display: block;width: 100%;margin-bottom: 0;padding: 0.3em;box-sizing: border-box;text-align: center;}#sk-container-id-291 label.sk-toggleable__label-arrow:before {content: \"▸\";float: left;margin-right: 0.25em;color: #696969;}#sk-container-id-291 label.sk-toggleable__label-arrow:hover:before {color: black;}#sk-container-id-291 div.sk-estimator:hover label.sk-toggleable__label-arrow:before {color: black;}#sk-container-id-291 div.sk-toggleable__content {max-height: 0;max-width: 0;overflow: hidden;text-align: left;background-color: #f0f8ff;}#sk-container-id-291 div.sk-toggleable__content pre {margin: 0.2em;color: black;border-radius: 0.25em;background-color: #f0f8ff;}#sk-container-id-291 input.sk-toggleable__control:checked~div.sk-toggleable__content {max-height: 200px;max-width: 100%;overflow: auto;}#sk-container-id-291 input.sk-toggleable__control:checked~label.sk-toggleable__label-arrow:before {content: \"▾\";}#sk-container-id-291 div.sk-estimator input.sk-toggleable__control:checked~label.sk-toggleable__label {background-color: #d4ebff;}#sk-container-id-291 div.sk-label input.sk-toggleable__control:checked~label.sk-toggleable__label {background-color: #d4ebff;}#sk-container-id-291 input.sk-hidden--visually {border: 0;clip: rect(1px 1px 1px 1px);clip: rect(1px, 1px, 1px, 1px);height: 1px;margin: -1px;overflow: hidden;padding: 0;position: absolute;width: 1px;}#sk-container-id-291 div.sk-estimator {font-family: monospace;background-color: #f0f8ff;border: 1px dotted black;border-radius: 0.25em;box-sizing: border-box;margin-bottom: 0.5em;}#sk-container-id-291 div.sk-estimator:hover {background-color: #d4ebff;}#sk-container-id-291 div.sk-parallel-item::after {content: \"\";width: 100%;border-bottom: 1px solid gray;flex-grow: 1;}#sk-container-id-291 div.sk-label:hover label.sk-toggleable__label {background-color: #d4ebff;}#sk-container-id-291 div.sk-serial::before {content: \"\";position: absolute;border-left: 1px solid gray;box-sizing: border-box;top: 0;bottom: 0;left: 50%;z-index: 0;}#sk-container-id-291 div.sk-serial {display: flex;flex-direction: column;align-items: center;background-color: white;padding-right: 0.2em;padding-left: 0.2em;position: relative;}#sk-container-id-291 div.sk-item {position: relative;z-index: 1;}#sk-container-id-291 div.sk-parallel {display: flex;align-items: stretch;justify-content: center;background-color: white;position: relative;}#sk-container-id-291 div.sk-item::before, #sk-container-id-291 div.sk-parallel-item::before {content: \"\";position: absolute;border-left: 1px solid gray;box-sizing: border-box;top: 0;bottom: 0;left: 50%;z-index: -1;}#sk-container-id-291 div.sk-parallel-item {display: flex;flex-direction: column;z-index: 1;position: relative;background-color: white;}#sk-container-id-291 div.sk-parallel-item:first-child::after {align-self: flex-end;width: 50%;}#sk-container-id-291 div.sk-parallel-item:last-child::after {align-self: flex-start;width: 50%;}#sk-container-id-291 div.sk-parallel-item:only-child::after {width: 0;}#sk-container-id-291 div.sk-dashed-wrapped {border: 1px dashed gray;margin: 0 0.4em 0.5em 0.4em;box-sizing: border-box;padding-bottom: 0.4em;background-color: white;}#sk-container-id-291 div.sk-label label {font-family: monospace;font-weight: bold;display: inline-block;line-height: 1.2em;}#sk-container-id-291 div.sk-label-container {text-align: center;}#sk-container-id-291 div.sk-container {/* jupyter's `normalize.less` sets `[hidden] { display: none; }` but bootstrap.min.css set `[hidden] { display: none !important; }` so we also need the `!important` here to be able to override the default hidden behavior on the sphinx rendered scikit-learn.org. See: https://github.com/scikit-learn/scikit-learn/issues/21755 */display: inline-block !important;position: relative;}#sk-container-id-291 div.sk-text-repr-fallback {display: none;}</style><div id=\"sk-container-id-291\" class=\"sk-top-container\"><div class=\"sk-text-repr-fallback\"><pre>LinearRegression()</pre><b>In a Jupyter environment, please rerun this cell to show the HTML representation or trust the notebook. <br />On GitHub, the HTML representation is unable to render, please try loading this page with nbviewer.org.</b></div><div class=\"sk-container\" hidden><div class=\"sk-item\"><div class=\"sk-estimator sk-toggleable\"><input class=\"sk-toggleable__control sk-hidden--visually\" id=\"sk-estimator-id-291\" type=\"checkbox\" checked><label for=\"sk-estimator-id-291\" class=\"sk-toggleable__label sk-toggleable__label-arrow\">LinearRegression</label><div class=\"sk-toggleable__content\"><pre>LinearRegression()</pre></div></div></div></div></div>"
      ],
      "text/plain": [
       "LinearRegression()"
      ]
     },
     "execution_count": 3293,
     "metadata": {},
     "output_type": "execute_result"
    }
   ],
   "source": [
    "regressor = LinearRegression()\n",
    "regressor.fit(X_train, y_train)"
   ]
  },
  {
   "cell_type": "code",
   "execution_count": 3294,
   "metadata": {},
   "outputs": [],
   "source": [
    "y_pred = regressor.predict(X_test)"
   ]
  },
  {
   "cell_type": "code",
   "execution_count": 3295,
   "metadata": {},
   "outputs": [
    {
     "data": {
      "text/plain": [
       "0.29461383739074465"
      ]
     },
     "execution_count": 3295,
     "metadata": {},
     "output_type": "execute_result"
    }
   ],
   "source": [
    "metrics.r2_score(y_test, y_pred)"
   ]
  },
  {
   "cell_type": "markdown",
   "metadata": {},
   "source": [
    "    DecisionTreeRegressor"
   ]
  },
  {
   "cell_type": "code",
   "execution_count": 3296,
   "metadata": {},
   "outputs": [
    {
     "data": {
      "text/html": [
       "<style>#sk-container-id-292 {color: black;}#sk-container-id-292 pre{padding: 0;}#sk-container-id-292 div.sk-toggleable {background-color: white;}#sk-container-id-292 label.sk-toggleable__label {cursor: pointer;display: block;width: 100%;margin-bottom: 0;padding: 0.3em;box-sizing: border-box;text-align: center;}#sk-container-id-292 label.sk-toggleable__label-arrow:before {content: \"▸\";float: left;margin-right: 0.25em;color: #696969;}#sk-container-id-292 label.sk-toggleable__label-arrow:hover:before {color: black;}#sk-container-id-292 div.sk-estimator:hover label.sk-toggleable__label-arrow:before {color: black;}#sk-container-id-292 div.sk-toggleable__content {max-height: 0;max-width: 0;overflow: hidden;text-align: left;background-color: #f0f8ff;}#sk-container-id-292 div.sk-toggleable__content pre {margin: 0.2em;color: black;border-radius: 0.25em;background-color: #f0f8ff;}#sk-container-id-292 input.sk-toggleable__control:checked~div.sk-toggleable__content {max-height: 200px;max-width: 100%;overflow: auto;}#sk-container-id-292 input.sk-toggleable__control:checked~label.sk-toggleable__label-arrow:before {content: \"▾\";}#sk-container-id-292 div.sk-estimator input.sk-toggleable__control:checked~label.sk-toggleable__label {background-color: #d4ebff;}#sk-container-id-292 div.sk-label input.sk-toggleable__control:checked~label.sk-toggleable__label {background-color: #d4ebff;}#sk-container-id-292 input.sk-hidden--visually {border: 0;clip: rect(1px 1px 1px 1px);clip: rect(1px, 1px, 1px, 1px);height: 1px;margin: -1px;overflow: hidden;padding: 0;position: absolute;width: 1px;}#sk-container-id-292 div.sk-estimator {font-family: monospace;background-color: #f0f8ff;border: 1px dotted black;border-radius: 0.25em;box-sizing: border-box;margin-bottom: 0.5em;}#sk-container-id-292 div.sk-estimator:hover {background-color: #d4ebff;}#sk-container-id-292 div.sk-parallel-item::after {content: \"\";width: 100%;border-bottom: 1px solid gray;flex-grow: 1;}#sk-container-id-292 div.sk-label:hover label.sk-toggleable__label {background-color: #d4ebff;}#sk-container-id-292 div.sk-serial::before {content: \"\";position: absolute;border-left: 1px solid gray;box-sizing: border-box;top: 0;bottom: 0;left: 50%;z-index: 0;}#sk-container-id-292 div.sk-serial {display: flex;flex-direction: column;align-items: center;background-color: white;padding-right: 0.2em;padding-left: 0.2em;position: relative;}#sk-container-id-292 div.sk-item {position: relative;z-index: 1;}#sk-container-id-292 div.sk-parallel {display: flex;align-items: stretch;justify-content: center;background-color: white;position: relative;}#sk-container-id-292 div.sk-item::before, #sk-container-id-292 div.sk-parallel-item::before {content: \"\";position: absolute;border-left: 1px solid gray;box-sizing: border-box;top: 0;bottom: 0;left: 50%;z-index: -1;}#sk-container-id-292 div.sk-parallel-item {display: flex;flex-direction: column;z-index: 1;position: relative;background-color: white;}#sk-container-id-292 div.sk-parallel-item:first-child::after {align-self: flex-end;width: 50%;}#sk-container-id-292 div.sk-parallel-item:last-child::after {align-self: flex-start;width: 50%;}#sk-container-id-292 div.sk-parallel-item:only-child::after {width: 0;}#sk-container-id-292 div.sk-dashed-wrapped {border: 1px dashed gray;margin: 0 0.4em 0.5em 0.4em;box-sizing: border-box;padding-bottom: 0.4em;background-color: white;}#sk-container-id-292 div.sk-label label {font-family: monospace;font-weight: bold;display: inline-block;line-height: 1.2em;}#sk-container-id-292 div.sk-label-container {text-align: center;}#sk-container-id-292 div.sk-container {/* jupyter's `normalize.less` sets `[hidden] { display: none; }` but bootstrap.min.css set `[hidden] { display: none !important; }` so we also need the `!important` here to be able to override the default hidden behavior on the sphinx rendered scikit-learn.org. See: https://github.com/scikit-learn/scikit-learn/issues/21755 */display: inline-block !important;position: relative;}#sk-container-id-292 div.sk-text-repr-fallback {display: none;}</style><div id=\"sk-container-id-292\" class=\"sk-top-container\"><div class=\"sk-text-repr-fallback\"><pre>DecisionTreeRegressor()</pre><b>In a Jupyter environment, please rerun this cell to show the HTML representation or trust the notebook. <br />On GitHub, the HTML representation is unable to render, please try loading this page with nbviewer.org.</b></div><div class=\"sk-container\" hidden><div class=\"sk-item\"><div class=\"sk-estimator sk-toggleable\"><input class=\"sk-toggleable__control sk-hidden--visually\" id=\"sk-estimator-id-292\" type=\"checkbox\" checked><label for=\"sk-estimator-id-292\" class=\"sk-toggleable__label sk-toggleable__label-arrow\">DecisionTreeRegressor</label><div class=\"sk-toggleable__content\"><pre>DecisionTreeRegressor()</pre></div></div></div></div></div>"
      ],
      "text/plain": [
       "DecisionTreeRegressor()"
      ]
     },
     "execution_count": 3296,
     "metadata": {},
     "output_type": "execute_result"
    }
   ],
   "source": [
    "regressor = DecisionTreeRegressor()\n",
    "regressor.fit(X_train, y_train)"
   ]
  },
  {
   "cell_type": "code",
   "execution_count": 3297,
   "metadata": {},
   "outputs": [],
   "source": [
    "y_pred = regressor.predict(X_test)"
   ]
  },
  {
   "cell_type": "code",
   "execution_count": 3298,
   "metadata": {},
   "outputs": [
    {
     "data": {
      "text/plain": [
       "0.4040151217276069"
      ]
     },
     "execution_count": 3298,
     "metadata": {},
     "output_type": "execute_result"
    }
   ],
   "source": [
    "metrics.r2_score(y_test, y_pred)"
   ]
  },
  {
   "cell_type": "markdown",
   "metadata": {},
   "source": [
    "    KNeighborsRegressor"
   ]
  },
  {
   "cell_type": "code",
   "execution_count": 3299,
   "metadata": {},
   "outputs": [
    {
     "data": {
      "text/html": [
       "<style>#sk-container-id-293 {color: black;}#sk-container-id-293 pre{padding: 0;}#sk-container-id-293 div.sk-toggleable {background-color: white;}#sk-container-id-293 label.sk-toggleable__label {cursor: pointer;display: block;width: 100%;margin-bottom: 0;padding: 0.3em;box-sizing: border-box;text-align: center;}#sk-container-id-293 label.sk-toggleable__label-arrow:before {content: \"▸\";float: left;margin-right: 0.25em;color: #696969;}#sk-container-id-293 label.sk-toggleable__label-arrow:hover:before {color: black;}#sk-container-id-293 div.sk-estimator:hover label.sk-toggleable__label-arrow:before {color: black;}#sk-container-id-293 div.sk-toggleable__content {max-height: 0;max-width: 0;overflow: hidden;text-align: left;background-color: #f0f8ff;}#sk-container-id-293 div.sk-toggleable__content pre {margin: 0.2em;color: black;border-radius: 0.25em;background-color: #f0f8ff;}#sk-container-id-293 input.sk-toggleable__control:checked~div.sk-toggleable__content {max-height: 200px;max-width: 100%;overflow: auto;}#sk-container-id-293 input.sk-toggleable__control:checked~label.sk-toggleable__label-arrow:before {content: \"▾\";}#sk-container-id-293 div.sk-estimator input.sk-toggleable__control:checked~label.sk-toggleable__label {background-color: #d4ebff;}#sk-container-id-293 div.sk-label input.sk-toggleable__control:checked~label.sk-toggleable__label {background-color: #d4ebff;}#sk-container-id-293 input.sk-hidden--visually {border: 0;clip: rect(1px 1px 1px 1px);clip: rect(1px, 1px, 1px, 1px);height: 1px;margin: -1px;overflow: hidden;padding: 0;position: absolute;width: 1px;}#sk-container-id-293 div.sk-estimator {font-family: monospace;background-color: #f0f8ff;border: 1px dotted black;border-radius: 0.25em;box-sizing: border-box;margin-bottom: 0.5em;}#sk-container-id-293 div.sk-estimator:hover {background-color: #d4ebff;}#sk-container-id-293 div.sk-parallel-item::after {content: \"\";width: 100%;border-bottom: 1px solid gray;flex-grow: 1;}#sk-container-id-293 div.sk-label:hover label.sk-toggleable__label {background-color: #d4ebff;}#sk-container-id-293 div.sk-serial::before {content: \"\";position: absolute;border-left: 1px solid gray;box-sizing: border-box;top: 0;bottom: 0;left: 50%;z-index: 0;}#sk-container-id-293 div.sk-serial {display: flex;flex-direction: column;align-items: center;background-color: white;padding-right: 0.2em;padding-left: 0.2em;position: relative;}#sk-container-id-293 div.sk-item {position: relative;z-index: 1;}#sk-container-id-293 div.sk-parallel {display: flex;align-items: stretch;justify-content: center;background-color: white;position: relative;}#sk-container-id-293 div.sk-item::before, #sk-container-id-293 div.sk-parallel-item::before {content: \"\";position: absolute;border-left: 1px solid gray;box-sizing: border-box;top: 0;bottom: 0;left: 50%;z-index: -1;}#sk-container-id-293 div.sk-parallel-item {display: flex;flex-direction: column;z-index: 1;position: relative;background-color: white;}#sk-container-id-293 div.sk-parallel-item:first-child::after {align-self: flex-end;width: 50%;}#sk-container-id-293 div.sk-parallel-item:last-child::after {align-self: flex-start;width: 50%;}#sk-container-id-293 div.sk-parallel-item:only-child::after {width: 0;}#sk-container-id-293 div.sk-dashed-wrapped {border: 1px dashed gray;margin: 0 0.4em 0.5em 0.4em;box-sizing: border-box;padding-bottom: 0.4em;background-color: white;}#sk-container-id-293 div.sk-label label {font-family: monospace;font-weight: bold;display: inline-block;line-height: 1.2em;}#sk-container-id-293 div.sk-label-container {text-align: center;}#sk-container-id-293 div.sk-container {/* jupyter's `normalize.less` sets `[hidden] { display: none; }` but bootstrap.min.css set `[hidden] { display: none !important; }` so we also need the `!important` here to be able to override the default hidden behavior on the sphinx rendered scikit-learn.org. See: https://github.com/scikit-learn/scikit-learn/issues/21755 */display: inline-block !important;position: relative;}#sk-container-id-293 div.sk-text-repr-fallback {display: none;}</style><div id=\"sk-container-id-293\" class=\"sk-top-container\"><div class=\"sk-text-repr-fallback\"><pre>KNeighborsRegressor()</pre><b>In a Jupyter environment, please rerun this cell to show the HTML representation or trust the notebook. <br />On GitHub, the HTML representation is unable to render, please try loading this page with nbviewer.org.</b></div><div class=\"sk-container\" hidden><div class=\"sk-item\"><div class=\"sk-estimator sk-toggleable\"><input class=\"sk-toggleable__control sk-hidden--visually\" id=\"sk-estimator-id-293\" type=\"checkbox\" checked><label for=\"sk-estimator-id-293\" class=\"sk-toggleable__label sk-toggleable__label-arrow\">KNeighborsRegressor</label><div class=\"sk-toggleable__content\"><pre>KNeighborsRegressor()</pre></div></div></div></div></div>"
      ],
      "text/plain": [
       "KNeighborsRegressor()"
      ]
     },
     "execution_count": 3299,
     "metadata": {},
     "output_type": "execute_result"
    }
   ],
   "source": [
    "regressor = KNeighborsRegressor()\n",
    "regressor.fit(X_train, y_train)"
   ]
  },
  {
   "cell_type": "code",
   "execution_count": 3300,
   "metadata": {},
   "outputs": [],
   "source": [
    "y_pred = regressor.predict(X_test)"
   ]
  },
  {
   "cell_type": "code",
   "execution_count": 3301,
   "metadata": {},
   "outputs": [
    {
     "data": {
      "text/plain": [
       "0.37793740097612827"
      ]
     },
     "execution_count": 3301,
     "metadata": {},
     "output_type": "execute_result"
    }
   ],
   "source": [
    "metrics.r2_score(y_test, y_pred)"
   ]
  },
  {
   "cell_type": "markdown",
   "metadata": {},
   "source": [
    "    GradientBoostingRegressor"
   ]
  },
  {
   "cell_type": "code",
   "execution_count": 3302,
   "metadata": {},
   "outputs": [
    {
     "data": {
      "text/html": [
       "<style>#sk-container-id-294 {color: black;}#sk-container-id-294 pre{padding: 0;}#sk-container-id-294 div.sk-toggleable {background-color: white;}#sk-container-id-294 label.sk-toggleable__label {cursor: pointer;display: block;width: 100%;margin-bottom: 0;padding: 0.3em;box-sizing: border-box;text-align: center;}#sk-container-id-294 label.sk-toggleable__label-arrow:before {content: \"▸\";float: left;margin-right: 0.25em;color: #696969;}#sk-container-id-294 label.sk-toggleable__label-arrow:hover:before {color: black;}#sk-container-id-294 div.sk-estimator:hover label.sk-toggleable__label-arrow:before {color: black;}#sk-container-id-294 div.sk-toggleable__content {max-height: 0;max-width: 0;overflow: hidden;text-align: left;background-color: #f0f8ff;}#sk-container-id-294 div.sk-toggleable__content pre {margin: 0.2em;color: black;border-radius: 0.25em;background-color: #f0f8ff;}#sk-container-id-294 input.sk-toggleable__control:checked~div.sk-toggleable__content {max-height: 200px;max-width: 100%;overflow: auto;}#sk-container-id-294 input.sk-toggleable__control:checked~label.sk-toggleable__label-arrow:before {content: \"▾\";}#sk-container-id-294 div.sk-estimator input.sk-toggleable__control:checked~label.sk-toggleable__label {background-color: #d4ebff;}#sk-container-id-294 div.sk-label input.sk-toggleable__control:checked~label.sk-toggleable__label {background-color: #d4ebff;}#sk-container-id-294 input.sk-hidden--visually {border: 0;clip: rect(1px 1px 1px 1px);clip: rect(1px, 1px, 1px, 1px);height: 1px;margin: -1px;overflow: hidden;padding: 0;position: absolute;width: 1px;}#sk-container-id-294 div.sk-estimator {font-family: monospace;background-color: #f0f8ff;border: 1px dotted black;border-radius: 0.25em;box-sizing: border-box;margin-bottom: 0.5em;}#sk-container-id-294 div.sk-estimator:hover {background-color: #d4ebff;}#sk-container-id-294 div.sk-parallel-item::after {content: \"\";width: 100%;border-bottom: 1px solid gray;flex-grow: 1;}#sk-container-id-294 div.sk-label:hover label.sk-toggleable__label {background-color: #d4ebff;}#sk-container-id-294 div.sk-serial::before {content: \"\";position: absolute;border-left: 1px solid gray;box-sizing: border-box;top: 0;bottom: 0;left: 50%;z-index: 0;}#sk-container-id-294 div.sk-serial {display: flex;flex-direction: column;align-items: center;background-color: white;padding-right: 0.2em;padding-left: 0.2em;position: relative;}#sk-container-id-294 div.sk-item {position: relative;z-index: 1;}#sk-container-id-294 div.sk-parallel {display: flex;align-items: stretch;justify-content: center;background-color: white;position: relative;}#sk-container-id-294 div.sk-item::before, #sk-container-id-294 div.sk-parallel-item::before {content: \"\";position: absolute;border-left: 1px solid gray;box-sizing: border-box;top: 0;bottom: 0;left: 50%;z-index: -1;}#sk-container-id-294 div.sk-parallel-item {display: flex;flex-direction: column;z-index: 1;position: relative;background-color: white;}#sk-container-id-294 div.sk-parallel-item:first-child::after {align-self: flex-end;width: 50%;}#sk-container-id-294 div.sk-parallel-item:last-child::after {align-self: flex-start;width: 50%;}#sk-container-id-294 div.sk-parallel-item:only-child::after {width: 0;}#sk-container-id-294 div.sk-dashed-wrapped {border: 1px dashed gray;margin: 0 0.4em 0.5em 0.4em;box-sizing: border-box;padding-bottom: 0.4em;background-color: white;}#sk-container-id-294 div.sk-label label {font-family: monospace;font-weight: bold;display: inline-block;line-height: 1.2em;}#sk-container-id-294 div.sk-label-container {text-align: center;}#sk-container-id-294 div.sk-container {/* jupyter's `normalize.less` sets `[hidden] { display: none; }` but bootstrap.min.css set `[hidden] { display: none !important; }` so we also need the `!important` here to be able to override the default hidden behavior on the sphinx rendered scikit-learn.org. See: https://github.com/scikit-learn/scikit-learn/issues/21755 */display: inline-block !important;position: relative;}#sk-container-id-294 div.sk-text-repr-fallback {display: none;}</style><div id=\"sk-container-id-294\" class=\"sk-top-container\"><div class=\"sk-text-repr-fallback\"><pre>GradientBoostingRegressor()</pre><b>In a Jupyter environment, please rerun this cell to show the HTML representation or trust the notebook. <br />On GitHub, the HTML representation is unable to render, please try loading this page with nbviewer.org.</b></div><div class=\"sk-container\" hidden><div class=\"sk-item\"><div class=\"sk-estimator sk-toggleable\"><input class=\"sk-toggleable__control sk-hidden--visually\" id=\"sk-estimator-id-294\" type=\"checkbox\" checked><label for=\"sk-estimator-id-294\" class=\"sk-toggleable__label sk-toggleable__label-arrow\">GradientBoostingRegressor</label><div class=\"sk-toggleable__content\"><pre>GradientBoostingRegressor()</pre></div></div></div></div></div>"
      ],
      "text/plain": [
       "GradientBoostingRegressor()"
      ]
     },
     "execution_count": 3302,
     "metadata": {},
     "output_type": "execute_result"
    }
   ],
   "source": [
    "regressor = GradientBoostingRegressor()\n",
    "regressor.fit(X_train, y_train)"
   ]
  },
  {
   "cell_type": "code",
   "execution_count": 3303,
   "metadata": {},
   "outputs": [],
   "source": [
    "y_pred = regressor.predict(X_test)"
   ]
  },
  {
   "cell_type": "code",
   "execution_count": 3304,
   "metadata": {},
   "outputs": [
    {
     "data": {
      "text/plain": [
       "0.44100545463212504"
      ]
     },
     "execution_count": 3304,
     "metadata": {},
     "output_type": "execute_result"
    }
   ],
   "source": [
    "r2_grad = metrics.r2_score(y_test, y_pred)\n",
    "r2_grad"
   ]
  },
  {
   "cell_type": "markdown",
   "metadata": {},
   "source": [
    "    Code to save the model"
   ]
  },
  {
   "cell_type": "code",
   "execution_count": 3305,
   "metadata": {},
   "outputs": [],
   "source": [
    "import pickle\n",
    "\n",
    "# model_file = f'../models/GradientBoostingRegressor_r2_{r2_grad}.pkl'\n",
    "# with open(model_file, 'wb') as f:\n",
    "#     pickle.dump(regressor, f)"
   ]
  },
  {
   "cell_type": "code",
   "execution_count": 3306,
   "metadata": {},
   "outputs": [],
   "source": [
    "# model_file = '../models/GradientBoostingRegressor_r2_0.6336301605260248.pkl'\n",
    "# with open(model_file, 'rb') as f:\n",
    "#     model = pickle.load(f)\n",
    "\n",
    "# pred = model.predict(X_test)\n",
    "# # pred = model.predict(X_test.drop(columns=['min_salary', 'max_salary']))\n",
    "\n",
    "# r2_pred = metrics.r2_score(y_test, pred)\n",
    "# r2_pred"
   ]
  },
  {
   "cell_type": "code",
   "execution_count": 3307,
   "metadata": {},
   "outputs": [
    {
     "data": {
      "image/png": "[encoded data removed]",
      "text/plain": [
       "<Figure size 1600x900 with 1 Axes>"
      ]
     },
     "metadata": {},
     "output_type": "display_data"
    }
   ],
   "source": [
    "sns.scatterplot(x=y_test, y=y_test, color='blue', label='Real Values', marker='o')\n",
    "sns.scatterplot(x=y_test, y=pred, color='red', label='Predictions', marker='x')\n",
    "\n",
    "plt.xlabel('Real Salary Values')\n",
    "plt.ylabel('Salary Predictions')\n",
    "plt.title('Comparison between Salary Predictions and Real Values')\n",
    "plt.legend()\n",
    "# plt.savefig(f'../figures/RFRmodel_r2_{r2_pred}.jpg')\n",
    "plt.show()"
   ]
  },
  {
   "cell_type": "markdown",
   "metadata": {},
   "source": [
    "    RandomForestRegressor"
   ]
  },
  {
   "cell_type": "code",
   "execution_count": 3308,
   "metadata": {},
   "outputs": [
    {
     "data": {
      "text/html": [
       "<style>#sk-container-id-295 {color: black;}#sk-container-id-295 pre{padding: 0;}#sk-container-id-295 div.sk-toggleable {background-color: white;}#sk-container-id-295 label.sk-toggleable__label {cursor: pointer;display: block;width: 100%;margin-bottom: 0;padding: 0.3em;box-sizing: border-box;text-align: center;}#sk-container-id-295 label.sk-toggleable__label-arrow:before {content: \"▸\";float: left;margin-right: 0.25em;color: #696969;}#sk-container-id-295 label.sk-toggleable__label-arrow:hover:before {color: black;}#sk-container-id-295 div.sk-estimator:hover label.sk-toggleable__label-arrow:before {color: black;}#sk-container-id-295 div.sk-toggleable__content {max-height: 0;max-width: 0;overflow: hidden;text-align: left;background-color: #f0f8ff;}#sk-container-id-295 div.sk-toggleable__content pre {margin: 0.2em;color: black;border-radius: 0.25em;background-color: #f0f8ff;}#sk-container-id-295 input.sk-toggleable__control:checked~div.sk-toggleable__content {max-height: 200px;max-width: 100%;overflow: auto;}#sk-container-id-295 input.sk-toggleable__control:checked~label.sk-toggleable__label-arrow:before {content: \"▾\";}#sk-container-id-295 div.sk-estimator input.sk-toggleable__control:checked~label.sk-toggleable__label {background-color: #d4ebff;}#sk-container-id-295 div.sk-label input.sk-toggleable__control:checked~label.sk-toggleable__label {background-color: #d4ebff;}#sk-container-id-295 input.sk-hidden--visually {border: 0;clip: rect(1px 1px 1px 1px);clip: rect(1px, 1px, 1px, 1px);height: 1px;margin: -1px;overflow: hidden;padding: 0;position: absolute;width: 1px;}#sk-container-id-295 div.sk-estimator {font-family: monospace;background-color: #f0f8ff;border: 1px dotted black;border-radius: 0.25em;box-sizing: border-box;margin-bottom: 0.5em;}#sk-container-id-295 div.sk-estimator:hover {background-color: #d4ebff;}#sk-container-id-295 div.sk-parallel-item::after {content: \"\";width: 100%;border-bottom: 1px solid gray;flex-grow: 1;}#sk-container-id-295 div.sk-label:hover label.sk-toggleable__label {background-color: #d4ebff;}#sk-container-id-295 div.sk-serial::before {content: \"\";position: absolute;border-left: 1px solid gray;box-sizing: border-box;top: 0;bottom: 0;left: 50%;z-index: 0;}#sk-container-id-295 div.sk-serial {display: flex;flex-direction: column;align-items: center;background-color: white;padding-right: 0.2em;padding-left: 0.2em;position: relative;}#sk-container-id-295 div.sk-item {position: relative;z-index: 1;}#sk-container-id-295 div.sk-parallel {display: flex;align-items: stretch;justify-content: center;background-color: white;position: relative;}#sk-container-id-295 div.sk-item::before, #sk-container-id-295 div.sk-parallel-item::before {content: \"\";position: absolute;border-left: 1px solid gray;box-sizing: border-box;top: 0;bottom: 0;left: 50%;z-index: -1;}#sk-container-id-295 div.sk-parallel-item {display: flex;flex-direction: column;z-index: 1;position: relative;background-color: white;}#sk-container-id-295 div.sk-parallel-item:first-child::after {align-self: flex-end;width: 50%;}#sk-container-id-295 div.sk-parallel-item:last-child::after {align-self: flex-start;width: 50%;}#sk-container-id-295 div.sk-parallel-item:only-child::after {width: 0;}#sk-container-id-295 div.sk-dashed-wrapped {border: 1px dashed gray;margin: 0 0.4em 0.5em 0.4em;box-sizing: border-box;padding-bottom: 0.4em;background-color: white;}#sk-container-id-295 div.sk-label label {font-family: monospace;font-weight: bold;display: inline-block;line-height: 1.2em;}#sk-container-id-295 div.sk-label-container {text-align: center;}#sk-container-id-295 div.sk-container {/* jupyter's `normalize.less` sets `[hidden] { display: none; }` but bootstrap.min.css set `[hidden] { display: none !important; }` so we also need the `!important` here to be able to override the default hidden behavior on the sphinx rendered scikit-learn.org. See: https://github.com/scikit-learn/scikit-learn/issues/21755 */display: inline-block !important;position: relative;}#sk-container-id-295 div.sk-text-repr-fallback {display: none;}</style><div id=\"sk-container-id-295\" class=\"sk-top-container\"><div class=\"sk-text-repr-fallback\"><pre>RandomForestRegressor()</pre><b>In a Jupyter environment, please rerun this cell to show the HTML representation or trust the notebook. <br />On GitHub, the HTML representation is unable to render, please try loading this page with nbviewer.org.</b></div><div class=\"sk-container\" hidden><div class=\"sk-item\"><div class=\"sk-estimator sk-toggleable\"><input class=\"sk-toggleable__control sk-hidden--visually\" id=\"sk-estimator-id-295\" type=\"checkbox\" checked><label for=\"sk-estimator-id-295\" class=\"sk-toggleable__label sk-toggleable__label-arrow\">RandomForestRegressor</label><div class=\"sk-toggleable__content\"><pre>RandomForestRegressor()</pre></div></div></div></div></div>"
      ],
      "text/plain": [
       "RandomForestRegressor()"
      ]
     },
     "execution_count": 3308,
     "metadata": {},
     "output_type": "execute_result"
    }
   ],
   "source": [
    "regressor = RandomForestRegressor()\n",
    "regressor.fit(X_train, y_train)"
   ]
  },
  {
   "cell_type": "code",
   "execution_count": 3309,
   "metadata": {},
   "outputs": [],
   "source": [
    "y_pred = regressor.predict(X_test)"
   ]
  },
  {
   "cell_type": "code",
   "execution_count": 3310,
   "metadata": {},
   "outputs": [
    {
     "data": {
      "text/plain": [
       "0.4859176673748766"
      ]
     },
     "execution_count": 3310,
     "metadata": {},
     "output_type": "execute_result"
    }
   ],
   "source": [
    "r2 = metrics.r2_score(y_test, y_pred)\n",
    "r2"
   ]
  },
  {
   "cell_type": "markdown",
   "metadata": {},
   "source": [
    "    Code to save the model"
   ]
  },
  {
   "cell_type": "code",
   "execution_count": 3311,
   "metadata": {},
   "outputs": [],
   "source": [
    "import pickle\n",
    "\n",
    "# model_file = f'../models/RandomForestRegressor_r2_{r2}.pkl'\n",
    "# with open(model_file, 'wb') as f:\n",
    "#     pickle.dump(regressor, f)"
   ]
  },
  {
   "cell_type": "code",
   "execution_count": 3312,
   "metadata": {},
   "outputs": [
    {
     "data": {
      "text/plain": [
       "0.8976069661019829"
      ]
     },
     "execution_count": 3312,
     "metadata": {},
     "output_type": "execute_result"
    }
   ],
   "source": [
    "model_file = '../models/RandomForestRegressor_r2_0.6775482645582177.pkl'\n",
    "with open(model_file, 'rb') as f:\n",
    "    model = pickle.load(f)\n",
    "\n",
    "pred = model.predict(X_test)\n",
    "# pred = model.predict(X_test.drop(columns=['min_salary', 'max_salary']))\n",
    "\n",
    "r2_pred = metrics.r2_score(y_test, pred)\n",
    "r2_pred"
   ]
  },
  {
   "cell_type": "code",
   "execution_count": 3321,
   "metadata": {},
   "outputs": [
    {
     "data": {
      "image/png": "[encoded data removed]",
      "text/plain": [
       "<Figure size 1600x900 with 1 Axes>"
      ]
     },
     "metadata": {},
     "output_type": "display_data"
    }
   ],
   "source": [
    "sns.scatterplot(x=y_test, y=y_test, color='blue', label='Real Values', marker='o')\n",
    "sns.scatterplot(x=y_test, y=pred, color='red', label='Predictions', marker='x')\n",
    "\n",
    "plt.xlabel('Real Salary Values')\n",
    "plt.ylabel('Salary Predictions')\n",
    "plt.title('Comparison between Salary Predictions and Real Values')\n",
    "plt.legend()\n",
    "# plt.savefig(f'../figures/RFRmodel_r2_{r2_pred}.jpg')\n",
    "plt.show()"
   ]
  },
  {
   "cell_type": "markdown",
   "metadata": {},
   "source": [
    "#### TESTS with X_test"
   ]
  },
  {
   "cell_type": "code",
   "execution_count": 3314,
   "metadata": {},
   "outputs": [
    {
     "data": {
      "text/html": [
       "<div>\n",
       "<style scoped>\n",
       "    .dataframe tbody tr th:only-of-type {\n",
       "        vertical-align: middle;\n",
       "    }\n",
       "\n",
       "    .dataframe tbody tr th {\n",
       "        vertical-align: top;\n",
       "    }\n",
       "\n",
       "    .dataframe thead th {\n",
       "        text-align: right;\n",
       "    }\n",
       "</style>\n",
       "<table border=\"1\" class=\"dataframe\">\n",
       "  <thead>\n",
       "    <tr style=\"text-align: right;\">\n",
       "      <th></th>\n",
       "      <th>job_id</th>\n",
       "      <th>job_title</th>\n",
       "      <th>remote_ratio</th>\n",
       "      <th>employment_type</th>\n",
       "      <th>experience_level</th>\n",
       "      <th>L</th>\n",
       "      <th>M</th>\n",
       "      <th>S</th>\n",
       "      <th>pred_salary</th>\n",
       "      <th>salary</th>\n",
       "    </tr>\n",
       "  </thead>\n",
       "  <tbody>\n",
       "    <tr>\n",
       "      <th>328</th>\n",
       "      <td>3764903612</td>\n",
       "      <td>5</td>\n",
       "      <td>50</td>\n",
       "      <td>4</td>\n",
       "      <td>0</td>\n",
       "      <td>1.0</td>\n",
       "      <td>0.0</td>\n",
       "      <td>0.0</td>\n",
       "      <td>53047.0</td>\n",
       "      <td>52800.0</td>\n",
       "    </tr>\n",
       "    <tr>\n",
       "      <th>395</th>\n",
       "      <td>3767322672</td>\n",
       "      <td>4</td>\n",
       "      <td>50</td>\n",
       "      <td>4</td>\n",
       "      <td>3</td>\n",
       "      <td>1.0</td>\n",
       "      <td>0.0</td>\n",
       "      <td>0.0</td>\n",
       "      <td>79764.6</td>\n",
       "      <td>62500.0</td>\n",
       "    </tr>\n",
       "    <tr>\n",
       "      <th>325</th>\n",
       "      <td>3764827498</td>\n",
       "      <td>4</td>\n",
       "      <td>50</td>\n",
       "      <td>4</td>\n",
       "      <td>0</td>\n",
       "      <td>1.0</td>\n",
       "      <td>0.0</td>\n",
       "      <td>0.0</td>\n",
       "      <td>53860.2</td>\n",
       "      <td>52800.0</td>\n",
       "    </tr>\n",
       "    <tr>\n",
       "      <th>505</th>\n",
       "      <td>3770505264</td>\n",
       "      <td>4</td>\n",
       "      <td>50</td>\n",
       "      <td>4</td>\n",
       "      <td>3</td>\n",
       "      <td>0.0</td>\n",
       "      <td>1.0</td>\n",
       "      <td>0.0</td>\n",
       "      <td>198527.8</td>\n",
       "      <td>135000.0</td>\n",
       "    </tr>\n",
       "    <tr>\n",
       "      <th>317</th>\n",
       "      <td>3764675617</td>\n",
       "      <td>6</td>\n",
       "      <td>0</td>\n",
       "      <td>2</td>\n",
       "      <td>3</td>\n",
       "      <td>1.0</td>\n",
       "      <td>0.0</td>\n",
       "      <td>0.0</td>\n",
       "      <td>137856.0</td>\n",
       "      <td>66240.0</td>\n",
       "    </tr>\n",
       "  </tbody>\n",
       "</table>\n",
       "</div>"
      ],
      "text/plain": [
       "         job_id  job_title  remote_ratio  employment_type  experience_level  \\\n",
       "328  3764903612          5            50                4                 0   \n",
       "395  3767322672          4            50                4                 3   \n",
       "325  3764827498          4            50                4                 0   \n",
       "505  3770505264          4            50                4                 3   \n",
       "317  3764675617          6             0                2                 3   \n",
       "\n",
       "       L    M    S  pred_salary    salary  \n",
       "328  1.0  0.0  0.0      53047.0   52800.0  \n",
       "395  1.0  0.0  0.0      79764.6   62500.0  \n",
       "325  1.0  0.0  0.0      53860.2   52800.0  \n",
       "505  0.0  1.0  0.0     198527.8  135000.0  \n",
       "317  1.0  0.0  0.0     137856.0   66240.0  "
      ]
     },
     "execution_count": 3314,
     "metadata": {},
     "output_type": "execute_result"
    }
   ],
   "source": [
    "X_test_copy = X_test.copy()\n",
    "X_test_copy['pred_salary'] = y_pred\n",
    "X_test_copy['salary'] = y_test\n",
    "X_test_copy.sample(5)"
   ]
  },
  {
   "cell_type": "markdown",
   "metadata": {},
   "source": [
    "#### Predictions"
   ]
  },
  {
   "cell_type": "code",
   "execution_count": 3316,
   "metadata": {},
   "outputs": [],
   "source": [
    "prediction = model.predict(prepared_to_predict.select_dtypes(exclude=['object']).drop(columns=['salary']))"
   ]
  },
  {
   "cell_type": "code",
   "execution_count": 3317,
   "metadata": {},
   "outputs": [],
   "source": [
    "to_predict['pred_salary'] = prediction"
   ]
  },
  {
   "cell_type": "code",
   "execution_count": 3319,
   "metadata": {},
   "outputs": [],
   "source": [
    "linkedin = pd.concat([linkedin, to_predict])\n",
    "linkedin.to_csv('../data/predicted.csv')"
   ]
  }
 ],
 "metadata": {
  "kernelspec": {
   "display_name": "project",
   "language": "python",
   "name": "python3"
  },
  "language_info": {
   "codemirror_mode": {
    "name": "ipython",
    "version": 3
   },
   "file_extension": ".py",
   "mimetype": "text/x-python",
   "name": "python",
   "nbconvert_exporter": "python",
   "pygments_lexer": "ipython3",
   "version": "3.11.5"
  }
 },
 "nbformat": 4,
 "nbformat_minor": 2
}
