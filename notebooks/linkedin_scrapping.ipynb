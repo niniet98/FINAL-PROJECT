{
 "cells": [
  {
   "cell_type": "markdown",
   "metadata": {},
   "source": [
    "#### Imports"
   ]
  },
  {
   "cell_type": "code",
   "execution_count": 1,
   "metadata": {},
   "outputs": [
    {
     "data": {
      "text/plain": [
       "True"
      ]
     },
     "execution_count": 1,
     "metadata": {},
     "output_type": "execute_result"
    }
   ],
   "source": [
    "import pandas as pd\n",
    "import requests\n",
    "import time\n",
    "import os\n",
    "import random\n",
    "\n",
    "from bs4 import BeautifulSoup\n",
    "\n",
    "# Selenium\n",
    "from selenium import webdriver\n",
    "from selenium.webdriver.common.keys import Keys\n",
    "from selenium.webdriver.common.by import By\n",
    "from selenium.webdriver.support.ui import WebDriverWait\n",
    "from selenium.webdriver.support import expected_conditions as EC\n",
    "from selenium import webdriver\n",
    "from selenium.webdriver.support.ui import Select\n",
    "from selenium import webdriver\n",
    "\n",
    "from dotenv import load_dotenv\n",
    "load_dotenv()"
   ]
  },
  {
   "cell_type": "markdown",
   "metadata": {},
   "source": [
    "#### Scrapping LinkedIn Jobs"
   ]
  },
  {
   "cell_type": "code",
   "execution_count": 17,
   "metadata": {},
   "outputs": [],
   "source": [
    "url = 'https://www.linkedin.com'\n",
    "driver = webdriver.Chrome()\n",
    "driver.get(url)\n",
    "\n",
    "time.sleep(2)\n",
    "\n",
    "email_box = driver.find_element(By.ID, \"session_key\")\n",
    "password_box = driver.find_element(By.ID, \"session_password\")\n",
    "\n",
    "# 2. Declare variables\n",
    "email = os.getenv(\"email\")\n",
    "password = os.getenv(\"password\")\n",
    "\n",
    "# 3. Send the text\n",
    "email_box.send_keys(email)\n",
    "password_box.send_keys(password)\n",
    "\n",
    "# 4. Hit enter\n",
    "password_box.send_keys(Keys.RETURN)\n",
    "\n",
    "time.sleep(20)\n",
    "# Navigate to jobs tab\n",
    "jobs_button = driver.find_element(By.XPATH, '/html/body/div[6]/header/div/nav/ul/li[3]/a')\n",
    "jobs_button.click()\n",
    "\n",
    "time.sleep(2)\n",
    "# Filter for job title\n",
    "job_box = driver.find_element(By.XPATH, '/html/body/div[6]/header/div/div/div/div[2]/div[2]/div/div/input[1]')\n",
    "time.sleep(1)\n",
    "job_box.send_keys('Ciencia de datos')\n",
    "job_box.send_keys(Keys.ENTER)\n",
    "\n",
    "time.sleep(2)\n",
    "# Filter for location\n",
    "location_box = driver.find_element(By.XPATH, '/html/body/div[6]/header/div/div/div/div[2]/div[2]/div/div/input[1]')\n",
    "time.sleep(1)\n",
    "location_box.clear()\n",
    "time.sleep(3)\n",
    "location_box.send_keys('Estados Unidos')\n",
    "location_box.send_keys(Keys.ENTER)\n",
    "\n",
    "# Save current link\n",
    "current_link = driver.current_url\n",
    "\n",
    "def write_file(el):\n",
    "    job_id = el.get('data-job-id')\n",
    "\n",
    "    # Open the web page\n",
    "    driver.get(url + el.find('a').get('href'))\n",
    "    time.sleep(3)\n",
    "\n",
    "    html = driver.execute_script(\"return document.body.outerHTML;\") # Javascript script\n",
    "    soup = BeautifulSoup(html, 'html.parser')\n",
    "\n",
    "    file_path = f'../data/jobs_html/{job_id}.txt'\n",
    "    with open(file_path, 'w') as file:\n",
    "        file.write(str(soup))\n",
    "    time.sleep(3)\n",
    "\n",
    "def create_html_files(list_):\n",
    "    for i in list_[2:4]:\n",
    "        write_file(i)\n",
    "\n",
    "# Job scrapping with bs4\n",
    "html = driver.execute_script(\"return document.body.outerHTML;\")\n",
    "soup = BeautifulSoup(html, 'html.parser')\n",
    "\n",
    "pagination = soup.find_all('ul', {'class': 'artdeco-pagination__pages--number'})\n",
    "pagination = pagination[0].find_all('button')[:8]\n",
    "\n",
    "for btn in pagination:\n",
    "    for i in range(5):  # You can adjust the range as needed\n",
    "        driver.execute_script(\"window.scrollTo(0, document.body.scrollHeight);\")\n",
    "    time.sleep(3)\n",
    "    aria = btn.get(\"aria-label\")\n",
    "    button = driver.find_element(By.XPATH, f'//button[@aria-label=\"{aria}\"]')\n",
    "    button.click()\n",
    "    \n",
    "    current_link = driver.current_url\n",
    "    html = driver.execute_script(\"return document.body.outerHTML;\")\n",
    "    soup = BeautifulSoup(html, 'html.parser')\n",
    "\n",
    "    time.sleep(3)\n",
    "    container = soup.find_all('ul', {'class': 'scaffold-layout__list-container'})\n",
    "    container = container[0]\n",
    "    list_ = container.find_all('div', {'class': 'job-card-container'})\n",
    "    create_html_files(list_)\n",
    "    driver.get(current_link)\n",
    "    container = []\n",
    "    list_ = []\n",
    "    time.sleep(3)\n"
   ]
  },
  {
   "cell_type": "code",
   "execution_count": 13,
   "metadata": {},
   "outputs": [
    {
     "ename": "IndexError",
     "evalue": "list index out of range",
     "output_type": "error",
     "traceback": [
      "\u001b[1;31m---------------------------------------------------------------------------\u001b[0m",
      "\u001b[1;31mIndexError\u001b[0m                                Traceback (most recent call last)",
      "\u001b[1;32mc:\\Users\\noemi\\Documents\\IRONHACK\\PROJECTS\\FINAL_PROJECT\\notebooks\\linkedin_scrapping.ipynb Cell 5\u001b[0m line \u001b[0;36m1\n\u001b[0;32m      <a href='vscode-notebook-cell:/c%3A/Users/noemi/Documents/IRONHACK/PROJECTS/FINAL_PROJECT/notebooks/linkedin_scrapping.ipynb#W4sZmlsZQ%3D%3D?line=8'>9</a>\u001b[0m     file\u001b[39m.\u001b[39mwrite(\u001b[39mstr\u001b[39m(container))\n\u001b[0;32m     <a href='vscode-notebook-cell:/c%3A/Users/noemi/Documents/IRONHACK/PROJECTS/FINAL_PROJECT/notebooks/linkedin_scrapping.ipynb#W4sZmlsZQ%3D%3D?line=10'>11</a>\u001b[0m list_ \u001b[39m=\u001b[39m container\u001b[39m.\u001b[39mfind_all(\u001b[39m'\u001b[39m\u001b[39mdiv\u001b[39m\u001b[39m'\u001b[39m, {\u001b[39m'\u001b[39m\u001b[39mclass\u001b[39m\u001b[39m'\u001b[39m: \u001b[39m'\u001b[39m\u001b[39mjob-card-container\u001b[39m\u001b[39m'\u001b[39m})\n\u001b[1;32m---> <a href='vscode-notebook-cell:/c%3A/Users/noemi/Documents/IRONHACK/PROJECTS/FINAL_PROJECT/notebooks/linkedin_scrapping.ipynb#W4sZmlsZQ%3D%3D?line=11'>12</a>\u001b[0m list_[\u001b[39m7\u001b[39;49m]\n",
      "\u001b[1;31mIndexError\u001b[0m: list index out of range"
     ]
    }
   ],
   "source": [
    "soup = BeautifulSoup(html, 'html.parser')\n",
    "pagination = soup.find_all('ul', {'class': 'artdeco-pagination__pages--number'})\n",
    "pagination = pagination[0].find_all('button')[:8]\n",
    "pagination\n",
    "\n",
    "container = soup.find_all('ul', {'class': 'scaffold-layout__list-container'})\n",
    "container = container[0]\n",
    "with open('../data/job_lists.txt', 'w') as file:\n",
    "    file.write(str(container))\n",
    "    \n",
    "list_ = container.find_all('div', {'class': 'job-card-container'})\n",
    "list_[]"
   ]
  },
  {
   "cell_type": "code",
   "execution_count": 67,
   "metadata": {},
   "outputs": [
    {
     "name": "stdout",
     "output_type": "stream",
     "text": [
      "/jobs/view/3769019036/?eBP=NOT_ELIGIBLE_FOR_CHARGING&refId=p8zqT9JCgLPTFHag5H5ivQ%3D%3D&trackingId=uZ%2FXzNImMNk05AEvUAttaQ%3D%3D&trk=flagship3_search_srp_jobs\n",
      "/jobs/view/3769408548/?eBP=NOT_ELIGIBLE_FOR_CHARGING&refId=p8zqT9JCgLPTFHag5H5ivQ%3D%3D&trackingId=0VSdJOBbt96ps%2BTS%2Fq2J%2Fg%3D%3D&trk=flagship3_search_srp_jobs\n",
      "/jobs/view/3774942158/?eBP=NOT_ELIGIBLE_FOR_CHARGING&refId=p8zqT9JCgLPTFHag5H5ivQ%3D%3D&trackingId=W0%2BOVPzEC83G1lG7w1kL3Q%3D%3D&trk=flagship3_search_srp_jobs\n",
      "/jobs/view/3772973391/?eBP=NOT_ELIGIBLE_FOR_CHARGING&refId=p8zqT9JCgLPTFHag5H5ivQ%3D%3D&trackingId=5aOXCke%2BP2YCzLerKHWcFg%3D%3D&trk=flagship3_search_srp_jobs\n",
      "[{'job_id': '3769019036', 'job_title': 'Junior Data Analyst', 'company': 'Coders Data', 'location': 'California, Estados Unidos (En remoto)'}, {'job_id': '3769408548', 'job_title': 'Junior Data Analyst', 'company': 'TEKsystems', 'location': 'Honolulú, HI (Híbrido)'}, {'job_id': '3774942158', 'job_title': 'Data Analyst I', 'company': 'Cintas', 'location': 'Mason, OH (Presencial)'}, {'job_id': '3772973391', 'job_title': 'Data Analyst I', 'company': 'DART (Dallas Area Rapid Transit)', 'location': 'Headquarters, KY (Presencial)'}]\n"
     ]
    }
   ],
   "source": [
    "def get_job_card_info(el):\n",
    "    print(el.find('a').get('href'))\n",
    "    job = {}\n",
    "    job['job_id'] = el.get('data-job-id')\n",
    "    job['job_title'] = el.find('a').getText().strip()\n",
    "    job['company'] = el.find_all('span', {'class': 'job-card-container__primary-description'})[0].getText().strip()\n",
    "    job['location'] = el.find_all('li', {'class': 'job-card-container__metadata-item'})[0].getText().strip()\n",
    "    time.sleep(5)\n",
    "    return job\n",
    "\n",
    "def build_linkedin_dataset(list_):\n",
    "    jobs = []\n",
    "    for card in list_[1:5]:\n",
    "        jobs.append(get_job_card_info(card))\n",
    "    print(jobs)\n",
    "\n",
    "list_ = container.find_all('div', {'class': 'job-card-container'})\n",
    "list_\n",
    "jobs = build_linkedin_dataset(list_)"
   ]
  }
 ],
 "metadata": {
  "kernelspec": {
   "display_name": "project",
   "language": "python",
   "name": "python3"
  },
  "language_info": {
   "codemirror_mode": {
    "name": "ipython",
    "version": 3
   },
   "file_extension": ".py",
   "mimetype": "text/x-python",
   "name": "python",
   "nbconvert_exporter": "python",
   "pygments_lexer": "ipython3",
   "version": "3.11.5"
  }
 },
 "nbformat": 4,
 "nbformat_minor": 2
}
